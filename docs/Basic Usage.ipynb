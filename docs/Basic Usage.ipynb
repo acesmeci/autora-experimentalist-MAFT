{
 "cells": [
  {
   "cell_type": "markdown",
   "id": "5d39a5d7",
   "metadata": {},
   "source": [
    "### Install Dependencies\n",
    "Install the AutoRA core package and the optional theorist/experimentalist extras via `pip`. The `%%capture` magic hides the verbose installation logs to keep the notebook tidy."
   ]
  },
  {
   "cell_type": "code",
   "execution_count": 56,
   "id": "bf58f962",
   "metadata": {},
   "outputs": [],
   "source": [
    "%%capture\n",
    "!pip install autora\n",
    "!pip install autora[all-theorists]\n",
    "!pip install autora[all-experimentalists]\n",
    "\n",
    "# ADD YOUR GITHUB REPO LINK HERE\n",
    "#!pip install git+https://github.com/acesmeci/autora-experimentalist-MAFT"
   ]
  },
  {
   "cell_type": "markdown",
   "id": "06f13a00",
   "metadata": {},
   "source": [
    "### Import Required Libraries\n",
    "Load the AutoRA state helpers, synthetic experiment runner, experimentalist utilities, theorists, and supporting scikit-learn / plotting libraries that we use throughout the walkthrough."
   ]
  },
  {
   "cell_type": "code",
   "execution_count": 57,
   "id": "daab8f9f",
   "metadata": {},
   "outputs": [],
   "source": [
    "# autora state\n",
    "from autora.state import State, StandardState, on_state, estimator_on_state, Delta, VariableCollection\n",
    "\n",
    "# experiment_runner\n",
    "from autora.experiment_runner.synthetic.neuroscience.task_switching import task_switching\n",
    "\n",
    "# experimentalist\n",
    "from autora.experimentalist.grid import grid_pool\n",
    "from autora.experimentalist.random import random_pool, random_sample\n",
    "from autora.experimentalist.falsification import falsification_sample\n",
    "from autora.experimentalist.model_disagreement import model_disagreement_sample\n",
    "from autora.experimentalist.uncertainty import uncertainty_sample\n",
    "\n",
    "# theorist\n",
    "from autora.theorist.bms import BMSRegressor\n",
    "\n",
    "# sklearn\n",
    "from sklearn.base import BaseEstimator\n",
    "from sklearn.model_selection import train_test_split\n",
    "from sklearn import linear_model\n",
    "\n",
    "# general\n",
    "import numpy as np\n",
    "import pandas as pd\n",
    "import matplotlib.pyplot as plt\n",
    "from dataclasses import dataclass, field\n",
    "from typing import Optional, List\n"
   ]
  },
  {
   "cell_type": "markdown",
   "id": "744485df",
   "metadata": {},
   "source": [
    "### Implement the Polynomial Theorist\n",
    "Define `PolynomialRegressor`, a lightweight theorist that expands polynomial features and fits a linear regression model. A helper method prints the learned equation so we can inspect the model."
   ]
  },
  {
   "cell_type": "code",
   "execution_count": 58,
   "id": "0169b6ab",
   "metadata": {},
   "outputs": [],
   "source": [
    "from sklearn.preprocessing import PolynomialFeatures\n",
    "from sklearn.linear_model import LinearRegression\n",
    "\n",
    "class PolynomialRegressor:\n",
    "    \"\"\"\n",
    "    This theorist fits a polynomial function to the data.\n",
    "    \"\"\"\n",
    "\n",
    "    def __init__(self, degree: int = 3):\n",
    "      self.poly = PolynomialFeatures(degree=degree, include_bias=False)\n",
    "      self.model = LinearRegression()\n",
    "\n",
    "    def fit(self, x, y):\n",
    "      features = self.poly.fit_transform(x, y)\n",
    "      self.model.fit(features, y)\n",
    "      return self\n",
    "\n",
    "    def predict(self, x):\n",
    "      features = self.poly.fit_transform(x)\n",
    "      return self.model.predict(features)\n",
    "\n",
    "    def print_eqn(self):\n",
    "        # Extract the coefficients and intercept\n",
    "        coeffs = self.model.coef_\n",
    "        intercept = self.model.intercept_\n",
    "\n",
    "        # Handle multi-output case by iterating over each output's coefficients and intercept\n",
    "        if coeffs.ndim > 1:\n",
    "            for idx in range(coeffs.shape[0]):\n",
    "                equation = f\"y{idx+1} = {intercept[idx]:.3f}\"\n",
    "                feature_names = self.poly.get_feature_names_out()\n",
    "                for coef, feature in zip(coeffs[idx], feature_names):\n",
    "                    equation += f\" + ({coef:.3f}) * {feature}\"\n",
    "                print(equation)\n",
    "        else:\n",
    "            equation = f\"y = {intercept:.3f}\"\n",
    "            feature_names = self.poly.get_feature_names_out()\n",
    "            for coef, feature in zip(coeffs, feature_names):\n",
    "                equation += f\" + ({coef:.3f}) * {feature}\"\n",
    "            print(equation)\n",
    "\n"
   ]
  },
  {
   "cell_type": "markdown",
   "id": "65ab4245",
   "metadata": {},
   "source": [
    "### Define the Custom State\n",
    "Extend AutoRA's `State` into `CustomState`, enabling us to persist experimental conditions, observations, reference grids, and multiple fitted models (BMS, linear, polynomial) across discovery cycles."
   ]
  },
  {
   "cell_type": "code",
   "execution_count": 59,
   "id": "b4b40265",
   "metadata": {},
   "outputs": [],
   "source": [
    "# SET UP STATE\n",
    "# Here, we use a non-standard State to be able to use a multiple models\n",
    "@dataclass(frozen=True)\n",
    "class CustomState(State):\n",
    "    variables: Optional[VariableCollection] = field(\n",
    "        default=None, metadata={\"delta\": \"replace\"}\n",
    "    )\n",
    "    conditions: Optional[pd.DataFrame] = field(\n",
    "        default=None, metadata={\"delta\": \"replace\", \"converter\": pd.DataFrame}\n",
    "    )\n",
    "    experiment_data: Optional[pd.DataFrame] = field(\n",
    "        default=None, metadata={\"delta\": \"extend\", \"converter\": pd.DataFrame}\n",
    "    )\n",
    "    models_bms: List[BaseEstimator] = field(\n",
    "        default_factory=list,\n",
    "        metadata={\"delta\": \"extend\"},\n",
    "    )\n",
    "    models_lr: List[BaseEstimator] = field(\n",
    "        default_factory=list,\n",
    "        metadata={\"delta\": \"extend\"},\n",
    "    )\n",
    "    models_polyr: List[BaseEstimator] = field(\n",
    "        default_factory=list,\n",
    "        metadata={\"delta\": \"extend\"},\n",
    "    )\n",
    "    reference_conditions: Optional[pd.DataFrame] = field(\n",
    "       default=None, metadata={\"delta\": \"replace\", \"converter\": pd.DataFrame}\n",
    "    )\n"
   ]
  },
  {
   "cell_type": "markdown",
   "id": "6b737a5d",
   "metadata": {},
   "source": [
    "### Wrap Theorists for State Updates\n",
    "`theorists_on_state` pulls independent/dependent variables from the accumulated data, fits the BMS, polynomial, and linear models, and appends them to the state using the `@on_state` delta mechanism."
   ]
  },
  {
   "cell_type": "code",
   "execution_count": 60,
   "id": "4efa2b6c",
   "metadata": {},
   "outputs": [],
   "source": [
    "# state wrapper for all theorists\n",
    "@on_state()\n",
    "def theorists_on_state(experiment_data, variables, bms_epochs):\n",
    "\n",
    "  # extract conditions X and observations y from experiment data\n",
    "  ivs = [iv.name for iv in variables.independent_variables]\n",
    "  dvs = [dv.name for dv in variables.dependent_variables]\n",
    "  X = experiment_data[ivs]\n",
    "  y = experiment_data[dvs]\n",
    "\n",
    "  # initialize and fit theorists\n",
    "  theorist_bms = BMSRegressor(epochs=bms_epochs)\n",
    "  theorist_polyr = PolynomialRegressor()\n",
    "  theorist_lr = linear_model.LinearRegression()\n",
    "\n",
    "  return Delta(models_bms = [theorist_bms.fit(X, y)],\n",
    "               models_lr=[theorist_lr.fit(X, y)],\n",
    "               models_polyr=[theorist_polyr.fit(X, y)])"
   ]
  },
  {
   "cell_type": "markdown",
   "id": "4e63561c",
   "metadata": {},
   "source": [
    "## Our Experimentalist"
   ]
  },
  {
   "cell_type": "markdown",
   "id": "09ce7ed8",
   "metadata": {},
   "source": [
    "### Import the Custom Experimentalist\n",
    "Bring in the repository's `sample` function (the Stratified Random-Subset Novelty sampler) so we can call it both in isolation and inside the closed-loop simulations."
   ]
  },
  {
   "cell_type": "code",
   "execution_count": 61,
   "id": "43ae9025",
   "metadata": {},
   "outputs": [],
   "source": [
    "from autora.experimentalist.autora_experimentalist_example import sample"
   ]
  },
  {
   "cell_type": "markdown",
   "id": "754654ac",
   "metadata": {},
   "source": [
    "### Minimal Sampling Demo\n",
    "Construct a tiny reference grid and a set of already-tested points to show how `sample` excludes tested locations and returns two unexplored candidates."
   ]
  },
  {
   "cell_type": "code",
   "execution_count": 62,
   "id": "abeb1f47",
   "metadata": {},
   "outputs": [
    {
     "name": "stdout",
     "output_type": "stream",
     "text": [
      "Tested conditions:\n",
      "    x1   x2\n",
      "0  0.0  0.0\n",
      "4  0.5  0.5\n",
      "\n",
      "Sampled candidate conditions:\n",
      "    x1   x2\n",
      "0  0.0  1.0\n",
      "1  1.0  0.0\n"
     ]
    }
   ],
   "source": [
    "import pandas as pd\n",
    "\n",
    "reference_conditions = pd.DataFrame(\n",
    "    [(x, y) for x in (0.0, 0.5, 1.0) for y in (0.0, 0.5, 1.0)],\n",
    "    columns=[\"x1\", \"x2\"],\n",
    ")\n",
    "conditions = reference_conditions.iloc[[0, 4]].copy()  # (0,0), (0.5,0.5)\n",
    "\n",
    "sampled = sample(\n",
    "    conditions=conditions,\n",
    "    reference_conditions=reference_conditions,\n",
    "    num_samples=2,\n",
    "    epsilon=0.3,\n",
    "    subset_factor=4,\n",
    "    random_state=7,\n",
    ")\n",
    "\n",
    "print(\"Tested conditions:\")\n",
    "print(conditions)\n",
    "print()\n",
    "print(\"Sampled candidate conditions:\")\n",
    "print(sampled)\n"
   ]
  },
  {
   "cell_type": "markdown",
   "id": "5b7215d5",
   "metadata": {},
   "source": [
    "### Define Experimentalist State Wrappers\n",
    "Provide convenience wrappers for the grid generator, random pooler, random sampler, and our custom sampler. The custom wrapper optionally anneals `epsilon` before delegating to `sample`."
   ]
  },
  {
   "cell_type": "code",
   "execution_count": 63,
   "id": "3c72499a",
   "metadata": {},
   "outputs": [],
   "source": [
    "# state wrapper for grid pooler experimentalist (generates a grid of experiment conditions)\n",
    "@on_state()\n",
    "def grid_pool_on_state(variables):\n",
    "  return Delta(conditions=grid_pool(variables))\n",
    "\n",
    "# state wrapper for random pooler experimentalist (generates a pool of experiment conditions)\n",
    "@on_state()\n",
    "def random_pool_on_state(variables, num_samples, random_state=None):\n",
    "  return Delta(conditions=random_pool(variables, num_samples, random_state))\n",
    "\n",
    "# state wrapper for random experimentalist (samples experiment conditions from a set of conditions)\n",
    "@on_state()\n",
    "def random_sample_on_state(conditions, all_conditions, num_samples, random_state=None):\n",
    "  return Delta(conditions=random_sample(all_conditions, num_samples, random_state))\n",
    "\n",
    "# **** STATE WRAPPER FOR YOUR EXPERIMENTALIST ***\n",
    "@on_state()\n",
    "def custom_sample_on_state(#experiment_data,\n",
    "                           conditions,\n",
    "                           reference_conditions,\n",
    "                           models_bms,models_lr,models_polyr,\n",
    "                           all_conditions, #not necessarily needed\n",
    "                           num_samples=1,\n",
    "                           step = 0,\n",
    "                           max_steps = 0, ##Choose this wisely\n",
    "                           random_state=None):\n",
    "\n",
    "  # fixed epsilon works well with the improved sampler (scaling + greedy max–min)\n",
    "  #epsilon = 0.01 \n",
    "  denom = max(1, max_steps)\n",
    "  epsilon = min(0.01, 0.3 * (1 - step / denom))  # (kept for reference) ## This is the annealing thing I added for now\n",
    "\n",
    "  new_conditions = sample(\n",
    "      conditions=conditions,\n",
    "      reference_conditions=reference_conditions,\n",
    "      num_samples=num_samples,\n",
    "      epsilon=epsilon,\n",
    "      random_state=random_state\n",
    "  )\n",
    "\n",
    "  return Delta(conditions=new_conditions)"
   ]
  },
  {
   "cell_type": "markdown",
   "id": "7f989c68",
   "metadata": {},
   "source": [
    "### Define the Experiment Runner Wrapper\n",
    "`run_experiment_on_state` calls the synthetic experiment runner on the selected conditions and appends the resulting observations to the state."
   ]
  },
  {
   "cell_type": "code",
   "execution_count": 64,
   "id": "4ec37559",
   "metadata": {},
   "outputs": [],
   "source": [
    "# state wrapper for synthetic experiment runner\n",
    "@on_state()\n",
    "def run_experiment_on_state(conditions, experiment_runner):\n",
    "  data = experiment_runner.run(conditions=conditions, added_noise=0.0)\n",
    "  return Delta(experiment_data=data)"
   ]
  },
  {
   "cell_type": "markdown",
   "id": "770b61b0",
   "metadata": {},
   "source": [
    "### Compute Validation MSE\n",
    "`get_validation_MSE` evaluates the latest theorist predictions against a held-out validation grid and returns the minimum mean squared error across BMS, linear, and polynomial models."
   ]
  },
  {
   "cell_type": "code",
   "execution_count": 65,
   "id": "adbde0eb",
   "metadata": {},
   "outputs": [],
   "source": [
    "# the following function is used to compute the model performance\n",
    "# on the validation set in terms of mean squared error\n",
    "def get_validation_MSE(validation_experiment_data, working_state):\n",
    "    ivs = [iv.name for iv in validation_experiment_data.variables.independent_variables]\n",
    "    dvs = [dv.name for dv in validation_experiment_data.variables.dependent_variables]\n",
    "    X = validation_experiment_data.experiment_data[ivs]\n",
    "    y = validation_experiment_data.experiment_data[dvs]\n",
    "\n",
    "    y_pred_bms = working_state.models_bms[-1].predict(X)\n",
    "    y_pred_lr = working_state.models_lr[-1].predict(X)\n",
    "    y_pred_polyr = working_state.models_polyr[-1].predict(X)\n",
    "\n",
    "    MSE_bms = ((y - y_pred_bms)**2).mean()[0]\n",
    "    MSE_lr = ((y - y_pred_lr)**2).mean()[0]\n",
    "    MSE_polyr = ((y - y_pred_polyr)**2).mean()[0]\n",
    "\n",
    "    min_MSE = min(MSE_bms, MSE_lr, MSE_polyr)\n",
    "\n",
    "    return min_MSE"
   ]
  },
  {
   "cell_type": "markdown",
   "id": "e31dea3c",
   "metadata": {},
   "source": [
    "### Orchestrate the Discovery Loop\n",
    "`run_simulation` builds the validation grid, seeds the initial dataset, and iteratively fits theorists, scores validation error, samples new conditions, and records the trajectories for both samplers."
   ]
  },
  {
   "cell_type": "code",
   "execution_count": 66,
   "id": "658ae4e6",
   "metadata": {},
   "outputs": [],
   "source": [
    "def run_simulation(num_cycles, num_conditions_per_cycle, num_initial_conditions, bms_epochs, experiment_runner, sim=0):\n",
    "\n",
    "  # VALIDATION STATE\n",
    "  # at every step of our discovery process, we will evaluate the performance\n",
    "  # of the theorist against the ground truth. Here, we will define the ground\n",
    "  # truth as a grid of data points sampled across the domain of the experimental\n",
    "  # design space. We will store this validation set in a separate validation states\n",
    "\n",
    "  # create AutoRA state for validation purposes\n",
    "  validation_conditions = CustomState(variables=experiment_runner.variables)\n",
    "  validation_experiment_data = CustomState(variables=experiment_runner.variables)\n",
    "\n",
    "  # our validation set will be consist of a grid of experiment conditons\n",
    "  # across the entire experimental design domain\n",
    "  validation_conditions = grid_pool_on_state(validation_conditions)\n",
    "  validation_experiment_data = grid_pool_on_state(validation_experiment_data)\n",
    "  validation_experiment_data = run_experiment_on_state(validation_experiment_data, experiment_runner=experiment_runner)\n",
    "\n",
    "\n",
    "  benchmark_MSE_log = list()\n",
    "  working_MSE_log = list()\n",
    "\n",
    "  # INITIAL STATE\n",
    "  # We begin our discovery experiment with randomly sampled data set for 10\n",
    "  # conditions. We will use the same state for each experimentalist method.\n",
    "\n",
    "  # create initial AutoRA state which we will use for our discovery expeirments\n",
    "  initial_state = CustomState(variables=experiment_runner.variables)\n",
    "\n",
    "  # we will initiate our discovery process with 10 randomly sampled experiment conditions\n",
    "  initial_state = random_pool_on_state(initial_state,\n",
    "                                      num_samples=num_initial_conditions,\n",
    "                                      random_state = sim)\n",
    "\n",
    "  # we obtain the corresponding experiment data\n",
    "  initial_state = run_experiment_on_state(initial_state, experiment_runner=experiment_runner)\n",
    "\n",
    "  # initialize benchmark state for random experimentalist\n",
    "  benchmark_state = CustomState(**initial_state.__dict__)\n",
    "\n",
    "  # initialize working state for your custom experimentalist\n",
    "  working_state = CustomState(**initial_state.__dict__)\n",
    "\n",
    "  # for each discovery cycle\n",
    "  for cycle in range(num_cycles):\n",
    "\n",
    "    print(\"SIMULATION \" + str(sim)  + \" / DISCOVERY CYCLE \" + str(cycle))\n",
    "\n",
    "    # first, we fit a model to the data\n",
    "    print(\"Fitting models on benchmark state...\")\n",
    "    benchmark_state = theorists_on_state(benchmark_state, bms_epochs=bms_epochs)\n",
    "    print(\"Fitting models on working state...\")\n",
    "    working_state = theorists_on_state(working_state, bms_epochs=bms_epochs)\n",
    "\n",
    "    # now we can determine how well the models do on the validation set\n",
    "    benchmark_MSE = get_validation_MSE(validation_experiment_data, benchmark_state)\n",
    "    benchmark_MSE_log.append(benchmark_MSE)\n",
    "\n",
    "    working_MSE = get_validation_MSE(validation_experiment_data, working_state)\n",
    "    working_MSE_log.append(working_MSE)\n",
    "\n",
    "    # then we determine the next experiment condition\n",
    "    print(\"Sampling new experiment conditions...\")\n",
    "    benchmark_state = random_sample_on_state(benchmark_state,\n",
    "                                              all_conditions=validation_conditions.conditions,\n",
    "                                              num_samples=num_conditions_per_cycle)\n",
    "    working_state = custom_sample_on_state(working_state,\n",
    "                                           reference_conditions=validation_conditions.conditions,\n",
    "                                           all_conditions=validation_conditions.conditions,\n",
    "                                           num_samples=num_conditions_per_cycle,\n",
    "                                           step=cycle,\n",
    "                                           max_steps=num_cycles)\n",
    "    \n",
    "    print(\"Obtaining observations...\")\n",
    "    # we obtain the corresponding experiment data\n",
    "    benchmark_state = run_experiment_on_state(benchmark_state, experiment_runner=experiment_runner)\n",
    "    working_state = run_experiment_on_state(working_state, experiment_runner=experiment_runner)\n",
    "\n",
    "  return benchmark_MSE_log, working_MSE_log, benchmark_state, working_state"
   ]
  },
  {
   "cell_type": "markdown",
   "id": "65577dfc",
   "metadata": {},
   "source": [
    "### Configure Simulation Hyperparameters\n",
    "Collect the fixed discovery settings (cycles, batch size, initial samples) and the adjustable controls such as the number of discovery repetitions and BMS training epochs."
   ]
  },
  {
   "cell_type": "code",
   "execution_count": 67,
   "id": "02f73b39",
   "metadata": {},
   "outputs": [],
   "source": [
    "# meta parameters\n",
    "\n",
    "# DO NOT CHANGE THESE PARAMETERS\n",
    "num_cycles = 20\n",
    "num_conditions_per_cycle = 1\n",
    "num_initial_conditions = 1\n",
    "\n",
    "# YOU MAY CHANGE THESE PARAMETERS\n",
    "num_discovery_simulations = 10\n",
    "bms_epochs = 100 # Note, to speed things up, you can set bms_epochs = 10 or even bms_epochs = 1 (this will lead to poor performance of the BMS regressor but the other two theorists will still fit)"
   ]
  },
  {
   "cell_type": "markdown",
   "id": "473bf345",
   "metadata": {},
   "source": [
    "### Execute a Single Simulation\n",
    "Instantiate the task-switching ground truth and run one discovery cycle to capture the baseline (random) and experimentalist trajectories for inspection."
   ]
  },
  {
   "cell_type": "code",
   "execution_count": 68,
   "id": "008a2cbe",
   "metadata": {},
   "outputs": [
    {
     "name": "stderr",
     "output_type": "stream",
     "text": [
      "INFO:autora.theorist.bms.regressor:BMS fitting started\n"
     ]
    },
    {
     "name": "stdout",
     "output_type": "stream",
     "text": [
      "SIMULATION 0 / DISCOVERY CYCLE 0\n",
      "Fitting models on benchmark state...\n"
     ]
    },
    {
     "name": "stderr",
     "output_type": "stream",
     "text": [
      "100%|██████████| 100/100 [00:01<00:00, 74.87it/s]\n",
      "INFO:autora.theorist.bms.regressor:BMS fitting finished\n",
      "INFO:autora.theorist.bms.regressor:BMS fitting started\n"
     ]
    },
    {
     "name": "stdout",
     "output_type": "stream",
     "text": [
      "Fitting models on working state...\n"
     ]
    },
    {
     "name": "stderr",
     "output_type": "stream",
     "text": [
      "100%|██████████| 100/100 [00:01<00:00, 73.54it/s]\n",
      "INFO:autora.theorist.bms.regressor:BMS fitting finished\n",
      "INFO:autora.theorist.bms.regressor:BMS fitting started\n"
     ]
    },
    {
     "name": "stdout",
     "output_type": "stream",
     "text": [
      "Sampling new experiment conditions...\n",
      "Obtaining observations...\n",
      "SIMULATION 0 / DISCOVERY CYCLE 1\n",
      "Fitting models on benchmark state...\n"
     ]
    },
    {
     "name": "stderr",
     "output_type": "stream",
     "text": [
      "100%|██████████| 100/100 [00:01<00:00, 63.36it/s]\n",
      "INFO:autora.theorist.bms.regressor:BMS fitting finished\n",
      "INFO:autora.theorist.bms.regressor:BMS fitting started\n"
     ]
    },
    {
     "name": "stdout",
     "output_type": "stream",
     "text": [
      "Fitting models on working state...\n"
     ]
    },
    {
     "name": "stderr",
     "output_type": "stream",
     "text": [
      "100%|██████████| 100/100 [00:01<00:00, 64.21it/s]\n",
      "INFO:autora.theorist.bms.regressor:BMS fitting finished\n",
      "INFO:autora.theorist.bms.regressor:BMS fitting started\n"
     ]
    },
    {
     "name": "stdout",
     "output_type": "stream",
     "text": [
      "Sampling new experiment conditions...\n",
      "Obtaining observations...\n",
      "SIMULATION 0 / DISCOVERY CYCLE 2\n",
      "Fitting models on benchmark state...\n"
     ]
    },
    {
     "name": "stderr",
     "output_type": "stream",
     "text": [
      "100%|██████████| 100/100 [00:01<00:00, 57.39it/s]\n",
      "INFO:autora.theorist.bms.regressor:BMS fitting finished\n",
      "INFO:autora.theorist.bms.regressor:BMS fitting started\n"
     ]
    },
    {
     "name": "stdout",
     "output_type": "stream",
     "text": [
      "Fitting models on working state...\n"
     ]
    },
    {
     "name": "stderr",
     "output_type": "stream",
     "text": [
      "100%|██████████| 100/100 [00:01<00:00, 66.50it/s]\n",
      "INFO:autora.theorist.bms.regressor:BMS fitting finished\n",
      "INFO:autora.theorist.bms.regressor:BMS fitting started\n"
     ]
    },
    {
     "name": "stdout",
     "output_type": "stream",
     "text": [
      "Sampling new experiment conditions...\n",
      "Obtaining observations...\n",
      "SIMULATION 0 / DISCOVERY CYCLE 3\n",
      "Fitting models on benchmark state...\n"
     ]
    },
    {
     "name": "stderr",
     "output_type": "stream",
     "text": [
      "100%|██████████| 100/100 [00:01<00:00, 67.22it/s]\n",
      "INFO:autora.theorist.bms.regressor:BMS fitting finished\n",
      "INFO:autora.theorist.bms.regressor:BMS fitting started\n"
     ]
    },
    {
     "name": "stdout",
     "output_type": "stream",
     "text": [
      "Fitting models on working state...\n"
     ]
    },
    {
     "name": "stderr",
     "output_type": "stream",
     "text": [
      "100%|██████████| 100/100 [00:01<00:00, 69.53it/s]\n",
      "INFO:autora.theorist.bms.regressor:BMS fitting finished\n",
      "INFO:autora.theorist.bms.regressor:BMS fitting started\n"
     ]
    },
    {
     "name": "stdout",
     "output_type": "stream",
     "text": [
      "Sampling new experiment conditions...\n",
      "Obtaining observations...\n",
      "SIMULATION 0 / DISCOVERY CYCLE 4\n",
      "Fitting models on benchmark state...\n"
     ]
    },
    {
     "name": "stderr",
     "output_type": "stream",
     "text": [
      "100%|██████████| 100/100 [00:01<00:00, 70.04it/s]\n",
      "INFO:autora.theorist.bms.regressor:BMS fitting finished\n",
      "INFO:autora.theorist.bms.regressor:BMS fitting started\n"
     ]
    },
    {
     "name": "stdout",
     "output_type": "stream",
     "text": [
      "Fitting models on working state...\n"
     ]
    },
    {
     "name": "stderr",
     "output_type": "stream",
     "text": [
      "100%|██████████| 100/100 [00:01<00:00, 68.01it/s]\n",
      "INFO:autora.theorist.bms.regressor:BMS fitting finished\n",
      "INFO:autora.theorist.bms.regressor:BMS fitting started\n"
     ]
    },
    {
     "name": "stdout",
     "output_type": "stream",
     "text": [
      "Sampling new experiment conditions...\n",
      "Obtaining observations...\n",
      "SIMULATION 0 / DISCOVERY CYCLE 5\n",
      "Fitting models on benchmark state...\n"
     ]
    },
    {
     "name": "stderr",
     "output_type": "stream",
     "text": [
      "100%|██████████| 100/100 [00:01<00:00, 72.23it/s]\n",
      "INFO:autora.theorist.bms.regressor:BMS fitting finished\n",
      "INFO:autora.theorist.bms.regressor:BMS fitting started\n"
     ]
    },
    {
     "name": "stdout",
     "output_type": "stream",
     "text": [
      "Fitting models on working state...\n"
     ]
    },
    {
     "name": "stderr",
     "output_type": "stream",
     "text": [
      "100%|██████████| 100/100 [00:01<00:00, 64.34it/s]\n",
      "INFO:autora.theorist.bms.regressor:BMS fitting finished\n",
      "INFO:autora.theorist.bms.regressor:BMS fitting started\n"
     ]
    },
    {
     "name": "stdout",
     "output_type": "stream",
     "text": [
      "Sampling new experiment conditions...\n",
      "Obtaining observations...\n",
      "SIMULATION 0 / DISCOVERY CYCLE 6\n",
      "Fitting models on benchmark state...\n"
     ]
    },
    {
     "name": "stderr",
     "output_type": "stream",
     "text": [
      "100%|██████████| 100/100 [00:01<00:00, 62.99it/s]\n",
      "INFO:autora.theorist.bms.regressor:BMS fitting finished\n",
      "INFO:autora.theorist.bms.regressor:BMS fitting started\n"
     ]
    },
    {
     "name": "stdout",
     "output_type": "stream",
     "text": [
      "Fitting models on working state...\n"
     ]
    },
    {
     "name": "stderr",
     "output_type": "stream",
     "text": [
      "100%|██████████| 100/100 [00:01<00:00, 60.65it/s]\n",
      "INFO:autora.theorist.bms.regressor:BMS fitting finished\n",
      "INFO:autora.theorist.bms.regressor:BMS fitting started\n"
     ]
    },
    {
     "name": "stdout",
     "output_type": "stream",
     "text": [
      "Sampling new experiment conditions...\n",
      "Obtaining observations...\n",
      "SIMULATION 0 / DISCOVERY CYCLE 7\n",
      "Fitting models on benchmark state...\n"
     ]
    },
    {
     "name": "stderr",
     "output_type": "stream",
     "text": [
      "100%|██████████| 100/100 [00:01<00:00, 66.42it/s]\n",
      "INFO:autora.theorist.bms.regressor:BMS fitting finished\n",
      "INFO:autora.theorist.bms.regressor:BMS fitting started\n"
     ]
    },
    {
     "name": "stdout",
     "output_type": "stream",
     "text": [
      "Fitting models on working state...\n"
     ]
    },
    {
     "name": "stderr",
     "output_type": "stream",
     "text": [
      "100%|██████████| 100/100 [00:01<00:00, 67.60it/s]\n",
      "INFO:autora.theorist.bms.regressor:BMS fitting finished\n",
      "INFO:autora.theorist.bms.regressor:BMS fitting started\n"
     ]
    },
    {
     "name": "stdout",
     "output_type": "stream",
     "text": [
      "Sampling new experiment conditions...\n",
      "Obtaining observations...\n",
      "SIMULATION 0 / DISCOVERY CYCLE 8\n",
      "Fitting models on benchmark state...\n"
     ]
    },
    {
     "name": "stderr",
     "output_type": "stream",
     "text": [
      "100%|██████████| 100/100 [00:01<00:00, 70.06it/s]\n",
      "INFO:autora.theorist.bms.regressor:BMS fitting finished\n",
      "INFO:autora.theorist.bms.regressor:BMS fitting started\n"
     ]
    },
    {
     "name": "stdout",
     "output_type": "stream",
     "text": [
      "Fitting models on working state...\n"
     ]
    },
    {
     "name": "stderr",
     "output_type": "stream",
     "text": [
      "100%|██████████| 100/100 [00:01<00:00, 72.99it/s]\n",
      "INFO:autora.theorist.bms.regressor:BMS fitting finished\n",
      "INFO:autora.theorist.bms.regressor:BMS fitting started\n"
     ]
    },
    {
     "name": "stdout",
     "output_type": "stream",
     "text": [
      "Sampling new experiment conditions...\n",
      "Obtaining observations...\n",
      "SIMULATION 0 / DISCOVERY CYCLE 9\n",
      "Fitting models on benchmark state...\n"
     ]
    },
    {
     "name": "stderr",
     "output_type": "stream",
     "text": [
      "100%|██████████| 100/100 [00:01<00:00, 72.29it/s]\n",
      "INFO:autora.theorist.bms.regressor:BMS fitting finished\n",
      "INFO:autora.theorist.bms.regressor:BMS fitting started\n"
     ]
    },
    {
     "name": "stdout",
     "output_type": "stream",
     "text": [
      "Fitting models on working state...\n"
     ]
    },
    {
     "name": "stderr",
     "output_type": "stream",
     "text": [
      "100%|██████████| 100/100 [00:01<00:00, 67.34it/s]\n",
      "INFO:autora.theorist.bms.regressor:BMS fitting finished\n",
      "INFO:autora.theorist.bms.regressor:BMS fitting started\n"
     ]
    },
    {
     "name": "stdout",
     "output_type": "stream",
     "text": [
      "Sampling new experiment conditions...\n",
      "Obtaining observations...\n",
      "SIMULATION 0 / DISCOVERY CYCLE 10\n",
      "Fitting models on benchmark state...\n"
     ]
    },
    {
     "name": "stderr",
     "output_type": "stream",
     "text": [
      "100%|██████████| 100/100 [00:01<00:00, 70.50it/s]\n",
      "INFO:autora.theorist.bms.regressor:BMS fitting finished\n",
      "INFO:autora.theorist.bms.regressor:BMS fitting started\n"
     ]
    },
    {
     "name": "stdout",
     "output_type": "stream",
     "text": [
      "Fitting models on working state...\n"
     ]
    },
    {
     "name": "stderr",
     "output_type": "stream",
     "text": [
      "100%|██████████| 100/100 [00:01<00:00, 66.92it/s]\n",
      "INFO:autora.theorist.bms.regressor:BMS fitting finished\n",
      "INFO:autora.theorist.bms.regressor:BMS fitting started\n"
     ]
    },
    {
     "name": "stdout",
     "output_type": "stream",
     "text": [
      "Sampling new experiment conditions...\n",
      "Obtaining observations...\n",
      "SIMULATION 0 / DISCOVERY CYCLE 11\n",
      "Fitting models on benchmark state...\n"
     ]
    },
    {
     "name": "stderr",
     "output_type": "stream",
     "text": [
      "100%|██████████| 100/100 [00:01<00:00, 66.36it/s]\n",
      "INFO:autora.theorist.bms.regressor:BMS fitting finished\n",
      "INFO:autora.theorist.bms.regressor:BMS fitting started\n"
     ]
    },
    {
     "name": "stdout",
     "output_type": "stream",
     "text": [
      "Fitting models on working state...\n"
     ]
    },
    {
     "name": "stderr",
     "output_type": "stream",
     "text": [
      "100%|██████████| 100/100 [00:01<00:00, 68.47it/s]\n",
      "INFO:autora.theorist.bms.regressor:BMS fitting finished\n",
      "INFO:autora.theorist.bms.regressor:BMS fitting started\n"
     ]
    },
    {
     "name": "stdout",
     "output_type": "stream",
     "text": [
      "Sampling new experiment conditions...\n",
      "Obtaining observations...\n",
      "SIMULATION 0 / DISCOVERY CYCLE 12\n",
      "Fitting models on benchmark state...\n"
     ]
    },
    {
     "name": "stderr",
     "output_type": "stream",
     "text": [
      "100%|██████████| 100/100 [00:01<00:00, 69.67it/s]\n",
      "INFO:autora.theorist.bms.regressor:BMS fitting finished\n",
      "INFO:autora.theorist.bms.regressor:BMS fitting started\n"
     ]
    },
    {
     "name": "stdout",
     "output_type": "stream",
     "text": [
      "Fitting models on working state...\n"
     ]
    },
    {
     "name": "stderr",
     "output_type": "stream",
     "text": [
      "100%|██████████| 100/100 [00:01<00:00, 64.56it/s]\n",
      "INFO:autora.theorist.bms.regressor:BMS fitting finished\n",
      "INFO:autora.theorist.bms.regressor:BMS fitting started\n"
     ]
    },
    {
     "name": "stdout",
     "output_type": "stream",
     "text": [
      "Sampling new experiment conditions...\n",
      "Obtaining observations...\n",
      "SIMULATION 0 / DISCOVERY CYCLE 13\n",
      "Fitting models on benchmark state...\n"
     ]
    },
    {
     "name": "stderr",
     "output_type": "stream",
     "text": [
      "100%|██████████| 100/100 [00:01<00:00, 68.76it/s]\n",
      "INFO:autora.theorist.bms.regressor:BMS fitting finished\n",
      "INFO:autora.theorist.bms.regressor:BMS fitting started\n"
     ]
    },
    {
     "name": "stdout",
     "output_type": "stream",
     "text": [
      "Fitting models on working state...\n"
     ]
    },
    {
     "name": "stderr",
     "output_type": "stream",
     "text": [
      "100%|██████████| 100/100 [00:01<00:00, 61.72it/s]\n",
      "INFO:autora.theorist.bms.regressor:BMS fitting finished\n",
      "INFO:autora.theorist.bms.regressor:BMS fitting started\n"
     ]
    },
    {
     "name": "stdout",
     "output_type": "stream",
     "text": [
      "Sampling new experiment conditions...\n",
      "Obtaining observations...\n",
      "SIMULATION 0 / DISCOVERY CYCLE 14\n",
      "Fitting models on benchmark state...\n"
     ]
    },
    {
     "name": "stderr",
     "output_type": "stream",
     "text": [
      "100%|██████████| 100/100 [00:01<00:00, 61.74it/s]\n",
      "INFO:autora.theorist.bms.regressor:BMS fitting finished\n",
      "INFO:autora.theorist.bms.regressor:BMS fitting started\n"
     ]
    },
    {
     "name": "stdout",
     "output_type": "stream",
     "text": [
      "Fitting models on working state...\n"
     ]
    },
    {
     "name": "stderr",
     "output_type": "stream",
     "text": [
      "100%|██████████| 100/100 [00:01<00:00, 64.11it/s]\n",
      "INFO:autora.theorist.bms.regressor:BMS fitting finished\n",
      "INFO:autora.theorist.bms.regressor:BMS fitting started\n"
     ]
    },
    {
     "name": "stdout",
     "output_type": "stream",
     "text": [
      "Sampling new experiment conditions...\n",
      "Obtaining observations...\n",
      "SIMULATION 0 / DISCOVERY CYCLE 15\n",
      "Fitting models on benchmark state...\n"
     ]
    },
    {
     "name": "stderr",
     "output_type": "stream",
     "text": [
      "100%|██████████| 100/100 [00:01<00:00, 70.03it/s]\n",
      "INFO:autora.theorist.bms.regressor:BMS fitting finished\n",
      "INFO:autora.theorist.bms.regressor:BMS fitting started\n"
     ]
    },
    {
     "name": "stdout",
     "output_type": "stream",
     "text": [
      "Fitting models on working state...\n"
     ]
    },
    {
     "name": "stderr",
     "output_type": "stream",
     "text": [
      "100%|██████████| 100/100 [00:01<00:00, 61.70it/s]\n",
      "INFO:autora.theorist.bms.regressor:BMS fitting finished\n",
      "INFO:autora.theorist.bms.regressor:BMS fitting started\n"
     ]
    },
    {
     "name": "stdout",
     "output_type": "stream",
     "text": [
      "Sampling new experiment conditions...\n",
      "Obtaining observations...\n",
      "SIMULATION 0 / DISCOVERY CYCLE 16\n",
      "Fitting models on benchmark state...\n"
     ]
    },
    {
     "name": "stderr",
     "output_type": "stream",
     "text": [
      "100%|██████████| 100/100 [00:01<00:00, 66.06it/s]\n",
      "INFO:autora.theorist.bms.regressor:BMS fitting finished\n",
      "INFO:autora.theorist.bms.regressor:BMS fitting started\n"
     ]
    },
    {
     "name": "stdout",
     "output_type": "stream",
     "text": [
      "Fitting models on working state...\n"
     ]
    },
    {
     "name": "stderr",
     "output_type": "stream",
     "text": [
      "100%|██████████| 100/100 [00:01<00:00, 53.31it/s]\n",
      "INFO:autora.theorist.bms.regressor:BMS fitting finished\n",
      "INFO:autora.theorist.bms.regressor:BMS fitting started\n"
     ]
    },
    {
     "name": "stdout",
     "output_type": "stream",
     "text": [
      "Sampling new experiment conditions...\n",
      "Obtaining observations...\n",
      "SIMULATION 0 / DISCOVERY CYCLE 17\n",
      "Fitting models on benchmark state...\n"
     ]
    },
    {
     "name": "stderr",
     "output_type": "stream",
     "text": [
      "100%|██████████| 100/100 [00:01<00:00, 65.83it/s]\n",
      "INFO:autora.theorist.bms.regressor:BMS fitting finished\n",
      "INFO:autora.theorist.bms.regressor:BMS fitting started\n"
     ]
    },
    {
     "name": "stdout",
     "output_type": "stream",
     "text": [
      "Fitting models on working state...\n"
     ]
    },
    {
     "name": "stderr",
     "output_type": "stream",
     "text": [
      "100%|██████████| 100/100 [00:01<00:00, 63.05it/s]\n",
      "INFO:autora.theorist.bms.regressor:BMS fitting finished\n",
      "INFO:autora.theorist.bms.regressor:BMS fitting started\n"
     ]
    },
    {
     "name": "stdout",
     "output_type": "stream",
     "text": [
      "Sampling new experiment conditions...\n",
      "Obtaining observations...\n",
      "SIMULATION 0 / DISCOVERY CYCLE 18\n",
      "Fitting models on benchmark state...\n"
     ]
    },
    {
     "name": "stderr",
     "output_type": "stream",
     "text": [
      "100%|██████████| 100/100 [00:01<00:00, 64.15it/s]\n",
      "INFO:autora.theorist.bms.regressor:BMS fitting finished\n",
      "INFO:autora.theorist.bms.regressor:BMS fitting started\n"
     ]
    },
    {
     "name": "stdout",
     "output_type": "stream",
     "text": [
      "Fitting models on working state...\n"
     ]
    },
    {
     "name": "stderr",
     "output_type": "stream",
     "text": [
      "100%|██████████| 100/100 [00:01<00:00, 55.98it/s]\n",
      "INFO:autora.theorist.bms.regressor:BMS fitting finished\n",
      "INFO:autora.theorist.bms.regressor:BMS fitting started\n"
     ]
    },
    {
     "name": "stdout",
     "output_type": "stream",
     "text": [
      "Sampling new experiment conditions...\n",
      "Obtaining observations...\n",
      "SIMULATION 0 / DISCOVERY CYCLE 19\n",
      "Fitting models on benchmark state...\n"
     ]
    },
    {
     "name": "stderr",
     "output_type": "stream",
     "text": [
      "100%|██████████| 100/100 [00:01<00:00, 67.49it/s]\n",
      "INFO:autora.theorist.bms.regressor:BMS fitting finished\n",
      "INFO:autora.theorist.bms.regressor:BMS fitting started\n"
     ]
    },
    {
     "name": "stdout",
     "output_type": "stream",
     "text": [
      "Fitting models on working state...\n"
     ]
    },
    {
     "name": "stderr",
     "output_type": "stream",
     "text": [
      "100%|██████████| 100/100 [00:01<00:00, 53.70it/s]\n",
      "INFO:autora.theorist.bms.regressor:BMS fitting finished\n"
     ]
    },
    {
     "name": "stdout",
     "output_type": "stream",
     "text": [
      "Sampling new experiment conditions...\n",
      "Obtaining observations...\n"
     ]
    }
   ],
   "source": [
    "# setting experiment runner and theorist\n",
    "experiment_runner = task_switching()\n",
    "\n",
    "# run simulation\n",
    "benchmark_MSE_log, working_MSE_log, benchmark_state, working_state = run_simulation(num_cycles, num_conditions_per_cycle, num_initial_conditions, bms_epochs, experiment_runner)"
   ]
  },
  {
   "cell_type": "markdown",
   "id": "c13af6e6",
   "metadata": {},
   "source": [
    "### Visualize Task-Switching Results\n",
    "Plot the mean-squared-error traces from the single run and inspect the final datasets gathered by the random sampler and our Stratified-RSN experimentalist."
   ]
  },
  {
   "cell_type": "code",
   "execution_count": null,
   "id": "c0f31ded",
   "metadata": {},
   "outputs": [
    {
     "name": "stdout",
     "output_type": "stream",
     "text": [
      "    cur_task_strength  alt_task_strength  is_switch  cur_task_performance\n",
      "0                0.86               0.64          1              0.592120\n",
      "1                0.82               0.76          0              0.716775\n",
      "2                0.22               0.32          1              0.631526\n",
      "3                0.84               0.72          0              0.737772\n",
      "4                0.40               0.98          0              0.543151\n",
      "5                0.24               0.54          0              0.691823\n",
      "6                0.10               0.82          1              0.515660\n",
      "7                0.76               0.70          1              0.549758\n",
      "8                1.00               0.54          1              0.660404\n",
      "9                0.98               0.24          0              0.947997\n",
      "10               0.46               0.90          1              0.446473\n",
      "11               0.44               0.16          1              0.708745\n",
      "12               0.22               0.10          1              0.722946\n",
      "13               0.72               0.28          0              0.918392\n",
      "14               0.76               0.42          0              0.863983\n",
      "15               0.52               1.00          0              0.562776\n",
      "16               0.38               0.28          0              0.863601\n",
      "17               0.36               0.36          1              0.602689\n",
      "18               0.24               0.36          0              0.786723\n",
      "19               0.48               0.24          0              0.904583\n",
      "20               0.32               0.14          1              0.699350\n",
      "    cur_task_strength  alt_task_strength  is_switch  cur_task_performance\n",
      "0                0.86               0.64          1              0.592120\n",
      "1                0.08               0.10          0              0.885506\n",
      "2                0.48               0.86          1              0.456748\n",
      "3                0.16               0.26          0              0.816442\n",
      "4                0.36               0.80          1              0.461626\n",
      "5                0.92               0.18          0              0.959938\n",
      "6                0.06               0.10          1              0.829276\n",
      "7                1.00               1.00          1              0.517282\n",
      "8                0.56               0.02          1              0.812917\n",
      "9                0.72               0.34          0              0.894537\n",
      "10               0.10               0.38          1              0.672105\n",
      "11               0.64               1.00          1              0.452600\n",
      "12               0.44               0.10          0              0.952018\n",
      "13               0.20               0.42          1              0.598624\n",
      "14               0.52               0.32          0              0.872908\n",
      "15               0.36               1.00          1              0.423557\n",
      "16               0.72               0.14          0              0.960395\n",
      "17               0.10               0.70          1              0.551108\n",
      "18               0.88               0.66          0              0.770906\n",
      "19               0.08               0.34          1              0.706640\n",
      "20               0.84               0.98          1              0.492462\n"
     ]
    },
    {
     "data": {
      "image/png": "[encoded data removed]",
      "text/plain": [
       "<Figure size 640x480 with 1 Axes>"
      ]
     },
     "metadata": {},
     "output_type": "display_data"
    }
   ],
   "source": [
    "\n",
    "# lets plot the benchmark_MSE_log and the workign_MSE_log\n",
    "plt.plot(benchmark_MSE_log, label='benchmark_MSE_log')\n",
    "plt.plot(working_MSE_log, label='working_MSE_log')\n",
    "plt.xlabel('Sampled Data Points')\n",
    "plt.ylabel('MSE on Validation Set')\n",
    "plt.title('Single Discovery Simulation')\n",
    "plt.legend()\n",
    "\n",
    "# we can also investigate the final state more closely\n",
    "# for example, these are all the experimental data collected\n",
    "# under random sampling:\n",
    "print(benchmark_state.experiment_data)\n",
    "# and for your custom experimentalist\n",
    "print(working_state.experiment_data)"
   ]
  },
  {
   "cell_type": "markdown",
   "id": "0e621f58",
   "metadata": {},
   "source": [
    "### Visualize Prospect-Theory Results\n",
    "Repeat the analysis with the prospect-theory ground truth to confirm the experimentalist's advantage on a second domain."
   ]
  },
  {
   "cell_type": "code",
   "execution_count": null,
   "id": "a8b40749",
   "metadata": {},
   "outputs": [
    {
     "name": "stderr",
     "output_type": "stream",
     "text": [
      "INFO:autora.theorist.bms.regressor:BMS fitting started\n"
     ]
    },
    {
     "name": "stdout",
     "output_type": "stream",
     "text": [
      "SIMULATION 0 / DISCOVERY CYCLE 0\n",
      "Fitting models on benchmark state...\n"
     ]
    },
    {
     "name": "stderr",
     "output_type": "stream",
     "text": [
      "100%|██████████| 100/100 [00:01<00:00, 61.02it/s]\n",
      "INFO:autora.theorist.bms.regressor:BMS fitting finished\n",
      "INFO:autora.theorist.bms.regressor:BMS fitting started\n"
     ]
    },
    {
     "name": "stdout",
     "output_type": "stream",
     "text": [
      "Fitting models on working state...\n"
     ]
    },
    {
     "name": "stderr",
     "output_type": "stream",
     "text": [
      "100%|██████████| 100/100 [00:01<00:00, 68.06it/s]\n",
      "INFO:autora.theorist.bms.regressor:BMS fitting finished\n",
      "INFO:autora.theorist.bms.regressor:BMS fitting started\n"
     ]
    },
    {
     "name": "stdout",
     "output_type": "stream",
     "text": [
      "Sampling new experiment conditions...\n",
      "Obtaining observations...\n",
      "SIMULATION 0 / DISCOVERY CYCLE 1\n",
      "Fitting models on benchmark state...\n"
     ]
    },
    {
     "name": "stderr",
     "output_type": "stream",
     "text": [
      "100%|██████████| 100/100 [00:01<00:00, 62.76it/s]\n",
      "INFO:autora.theorist.bms.regressor:BMS fitting finished\n",
      "INFO:autora.theorist.bms.regressor:BMS fitting started\n"
     ]
    },
    {
     "name": "stdout",
     "output_type": "stream",
     "text": [
      "Fitting models on working state...\n"
     ]
    },
    {
     "name": "stderr",
     "output_type": "stream",
     "text": [
      "100%|██████████| 100/100 [00:01<00:00, 59.83it/s]\n",
      "INFO:autora.theorist.bms.regressor:BMS fitting finished\n",
      "INFO:autora.theorist.bms.regressor:BMS fitting started\n"
     ]
    },
    {
     "name": "stdout",
     "output_type": "stream",
     "text": [
      "Sampling new experiment conditions...\n",
      "Obtaining observations...\n",
      "SIMULATION 0 / DISCOVERY CYCLE 2\n",
      "Fitting models on benchmark state...\n"
     ]
    },
    {
     "name": "stderr",
     "output_type": "stream",
     "text": [
      "100%|██████████| 100/100 [00:01<00:00, 55.78it/s]\n",
      "INFO:autora.theorist.bms.regressor:BMS fitting finished\n",
      "INFO:autora.theorist.bms.regressor:BMS fitting started\n"
     ]
    },
    {
     "name": "stdout",
     "output_type": "stream",
     "text": [
      "Fitting models on working state...\n"
     ]
    },
    {
     "name": "stderr",
     "output_type": "stream",
     "text": [
      "100%|██████████| 100/100 [00:01<00:00, 60.34it/s]\n",
      "INFO:autora.theorist.bms.regressor:BMS fitting finished\n",
      "INFO:autora.theorist.bms.regressor:BMS fitting started\n"
     ]
    },
    {
     "name": "stdout",
     "output_type": "stream",
     "text": [
      "Sampling new experiment conditions...\n",
      "Obtaining observations...\n",
      "SIMULATION 0 / DISCOVERY CYCLE 3\n",
      "Fitting models on benchmark state...\n"
     ]
    },
    {
     "name": "stderr",
     "output_type": "stream",
     "text": [
      "100%|██████████| 100/100 [00:02<00:00, 48.79it/s]\n",
      "INFO:autora.theorist.bms.regressor:BMS fitting finished\n",
      "INFO:autora.theorist.bms.regressor:BMS fitting started\n"
     ]
    },
    {
     "name": "stdout",
     "output_type": "stream",
     "text": [
      "Fitting models on working state...\n"
     ]
    },
    {
     "name": "stderr",
     "output_type": "stream",
     "text": [
      "100%|██████████| 100/100 [00:01<00:00, 64.75it/s]\n",
      "INFO:autora.theorist.bms.regressor:BMS fitting finished\n",
      "INFO:autora.theorist.bms.regressor:BMS fitting started\n"
     ]
    },
    {
     "name": "stdout",
     "output_type": "stream",
     "text": [
      "Sampling new experiment conditions...\n",
      "Obtaining observations...\n",
      "SIMULATION 0 / DISCOVERY CYCLE 4\n",
      "Fitting models on benchmark state...\n"
     ]
    },
    {
     "name": "stderr",
     "output_type": "stream",
     "text": [
      "100%|██████████| 100/100 [00:01<00:00, 61.60it/s]\n",
      "INFO:autora.theorist.bms.regressor:BMS fitting finished\n",
      "INFO:autora.theorist.bms.regressor:BMS fitting started\n"
     ]
    },
    {
     "name": "stdout",
     "output_type": "stream",
     "text": [
      "Fitting models on working state...\n"
     ]
    },
    {
     "name": "stderr",
     "output_type": "stream",
     "text": [
      "100%|██████████| 100/100 [00:01<00:00, 61.23it/s]\n",
      "INFO:autora.theorist.bms.regressor:BMS fitting finished\n",
      "INFO:autora.theorist.bms.regressor:BMS fitting started\n"
     ]
    },
    {
     "name": "stdout",
     "output_type": "stream",
     "text": [
      "Sampling new experiment conditions...\n",
      "Obtaining observations...\n",
      "SIMULATION 0 / DISCOVERY CYCLE 5\n",
      "Fitting models on benchmark state...\n"
     ]
    },
    {
     "name": "stderr",
     "output_type": "stream",
     "text": [
      "100%|██████████| 100/100 [00:01<00:00, 62.87it/s]\n",
      "INFO:autora.theorist.bms.regressor:BMS fitting finished\n",
      "INFO:autora.theorist.bms.regressor:BMS fitting started\n"
     ]
    },
    {
     "name": "stdout",
     "output_type": "stream",
     "text": [
      "Fitting models on working state...\n"
     ]
    },
    {
     "name": "stderr",
     "output_type": "stream",
     "text": [
      "100%|██████████| 100/100 [00:01<00:00, 63.56it/s]\n",
      "INFO:autora.theorist.bms.regressor:BMS fitting finished\n",
      "INFO:autora.theorist.bms.regressor:BMS fitting started\n"
     ]
    },
    {
     "name": "stdout",
     "output_type": "stream",
     "text": [
      "Sampling new experiment conditions...\n",
      "Obtaining observations...\n",
      "SIMULATION 0 / DISCOVERY CYCLE 6\n",
      "Fitting models on benchmark state...\n"
     ]
    },
    {
     "name": "stderr",
     "output_type": "stream",
     "text": [
      "100%|██████████| 100/100 [00:01<00:00, 58.51it/s]\n",
      "INFO:autora.theorist.bms.regressor:BMS fitting finished\n",
      "INFO:autora.theorist.bms.regressor:BMS fitting started\n"
     ]
    },
    {
     "name": "stdout",
     "output_type": "stream",
     "text": [
      "Fitting models on working state...\n"
     ]
    },
    {
     "name": "stderr",
     "output_type": "stream",
     "text": [
      "100%|██████████| 100/100 [00:01<00:00, 62.26it/s]\n",
      "INFO:autora.theorist.bms.regressor:BMS fitting finished\n",
      "INFO:autora.theorist.bms.regressor:BMS fitting started\n"
     ]
    },
    {
     "name": "stdout",
     "output_type": "stream",
     "text": [
      "Sampling new experiment conditions...\n",
      "Obtaining observations...\n",
      "SIMULATION 0 / DISCOVERY CYCLE 7\n",
      "Fitting models on benchmark state...\n"
     ]
    },
    {
     "name": "stderr",
     "output_type": "stream",
     "text": [
      "100%|██████████| 100/100 [00:01<00:00, 62.79it/s]\n",
      "INFO:autora.theorist.bms.regressor:BMS fitting finished\n",
      "INFO:autora.theorist.bms.regressor:BMS fitting started\n"
     ]
    },
    {
     "name": "stdout",
     "output_type": "stream",
     "text": [
      "Fitting models on working state...\n"
     ]
    },
    {
     "name": "stderr",
     "output_type": "stream",
     "text": [
      "100%|██████████| 100/100 [00:01<00:00, 69.35it/s]\n",
      "INFO:autora.theorist.bms.regressor:BMS fitting finished\n",
      "INFO:autora.theorist.bms.regressor:BMS fitting started\n"
     ]
    },
    {
     "name": "stdout",
     "output_type": "stream",
     "text": [
      "Sampling new experiment conditions...\n",
      "Obtaining observations...\n",
      "SIMULATION 0 / DISCOVERY CYCLE 8\n",
      "Fitting models on benchmark state...\n"
     ]
    },
    {
     "name": "stderr",
     "output_type": "stream",
     "text": [
      "100%|██████████| 100/100 [00:01<00:00, 62.17it/s]\n",
      "INFO:autora.theorist.bms.regressor:BMS fitting finished\n",
      "INFO:autora.theorist.bms.regressor:BMS fitting started\n"
     ]
    },
    {
     "name": "stdout",
     "output_type": "stream",
     "text": [
      "Fitting models on working state...\n"
     ]
    },
    {
     "name": "stderr",
     "output_type": "stream",
     "text": [
      "100%|██████████| 100/100 [00:01<00:00, 55.93it/s]\n",
      "INFO:autora.theorist.bms.regressor:BMS fitting finished\n",
      "INFO:autora.theorist.bms.regressor:BMS fitting started\n"
     ]
    },
    {
     "name": "stdout",
     "output_type": "stream",
     "text": [
      "Sampling new experiment conditions...\n",
      "Obtaining observations...\n",
      "SIMULATION 0 / DISCOVERY CYCLE 9\n",
      "Fitting models on benchmark state...\n"
     ]
    },
    {
     "name": "stderr",
     "output_type": "stream",
     "text": [
      "100%|██████████| 100/100 [00:01<00:00, 60.51it/s]\n",
      "INFO:autora.theorist.bms.regressor:BMS fitting finished\n",
      "INFO:autora.theorist.bms.regressor:BMS fitting started\n"
     ]
    },
    {
     "name": "stdout",
     "output_type": "stream",
     "text": [
      "Fitting models on working state...\n"
     ]
    },
    {
     "name": "stderr",
     "output_type": "stream",
     "text": [
      "100%|██████████| 100/100 [00:01<00:00, 71.20it/s]\n",
      "INFO:autora.theorist.bms.regressor:BMS fitting finished\n",
      "INFO:autora.theorist.bms.regressor:BMS fitting started\n"
     ]
    },
    {
     "name": "stdout",
     "output_type": "stream",
     "text": [
      "Sampling new experiment conditions...\n",
      "Obtaining observations...\n",
      "SIMULATION 0 / DISCOVERY CYCLE 10\n",
      "Fitting models on benchmark state...\n"
     ]
    },
    {
     "name": "stderr",
     "output_type": "stream",
     "text": [
      "100%|██████████| 100/100 [00:01<00:00, 56.87it/s]\n",
      "INFO:autora.theorist.bms.regressor:BMS fitting finished\n",
      "INFO:autora.theorist.bms.regressor:BMS fitting started\n"
     ]
    },
    {
     "name": "stdout",
     "output_type": "stream",
     "text": [
      "Fitting models on working state...\n"
     ]
    },
    {
     "name": "stderr",
     "output_type": "stream",
     "text": [
      "100%|██████████| 100/100 [00:01<00:00, 70.18it/s]\n",
      "INFO:autora.theorist.bms.regressor:BMS fitting finished\n",
      "INFO:autora.theorist.bms.regressor:BMS fitting started\n"
     ]
    },
    {
     "name": "stdout",
     "output_type": "stream",
     "text": [
      "Sampling new experiment conditions...\n",
      "Obtaining observations...\n",
      "SIMULATION 0 / DISCOVERY CYCLE 11\n",
      "Fitting models on benchmark state...\n"
     ]
    },
    {
     "name": "stderr",
     "output_type": "stream",
     "text": [
      "100%|██████████| 100/100 [00:01<00:00, 53.74it/s]\n",
      "INFO:autora.theorist.bms.regressor:BMS fitting finished\n",
      "INFO:autora.theorist.bms.regressor:BMS fitting started\n"
     ]
    },
    {
     "name": "stdout",
     "output_type": "stream",
     "text": [
      "Fitting models on working state...\n"
     ]
    },
    {
     "name": "stderr",
     "output_type": "stream",
     "text": [
      "100%|██████████| 100/100 [00:01<00:00, 71.14it/s]\n",
      "INFO:autora.theorist.bms.regressor:BMS fitting finished\n",
      "INFO:autora.theorist.bms.regressor:BMS fitting started\n"
     ]
    },
    {
     "name": "stdout",
     "output_type": "stream",
     "text": [
      "Sampling new experiment conditions...\n",
      "Obtaining observations...\n",
      "SIMULATION 0 / DISCOVERY CYCLE 12\n",
      "Fitting models on benchmark state...\n"
     ]
    },
    {
     "name": "stderr",
     "output_type": "stream",
     "text": [
      "100%|██████████| 100/100 [00:01<00:00, 53.94it/s]\n",
      "INFO:autora.theorist.bms.regressor:BMS fitting finished\n",
      "INFO:autora.theorist.bms.regressor:BMS fitting started\n"
     ]
    },
    {
     "name": "stdout",
     "output_type": "stream",
     "text": [
      "Fitting models on working state...\n"
     ]
    },
    {
     "name": "stderr",
     "output_type": "stream",
     "text": [
      "100%|██████████| 100/100 [00:01<00:00, 67.89it/s]\n",
      "INFO:autora.theorist.bms.regressor:BMS fitting finished\n",
      "INFO:autora.theorist.bms.regressor:BMS fitting started\n"
     ]
    },
    {
     "name": "stdout",
     "output_type": "stream",
     "text": [
      "Sampling new experiment conditions...\n",
      "Obtaining observations...\n",
      "SIMULATION 0 / DISCOVERY CYCLE 13\n",
      "Fitting models on benchmark state...\n"
     ]
    },
    {
     "name": "stderr",
     "output_type": "stream",
     "text": [
      "100%|██████████| 100/100 [00:01<00:00, 51.77it/s]\n",
      "INFO:autora.theorist.bms.regressor:BMS fitting finished\n",
      "INFO:autora.theorist.bms.regressor:BMS fitting started\n"
     ]
    },
    {
     "name": "stdout",
     "output_type": "stream",
     "text": [
      "Fitting models on working state...\n"
     ]
    },
    {
     "name": "stderr",
     "output_type": "stream",
     "text": [
      "100%|██████████| 100/100 [00:01<00:00, 66.75it/s]\n",
      "INFO:autora.theorist.bms.regressor:BMS fitting finished\n",
      "INFO:autora.theorist.bms.regressor:BMS fitting started\n"
     ]
    },
    {
     "name": "stdout",
     "output_type": "stream",
     "text": [
      "Sampling new experiment conditions...\n",
      "Obtaining observations...\n",
      "SIMULATION 0 / DISCOVERY CYCLE 14\n",
      "Fitting models on benchmark state...\n"
     ]
    },
    {
     "name": "stderr",
     "output_type": "stream",
     "text": [
      "100%|██████████| 100/100 [00:01<00:00, 62.95it/s]\n",
      "INFO:autora.theorist.bms.regressor:BMS fitting finished\n",
      "INFO:autora.theorist.bms.regressor:BMS fitting started\n"
     ]
    },
    {
     "name": "stdout",
     "output_type": "stream",
     "text": [
      "Fitting models on working state...\n"
     ]
    },
    {
     "name": "stderr",
     "output_type": "stream",
     "text": [
      "100%|██████████| 100/100 [00:02<00:00, 47.34it/s]\n",
      "INFO:autora.theorist.bms.regressor:BMS fitting finished\n",
      "INFO:autora.theorist.bms.regressor:BMS fitting started\n"
     ]
    },
    {
     "name": "stdout",
     "output_type": "stream",
     "text": [
      "Sampling new experiment conditions...\n",
      "Obtaining observations...\n",
      "SIMULATION 0 / DISCOVERY CYCLE 15\n",
      "Fitting models on benchmark state...\n"
     ]
    },
    {
     "name": "stderr",
     "output_type": "stream",
     "text": [
      "100%|██████████| 100/100 [00:01<00:00, 62.27it/s]\n",
      "INFO:autora.theorist.bms.regressor:BMS fitting finished\n",
      "INFO:autora.theorist.bms.regressor:BMS fitting started\n"
     ]
    },
    {
     "name": "stdout",
     "output_type": "stream",
     "text": [
      "Fitting models on working state...\n"
     ]
    },
    {
     "name": "stderr",
     "output_type": "stream",
     "text": [
      "100%|██████████| 100/100 [00:01<00:00, 69.54it/s]\n",
      "INFO:autora.theorist.bms.regressor:BMS fitting finished\n",
      "INFO:autora.theorist.bms.regressor:BMS fitting started\n"
     ]
    },
    {
     "name": "stdout",
     "output_type": "stream",
     "text": [
      "Sampling new experiment conditions...\n",
      "Obtaining observations...\n",
      "SIMULATION 0 / DISCOVERY CYCLE 16\n",
      "Fitting models on benchmark state...\n"
     ]
    },
    {
     "name": "stderr",
     "output_type": "stream",
     "text": [
      "100%|██████████| 100/100 [00:01<00:00, 58.50it/s]\n",
      "INFO:autora.theorist.bms.regressor:BMS fitting finished\n",
      "INFO:autora.theorist.bms.regressor:BMS fitting started\n"
     ]
    },
    {
     "name": "stdout",
     "output_type": "stream",
     "text": [
      "Fitting models on working state...\n"
     ]
    },
    {
     "name": "stderr",
     "output_type": "stream",
     "text": [
      "100%|██████████| 100/100 [00:01<00:00, 74.40it/s]\n",
      "INFO:autora.theorist.bms.regressor:BMS fitting finished\n",
      "INFO:autora.theorist.bms.regressor:BMS fitting started\n"
     ]
    },
    {
     "name": "stdout",
     "output_type": "stream",
     "text": [
      "Sampling new experiment conditions...\n",
      "Obtaining observations...\n",
      "SIMULATION 0 / DISCOVERY CYCLE 17\n",
      "Fitting models on benchmark state...\n"
     ]
    },
    {
     "name": "stderr",
     "output_type": "stream",
     "text": [
      "100%|██████████| 100/100 [00:01<00:00, 59.72it/s]\n",
      "INFO:autora.theorist.bms.regressor:BMS fitting finished\n",
      "INFO:autora.theorist.bms.regressor:BMS fitting started\n"
     ]
    },
    {
     "name": "stdout",
     "output_type": "stream",
     "text": [
      "Fitting models on working state...\n"
     ]
    },
    {
     "name": "stderr",
     "output_type": "stream",
     "text": [
      "100%|██████████| 100/100 [00:01<00:00, 68.06it/s]\n",
      "INFO:autora.theorist.bms.regressor:BMS fitting finished\n",
      "INFO:autora.theorist.bms.regressor:BMS fitting started\n"
     ]
    },
    {
     "name": "stdout",
     "output_type": "stream",
     "text": [
      "Sampling new experiment conditions...\n",
      "Obtaining observations...\n",
      "SIMULATION 0 / DISCOVERY CYCLE 18\n",
      "Fitting models on benchmark state...\n"
     ]
    },
    {
     "name": "stderr",
     "output_type": "stream",
     "text": [
      "100%|██████████| 100/100 [00:01<00:00, 57.30it/s]\n",
      "INFO:autora.theorist.bms.regressor:BMS fitting finished\n",
      "INFO:autora.theorist.bms.regressor:BMS fitting started\n"
     ]
    },
    {
     "name": "stdout",
     "output_type": "stream",
     "text": [
      "Fitting models on working state...\n"
     ]
    },
    {
     "name": "stderr",
     "output_type": "stream",
     "text": [
      "100%|██████████| 100/100 [00:01<00:00, 63.28it/s]\n",
      "INFO:autora.theorist.bms.regressor:BMS fitting finished\n",
      "INFO:autora.theorist.bms.regressor:BMS fitting started\n"
     ]
    },
    {
     "name": "stdout",
     "output_type": "stream",
     "text": [
      "Sampling new experiment conditions...\n",
      "Obtaining observations...\n",
      "SIMULATION 0 / DISCOVERY CYCLE 19\n",
      "Fitting models on benchmark state...\n"
     ]
    },
    {
     "name": "stderr",
     "output_type": "stream",
     "text": [
      "100%|██████████| 100/100 [00:01<00:00, 65.85it/s]\n",
      "INFO:autora.theorist.bms.regressor:BMS fitting finished\n",
      "INFO:autora.theorist.bms.regressor:BMS fitting started\n"
     ]
    },
    {
     "name": "stdout",
     "output_type": "stream",
     "text": [
      "Fitting models on working state...\n"
     ]
    },
    {
     "name": "stderr",
     "output_type": "stream",
     "text": [
      "100%|██████████| 100/100 [00:01<00:00, 60.94it/s]\n",
      "INFO:autora.theorist.bms.regressor:BMS fitting finished\n"
     ]
    },
    {
     "name": "stdout",
     "output_type": "stream",
     "text": [
      "Sampling new experiment conditions...\n",
      "Obtaining observations...\n"
     ]
    }
   ],
   "source": [
    "# setting experiment runner and theorist\n",
    "from autora.experiment_runner.synthetic.economics.prospect_theory import prospect_theory\n",
    "experiment_runner = prospect_theory()\n",
    "\n",
    "\n",
    "# run simulation\n",
    "benchmark_MSE_log, working_MSE_log, benchmark_state, working_state = run_simulation(num_cycles, num_conditions_per_cycle, num_initial_conditions, bms_epochs, experiment_runner)"
   ]
  },
  {
   "cell_type": "code",
   "execution_count": null,
   "id": "1f335f2d",
   "metadata": {},
   "outputs": [
    {
     "name": "stdout",
     "output_type": "stream",
     "text": [
      "         V_A       P_A       V_B       P_B      choose_A\n",
      "0   0.777778  0.666667  0.111111  0.222222  9.761819e-01\n",
      "1   0.555556  0.555556 -0.333333  0.888889  9.998982e-01\n",
      "2  -1.000000  0.666667  0.777778  0.555556  8.452803e-08\n",
      "3   0.333333  0.555556 -1.000000  0.777778  9.999999e-01\n",
      "4  -0.333333  0.222222  0.111111  0.555556  4.780458e-02\n",
      "5  -0.777778  0.000000  0.555556  0.444444  8.790663e-02\n",
      "6   0.111111  0.333333 -0.111111  0.111111  7.456815e-01\n",
      "7   0.777778  0.777778  1.000000  0.000000  9.911984e-01\n",
      "8  -0.333333  0.666667  1.000000  0.555556  8.965454e-05\n",
      "9  -1.000000  0.777778  0.555556  1.000000  1.160580e-09\n",
      "10 -0.777778  0.777778  0.333333  0.000000  8.182736e-06\n",
      "11 -0.555556  0.777778  0.333333  0.888889  1.160780e-05\n",
      "12 -0.555556  0.111111  0.777778  1.000000  2.903308e-05\n",
      "13 -1.000000  0.444444  0.333333  0.222222  2.811201e-05\n",
      "14  0.111111  0.333333  1.000000  0.333333  5.347289e-02\n",
      "15  0.111111  0.444444  0.777778  1.000000  5.820712e-04\n",
      "16  0.111111  0.111111 -1.000000  0.111111  9.874043e-01\n",
      "17 -0.111111  0.555556  0.333333  0.222222  6.688109e-02\n",
      "18 -0.333333  0.000000 -0.777778  1.000000  1.000000e+00\n",
      "19  0.333333  0.444444 -1.000000  0.555556  9.999963e-01\n",
      "20  1.000000  0.888889  0.777778  0.777778  9.046670e-01\n",
      "         V_A       P_A       V_B       P_B      choose_A\n",
      "0   0.777778  0.666667  0.111111  0.222222  9.761819e-01\n",
      "1  -1.000000  0.666667 -1.000000  0.333333  7.994643e-03\n",
      "2   0.777778  0.000000 -0.333333  0.555556  9.850162e-01\n",
      "3  -0.333333  0.666667  0.333333  0.555556  1.452492e-03\n",
      "4   1.000000  0.111111 -0.777778  0.555556  9.999793e-01\n",
      "5  -1.000000  0.666667 -1.000000  0.555556  1.576586e-01\n",
      "6   0.555556  1.000000  0.777778  0.666667  8.642920e-01\n",
      "7  -0.111111  0.000000 -0.333333  0.888889  9.985167e-01\n",
      "8   0.777778  0.777778 -0.777778  0.444444  9.999954e-01\n",
      "9  -0.555556  0.000000  0.555556  0.444444  8.790663e-02\n",
      "10 -1.000000  1.000000 -0.777778  0.222222  2.352753e-08\n",
      "11  0.333333  0.555556 -0.777778  0.555556  9.999733e-01\n",
      "12 -0.111111  1.000000  0.777778  1.000000  1.274770e-05\n",
      "13  0.333333  0.555556 -0.555556  0.222222  9.954143e-01\n",
      "14 -1.000000  0.777778 -1.000000  0.555556  2.642446e-02\n",
      "15  0.333333  0.222222  1.000000  0.000000  7.395776e-01\n",
      "16 -0.777778  0.111111 -1.000000  0.111111  6.919208e-01\n",
      "17  1.000000  0.777778  0.777778  0.333333  9.608451e-01\n",
      "18 -1.000000  0.555556 -0.111111  1.000000  4.297570e-04\n",
      "19  1.000000  0.222222  0.111111  0.666667  8.811075e-01\n",
      "20 -0.555556  0.111111  1.000000  0.000000  8.082910e-02\n"
     ]
    },
    {
     "data": {
      "image/png": "[encoded data removed]",
      "text/plain": [
       "<Figure size 640x480 with 1 Axes>"
      ]
     },
     "metadata": {},
     "output_type": "display_data"
    }
   ],
   "source": [
    "# lets plot the benchmark_MSE_log and the workign_MSE_log\n",
    "plt.plot(benchmark_MSE_log, label='benchmark_MSE_log')\n",
    "plt.plot(working_MSE_log, label='working_MSE_log')\n",
    "plt.xlabel('Sampled Data Points')\n",
    "plt.ylabel('MSE on Validation Set')\n",
    "plt.title('Single Discovery Simulation')\n",
    "plt.legend()\n",
    "\n",
    "# we can also investigate the final state more closely\n",
    "# for example, these are all the experimental data collected\n",
    "# under random sampling:\n",
    "print(benchmark_state.experiment_data)\n",
    "# and for your custom experimentalist\n",
    "print(working_state.experiment_data)"
   ]
  }
 ],
 "metadata": {
  "kernelspec": {
   "display_name": ".venv",
   "language": "python",
   "name": "python3"
  },
  "language_info": {
   "codemirror_mode": {
    "name": "ipython",
    "version": 3
   },
   "file_extension": ".py",
   "mimetype": "text/x-python",
   "name": "python",
   "nbconvert_exporter": "python",
   "pygments_lexer": "ipython3",
   "version": "3.11.3"
  }
 },
 "nbformat": 4,
 "nbformat_minor": 5
}
