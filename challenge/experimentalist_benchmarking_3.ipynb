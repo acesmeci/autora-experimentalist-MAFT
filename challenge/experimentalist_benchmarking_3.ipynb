{
  "cells": [
    {
      "cell_type": "markdown",
      "metadata": {
        "id": "wmZ1RNydtCA1"
      },
      "source": [
        "# Introduction\n",
        "\n",
        "In this benchmarking challenge, you will be tasked to create an [AutoRA experimentalist](https://autoresearch.github.io/autora/experimentalist/) that efficiently samples experiments in order to advance model discovery.\n",
        "\n",
        "You can use this notebook to benchmark your experimentalist. Here, we will simulate a discovery experiment in which three different theorists are at work after each data collection cycle. You get to try out your experimentalist for two different ground truth models.\n",
        "\n",
        "## Workflow\n",
        "\n",
        "Your goal is to optimize the data collection process in the following workflow:\n",
        "\n",
        "1. Sample 10 initial data points\n",
        "2. Fit all theorists to those data points.\n",
        "\n",
        "For 20 data points:\n",
        "3. Pick a single novel data point using your experimentalist method. Your method may or may not take into account any of the theorists' models.\n",
        "4. Add the data point to the experiment data.\n",
        "5. Fit all theorists to the experiment data\n",
        "6. Repeat steps 3-6 until 20 data points were collected\n",
        "\n",
        "This workflow can be repeated two ground-truth models.\n",
        "\n",
        "\n",
        "\n",
        "\n",
        "\n",
        "\n"
      ]
    },
    {
      "cell_type": "markdown",
      "metadata": {
        "id": "Cvka_h_k3KhR"
      },
      "source": [
        "## Benchmarking Challenge Rules\n",
        "\n",
        "- All contributing teams must publish a pip package of their experimentalist (we recommend using a pre-release) or have a working git repository that can be installed via ``!pip install git+https://github.com/musslick/autora-experimentalist-example``\n",
        "- The package name must be ``autora-experimentalist-yourexperimentalist``\n",
        "- The **experimentalist must have a sample function (see [this guide](https://autoresearch.github.io/autora/contribute/modules/experimentalist/))**, and it must be **compatible with the state logic** in this notebook.\n",
        "\n",
        "- Teams will be ranked based on the final fit to a ground-truth model. Observations will be sampled across the entire domain of the ground-truth model. The rank will be accumulated across all benchmarking challenges. The team with the best accumulated rank will win a prize at the end of the workshop.\n",
        "- The teams must provide a **brief presentation** (less than 5 minutes) of their experimentalist just before the final evaluation. You may use [this template for your slides](https://docs.google.com/presentation/d/1qCKqH9uXkQmGqDmROh1Jn4UcauALkMRhqlbAHubns2Q/edit?usp=sharing).\n",
        "\n",
        "*Hint: You may take some inspiration (or come up with a combination of) the [existing experimentalists](https://autoresearch.github.io/autora/experimentalist/).*"
      ]
    },
    {
      "cell_type": "markdown",
      "metadata": {
        "id": "h--sPj7T3Nqc"
      },
      "source": [
        "## Grading\n",
        "\n",
        "- Due date: **August 30**\n",
        "- Submission: Through ``Stud.IP -> Tasks -> Experiment Sampling Challenge``\n",
        "\n",
        "The grading is independent of the outcome of the benchmarking challenge.\n",
        "\n",
        "The following points will be provided:\n",
        "- A demonstration of the theorist in the ``doc/Basic Usage.ipynb``:\n",
        "  -  2 points: Demonstrating how to use the experimentalist for sampling\n",
        "  -  8 points: Demonstrating how the expeirmentalist compares to random sampling. This should be done by simulating closed-loop discovery process with a theorist of your choice (e.g., autora-theorist-bms) on at least two ground-truth models (*Hint: You could use the benchmarking part of the notebook below as a starting point*).\n",
        "- The documentation of the experimentalist in ``doc/index.md`` must speak to the following information:\n",
        "  - 2 points: the inputs: Which inputs is your experiment sampling method considering and why?\n",
        "  - 2 points: sampling method: which sampling method are you using and why?\n",
        "- 2 points: The code contains at least two useful unit tests for the experimentalist method (either doc tests or separate tests)\n",
        "- 1 point: the contributors used issues to track bugs and work on features.\n",
        "- 1 point: the contributors used (helpful) code reviews for their PRs.\n",
        "- 1 point: Unit tests are automatically executed when a pull request is created.\n",
        "- 1 point: The documentation is hosted automatically.\n",
        "\n",
        "Finally, teams must outline the contributions of each team member in their submission on ``Stud.IP -> Tasks -> Experiment Sampling Challenge``.\n",
        "\n",
        "In total, you can obtain 20 points."
      ]
    },
    {
      "cell_type": "markdown",
      "metadata": {
        "id": "J4ICn4w03PdN"
      },
      "source": [
        "## Additional Resources\n",
        "\n",
        "- You can learn more about how to write AutoRA experimentalists in the [Contributor Guide](https://autoresearch.github.io/autora/contribute/modules/experimentalist/).\n",
        "\n",
        "- You can learn more about how to use AutoRA in the [User Tutorial](https://autoresearch.github.io/autora/tutorials/).\n",
        "\n",
        "- If you want to learn more about AutoRA states, you can check out [this tutorial on using AutoRA states](https://colab.research.google.com/drive/1yK1OBRpPZM1NgTMV9arHlE5j8xXjsGqq?usp=sharing)."
      ]
    },
    {
      "cell_type": "markdown",
      "metadata": {
        "id": "zowXxLUR3s8I"
      },
      "source": [
        "# Code for Benchmarking your Experimentalist"
      ]
    },
    {
      "cell_type": "markdown",
      "metadata": {
        "id": "an-QPQhcljHa"
      },
      "source": [
        "## Installation\n",
        "\n",
        "*Hint: You may want to add ``autora`` as a development dependency in your ``pyproject.tml``.*"
      ]
    },
    {
      "cell_type": "code",
      "execution_count": 1,
      "metadata": {
        "id": "8nzJmQwQlkh_"
      },
      "outputs": [],
      "source": [
        "%%capture\n",
        "!pip install autora\n",
        "!pip install autora[all-theorists]\n",
        "!pip install autora[all-experimentalists]"
      ]
    },
    {
      "cell_type": "markdown",
      "metadata": {
        "id": "dLi8_Zt-l_oz"
      },
      "source": [
        "## Imports"
      ]
    },
    {
      "cell_type": "code",
      "execution_count": 2,
      "metadata": {
        "id": "Ty6AuO0iloHs"
      },
      "outputs": [],
      "source": [
        "# autora state\n",
        "from autora.state import State, StandardState, on_state, estimator_on_state, Delta, VariableCollection\n",
        "\n",
        "# experiment_runner\n",
        "from autora.experiment_runner.synthetic.psychology.luce_choice_ratio import luce_choice_ratio\n",
        "from autora.experiment_runner.synthetic.psychology.exp_learning import exp_learning\n",
        "from autora.experiment_runner.synthetic.economics.expected_value_theory import expected_value_theory\n",
        "from autora.experiment_runner.synthetic.psychophysics.weber_fechner_law import weber_fechner_law\n",
        "from autora.experiment_runner.synthetic.psychophysics.stevens_power_law import stevens_power_law #doesnt work\n",
        "from autora.experiment_runner.synthetic.economics.prospect_theory import prospect_theory\n",
        "from autora.experiment_runner.synthetic.neuroscience.task_switching import task_switching\n",
        "\n",
        "# experimentalist\n",
        "from autora.experimentalist.grid import grid_pool\n",
        "from autora.experimentalist.random import random_pool, random_sample\n",
        "from autora.experimentalist.falsification import falsification_sample\n",
        "from autora.experimentalist.model_disagreement import model_disagreement_sample\n",
        "from autora.experimentalist.uncertainty import uncertainty_sample\n",
        "\n",
        "# theorist\n",
        "from autora.theorist.bms import BMSRegressor\n",
        "\n",
        "# sklearn\n",
        "from sklearn.base import BaseEstimator\n",
        "from sklearn.model_selection import train_test_split\n",
        "from sklearn import linear_model\n",
        "\n",
        "# general\n",
        "import numpy as np\n",
        "import pandas as pd\n",
        "import matplotlib.pyplot as plt\n",
        "from dataclasses import dataclass, field\n",
        "from typing import Optional, List\n"
      ]
    },
    {
      "cell_type": "markdown",
      "metadata": {
        "id": "VexBfX_UDjeZ"
      },
      "source": [
        "## AutoRA Components & State Wrappers\n",
        "\n",
        "First, we will need some theorists. Here, we will use three theorists simultaneously:\n",
        "- the Bayesian Machine Scientist\n",
        "- a polynomial theorist (from the Equation Discovery Challenge)\n",
        "- a linear regression theorist."
      ]
    },
    {
      "cell_type": "markdown",
      "metadata": {
        "id": "xKnfmcqMDmU5"
      },
      "source": [
        "### Polynomial Theorist\n",
        "\n",
        "Below, we will use a polynomial theorist for our discovery simulation. We saw that it did quite well in the equation discovery challenge, so why not give it a try."
      ]
    },
    {
      "cell_type": "code",
      "execution_count": 3,
      "metadata": {
        "id": "L3el1qBjD2K4"
      },
      "outputs": [],
      "source": [
        "from sklearn.preprocessing import PolynomialFeatures\n",
        "from sklearn.linear_model import LinearRegression\n",
        "\n",
        "class PolynomialRegressor:\n",
        "    \"\"\"\n",
        "    This theorist fits a polynomial function to the data.\n",
        "    \"\"\"\n",
        "\n",
        "    def __init__(self, degree: int = 3):\n",
        "      self.poly = PolynomialFeatures(degree=degree, include_bias=False)\n",
        "      self.model = LinearRegression()\n",
        "\n",
        "    def fit(self, x, y):\n",
        "      features = self.poly.fit_transform(x, y)\n",
        "      self.model.fit(features, y)\n",
        "      return self\n",
        "\n",
        "    def predict(self, x):\n",
        "      features = self.poly.fit_transform(x)\n",
        "      return self.model.predict(features)\n",
        "\n",
        "    def print_eqn(self):\n",
        "        # Extract the coefficients and intercept\n",
        "        coeffs = self.model.coef_\n",
        "        intercept = self.model.intercept_\n",
        "\n",
        "        # Handle multi-output case by iterating over each output's coefficients and intercept\n",
        "        if coeffs.ndim > 1:\n",
        "            for idx in range(coeffs.shape[0]):\n",
        "                equation = f\"y{idx+1} = {intercept[idx]:.3f}\"\n",
        "                feature_names = self.poly.get_feature_names_out()\n",
        "                for coef, feature in zip(coeffs[idx], feature_names):\n",
        "                    equation += f\" + ({coef:.3f}) * {feature}\"\n",
        "                print(equation)\n",
        "        else:\n",
        "            equation = f\"y = {intercept:.3f}\"\n",
        "            feature_names = self.poly.get_feature_names_out()\n",
        "            for coef, feature in zip(coeffs, feature_names):\n",
        "                equation += f\" + ({coef:.3f}) * {feature}\"\n",
        "            print(equation)\n",
        "\n"
      ]
    },
    {
      "cell_type": "markdown",
      "metadata": {
        "id": "s6lhZO-SI8LF"
      },
      "source": [
        "## AutoRA State\n",
        "\n",
        "Next, we define our AutoRA state which acts as modifiable \"bucket\" for all the data we are going to collect during the discovery cycle. Here, we will implement a more complicated AutoRA experiment in which we have simutlaneously fit 3 models (from 3 different theorists) and we want to keep track of all of them."
      ]
    },
    {
      "cell_type": "code",
      "execution_count": 4,
      "metadata": {
        "id": "rUlJzPVbJRg_"
      },
      "outputs": [],
      "source": [
        "# SET UP STATE\n",
        "# Here, we use a non-standard State to be able to use a multiple models\n",
        "@dataclass(frozen=True)\n",
        "class CustomState(State):\n",
        "    variables: Optional[VariableCollection] = field(\n",
        "        default=None, metadata={\"delta\": \"replace\"}\n",
        "    )\n",
        "    conditions: Optional[pd.DataFrame] = field(\n",
        "        default=None, metadata={\"delta\": \"replace\", \"converter\": pd.DataFrame}\n",
        "    )\n",
        "    experiment_data: Optional[pd.DataFrame] = field(\n",
        "        default=None, metadata={\"delta\": \"extend\", \"converter\": pd.DataFrame}\n",
        "    )\n",
        "    models_bms: List[BaseEstimator] = field(\n",
        "        default_factory=list,\n",
        "        metadata={\"delta\": \"extend\"},\n",
        "    )\n",
        "    models_lr: List[BaseEstimator] = field(\n",
        "        default_factory=list,\n",
        "        metadata={\"delta\": \"extend\"},\n",
        "    )\n",
        "    models_polyr: List[BaseEstimator] = field(\n",
        "        default_factory=list,\n",
        "        metadata={\"delta\": \"extend\"},\n",
        "    )\n",
        "    reference_conditions: Optional[pd.DataFrame] = field(\n",
        "       default=None, metadata={\"delta\": \"replace\", \"converter\": pd.DataFrame} ## why are we using \"replace\" but not \"extend\"?\n",
        "    )\n"
      ]
    },
    {
      "cell_type": "markdown",
      "metadata": {
        "id": "Hl65zUC-I2vX"
      },
      "source": [
        "## AutoRA State Wrappers\n",
        "\n",
        "Next, we need to define a bunch of wrappers. These wrappers will make it easy to operate on the state. They specify which things are being pulled from the state and which things are being stored."
      ]
    },
    {
      "cell_type": "markdown",
      "metadata": {
        "id": "_ahabyf9J5RF"
      },
      "source": [
        "### Theorist Wrapper"
      ]
    },
    {
      "cell_type": "code",
      "execution_count": 5,
      "metadata": {
        "id": "07NSganHJ7Pf"
      },
      "outputs": [],
      "source": [
        "# state wrapper for all theorists\n",
        "@on_state()\n",
        "def theorists_on_state(experiment_data, variables, bms_epochs):\n",
        "\n",
        "  # extract conditions X and observations y from experiment data\n",
        "  ivs = [iv.name for iv in variables.independent_variables]\n",
        "  dvs = [dv.name for dv in variables.dependent_variables]\n",
        "  X = experiment_data[ivs]\n",
        "  y = experiment_data[dvs]\n",
        "\n",
        "  # initialize and fit theorists\n",
        "  theorist_bms = BMSRegressor(epochs=bms_epochs)\n",
        "  theorist_polyr = PolynomialRegressor()\n",
        "  theorist_lr = linear_model.LinearRegression()\n",
        "\n",
        "  return Delta(models_bms = [theorist_bms.fit(X, y)],\n",
        "               models_lr=[theorist_lr.fit(X, y)],\n",
        "               models_polyr=[theorist_polyr.fit(X, y)])"
      ]
    },
    {
      "cell_type": "markdown",
      "metadata": {
        "id": "7n4buGk3LEmB"
      },
      "source": [
        "### Experimentalist Wrappers"
      ]
    },
    {
      "cell_type": "markdown",
      "metadata": {},
      "source": [
        "**To-do:**\n",
        "1. Try different distance metrics: Mahalanobis, whiten(?), cosine\n",
        "2. Play around with the dynamic epsilon. I feel like there is something wrong with the denominator.\n"
      ]
    },
    {
      "cell_type": "code",
      "execution_count": 7,
      "metadata": {},
      "outputs": [],
      "source": [
        "# Latest version\n",
        "# Cleaned up novelty + epsilon random sampler. Fixed the issue of always choosing random_sampler.\n",
        "import numpy as np\n",
        "import pandas as pd\n",
        "from typing import Union\n",
        "\n",
        "def sample(\n",
        "    conditions: Union[pd.DataFrame, np.ndarray],          # already tested points\n",
        "    reference_conditions: Union[pd.DataFrame, np.ndarray],# full grid\n",
        "    num_samples: int = 1,\n",
        "    epsilon: float = 0.3,\n",
        "    random_state: int | None = None\n",
        ") -> pd.DataFrame:\n",
        "    \"\"\"\n",
        "    Grid + novelty experimentalist with scaling and greedy max–min diversity.\n",
        "    Returns exactly `num_samples` rows from the full grid that have not been tested.\n",
        "    \"\"\"\n",
        "    # 0) guards\n",
        "    reference_conditions = pd.DataFrame(reference_conditions).copy()\n",
        "    conditions = pd.DataFrame(conditions).copy()\n",
        "\n",
        "    # seeded RNG for reproducibility\n",
        "    rng = np.random.default_rng(random_state)\n",
        "\n",
        "    # 1) filter out already-tested\n",
        "    if conditions is None or conditions.empty:\n",
        "        candidates = reference_conditions.copy()\n",
        "    else:\n",
        "        mask = ~reference_conditions.apply(tuple, axis=1).isin(\n",
        "            conditions.apply(tuple, axis=1)\n",
        "        )\n",
        "        candidates = reference_conditions.loc[mask]\n",
        "\n",
        "    if candidates.empty:\n",
        "        return pd.DataFrame(columns=reference_conditions.columns).reset_index(drop=True)\n",
        "\n",
        "    if len(candidates) <= num_samples:\n",
        "        return candidates.reset_index(drop=True)\n",
        "\n",
        "    # 2) cold start: no tested points → sample at random\n",
        "    if conditions is None or conditions.empty:\n",
        "        return candidates.sample(n=num_samples, random_state=random_state).reset_index(drop=True)\n",
        "\n",
        "    # 3) scale to [0,1] using grid stats\n",
        "    rc = reference_conditions.astype(float)\n",
        "    rc_min = rc.min()\n",
        "    rc_rng = (rc.max() - rc_min).replace(0, 1.0)\n",
        "\n",
        "    tested_scaled = (conditions.astype(float) - rc_min) / rc_rng\n",
        "    cands_scaled  = (candidates.astype(float) - rc_min) / rc_rng\n",
        "\n",
        "    tested_arr = tested_scaled.to_numpy()\n",
        "    cand_arr   = cands_scaled.to_numpy()\n",
        "\n",
        "    def min_dist_to_set(X, S): # Try Mahalanobis and whiten to check improvement\n",
        "        if len(S) == 0:\n",
        "            return np.full(len(X), np.inf)\n",
        "        # Euclidean NN distance for each row in X to S\n",
        "        return np.min(np.linalg.norm(X[:, None, :] - S[None, :, :], axis=2), axis=1)\n",
        "\n",
        "    novelty_scores = min_dist_to_set(cand_arr, tested_arr)\n",
        "\n",
        "    # 4) epsilon-greedy branch\n",
        "    if rng.random() < epsilon:\n",
        "        chosen = candidates.sample(n=num_samples, random_state=random_state)\n",
        "        return chosen.reset_index(drop=True)\n",
        "\n",
        "    # 5) greedy max–min batch for diversity (exploit)\n",
        "    chosen_idx = [int(np.argmax(novelty_scores))]\n",
        "    union = np.vstack([tested_arr, cand_arr[chosen_idx[0]][None, :]])\n",
        "    while len(chosen_idx) < num_samples:\n",
        "        d_to_union = min_dist_to_set(cand_arr, union)\n",
        "        d_to_union[chosen_idx] = -np.inf  # prevent reselection\n",
        "        nxt = int(np.argmax(d_to_union))\n",
        "        chosen_idx.append(nxt)\n",
        "        union = np.vstack([union, cand_arr[nxt][None, :]])\n",
        "\n",
        "    chosen = candidates.iloc[chosen_idx].reset_index(drop=True)\n",
        "    return chosen\n"
      ]
    },
    {
      "cell_type": "code",
      "execution_count": 27,
      "metadata": {},
      "outputs": [],
      "source": [
        "# Random-Subset-Novelty (RSN)\n",
        "# Exploit = run greedy max-min novelty inside a small random window\n",
        "\n",
        "# Updated samplers\n",
        "# - Random-Subset Novelty (RSN)\n",
        "# - Stratified (under-covered bins) + RSN\n",
        "#\n",
        "# Usage: pick one at the bottom via:  sample = sample_rsn   or   sample = sample_stratified_rsn\n",
        "\n",
        "import numpy as np\n",
        "import pandas as pd\n",
        "from typing import Union, Optional, Sequence\n",
        "\n",
        "\n",
        "# ---------- helpers ----------\n",
        "\n",
        "def _anti_join(pool: pd.DataFrame, tested: Optional[pd.DataFrame]) -> pd.DataFrame:\n",
        "    \"\"\"Remove rows already in `tested` from `pool` (schema must match).\"\"\"\n",
        "    if tested is None or tested.empty:\n",
        "        return pool.copy()\n",
        "    mask = ~pool.apply(tuple, axis=1).isin(tested.apply(tuple, axis=1))\n",
        "    return pool.loc[mask]\n",
        "\n",
        "\n",
        "def _grid_scalers(df: pd.DataFrame) -> tuple[pd.Series, pd.Series, pd.Index]:\n",
        "    \"\"\"Return (min, range, numeric_cols) computed on the (full) grid.\"\"\"\n",
        "    num_cols = df.select_dtypes(include=[np.number]).columns\n",
        "    rc = df[num_cols].astype(float)\n",
        "    rc_min = rc.min()\n",
        "    rc_rng = (rc.max() - rc_min).replace(0, 1.0)\n",
        "    return rc_min, rc_rng, num_cols\n",
        "\n",
        "\n",
        "def _scale(df: pd.DataFrame, rc_min: pd.Series, rc_rng: pd.Series, cols: Sequence[str]) -> np.ndarray:\n",
        "    \"\"\"Scale selected numeric cols of df to [0,1] using grid stats.\"\"\"\n",
        "    return ((df[cols].astype(float) - rc_min) / rc_rng).to_numpy()\n",
        "\n",
        "\n",
        "def _greedy_maxmin_subset(\n",
        "    subset_df: pd.DataFrame,      # candidates subset (rows to choose from)\n",
        "    tested_arr: np.ndarray,       # scaled tested array (n_tested, d)\n",
        "    rc_min: pd.Series, rc_rng: pd.Series, cols: Sequence[str],\n",
        "    k: int,\n",
        "    rng: np.random.Generator\n",
        ") -> pd.DataFrame:\n",
        "    \"\"\"\n",
        "    Greedy farthest-first (k-center) selection on `subset_df` against `tested_arr`,\n",
        "    returning `k` rows from `subset_df`. Incremental O(kN).\n",
        "    \"\"\"\n",
        "    sub_arr = _scale(subset_df, rc_min, rc_rng, cols)\n",
        "\n",
        "    # current min distance to union (starts with tested only)\n",
        "    if tested_arr.size == 0:\n",
        "        best_d = np.full(len(sub_arr), np.inf)\n",
        "    else:\n",
        "        best_d = np.linalg.norm(sub_arr[:, None, :] - tested_arr[None, :, :], axis=2).min(axis=1)\n",
        "\n",
        "    # tiny jitter for deterministic tie-breaking\n",
        "    if np.any(np.isfinite(best_d)):\n",
        "        best_d = best_d + 1e-12 * rng.standard_normal(best_d.shape)\n",
        "\n",
        "    chosen: list[int] = []\n",
        "    k = min(k, len(sub_arr))\n",
        "    for _ in range(k):\n",
        "        i = int(np.argmax(best_d))\n",
        "        chosen.append(i)\n",
        "        # update distances with just the newly added point\n",
        "        d_new = np.linalg.norm(sub_arr - sub_arr[i], axis=1)\n",
        "        best_d = np.minimum(best_d, d_new)\n",
        "        best_d[chosen] = -np.inf\n",
        "\n",
        "    return subset_df.iloc[chosen].reset_index(drop=True)\n",
        "\n",
        "\n",
        "def _bin_keys(df: pd.DataFrame, cols: Sequence[str], bins: int = 10) -> pd.Series:\n",
        "    \"\"\"Create a coarse grid key per row by binning numeric cols.\"\"\"\n",
        "    if len(cols) == 0 or df.empty:\n",
        "        return pd.Series([\"_all\"] * len(df), index=df.index)\n",
        "    binned = [pd.cut(df[c], bins=bins, labels=False, include_lowest=True, duplicates=\"drop\") for c in cols]\n",
        "    key = pd.concat(binned, axis=1).astype(\"Int64\").astype(str).agg(\"-\".join, axis=1)\n",
        "    return key\n",
        "\n",
        "\n",
        "def _under_coverage_weights(candidates: pd.DataFrame, tested: pd.DataFrame, cols: Sequence[str], bins: int = 10) -> np.ndarray:\n",
        "    \"\"\"Weights ∝ 1/(tested_count_in_bin + 1) to favor under-sampled regions.\"\"\"\n",
        "    cand_key = _bin_keys(candidates, cols, bins=bins)\n",
        "    if tested is None or tested.empty:\n",
        "        weights = np.ones(len(candidates), dtype=float)\n",
        "        return (weights / weights.sum())\n",
        "    tested_key = _bin_keys(tested, cols, bins=bins)\n",
        "    counts = tested_key.value_counts()\n",
        "    weights = 1.0 / (counts.reindex(cand_key).fillna(0.0).to_numpy() + 1.0)\n",
        "    s = weights.sum()\n",
        "    return (weights / s) if s > 0 else np.full_like(weights, 1.0 / len(weights))\n",
        "\n",
        "\n",
        "# ---------- 2) Random-Subset Novelty (RSN) ----------\n",
        "\n",
        "def sample_rsn(\n",
        "    conditions: Union[pd.DataFrame, np.ndarray],          # tested so far\n",
        "    reference_conditions: Union[pd.DataFrame, np.ndarray],# full grid / pool\n",
        "    num_samples: int = 1,\n",
        "    epsilon: float = 0.3,\n",
        "    subset_factor: int = 5,       # subset size ≈ subset_factor * num_samples\n",
        "    subset_cap: int = 200,        # hard cap on subset size\n",
        "    random_state: Optional[int] = None,\n",
        ") -> pd.DataFrame:\n",
        "    \"\"\"\n",
        "    ε-random; otherwise run greedy max–min novelty **inside a random subset** of the pool.\n",
        "    Keeps representativeness while still exploiting novelty.\n",
        "    \"\"\"\n",
        "    # normalize inputs\n",
        "    reference_conditions = pd.DataFrame(reference_conditions).copy()\n",
        "    conditions = pd.DataFrame(conditions).copy()\n",
        "    rng = np.random.default_rng(random_state)\n",
        "\n",
        "    # build candidate pool (exclude tested)\n",
        "    candidates = _anti_join(reference_conditions, conditions)\n",
        "    if candidates.empty:\n",
        "        return pd.DataFrame(columns=reference_conditions.columns).reset_index(drop=True)\n",
        "    if len(candidates) <= num_samples:\n",
        "        return candidates.reset_index(drop=True)\n",
        "\n",
        "    # cold start → random\n",
        "    if conditions.empty:\n",
        "        return candidates.sample(n=num_samples, random_state=random_state).reset_index(drop=True)\n",
        "\n",
        "    # grid scalers + arrays\n",
        "    rc_min, rc_rng, num_cols = _grid_scalers(reference_conditions)\n",
        "    tested_arr = _scale(conditions, rc_min, rc_rng, num_cols)\n",
        "\n",
        "    # ε-explore\n",
        "    if rng.random() < epsilon:\n",
        "        return candidates.sample(n=num_samples, random_state=random_state).reset_index(drop=True)\n",
        "\n",
        "    # exploit within random subset\n",
        "    m = min(max(num_samples, subset_factor * num_samples), subset_cap, len(candidates))\n",
        "    sub = candidates.sample(n=m, random_state=random_state, replace=False)\n",
        "\n",
        "    return _greedy_maxmin_subset(\n",
        "        subset_df=sub,\n",
        "        tested_arr=tested_arr,\n",
        "        rc_min=rc_min, rc_rng=rc_rng, cols=num_cols,\n",
        "        k=num_samples,\n",
        "        rng=rng,\n",
        "    )\n",
        "\n",
        "\n",
        "# ---------- 3) Stratified (under-covered) + RSN ----------\n",
        "\n",
        "def sample_stratified_rsn(\n",
        "    conditions: Union[pd.DataFrame, np.ndarray],          # tested so far\n",
        "    reference_conditions: Union[pd.DataFrame, np.ndarray],# full grid / pool\n",
        "    num_samples: int = 1,\n",
        "    epsilon: float = 0.4,          # slightly higher explore rate\n",
        "    bins: int = 10,                # stratification granularity\n",
        "    subset_factor: int = 4,        # subset size ≈ subset_factor * num_samples\n",
        "    subset_cap: int = 200,\n",
        "    random_state: Optional[int] = None,\n",
        ") -> pd.DataFrame:\n",
        "    \"\"\"\n",
        "    Exploration: weighted random toward **under-covered bins** (1/(count+1)).\n",
        "    Exploitation: draw a **weighted subset** by those weights, then run RSN within it.\n",
        "    \"\"\"\n",
        "    # normalize inputs\n",
        "    reference_conditions = pd.DataFrame(reference_conditions).copy()\n",
        "    conditions = pd.DataFrame(conditions).copy()\n",
        "    rng = np.random.default_rng(random_state)\n",
        "\n",
        "    # build candidate pool (exclude tested)\n",
        "    candidates = _anti_join(reference_conditions, conditions)\n",
        "    if candidates.empty:\n",
        "        return pd.DataFrame(columns=reference_conditions.columns).reset_index(drop=True)\n",
        "    if len(candidates) <= num_samples:\n",
        "        return candidates.reset_index(drop=True)\n",
        "\n",
        "    # scalers + weights\n",
        "    rc_min, rc_rng, num_cols = _grid_scalers(reference_conditions)\n",
        "    tested_arr = _scale(conditions, rc_min, rc_rng, num_cols)\n",
        "    weights = _under_coverage_weights(candidates, conditions, num_cols, bins=bins)\n",
        "    w_series = pd.Series(weights, index=candidates.index)\n",
        "\n",
        "    # cold start → weighted random\n",
        "    if conditions.empty:\n",
        "        return candidates.sample(n=num_samples, weights=w_series, random_state=random_state, replace=False).reset_index(drop=True)\n",
        "\n",
        "    # ε-explore (weighted)\n",
        "    if rng.random() < epsilon:\n",
        "        return candidates.sample(n=num_samples, weights=w_series, random_state=random_state, replace=False).reset_index(drop=True)\n",
        "\n",
        "    # exploit within a weighted subset, then greedy max–min\n",
        "    m = min(max(num_samples, subset_factor * num_samples), subset_cap, len(candidates))\n",
        "    sub = candidates.sample(n=m, weights=w_series, random_state=random_state, replace=False)\n",
        "\n",
        "    return _greedy_maxmin_subset(\n",
        "        subset_df=sub,\n",
        "        tested_arr=tested_arr,\n",
        "        rc_min=rc_min, rc_rng=rc_rng, cols=num_cols,\n",
        "        k=num_samples,\n",
        "        rng=rng,\n",
        "    )\n",
        "\n",
        "\n",
        "# ---------- pick one strategy for your pipeline ----------\n",
        "# Default to RSN; switch to stratified by changing the alias.\n",
        "#sample = sample_rsn\n",
        "sample = sample_stratified_rsn\n"
      ]
    },
    {
      "cell_type": "code",
      "execution_count": 7,
      "metadata": {
        "id": "_uw7z74IJtGx"
      },
      "outputs": [],
      "source": [
        "# state wrapper for grid pooler experimentalist (generates a grid of experiment conditions)\n",
        "@on_state()\n",
        "def grid_pool_on_state(variables):\n",
        "  return Delta(conditions=grid_pool(variables))\n",
        "\n",
        "# state wrapper for random pooler experimentalist (generates a pool of experiment conditions)\n",
        "@on_state()\n",
        "def random_pool_on_state(variables, num_samples, random_state=None):\n",
        "  return Delta(conditions=random_pool(variables, num_samples, random_state))\n",
        "\n",
        "# state wrapper for random experimentalist (samples experiment conditions from a set of conditions)\n",
        "@on_state()\n",
        "def random_sample_on_state(conditions, all_conditions, num_samples, random_state=None):\n",
        "  return Delta(conditions=random_sample(all_conditions, num_samples, random_state))\n",
        "\n",
        "# **** STATE WRAPPER FOR YOUR EXPERIMENTALIST ***\n",
        "@on_state()\n",
        "def custom_sample_on_state(#experiment_data,\n",
        "                           conditions,\n",
        "                           reference_conditions,\n",
        "                           models_bms,models_lr,models_polyr,\n",
        "                           all_conditions, #not necessarily needed\n",
        "                           num_samples=1,\n",
        "                           step = 0,\n",
        "                           max_steps = 0, ##Choose this wisely\n",
        "                           random_state=None):\n",
        "\n",
        "  # fixed epsilon works well with the improved sampler (scaling + greedy max–min)\n",
        "  #epsilon = 0.3 ### Ahmet: Can play around with this too, this is fixed\n",
        "  denom = max(1, max_steps)\n",
        "  epsilon = max(0.05, 0.3 * (1 - step / denom))  # (kept for reference) ## This is the annealing thing I added for now\n",
        "\n",
        "  new_conditions = sample(\n",
        "      conditions=conditions,\n",
        "      reference_conditions=reference_conditions,\n",
        "      num_samples=num_samples,\n",
        "      epsilon=epsilon,\n",
        "      random_state=random_state\n",
        "  )\n",
        "\n",
        "  return Delta(conditions=new_conditions)\n"
      ]
    },
    {
      "cell_type": "code",
      "execution_count": null,
      "metadata": {},
      "outputs": [],
      "source": [
        "# state wrapper for grid pooler experimentalist (generates a grid of experiment conditions)\n",
        "@on_state()\n",
        "def grid_pool_on_state(variables):\n",
        "  return Delta(conditions=grid_pool(variables))\n",
        "\n",
        "# state wrapper for random pooler experimentalist (generates a pool of experiment conditions)\n",
        "@on_state()\n",
        "def random_pool_on_state(variables, num_samples, random_state=None):\n",
        "  return Delta(conditions=random_pool(variables, num_samples, random_state))\n",
        "\n",
        "# state wrapper for random experimentalist (samples experiment conditions from a set of conditions)\n",
        "@on_state()\n",
        "def random_sample_on_state(conditions, all_conditions, num_samples, random_state=None):\n",
        "  return Delta(conditions=random_sample(all_conditions, num_samples, random_state))\n",
        "\n",
        "# --- choose which sampler to import/alias above this cell ---\n",
        "# from your_sampler_cell import sample_rsn, sample_stratified_rsn\n",
        "\n",
        "# ============ RSN variant ============\n",
        "@on_state()\n",
        "def custom_sample_on_state_RSN(\n",
        "    conditions,\n",
        "    reference_conditions,\n",
        "    models_bms, models_lr, models_polyr,   # unused but kept for compatibility\n",
        "    all_conditions,                         # unused\n",
        "    num_samples: int = 1,\n",
        "    step: int = 0,\n",
        "    max_steps: int = 0,\n",
        "    random_state=None,\n",
        "    variables=None,                         # optional: to enforce IV columns\n",
        "):\n",
        "    # --- derive tested/pool and keep only IVs if variables are provided ---\n",
        "    tested = pd.DataFrame(conditions).copy() if conditions is not None else pd.DataFrame()\n",
        "    pool   = pd.DataFrame(reference_conditions).copy()\n",
        "    if variables is not None:\n",
        "        ivs = [iv.name for iv in variables.independent_variables]\n",
        "        if not tested.empty:\n",
        "            tested = tested[ivs]\n",
        "        pool = pool[ivs]\n",
        "\n",
        "    # --- epsilon schedule: strong exploration esp. when k=1 ---\n",
        "    denom   = max(1, max_steps)\n",
        "    epsilon = max(0.2, 0.4 + 0.2 * (step / denom))  # base 0.4 → up to 0.6\n",
        "    if num_samples == 1:\n",
        "        epsilon = max(epsilon, 0.6)\n",
        "\n",
        "    new_conditions = sample_rsn(\n",
        "        conditions=tested,\n",
        "        reference_conditions=pool,\n",
        "        num_samples=num_samples,\n",
        "        epsilon=epsilon,\n",
        "        subset_factor=5,\n",
        "        subset_cap=200,\n",
        "        random_state=random_state,\n",
        "    )\n",
        "    return Delta(conditions=new_conditions)\n",
        "\n",
        "\n",
        "# ============ Stratified + RSN variant ============\n",
        "@on_state()\n",
        "def custom_sample_on_state(\n",
        "    conditions,\n",
        "    reference_conditions,\n",
        "    models_bms, models_lr, models_polyr,   # unused but kept for compatibility\n",
        "    all_conditions,                         # unused\n",
        "    num_samples: int = 1,\n",
        "    step: int = 0,\n",
        "    max_steps: int = 0,\n",
        "    random_state=None,\n",
        "    variables=None,                         # optional: to enforce IV columns\n",
        "):\n",
        "    # --- derive tested/pool and keep only IVs if variables are provided ---\n",
        "    tested = pd.DataFrame(conditions).copy() if conditions is not None else pd.DataFrame()\n",
        "    pool   = pd.DataFrame(reference_conditions).copy()\n",
        "    if variables is not None:\n",
        "        ivs = [iv.name for iv in variables.independent_variables]\n",
        "        if not tested.empty:\n",
        "            tested = tested[ivs]\n",
        "        pool = pool[ivs]\n",
        "\n",
        "    # --- epsilon schedule: slightly higher base explore for stratified ---\n",
        "    denom   = max(1, max_steps)\n",
        "    epsilon = max(0.3, 0.5 + 0.2 * (step / denom))  # base 0.5 → up to 0.7\n",
        "    if num_samples == 1:\n",
        "        epsilon = max(epsilon, 0.65)\n",
        "\n",
        "    new_conditions = sample_stratified_rsn(\n",
        "        conditions=tested,\n",
        "        reference_conditions=pool,\n",
        "        num_samples=num_samples,\n",
        "        epsilon=epsilon,\n",
        "        bins=10,\n",
        "        subset_factor=4,\n",
        "        subset_cap=200,\n",
        "        random_state=random_state,\n",
        "    )\n",
        "    return Delta(conditions=new_conditions)\n"
      ]
    },
    {
      "cell_type": "code",
      "execution_count": null,
      "metadata": {},
      "outputs": [],
      "source": [
        "from autora.experimentalist.autora_experimentalist_challenge_MAFT import sample"
      ]
    },
    {
      "cell_type": "code",
      "execution_count": null,
      "metadata": {
        "colab": {
          "base_uri": "https://localhost:8080/"
        },
        "id": "pqkQ6YvZMfua",
        "outputId": "e350228f-aab2-472a-b05d-503a636d6bc8"
      },
      "outputs": [
        {
          "name": "stdout",
          "output_type": "stream",
          "text": [
            "VariableCollection(independent_variables=[IV(name='V_A', value_range=(-1, 1), allowed_values=array([-1.        , -0.77777778, -0.55555556, -0.33333333, -0.11111111,\n",
            "        0.11111111,  0.33333333,  0.55555556,  0.77777778,  1.        ]), units='dollar', type=<ValueType.REAL: 'real'>, variable_label='Value of Option A', rescale=1, is_covariate=False), IV(name='P_A', value_range=(0, 1), allowed_values=array([0.        , 0.11111111, 0.22222222, 0.33333333, 0.44444444,\n",
            "       0.55555556, 0.66666667, 0.77777778, 0.88888889, 1.        ]), units='probability', type=<ValueType.REAL: 'real'>, variable_label='Probability of Option A', rescale=1, is_covariate=False), IV(name='V_B', value_range=(-1, 1), allowed_values=array([-1.        , -0.77777778, -0.55555556, -0.33333333, -0.11111111,\n",
            "        0.11111111,  0.33333333,  0.55555556,  0.77777778,  1.        ]), units='dollar', type=<ValueType.REAL: 'real'>, variable_label='Value of Option B', rescale=1, is_covariate=False), IV(name='P_B', value_range=(0, 1), allowed_values=array([0.        , 0.11111111, 0.22222222, 0.33333333, 0.44444444,\n",
            "       0.55555556, 0.66666667, 0.77777778, 0.88888889, 1.        ]), units='probability', type=<ValueType.REAL: 'real'>, variable_label='Probability of Option B', rescale=1, is_covariate=False)], dependent_variables=[DV(name='choose_A', value_range=(0, 1), allowed_values=None, units='probability', type=<ValueType.PROBABILITY: 'probability'>, variable_label='Probability of Choosing Option A', rescale=1, is_covariate=False)], covariates=[])\n"
          ]
        }
      ],
      "source": [
        "#experiment_runner = exp_learning()\n",
        "experiment_runner = weber_fechner_law()\n",
        "#experiment_runner = luce_choice_ratio()\n",
        "#experiment_runner = expected_value_theory()\n",
        "#experiment_runner = stevens_power_law\n",
        "\n",
        "print(experiment_runner.variables)"
      ]
    },
    {
      "cell_type": "markdown",
      "metadata": {
        "id": "9DyqbEH2LB-i"
      },
      "source": [
        "### Experiment Runner Wrapper"
      ]
    },
    {
      "cell_type": "code",
      "execution_count": 25,
      "metadata": {
        "id": "fyUlh7vBJQwk"
      },
      "outputs": [],
      "source": [
        "# state wrapper for synthetic experiment runner\n",
        "@on_state()\n",
        "def run_experiment_on_state(conditions, experiment_runner):\n",
        "  data = experiment_runner.run(conditions=conditions, added_noise=0.0)\n",
        "  return Delta(experiment_data=data)"
      ]
    },
    {
      "cell_type": "markdown",
      "metadata": {
        "id": "pwlTublQiWMp"
      },
      "source": [
        "## Simulation Functions\n",
        "\n",
        "First, we will need a function that we can use to evaluate the goodness of our theorists. We will use the one below (no need to parse it)."
      ]
    },
    {
      "cell_type": "code",
      "execution_count": 26,
      "metadata": {
        "id": "uHuIbsSbN0Ng"
      },
      "outputs": [],
      "source": [
        "# the following function is used to compute the model performance\n",
        "# on the validation set in terms of mean squared error\n",
        "def get_validation_MSE(validation_experiment_data, working_state):\n",
        "    ivs = [iv.name for iv in validation_experiment_data.variables.independent_variables]\n",
        "    dvs = [dv.name for dv in validation_experiment_data.variables.dependent_variables]\n",
        "    X = validation_experiment_data.experiment_data[ivs]\n",
        "    y = validation_experiment_data.experiment_data[dvs]\n",
        "\n",
        "    y_pred_bms = working_state.models_bms[-1].predict(X)\n",
        "    y_pred_lr = working_state.models_lr[-1].predict(X)\n",
        "    y_pred_polyr = working_state.models_polyr[-1].predict(X)\n",
        "\n",
        "    MSE_bms = ((y - y_pred_bms)**2).mean()[0]\n",
        "    MSE_lr = ((y - y_pred_lr)**2).mean()[0]\n",
        "    MSE_polyr = ((y - y_pred_polyr)**2).mean()[0]\n",
        "\n",
        "    min_MSE = min(MSE_bms, MSE_lr, MSE_polyr)\n",
        "\n",
        "    return min_MSE"
      ]
    },
    {
      "cell_type": "markdown",
      "metadata": {
        "id": "k8mSIAfmN9Rr"
      },
      "source": [
        "We will use the following function for benchmarking our model for any given experiment runner. Have a closer look at the script below.\n",
        "\n",
        "It uses four different AutoRA states:\n",
        "- ``validation_conditions`` and ``validation_experiment_data``: These states contains our validation sets, sampled across the entire domain of the ground truth. It is used for tracking the validation MSE of all theorists.\n",
        "\n",
        "- ``initial_state``: This state is used to initialize the discovery process. Both the random experimentalist (operating on the ``benchmark_state``) and your custom experimentalist (operating on the ``working_state`` will use the same initial state.)\n",
        "\n",
        "- ``benchmark_state``: This state is used for a discovery process with random sampling.\n",
        "\n",
        "- ``working_state``: This state is used for a discovery process with your custom experimentalist."
      ]
    },
    {
      "cell_type": "code",
      "execution_count": 12,
      "metadata": {
        "id": "-2n53aEYLhEF"
      },
      "outputs": [],
      "source": [
        "def run_simulation(num_cycles, num_conditions_per_cycle, num_initial_conditions, bms_epochs, experiment_runner, sim=0):\n",
        "\n",
        "  # VALIDATION STATE\n",
        "  # at every step of our discovery process, we will evaluate the performance\n",
        "  # of the theorist against the ground truth. Here, we will define the ground\n",
        "  # truth as a grid of data points sampled across the domain of the experimental\n",
        "  # design space. We will store this validation set in a separate validation states\n",
        "\n",
        "  # create AutoRA state for validation purposes\n",
        "  validation_conditions = CustomState(variables=experiment_runner.variables)\n",
        "  validation_experiment_data = CustomState(variables=experiment_runner.variables)\n",
        "\n",
        "  # our validation set will be consist of a grid of experiment conditons\n",
        "  # across the entire experimental design domain\n",
        "  validation_conditions = grid_pool_on_state(validation_conditions)\n",
        "  validation_experiment_data = grid_pool_on_state(validation_experiment_data)\n",
        "  validation_experiment_data = run_experiment_on_state(validation_experiment_data, experiment_runner=experiment_runner)\n",
        "\n",
        "\n",
        "  benchmark_MSE_log = list()\n",
        "  working_MSE_log = list()\n",
        "\n",
        "  # INITIAL STATE\n",
        "  # We begin our discovery experiment with randomly sampled data set for 10\n",
        "  # conditions. We will use the same state for each experimentalist method.\n",
        "\n",
        "  # create initial AutoRA state which we will use for our discovery expeirments\n",
        "  initial_state = CustomState(variables=experiment_runner.variables)\n",
        "\n",
        "  # we will initiate our discovery process with 10 randomly sampled experiment conditions\n",
        "  initial_state = random_pool_on_state(initial_state,\n",
        "                                      num_samples=num_initial_conditions,\n",
        "                                      random_state=sim)\n",
        "\n",
        "  # we obtain the corresponding experiment data\n",
        "  initial_state = run_experiment_on_state(initial_state, experiment_runner=experiment_runner)\n",
        "\n",
        "  # initialize benchmark state for random experimentalist\n",
        "  benchmark_state = CustomState(**initial_state.__dict__)\n",
        "\n",
        "  # initialize working state for your custom experimentalist\n",
        "  working_state = CustomState(**initial_state.__dict__)\n",
        "\n",
        "  # for each discovery cycle ##### LOOOOP #######\n",
        "  for cycle in range(num_cycles):\n",
        "\n",
        "    print(\"SIMULATION \" + str(sim)  + \" / DISCOVERY CYCLE \" + str(cycle))\n",
        "\n",
        "    # first, we fit a model to the data\n",
        "    print(\"Fitting models on benchmark state...\")\n",
        "    benchmark_state = theorists_on_state(benchmark_state, bms_epochs=bms_epochs)\n",
        "    print(\"Fitting models on working state...\")\n",
        "    working_state = theorists_on_state(working_state, bms_epochs=bms_epochs)\n",
        "\n",
        "    # now we can determine how well the models do on the validation set\n",
        "    benchmark_MSE = get_validation_MSE(validation_experiment_data, benchmark_state)\n",
        "    benchmark_MSE_log.append(benchmark_MSE)\n",
        "\n",
        "    working_MSE = get_validation_MSE(validation_experiment_data, working_state)\n",
        "    working_MSE_log.append(working_MSE)\n",
        "\n",
        "    # then we determine the next experiment condition\n",
        "    print(\"Sampling new experiment conditions...\")\n",
        "    benchmark_state = random_sample_on_state(benchmark_state,\n",
        "                                              all_conditions=validation_conditions.conditions,\n",
        "                                              num_samples=num_conditions_per_cycle)\n",
        "\n",
        "    # *** Change here: pass the full grid as reference_conditions ***\n",
        "    working_state = custom_sample_on_state(working_state,\n",
        "                                           reference_conditions=validation_conditions.conditions,\n",
        "                                           all_conditions=validation_conditions.conditions,\n",
        "                                           num_samples=num_conditions_per_cycle,\n",
        "                                           step=cycle,\n",
        "                                           max_steps=num_cycles)\n",
        "\n",
        "    print(\"Obtaining observations...\")\n",
        "    # we obtain the corresponding experiment data\n",
        "    benchmark_state = run_experiment_on_state(benchmark_state, experiment_runner=experiment_runner)\n",
        "    working_state = run_experiment_on_state(working_state, experiment_runner=experiment_runner)\n",
        "\n",
        "  return benchmark_MSE_log, working_MSE_log, benchmark_state, working_state\n",
        "\n",
        "\n"
      ]
    },
    {
      "cell_type": "markdown",
      "metadata": {
        "id": "3B5mO66GMb3T"
      },
      "source": [
        "## Benchmarking Script"
      ]
    },
    {
      "cell_type": "markdown",
      "metadata": {
        "id": "mqu8m-hjfXVK"
      },
      "source": [
        "Let's first set some meta-parameters."
      ]
    },
    {
      "cell_type": "code",
      "execution_count": 28,
      "metadata": {
        "id": "40rWpRCKfcGL"
      },
      "outputs": [],
      "source": [
        "# meta parameters\n",
        "\n",
        "# DO NOT CHANGE THESE PARAMETERS\n",
        "num_cycles = 20\n",
        "num_conditions_per_cycle = 1\n",
        "num_initial_conditions = 1\n",
        "\n",
        "# YOU MAY CHANGE THESE PARAMETERS\n",
        "num_discovery_simulations = 3\n",
        "bms_epochs = 20 # Note, to speed things up, you can set bms_epochs = 10 or even bms_epochs = 1 (this will lead to poor performance of the BMS regressor but the other two theorists will still fit)"
      ]
    },
    {
      "cell_type": "markdown",
      "metadata": {
        "id": "s5s2_nSTMnHv"
      },
      "source": [
        "### Single Run\n",
        "\n",
        "We recommend that you probe your experimentalist function for a single run. Once you are confident that your experimentalist works, we recommend running repeating the simulation experiment for at least iterations (``num_discovery_simulations``).\n",
        "\n",
        "How do your results look like for other ground truths, such as\n",
        "- ``luce_choice_ratio()`` or\n",
        "- ``expected_value_theory()`` ?"
      ]
    },
    {
      "cell_type": "code",
      "execution_count": 17,
      "metadata": {
        "colab": {
          "base_uri": "https://localhost:8080/"
        },
        "id": "sqsuMqTd1OaY",
        "outputId": "97d18227-6354-4b5e-ef9a-d88bf59dfede"
      },
      "outputs": [
        {
          "name": "stderr",
          "output_type": "stream",
          "text": [
            "INFO:autora.theorist.bms.regressor:BMS fitting started\n"
          ]
        },
        {
          "name": "stdout",
          "output_type": "stream",
          "text": [
            "SIMULATION 0 / DISCOVERY CYCLE 0\n",
            "Fitting models on benchmark state...\n"
          ]
        },
        {
          "name": "stderr",
          "output_type": "stream",
          "text": [
            "100%|██████████| 20/20 [00:01<00:00, 15.31it/s]\n",
            "INFO:autora.theorist.bms.regressor:BMS fitting finished\n",
            "INFO:autora.theorist.bms.regressor:BMS fitting started\n"
          ]
        },
        {
          "name": "stdout",
          "output_type": "stream",
          "text": [
            "Fitting models on working state...\n"
          ]
        },
        {
          "name": "stderr",
          "output_type": "stream",
          "text": [
            "100%|██████████| 20/20 [00:01<00:00, 18.07it/s]\n",
            "INFO:autora.theorist.bms.regressor:BMS fitting finished\n",
            "INFO:autora.theorist.bms.regressor:BMS fitting started\n"
          ]
        },
        {
          "name": "stdout",
          "output_type": "stream",
          "text": [
            "Sampling new experiment conditions...\n",
            "Obtaining observations...\n",
            "SIMULATION 0 / DISCOVERY CYCLE 1\n",
            "Fitting models on benchmark state...\n"
          ]
        },
        {
          "name": "stderr",
          "output_type": "stream",
          "text": [
            "100%|██████████| 20/20 [00:01<00:00, 15.10it/s]\n",
            "INFO:autora.theorist.bms.regressor:BMS fitting finished\n",
            "INFO:autora.theorist.bms.regressor:BMS fitting started\n"
          ]
        },
        {
          "name": "stdout",
          "output_type": "stream",
          "text": [
            "Fitting models on working state...\n"
          ]
        },
        {
          "name": "stderr",
          "output_type": "stream",
          "text": [
            "100%|██████████| 20/20 [00:01<00:00, 14.70it/s]\n",
            "INFO:autora.theorist.bms.regressor:BMS fitting finished\n",
            "INFO:autora.theorist.bms.regressor:BMS fitting started\n"
          ]
        },
        {
          "name": "stdout",
          "output_type": "stream",
          "text": [
            "Sampling new experiment conditions...\n",
            "Obtaining observations...\n",
            "SIMULATION 0 / DISCOVERY CYCLE 2\n",
            "Fitting models on benchmark state...\n"
          ]
        },
        {
          "name": "stderr",
          "output_type": "stream",
          "text": [
            "100%|██████████| 20/20 [00:01<00:00, 16.58it/s]\n",
            "INFO:autora.theorist.bms.regressor:BMS fitting finished\n",
            "INFO:autora.theorist.bms.regressor:BMS fitting started\n"
          ]
        },
        {
          "name": "stdout",
          "output_type": "stream",
          "text": [
            "Fitting models on working state...\n"
          ]
        },
        {
          "name": "stderr",
          "output_type": "stream",
          "text": [
            "100%|██████████| 20/20 [00:01<00:00, 18.11it/s]\n",
            "INFO:autora.theorist.bms.regressor:BMS fitting finished\n",
            "INFO:autora.theorist.bms.regressor:BMS fitting started\n"
          ]
        },
        {
          "name": "stdout",
          "output_type": "stream",
          "text": [
            "Sampling new experiment conditions...\n",
            "Obtaining observations...\n",
            "SIMULATION 0 / DISCOVERY CYCLE 3\n",
            "Fitting models on benchmark state...\n"
          ]
        },
        {
          "name": "stderr",
          "output_type": "stream",
          "text": [
            "100%|██████████| 20/20 [00:01<00:00, 17.15it/s]\n",
            "INFO:autora.theorist.bms.regressor:BMS fitting finished\n",
            "INFO:autora.theorist.bms.regressor:BMS fitting started\n"
          ]
        },
        {
          "name": "stdout",
          "output_type": "stream",
          "text": [
            "Fitting models on working state...\n"
          ]
        },
        {
          "name": "stderr",
          "output_type": "stream",
          "text": [
            "100%|██████████| 20/20 [00:01<00:00, 15.69it/s]\n",
            "INFO:autora.theorist.bms.regressor:BMS fitting finished\n",
            "INFO:autora.theorist.bms.regressor:BMS fitting started\n"
          ]
        },
        {
          "name": "stdout",
          "output_type": "stream",
          "text": [
            "Sampling new experiment conditions...\n",
            "Obtaining observations...\n",
            "SIMULATION 0 / DISCOVERY CYCLE 4\n",
            "Fitting models on benchmark state...\n"
          ]
        },
        {
          "name": "stderr",
          "output_type": "stream",
          "text": [
            "100%|██████████| 20/20 [00:01<00:00, 13.29it/s]\n",
            "INFO:autora.theorist.bms.regressor:BMS fitting finished\n",
            "INFO:autora.theorist.bms.regressor:BMS fitting started\n"
          ]
        },
        {
          "name": "stdout",
          "output_type": "stream",
          "text": [
            "Fitting models on working state...\n"
          ]
        },
        {
          "name": "stderr",
          "output_type": "stream",
          "text": [
            "100%|██████████| 20/20 [00:01<00:00, 16.01it/s]\n",
            "INFO:autora.theorist.bms.regressor:BMS fitting finished\n",
            "INFO:autora.theorist.bms.regressor:BMS fitting started\n"
          ]
        },
        {
          "name": "stdout",
          "output_type": "stream",
          "text": [
            "Sampling new experiment conditions...\n",
            "Obtaining observations...\n",
            "SIMULATION 0 / DISCOVERY CYCLE 5\n",
            "Fitting models on benchmark state...\n"
          ]
        },
        {
          "name": "stderr",
          "output_type": "stream",
          "text": [
            "100%|██████████| 20/20 [00:01<00:00, 17.91it/s]\n",
            "INFO:autora.theorist.bms.regressor:BMS fitting finished\n",
            "INFO:autora.theorist.bms.regressor:BMS fitting started\n"
          ]
        },
        {
          "name": "stdout",
          "output_type": "stream",
          "text": [
            "Fitting models on working state...\n"
          ]
        },
        {
          "name": "stderr",
          "output_type": "stream",
          "text": [
            "100%|██████████| 20/20 [00:02<00:00,  6.82it/s]\n",
            "INFO:autora.theorist.bms.regressor:BMS fitting finished\n",
            "INFO:autora.theorist.bms.regressor:BMS fitting started\n"
          ]
        },
        {
          "name": "stdout",
          "output_type": "stream",
          "text": [
            "Sampling new experiment conditions...\n",
            "Obtaining observations...\n",
            "SIMULATION 0 / DISCOVERY CYCLE 6\n",
            "Fitting models on benchmark state...\n"
          ]
        },
        {
          "name": "stderr",
          "output_type": "stream",
          "text": [
            "100%|██████████| 20/20 [00:01<00:00, 15.70it/s]\n",
            "INFO:autora.theorist.bms.regressor:BMS fitting finished\n",
            "INFO:autora.theorist.bms.regressor:BMS fitting started\n"
          ]
        },
        {
          "name": "stdout",
          "output_type": "stream",
          "text": [
            "Fitting models on working state...\n"
          ]
        },
        {
          "name": "stderr",
          "output_type": "stream",
          "text": [
            "100%|██████████| 20/20 [00:02<00:00,  7.51it/s]\n",
            "INFO:autora.theorist.bms.regressor:BMS fitting finished\n",
            "INFO:autora.theorist.bms.regressor:BMS fitting started\n"
          ]
        },
        {
          "name": "stdout",
          "output_type": "stream",
          "text": [
            "Sampling new experiment conditions...\n",
            "Obtaining observations...\n",
            "SIMULATION 0 / DISCOVERY CYCLE 7\n",
            "Fitting models on benchmark state...\n"
          ]
        },
        {
          "name": "stderr",
          "output_type": "stream",
          "text": [
            "100%|██████████| 20/20 [00:01<00:00, 17.02it/s]\n",
            "INFO:autora.theorist.bms.regressor:BMS fitting finished\n",
            "INFO:autora.theorist.bms.regressor:BMS fitting started\n"
          ]
        },
        {
          "name": "stdout",
          "output_type": "stream",
          "text": [
            "Fitting models on working state...\n"
          ]
        },
        {
          "name": "stderr",
          "output_type": "stream",
          "text": [
            "100%|██████████| 20/20 [00:01<00:00, 17.04it/s]\n",
            "INFO:autora.theorist.bms.regressor:BMS fitting finished\n",
            "INFO:autora.theorist.bms.regressor:BMS fitting started\n"
          ]
        },
        {
          "name": "stdout",
          "output_type": "stream",
          "text": [
            "Sampling new experiment conditions...\n",
            "Obtaining observations...\n",
            "SIMULATION 0 / DISCOVERY CYCLE 8\n",
            "Fitting models on benchmark state...\n"
          ]
        },
        {
          "name": "stderr",
          "output_type": "stream",
          "text": [
            "100%|██████████| 20/20 [00:01<00:00, 16.27it/s]\n",
            "INFO:autora.theorist.bms.regressor:BMS fitting finished\n",
            "INFO:autora.theorist.bms.regressor:BMS fitting started\n"
          ]
        },
        {
          "name": "stdout",
          "output_type": "stream",
          "text": [
            "Fitting models on working state...\n"
          ]
        },
        {
          "name": "stderr",
          "output_type": "stream",
          "text": [
            "100%|██████████| 20/20 [00:01<00:00, 18.67it/s]\n",
            "INFO:autora.theorist.bms.regressor:BMS fitting finished\n",
            "INFO:autora.theorist.bms.regressor:BMS fitting started\n"
          ]
        },
        {
          "name": "stdout",
          "output_type": "stream",
          "text": [
            "Sampling new experiment conditions...\n",
            "Obtaining observations...\n",
            "SIMULATION 0 / DISCOVERY CYCLE 9\n",
            "Fitting models on benchmark state...\n"
          ]
        },
        {
          "name": "stderr",
          "output_type": "stream",
          "text": [
            "100%|██████████| 20/20 [00:01<00:00, 17.90it/s]\n",
            "INFO:autora.theorist.bms.regressor:BMS fitting finished\n",
            "INFO:autora.theorist.bms.regressor:BMS fitting started\n"
          ]
        },
        {
          "name": "stdout",
          "output_type": "stream",
          "text": [
            "Fitting models on working state...\n"
          ]
        },
        {
          "name": "stderr",
          "output_type": "stream",
          "text": [
            "100%|██████████| 20/20 [00:01<00:00, 17.31it/s]\n",
            "INFO:autora.theorist.bms.regressor:BMS fitting finished\n",
            "INFO:autora.theorist.bms.regressor:BMS fitting started\n"
          ]
        },
        {
          "name": "stdout",
          "output_type": "stream",
          "text": [
            "Sampling new experiment conditions...\n",
            "Obtaining observations...\n",
            "SIMULATION 0 / DISCOVERY CYCLE 10\n",
            "Fitting models on benchmark state...\n"
          ]
        },
        {
          "name": "stderr",
          "output_type": "stream",
          "text": [
            "100%|██████████| 20/20 [00:01<00:00, 10.69it/s]\n",
            "INFO:autora.theorist.bms.regressor:BMS fitting finished\n",
            "INFO:autora.theorist.bms.regressor:BMS fitting started\n"
          ]
        },
        {
          "name": "stdout",
          "output_type": "stream",
          "text": [
            "Fitting models on working state...\n"
          ]
        },
        {
          "name": "stderr",
          "output_type": "stream",
          "text": [
            "100%|██████████| 20/20 [00:01<00:00, 17.17it/s]\n",
            "INFO:autora.theorist.bms.regressor:BMS fitting finished\n",
            "INFO:autora.theorist.bms.regressor:BMS fitting started\n"
          ]
        },
        {
          "name": "stdout",
          "output_type": "stream",
          "text": [
            "Sampling new experiment conditions...\n",
            "Obtaining observations...\n",
            "SIMULATION 0 / DISCOVERY CYCLE 11\n",
            "Fitting models on benchmark state...\n"
          ]
        },
        {
          "name": "stderr",
          "output_type": "stream",
          "text": [
            "100%|██████████| 20/20 [00:02<00:00,  8.55it/s]\n",
            "INFO:autora.theorist.bms.regressor:BMS fitting finished\n",
            "INFO:autora.theorist.bms.regressor:BMS fitting started\n"
          ]
        },
        {
          "name": "stdout",
          "output_type": "stream",
          "text": [
            "Fitting models on working state...\n"
          ]
        },
        {
          "name": "stderr",
          "output_type": "stream",
          "text": [
            "100%|██████████| 20/20 [00:02<00:00,  8.96it/s]\n",
            "INFO:autora.theorist.bms.regressor:BMS fitting finished\n",
            "INFO:autora.theorist.bms.regressor:BMS fitting started\n"
          ]
        },
        {
          "name": "stdout",
          "output_type": "stream",
          "text": [
            "Sampling new experiment conditions...\n",
            "Obtaining observations...\n",
            "SIMULATION 0 / DISCOVERY CYCLE 12\n",
            "Fitting models on benchmark state...\n"
          ]
        },
        {
          "name": "stderr",
          "output_type": "stream",
          "text": [
            "100%|██████████| 20/20 [00:01<00:00, 13.48it/s]\n",
            "INFO:autora.theorist.bms.regressor:BMS fitting finished\n",
            "INFO:autora.theorist.bms.regressor:BMS fitting started\n"
          ]
        },
        {
          "name": "stdout",
          "output_type": "stream",
          "text": [
            "Fitting models on working state...\n"
          ]
        },
        {
          "name": "stderr",
          "output_type": "stream",
          "text": [
            "100%|██████████| 20/20 [00:01<00:00, 14.27it/s]\n",
            "INFO:autora.theorist.bms.regressor:BMS fitting finished\n",
            "INFO:autora.theorist.bms.regressor:BMS fitting started\n"
          ]
        },
        {
          "name": "stdout",
          "output_type": "stream",
          "text": [
            "Sampling new experiment conditions...\n",
            "Obtaining observations...\n",
            "SIMULATION 0 / DISCOVERY CYCLE 13\n",
            "Fitting models on benchmark state...\n"
          ]
        },
        {
          "name": "stderr",
          "output_type": "stream",
          "text": [
            "100%|██████████| 20/20 [00:01<00:00, 17.61it/s]\n",
            "INFO:autora.theorist.bms.regressor:BMS fitting finished\n",
            "INFO:autora.theorist.bms.regressor:BMS fitting started\n"
          ]
        },
        {
          "name": "stdout",
          "output_type": "stream",
          "text": [
            "Fitting models on working state...\n"
          ]
        },
        {
          "name": "stderr",
          "output_type": "stream",
          "text": [
            "100%|██████████| 20/20 [00:01<00:00, 15.20it/s]\n",
            "INFO:autora.theorist.bms.regressor:BMS fitting finished\n",
            "INFO:autora.theorist.bms.regressor:BMS fitting started\n"
          ]
        },
        {
          "name": "stdout",
          "output_type": "stream",
          "text": [
            "Sampling new experiment conditions...\n",
            "Obtaining observations...\n",
            "SIMULATION 0 / DISCOVERY CYCLE 14\n",
            "Fitting models on benchmark state...\n"
          ]
        },
        {
          "name": "stderr",
          "output_type": "stream",
          "text": [
            "100%|██████████| 20/20 [00:01<00:00, 18.20it/s]\n",
            "INFO:autora.theorist.bms.regressor:BMS fitting finished\n",
            "INFO:autora.theorist.bms.regressor:BMS fitting started\n"
          ]
        },
        {
          "name": "stdout",
          "output_type": "stream",
          "text": [
            "Fitting models on working state...\n"
          ]
        },
        {
          "name": "stderr",
          "output_type": "stream",
          "text": [
            "100%|██████████| 20/20 [00:01<00:00, 18.31it/s]\n",
            "INFO:autora.theorist.bms.regressor:BMS fitting finished\n",
            "INFO:autora.theorist.bms.regressor:BMS fitting started\n"
          ]
        },
        {
          "name": "stdout",
          "output_type": "stream",
          "text": [
            "Sampling new experiment conditions...\n",
            "Obtaining observations...\n",
            "SIMULATION 0 / DISCOVERY CYCLE 15\n",
            "Fitting models on benchmark state...\n"
          ]
        },
        {
          "name": "stderr",
          "output_type": "stream",
          "text": [
            "100%|██████████| 20/20 [00:01<00:00, 16.35it/s]\n",
            "INFO:autora.theorist.bms.regressor:BMS fitting finished\n",
            "INFO:autora.theorist.bms.regressor:BMS fitting started\n"
          ]
        },
        {
          "name": "stdout",
          "output_type": "stream",
          "text": [
            "Fitting models on working state...\n"
          ]
        },
        {
          "name": "stderr",
          "output_type": "stream",
          "text": [
            "100%|██████████| 20/20 [00:01<00:00, 14.91it/s]\n",
            "INFO:autora.theorist.bms.regressor:BMS fitting finished\n",
            "INFO:autora.theorist.bms.regressor:BMS fitting started\n"
          ]
        },
        {
          "name": "stdout",
          "output_type": "stream",
          "text": [
            "Sampling new experiment conditions...\n",
            "Obtaining observations...\n",
            "SIMULATION 0 / DISCOVERY CYCLE 16\n",
            "Fitting models on benchmark state...\n"
          ]
        },
        {
          "name": "stderr",
          "output_type": "stream",
          "text": [
            "100%|██████████| 20/20 [00:01<00:00, 11.44it/s]\n",
            "INFO:autora.theorist.bms.regressor:BMS fitting finished\n",
            "INFO:autora.theorist.bms.regressor:BMS fitting started\n"
          ]
        },
        {
          "name": "stdout",
          "output_type": "stream",
          "text": [
            "Fitting models on working state...\n"
          ]
        },
        {
          "name": "stderr",
          "output_type": "stream",
          "text": [
            "100%|██████████| 20/20 [00:01<00:00, 10.44it/s]\n",
            "INFO:autora.theorist.bms.regressor:BMS fitting finished\n",
            "INFO:autora.theorist.bms.regressor:BMS fitting started\n"
          ]
        },
        {
          "name": "stdout",
          "output_type": "stream",
          "text": [
            "Sampling new experiment conditions...\n",
            "Obtaining observations...\n",
            "SIMULATION 0 / DISCOVERY CYCLE 17\n",
            "Fitting models on benchmark state...\n"
          ]
        },
        {
          "name": "stderr",
          "output_type": "stream",
          "text": [
            "100%|██████████| 20/20 [00:01<00:00, 15.16it/s]\n",
            "INFO:autora.theorist.bms.regressor:BMS fitting finished\n",
            "INFO:autora.theorist.bms.regressor:BMS fitting started\n"
          ]
        },
        {
          "name": "stdout",
          "output_type": "stream",
          "text": [
            "Fitting models on working state...\n"
          ]
        },
        {
          "name": "stderr",
          "output_type": "stream",
          "text": [
            "100%|██████████| 20/20 [00:01<00:00, 14.15it/s]\n",
            "INFO:autora.theorist.bms.regressor:BMS fitting finished\n",
            "INFO:autora.theorist.bms.regressor:BMS fitting started\n"
          ]
        },
        {
          "name": "stdout",
          "output_type": "stream",
          "text": [
            "Sampling new experiment conditions...\n",
            "Obtaining observations...\n",
            "SIMULATION 0 / DISCOVERY CYCLE 18\n",
            "Fitting models on benchmark state...\n"
          ]
        },
        {
          "name": "stderr",
          "output_type": "stream",
          "text": [
            "100%|██████████| 20/20 [00:02<00:00,  9.64it/s]\n",
            "INFO:autora.theorist.bms.regressor:BMS fitting finished\n",
            "INFO:autora.theorist.bms.regressor:BMS fitting started\n"
          ]
        },
        {
          "name": "stdout",
          "output_type": "stream",
          "text": [
            "Fitting models on working state...\n"
          ]
        },
        {
          "name": "stderr",
          "output_type": "stream",
          "text": [
            "100%|██████████| 20/20 [00:01<00:00, 15.98it/s]\n",
            "INFO:autora.theorist.bms.regressor:BMS fitting finished\n",
            "INFO:autora.theorist.bms.regressor:BMS fitting started\n"
          ]
        },
        {
          "name": "stdout",
          "output_type": "stream",
          "text": [
            "Sampling new experiment conditions...\n",
            "Obtaining observations...\n",
            "SIMULATION 0 / DISCOVERY CYCLE 19\n",
            "Fitting models on benchmark state...\n"
          ]
        },
        {
          "name": "stderr",
          "output_type": "stream",
          "text": [
            "100%|██████████| 20/20 [00:01<00:00, 16.16it/s]\n",
            "INFO:autora.theorist.bms.regressor:BMS fitting finished\n",
            "INFO:autora.theorist.bms.regressor:BMS fitting started\n"
          ]
        },
        {
          "name": "stdout",
          "output_type": "stream",
          "text": [
            "Fitting models on working state...\n"
          ]
        },
        {
          "name": "stderr",
          "output_type": "stream",
          "text": [
            "100%|██████████| 20/20 [00:01<00:00, 13.35it/s]\n",
            "INFO:autora.theorist.bms.regressor:BMS fitting finished\n"
          ]
        },
        {
          "name": "stdout",
          "output_type": "stream",
          "text": [
            "Sampling new experiment conditions...\n",
            "Obtaining observations...\n"
          ]
        }
      ],
      "source": [
        "# Set the experiment_runner. Try once on all paradigms.\n",
        "\n",
        "#experiment_runner = exp_learning()\n",
        "#experiment_runner = weber_fechner_law()\n",
        "#experiment_runner = luce_choice_ratio()\n",
        "#experiment_runner = expected_value_theory()\n",
        "#experiment_runner = stevens_power_law() # doesn't work, AttributeError\n",
        "#experiment_runner = prospect_theory()\n",
        "experiment_runner = task_switching()\n",
        "\n",
        "\n",
        "# run simulation\n",
        "benchmark_MSE_log, working_MSE_log, benchmark_state, working_state = run_simulation(num_cycles, num_conditions_per_cycle, num_initial_conditions, bms_epochs, experiment_runner)\n"
      ]
    },
    {
      "cell_type": "markdown",
      "metadata": {
        "id": "DxXTCLDzfjLr"
      },
      "source": [
        "We can now plot the results for a single discovery run."
      ]
    },
    {
      "cell_type": "code",
      "execution_count": 18,
      "metadata": {
        "colab": {
          "base_uri": "https://localhost:8080/",
          "height": 1000
        },
        "id": "0HfiASzDfiRA",
        "outputId": "1b642cec-ad50-46f0-ad1f-66f2a03aad93"
      },
      "outputs": [
        {
          "name": "stdout",
          "output_type": "stream",
          "text": [
            "    cur_task_strength  alt_task_strength  is_switch  cur_task_performance\n",
            "0                0.86               0.64          1              0.592120\n",
            "1                0.16               0.18          0              0.859882\n",
            "2                0.38               0.68          1              0.492114\n",
            "3                0.84               0.18          0              0.956677\n",
            "4                0.68               0.98          0              0.602993\n",
            "5                0.06               0.02          1              0.857180\n",
            "6                0.54               0.98          0              0.573771\n",
            "7                0.44               0.42          1              0.586823\n",
            "8                0.06               0.60          0              0.628680\n",
            "9                0.04               0.74          1              0.579430\n",
            "10               0.04               0.56          0              0.645203\n",
            "11               0.44               0.78          1              0.470600\n",
            "12               0.26               0.10          1              0.717086\n",
            "13               0.56               0.84          1              0.472261\n",
            "14               0.02               0.50          1              0.693171\n",
            "15               0.78               0.98          1              0.481291\n",
            "16               0.24               0.20          0              0.873023\n",
            "17               0.64               0.94          0              0.609164\n",
            "18               0.94               0.70          0              0.761701\n",
            "19               0.42               0.82          1              0.459723\n",
            "20               0.02               0.66          1              0.625447\n",
            "    cur_task_strength  alt_task_strength  is_switch  cur_task_performance\n",
            "0                0.86               0.64          1              0.592120\n",
            "1                0.60               0.04          0              0.975248\n",
            "2                0.94               0.36          0              0.908229\n",
            "3                0.58               0.92          0              0.603800\n",
            "4                0.28               0.56          0              0.691847\n",
            "5                0.62               0.60          0              0.753572\n",
            "6                1.00               0.12          1              0.854718\n",
            "7                0.26               0.12          0              0.920760\n",
            "8                0.12               0.82          0              0.545668\n",
            "9                0.74               0.56          1              0.594970\n",
            "10               0.08               0.82          0              0.542117\n",
            "11               0.44               0.24          0              0.897761\n",
            "12               0.56               0.90          1              0.459175\n",
            "13               0.94               0.12          0              0.972208\n",
            "14               0.20               0.18          1              0.696033\n",
            "15               0.92               0.70          0              0.758879\n",
            "16               0.12               0.96          1              0.472407\n",
            "17               0.30               0.24          0              0.865893\n",
            "18               0.64               0.76          1              0.506774\n",
            "19               0.06               0.76          0              0.562827\n",
            "20               0.98               1.00          1              0.513764\n"
          ]
        },
        {
          "data": {
            "image/png": "[encoded data removed]",
            "text/plain": [
              "<Figure size 640x480 with 1 Axes>"
            ]
          },
          "metadata": {},
          "output_type": "display_data"
        }
      ],
      "source": [
        "# lets plot the benchmark_MSE_log and the workign_MSE_log\n",
        "plt.plot(benchmark_MSE_log, label='benchmark_MSE_log')\n",
        "plt.plot(working_MSE_log, label='working_MSE_log')\n",
        "plt.xlabel('Sampled Data Points')\n",
        "plt.ylabel('MSE on Validation Set')\n",
        "plt.title('Single Discovery Simulation')\n",
        "plt.legend()\n",
        "\n",
        "# we can also investigate the final state more closely\n",
        "# for example, these are all the experimental data collected\n",
        "# under random sampling:\n",
        "print(benchmark_state.experiment_data)\n",
        "# and for your custom experimentalist\n",
        "print(working_state.experiment_data)"
      ]
    },
    {
      "cell_type": "markdown",
      "metadata": {
        "id": "H8Z7iU9pgBWu"
      },
      "source": [
        "### Averaging Across Multiple Runs\n",
        "\n",
        "To become more confident in your experimentalist, you may want to repeat the discovery process N times..."
      ]
    },
    {
      "cell_type": "code",
      "execution_count": 40,
      "metadata": {
        "colab": {
          "base_uri": "https://localhost:8080/"
        },
        "id": "OwL3zbg7hQNs",
        "outputId": "7c1192ae-3bbe-47e1-eac3-93a84add4a03"
      },
      "outputs": [
        {
          "name": "stderr",
          "output_type": "stream",
          "text": [
            "INFO:autora.theorist.bms.regressor:BMS fitting started\n"
          ]
        },
        {
          "name": "stdout",
          "output_type": "stream",
          "text": [
            "SIMULATION 0 / DISCOVERY CYCLE 0\n",
            "Fitting models on benchmark state...\n"
          ]
        },
        {
          "name": "stderr",
          "output_type": "stream",
          "text": [
            "  0%|          | 0/20 [00:00<?, ?it/s]"
          ]
        },
        {
          "name": "stderr",
          "output_type": "stream",
          "text": [
            "100%|██████████| 20/20 [00:01<00:00, 14.93it/s]\n",
            "INFO:autora.theorist.bms.regressor:BMS fitting finished\n",
            "INFO:autora.theorist.bms.regressor:BMS fitting started\n"
          ]
        },
        {
          "name": "stdout",
          "output_type": "stream",
          "text": [
            "Fitting models on working state...\n"
          ]
        },
        {
          "name": "stderr",
          "output_type": "stream",
          "text": [
            "100%|██████████| 20/20 [00:01<00:00, 16.10it/s]\n",
            "INFO:autora.theorist.bms.regressor:BMS fitting finished\n",
            "INFO:autora.theorist.bms.regressor:BMS fitting started\n"
          ]
        },
        {
          "name": "stdout",
          "output_type": "stream",
          "text": [
            "Sampling new experiment conditions...\n",
            "Obtaining observations...\n",
            "SIMULATION 0 / DISCOVERY CYCLE 1\n",
            "Fitting models on benchmark state...\n"
          ]
        },
        {
          "name": "stderr",
          "output_type": "stream",
          "text": [
            "100%|██████████| 20/20 [00:01<00:00, 17.19it/s]\n",
            "INFO:autora.theorist.bms.regressor:BMS fitting finished\n",
            "INFO:autora.theorist.bms.regressor:BMS fitting started\n"
          ]
        },
        {
          "name": "stdout",
          "output_type": "stream",
          "text": [
            "Fitting models on working state...\n"
          ]
        },
        {
          "name": "stderr",
          "output_type": "stream",
          "text": [
            "100%|██████████| 20/20 [00:01<00:00, 15.65it/s]\n",
            "INFO:autora.theorist.bms.regressor:BMS fitting finished\n",
            "INFO:autora.theorist.bms.regressor:BMS fitting started\n"
          ]
        },
        {
          "name": "stdout",
          "output_type": "stream",
          "text": [
            "Sampling new experiment conditions...\n",
            "Obtaining observations...\n",
            "SIMULATION 0 / DISCOVERY CYCLE 2\n",
            "Fitting models on benchmark state...\n"
          ]
        },
        {
          "name": "stderr",
          "output_type": "stream",
          "text": [
            "100%|██████████| 20/20 [00:01<00:00, 14.36it/s]\n",
            "INFO:autora.theorist.bms.regressor:BMS fitting finished\n",
            "INFO:autora.theorist.bms.regressor:BMS fitting started\n"
          ]
        },
        {
          "name": "stdout",
          "output_type": "stream",
          "text": [
            "Fitting models on working state...\n"
          ]
        },
        {
          "name": "stderr",
          "output_type": "stream",
          "text": [
            "100%|██████████| 20/20 [00:01<00:00, 15.29it/s]\n",
            "INFO:autora.theorist.bms.regressor:BMS fitting finished\n",
            "INFO:autora.theorist.bms.regressor:BMS fitting started\n"
          ]
        },
        {
          "name": "stdout",
          "output_type": "stream",
          "text": [
            "Sampling new experiment conditions...\n",
            "Obtaining observations...\n",
            "SIMULATION 0 / DISCOVERY CYCLE 3\n",
            "Fitting models on benchmark state...\n"
          ]
        },
        {
          "name": "stderr",
          "output_type": "stream",
          "text": [
            "100%|██████████| 20/20 [00:01<00:00, 14.41it/s]\n",
            "INFO:autora.theorist.bms.regressor:BMS fitting finished\n",
            "INFO:autora.theorist.bms.regressor:BMS fitting started\n"
          ]
        },
        {
          "name": "stdout",
          "output_type": "stream",
          "text": [
            "Fitting models on working state...\n"
          ]
        },
        {
          "name": "stderr",
          "output_type": "stream",
          "text": [
            "100%|██████████| 20/20 [00:01<00:00, 14.31it/s]\n",
            "INFO:autora.theorist.bms.regressor:BMS fitting finished\n",
            "INFO:autora.theorist.bms.regressor:BMS fitting started\n"
          ]
        },
        {
          "name": "stdout",
          "output_type": "stream",
          "text": [
            "Sampling new experiment conditions...\n",
            "Obtaining observations...\n",
            "SIMULATION 0 / DISCOVERY CYCLE 4\n",
            "Fitting models on benchmark state...\n"
          ]
        },
        {
          "name": "stderr",
          "output_type": "stream",
          "text": [
            "100%|██████████| 20/20 [00:01<00:00, 15.27it/s]\n",
            "INFO:autora.theorist.bms.regressor:BMS fitting finished\n",
            "INFO:autora.theorist.bms.regressor:BMS fitting started\n"
          ]
        },
        {
          "name": "stdout",
          "output_type": "stream",
          "text": [
            "Fitting models on working state...\n"
          ]
        },
        {
          "name": "stderr",
          "output_type": "stream",
          "text": [
            "100%|██████████| 20/20 [00:01<00:00, 15.14it/s]\n",
            "INFO:autora.theorist.bms.regressor:BMS fitting finished\n",
            "INFO:autora.theorist.bms.regressor:BMS fitting started\n"
          ]
        },
        {
          "name": "stdout",
          "output_type": "stream",
          "text": [
            "Sampling new experiment conditions...\n",
            "Obtaining observations...\n",
            "SIMULATION 0 / DISCOVERY CYCLE 5\n",
            "Fitting models on benchmark state...\n"
          ]
        },
        {
          "name": "stderr",
          "output_type": "stream",
          "text": [
            "100%|██████████| 20/20 [00:01<00:00, 13.71it/s]\n",
            "INFO:autora.theorist.bms.regressor:BMS fitting finished\n",
            "INFO:autora.theorist.bms.regressor:BMS fitting started\n"
          ]
        },
        {
          "name": "stdout",
          "output_type": "stream",
          "text": [
            "Fitting models on working state...\n"
          ]
        },
        {
          "name": "stderr",
          "output_type": "stream",
          "text": [
            "100%|██████████| 20/20 [00:01<00:00, 15.90it/s]\n",
            "INFO:autora.theorist.bms.regressor:BMS fitting finished\n",
            "INFO:autora.theorist.bms.regressor:BMS fitting started\n"
          ]
        },
        {
          "name": "stdout",
          "output_type": "stream",
          "text": [
            "Sampling new experiment conditions...\n",
            "Obtaining observations...\n",
            "SIMULATION 0 / DISCOVERY CYCLE 6\n",
            "Fitting models on benchmark state...\n"
          ]
        },
        {
          "name": "stderr",
          "output_type": "stream",
          "text": [
            "100%|██████████| 20/20 [00:01<00:00, 14.25it/s]\n",
            "INFO:autora.theorist.bms.regressor:BMS fitting finished\n",
            "INFO:autora.theorist.bms.regressor:BMS fitting started\n"
          ]
        },
        {
          "name": "stdout",
          "output_type": "stream",
          "text": [
            "Fitting models on working state...\n"
          ]
        },
        {
          "name": "stderr",
          "output_type": "stream",
          "text": [
            "100%|██████████| 20/20 [00:01<00:00, 16.57it/s]\n",
            "INFO:autora.theorist.bms.regressor:BMS fitting finished\n",
            "INFO:autora.theorist.bms.regressor:BMS fitting started\n"
          ]
        },
        {
          "name": "stdout",
          "output_type": "stream",
          "text": [
            "Sampling new experiment conditions...\n",
            "Obtaining observations...\n",
            "SIMULATION 0 / DISCOVERY CYCLE 7\n",
            "Fitting models on benchmark state...\n"
          ]
        },
        {
          "name": "stderr",
          "output_type": "stream",
          "text": [
            "100%|██████████| 20/20 [00:01<00:00, 14.68it/s]\n",
            "INFO:autora.theorist.bms.regressor:BMS fitting finished\n",
            "INFO:autora.theorist.bms.regressor:BMS fitting started\n"
          ]
        },
        {
          "name": "stdout",
          "output_type": "stream",
          "text": [
            "Fitting models on working state...\n"
          ]
        },
        {
          "name": "stderr",
          "output_type": "stream",
          "text": [
            "100%|██████████| 20/20 [00:01<00:00, 14.59it/s]\n",
            "INFO:autora.theorist.bms.regressor:BMS fitting finished\n",
            "INFO:autora.theorist.bms.regressor:BMS fitting started\n"
          ]
        },
        {
          "name": "stdout",
          "output_type": "stream",
          "text": [
            "Sampling new experiment conditions...\n",
            "Obtaining observations...\n",
            "SIMULATION 0 / DISCOVERY CYCLE 8\n",
            "Fitting models on benchmark state...\n"
          ]
        },
        {
          "name": "stderr",
          "output_type": "stream",
          "text": [
            "100%|██████████| 20/20 [00:01<00:00, 15.26it/s]\n",
            "INFO:autora.theorist.bms.regressor:BMS fitting finished\n",
            "INFO:autora.theorist.bms.regressor:BMS fitting started\n"
          ]
        },
        {
          "name": "stdout",
          "output_type": "stream",
          "text": [
            "Fitting models on working state...\n"
          ]
        },
        {
          "name": "stderr",
          "output_type": "stream",
          "text": [
            "100%|██████████| 20/20 [00:01<00:00, 14.27it/s]\n",
            "INFO:autora.theorist.bms.regressor:BMS fitting finished\n",
            "INFO:autora.theorist.bms.regressor:BMS fitting started\n"
          ]
        },
        {
          "name": "stdout",
          "output_type": "stream",
          "text": [
            "Sampling new experiment conditions...\n",
            "Obtaining observations...\n",
            "SIMULATION 0 / DISCOVERY CYCLE 9\n",
            "Fitting models on benchmark state...\n"
          ]
        },
        {
          "name": "stderr",
          "output_type": "stream",
          "text": [
            "100%|██████████| 20/20 [00:01<00:00, 15.89it/s]\n",
            "INFO:autora.theorist.bms.regressor:BMS fitting finished\n",
            "INFO:autora.theorist.bms.regressor:BMS fitting started\n"
          ]
        },
        {
          "name": "stdout",
          "output_type": "stream",
          "text": [
            "Fitting models on working state...\n"
          ]
        },
        {
          "name": "stderr",
          "output_type": "stream",
          "text": [
            "100%|██████████| 20/20 [00:01<00:00, 13.95it/s]\n",
            "INFO:autora.theorist.bms.regressor:BMS fitting finished\n",
            "INFO:autora.theorist.bms.regressor:BMS fitting started\n"
          ]
        },
        {
          "name": "stdout",
          "output_type": "stream",
          "text": [
            "Sampling new experiment conditions...\n",
            "Obtaining observations...\n",
            "SIMULATION 0 / DISCOVERY CYCLE 10\n",
            "Fitting models on benchmark state...\n"
          ]
        },
        {
          "name": "stderr",
          "output_type": "stream",
          "text": [
            "100%|██████████| 20/20 [00:01<00:00, 12.92it/s]\n",
            "INFO:autora.theorist.bms.regressor:BMS fitting finished\n",
            "INFO:autora.theorist.bms.regressor:BMS fitting started\n"
          ]
        },
        {
          "name": "stdout",
          "output_type": "stream",
          "text": [
            "Fitting models on working state...\n"
          ]
        },
        {
          "name": "stderr",
          "output_type": "stream",
          "text": [
            "100%|██████████| 20/20 [00:01<00:00, 16.42it/s]\n",
            "INFO:autora.theorist.bms.regressor:BMS fitting finished\n"
          ]
        },
        {
          "name": "stdout",
          "output_type": "stream",
          "text": [
            "Sampling new experiment conditions...\n",
            "Obtaining observations...\n",
            "SIMULATION 0 / DISCOVERY CYCLE 11\n",
            "Fitting models on benchmark state...\n"
          ]
        },
        {
          "name": "stderr",
          "output_type": "stream",
          "text": [
            "INFO:autora.theorist.bms.regressor:BMS fitting started\n",
            "100%|██████████| 20/20 [00:01<00:00, 14.23it/s]\n",
            "INFO:autora.theorist.bms.regressor:BMS fitting finished\n",
            "INFO:autora.theorist.bms.regressor:BMS fitting started\n"
          ]
        },
        {
          "name": "stdout",
          "output_type": "stream",
          "text": [
            "Fitting models on working state...\n"
          ]
        },
        {
          "name": "stderr",
          "output_type": "stream",
          "text": [
            "100%|██████████| 20/20 [00:01<00:00, 14.31it/s]\n",
            "INFO:autora.theorist.bms.regressor:BMS fitting finished\n",
            "INFO:autora.theorist.bms.regressor:BMS fitting started\n"
          ]
        },
        {
          "name": "stdout",
          "output_type": "stream",
          "text": [
            "Sampling new experiment conditions...\n",
            "Obtaining observations...\n",
            "SIMULATION 0 / DISCOVERY CYCLE 12\n",
            "Fitting models on benchmark state...\n"
          ]
        },
        {
          "name": "stderr",
          "output_type": "stream",
          "text": [
            "100%|██████████| 20/20 [00:01<00:00, 14.18it/s]\n",
            "INFO:autora.theorist.bms.regressor:BMS fitting finished\n",
            "INFO:autora.theorist.bms.regressor:BMS fitting started\n"
          ]
        },
        {
          "name": "stdout",
          "output_type": "stream",
          "text": [
            "Fitting models on working state...\n"
          ]
        },
        {
          "name": "stderr",
          "output_type": "stream",
          "text": [
            "100%|██████████| 20/20 [00:01<00:00, 13.62it/s]\n",
            "INFO:autora.theorist.bms.regressor:BMS fitting finished\n",
            "INFO:autora.theorist.bms.regressor:BMS fitting started\n"
          ]
        },
        {
          "name": "stdout",
          "output_type": "stream",
          "text": [
            "Sampling new experiment conditions...\n",
            "Obtaining observations...\n",
            "SIMULATION 0 / DISCOVERY CYCLE 13\n",
            "Fitting models on benchmark state...\n"
          ]
        },
        {
          "name": "stderr",
          "output_type": "stream",
          "text": [
            "100%|██████████| 20/20 [00:01<00:00, 14.62it/s]\n",
            "INFO:autora.theorist.bms.regressor:BMS fitting finished\n",
            "INFO:autora.theorist.bms.regressor:BMS fitting started\n"
          ]
        },
        {
          "name": "stdout",
          "output_type": "stream",
          "text": [
            "Fitting models on working state...\n"
          ]
        },
        {
          "name": "stderr",
          "output_type": "stream",
          "text": [
            "100%|██████████| 20/20 [00:01<00:00, 13.68it/s]\n",
            "INFO:autora.theorist.bms.regressor:BMS fitting finished\n",
            "INFO:autora.theorist.bms.regressor:BMS fitting started\n"
          ]
        },
        {
          "name": "stdout",
          "output_type": "stream",
          "text": [
            "Sampling new experiment conditions...\n",
            "Obtaining observations...\n",
            "SIMULATION 0 / DISCOVERY CYCLE 14\n",
            "Fitting models on benchmark state...\n"
          ]
        },
        {
          "name": "stderr",
          "output_type": "stream",
          "text": [
            "100%|██████████| 20/20 [00:01<00:00, 14.40it/s]\n",
            "INFO:autora.theorist.bms.regressor:BMS fitting finished\n",
            "INFO:autora.theorist.bms.regressor:BMS fitting started\n"
          ]
        },
        {
          "name": "stdout",
          "output_type": "stream",
          "text": [
            "Fitting models on working state...\n"
          ]
        },
        {
          "name": "stderr",
          "output_type": "stream",
          "text": [
            "100%|██████████| 20/20 [00:01<00:00, 15.54it/s]\n",
            "INFO:autora.theorist.bms.regressor:BMS fitting finished\n",
            "INFO:autora.theorist.bms.regressor:BMS fitting started\n"
          ]
        },
        {
          "name": "stdout",
          "output_type": "stream",
          "text": [
            "Sampling new experiment conditions...\n",
            "Obtaining observations...\n",
            "SIMULATION 0 / DISCOVERY CYCLE 15\n",
            "Fitting models on benchmark state...\n"
          ]
        },
        {
          "name": "stderr",
          "output_type": "stream",
          "text": [
            "100%|██████████| 20/20 [00:01<00:00, 14.28it/s]\n",
            "INFO:autora.theorist.bms.regressor:BMS fitting finished\n",
            "INFO:autora.theorist.bms.regressor:BMS fitting started\n"
          ]
        },
        {
          "name": "stdout",
          "output_type": "stream",
          "text": [
            "Fitting models on working state...\n"
          ]
        },
        {
          "name": "stderr",
          "output_type": "stream",
          "text": [
            "100%|██████████| 20/20 [00:01<00:00, 14.84it/s]\n",
            "INFO:autora.theorist.bms.regressor:BMS fitting finished\n",
            "INFO:autora.theorist.bms.regressor:BMS fitting started\n"
          ]
        },
        {
          "name": "stdout",
          "output_type": "stream",
          "text": [
            "Sampling new experiment conditions...\n",
            "Obtaining observations...\n",
            "SIMULATION 0 / DISCOVERY CYCLE 16\n",
            "Fitting models on benchmark state...\n"
          ]
        },
        {
          "name": "stderr",
          "output_type": "stream",
          "text": [
            "100%|██████████| 20/20 [00:01<00:00, 12.52it/s]\n",
            "INFO:autora.theorist.bms.regressor:BMS fitting finished\n",
            "INFO:autora.theorist.bms.regressor:BMS fitting started\n"
          ]
        },
        {
          "name": "stdout",
          "output_type": "stream",
          "text": [
            "Fitting models on working state...\n"
          ]
        },
        {
          "name": "stderr",
          "output_type": "stream",
          "text": [
            "100%|██████████| 20/20 [00:01<00:00, 13.15it/s]\n",
            "INFO:autora.theorist.bms.regressor:BMS fitting finished\n",
            "INFO:autora.theorist.bms.regressor:BMS fitting started\n"
          ]
        },
        {
          "name": "stdout",
          "output_type": "stream",
          "text": [
            "Sampling new experiment conditions...\n",
            "Obtaining observations...\n",
            "SIMULATION 0 / DISCOVERY CYCLE 17\n",
            "Fitting models on benchmark state...\n"
          ]
        },
        {
          "name": "stderr",
          "output_type": "stream",
          "text": [
            "100%|██████████| 20/20 [00:01<00:00, 14.84it/s]\n",
            "INFO:autora.theorist.bms.regressor:BMS fitting finished\n",
            "INFO:autora.theorist.bms.regressor:BMS fitting started\n"
          ]
        },
        {
          "name": "stdout",
          "output_type": "stream",
          "text": [
            "Fitting models on working state...\n"
          ]
        },
        {
          "name": "stderr",
          "output_type": "stream",
          "text": [
            "100%|██████████| 20/20 [00:01<00:00, 16.48it/s]\n",
            "INFO:autora.theorist.bms.regressor:BMS fitting finished\n",
            "INFO:autora.theorist.bms.regressor:BMS fitting started\n"
          ]
        },
        {
          "name": "stdout",
          "output_type": "stream",
          "text": [
            "Sampling new experiment conditions...\n",
            "Obtaining observations...\n",
            "SIMULATION 0 / DISCOVERY CYCLE 18\n",
            "Fitting models on benchmark state...\n"
          ]
        },
        {
          "name": "stderr",
          "output_type": "stream",
          "text": [
            "100%|██████████| 20/20 [00:01<00:00, 13.24it/s]\n",
            "INFO:autora.theorist.bms.regressor:BMS fitting finished\n",
            "INFO:autora.theorist.bms.regressor:BMS fitting started\n"
          ]
        },
        {
          "name": "stdout",
          "output_type": "stream",
          "text": [
            "Fitting models on working state...\n"
          ]
        },
        {
          "name": "stderr",
          "output_type": "stream",
          "text": [
            "100%|██████████| 20/20 [00:01<00:00, 14.63it/s]\n",
            "INFO:autora.theorist.bms.regressor:BMS fitting finished\n",
            "INFO:autora.theorist.bms.regressor:BMS fitting started\n"
          ]
        },
        {
          "name": "stdout",
          "output_type": "stream",
          "text": [
            "Sampling new experiment conditions...\n",
            "Obtaining observations...\n",
            "SIMULATION 0 / DISCOVERY CYCLE 19\n",
            "Fitting models on benchmark state...\n"
          ]
        },
        {
          "name": "stderr",
          "output_type": "stream",
          "text": [
            "100%|██████████| 20/20 [00:01<00:00, 14.60it/s]\n",
            "INFO:autora.theorist.bms.regressor:BMS fitting finished\n",
            "INFO:autora.theorist.bms.regressor:BMS fitting started\n"
          ]
        },
        {
          "name": "stdout",
          "output_type": "stream",
          "text": [
            "Fitting models on working state...\n"
          ]
        },
        {
          "name": "stderr",
          "output_type": "stream",
          "text": [
            "100%|██████████| 20/20 [00:01<00:00, 14.14it/s]\n",
            "INFO:autora.theorist.bms.regressor:BMS fitting finished\n",
            "INFO:autora.theorist.bms.regressor:BMS fitting started\n"
          ]
        },
        {
          "name": "stdout",
          "output_type": "stream",
          "text": [
            "Sampling new experiment conditions...\n",
            "Obtaining observations...\n",
            "SIMULATION 1 / DISCOVERY CYCLE 0\n",
            "Fitting models on benchmark state...\n"
          ]
        },
        {
          "name": "stderr",
          "output_type": "stream",
          "text": [
            "100%|██████████| 20/20 [00:01<00:00, 15.91it/s]\n",
            "INFO:autora.theorist.bms.regressor:BMS fitting finished\n",
            "INFO:autora.theorist.bms.regressor:BMS fitting started\n"
          ]
        },
        {
          "name": "stdout",
          "output_type": "stream",
          "text": [
            "Fitting models on working state...\n"
          ]
        },
        {
          "name": "stderr",
          "output_type": "stream",
          "text": [
            "100%|██████████| 20/20 [00:01<00:00, 16.21it/s]\n",
            "INFO:autora.theorist.bms.regressor:BMS fitting finished\n",
            "INFO:autora.theorist.bms.regressor:BMS fitting started\n"
          ]
        },
        {
          "name": "stdout",
          "output_type": "stream",
          "text": [
            "Sampling new experiment conditions...\n",
            "Obtaining observations...\n",
            "SIMULATION 1 / DISCOVERY CYCLE 1\n",
            "Fitting models on benchmark state...\n"
          ]
        },
        {
          "name": "stderr",
          "output_type": "stream",
          "text": [
            "100%|██████████| 20/20 [00:01<00:00, 16.49it/s]\n",
            "INFO:autora.theorist.bms.regressor:BMS fitting finished\n",
            "INFO:autora.theorist.bms.regressor:BMS fitting started\n"
          ]
        },
        {
          "name": "stdout",
          "output_type": "stream",
          "text": [
            "Fitting models on working state...\n"
          ]
        },
        {
          "name": "stderr",
          "output_type": "stream",
          "text": [
            "100%|██████████| 20/20 [00:01<00:00, 14.42it/s]\n",
            "INFO:autora.theorist.bms.regressor:BMS fitting finished\n",
            "INFO:autora.theorist.bms.regressor:BMS fitting started\n"
          ]
        },
        {
          "name": "stdout",
          "output_type": "stream",
          "text": [
            "Sampling new experiment conditions...\n",
            "Obtaining observations...\n",
            "SIMULATION 1 / DISCOVERY CYCLE 2\n",
            "Fitting models on benchmark state...\n"
          ]
        },
        {
          "name": "stderr",
          "output_type": "stream",
          "text": [
            "100%|██████████| 20/20 [00:02<00:00,  7.84it/s]\n",
            "INFO:autora.theorist.bms.regressor:BMS fitting finished\n",
            "INFO:autora.theorist.bms.regressor:BMS fitting started\n"
          ]
        },
        {
          "name": "stdout",
          "output_type": "stream",
          "text": [
            "Fitting models on working state...\n"
          ]
        },
        {
          "name": "stderr",
          "output_type": "stream",
          "text": [
            "100%|██████████| 20/20 [00:01<00:00, 16.86it/s]\n",
            "INFO:autora.theorist.bms.regressor:BMS fitting finished\n",
            "INFO:autora.theorist.bms.regressor:BMS fitting started\n"
          ]
        },
        {
          "name": "stdout",
          "output_type": "stream",
          "text": [
            "Sampling new experiment conditions...\n",
            "Obtaining observations...\n",
            "SIMULATION 1 / DISCOVERY CYCLE 3\n",
            "Fitting models on benchmark state...\n"
          ]
        },
        {
          "name": "stderr",
          "output_type": "stream",
          "text": [
            "100%|██████████| 20/20 [00:01<00:00, 15.10it/s]\n",
            "INFO:autora.theorist.bms.regressor:BMS fitting finished\n",
            "INFO:autora.theorist.bms.regressor:BMS fitting started\n"
          ]
        },
        {
          "name": "stdout",
          "output_type": "stream",
          "text": [
            "Fitting models on working state...\n"
          ]
        },
        {
          "name": "stderr",
          "output_type": "stream",
          "text": [
            "100%|██████████| 20/20 [00:01<00:00, 12.95it/s]\n",
            "INFO:autora.theorist.bms.regressor:BMS fitting finished\n",
            "INFO:autora.theorist.bms.regressor:BMS fitting started\n"
          ]
        },
        {
          "name": "stdout",
          "output_type": "stream",
          "text": [
            "Sampling new experiment conditions...\n",
            "Obtaining observations...\n",
            "SIMULATION 1 / DISCOVERY CYCLE 4\n",
            "Fitting models on benchmark state...\n"
          ]
        },
        {
          "name": "stderr",
          "output_type": "stream",
          "text": [
            "100%|██████████| 20/20 [00:01<00:00, 13.40it/s]\n",
            "INFO:autora.theorist.bms.regressor:BMS fitting finished\n",
            "INFO:autora.theorist.bms.regressor:BMS fitting started\n"
          ]
        },
        {
          "name": "stdout",
          "output_type": "stream",
          "text": [
            "Fitting models on working state...\n"
          ]
        },
        {
          "name": "stderr",
          "output_type": "stream",
          "text": [
            "100%|██████████| 20/20 [00:01<00:00, 12.94it/s]\n",
            "INFO:autora.theorist.bms.regressor:BMS fitting finished\n",
            "INFO:autora.theorist.bms.regressor:BMS fitting started\n"
          ]
        },
        {
          "name": "stdout",
          "output_type": "stream",
          "text": [
            "Sampling new experiment conditions...\n",
            "Obtaining observations...\n",
            "SIMULATION 1 / DISCOVERY CYCLE 5\n",
            "Fitting models on benchmark state...\n"
          ]
        },
        {
          "name": "stderr",
          "output_type": "stream",
          "text": [
            "100%|██████████| 20/20 [00:01<00:00, 13.39it/s]\n",
            "INFO:autora.theorist.bms.regressor:BMS fitting finished\n",
            "INFO:autora.theorist.bms.regressor:BMS fitting started\n"
          ]
        },
        {
          "name": "stdout",
          "output_type": "stream",
          "text": [
            "Fitting models on working state...\n"
          ]
        },
        {
          "name": "stderr",
          "output_type": "stream",
          "text": [
            "100%|██████████| 20/20 [00:01<00:00, 13.42it/s]\n",
            "INFO:autora.theorist.bms.regressor:BMS fitting finished\n",
            "INFO:autora.theorist.bms.regressor:BMS fitting started\n"
          ]
        },
        {
          "name": "stdout",
          "output_type": "stream",
          "text": [
            "Sampling new experiment conditions...\n",
            "Obtaining observations...\n",
            "SIMULATION 1 / DISCOVERY CYCLE 6\n",
            "Fitting models on benchmark state...\n"
          ]
        },
        {
          "name": "stderr",
          "output_type": "stream",
          "text": [
            "100%|██████████| 20/20 [00:01<00:00, 15.52it/s]\n",
            "INFO:autora.theorist.bms.regressor:BMS fitting finished\n",
            "INFO:autora.theorist.bms.regressor:BMS fitting started\n"
          ]
        },
        {
          "name": "stdout",
          "output_type": "stream",
          "text": [
            "Fitting models on working state...\n"
          ]
        },
        {
          "name": "stderr",
          "output_type": "stream",
          "text": [
            "100%|██████████| 20/20 [00:01<00:00, 14.49it/s]\n",
            "INFO:autora.theorist.bms.regressor:BMS fitting finished\n",
            "INFO:autora.theorist.bms.regressor:BMS fitting started\n"
          ]
        },
        {
          "name": "stdout",
          "output_type": "stream",
          "text": [
            "Sampling new experiment conditions...\n",
            "Obtaining observations...\n",
            "SIMULATION 1 / DISCOVERY CYCLE 7\n",
            "Fitting models on benchmark state...\n"
          ]
        },
        {
          "name": "stderr",
          "output_type": "stream",
          "text": [
            "100%|██████████| 20/20 [00:01<00:00, 14.72it/s]\n",
            "INFO:autora.theorist.bms.regressor:BMS fitting finished\n",
            "INFO:autora.theorist.bms.regressor:BMS fitting started\n"
          ]
        },
        {
          "name": "stdout",
          "output_type": "stream",
          "text": [
            "Fitting models on working state...\n"
          ]
        },
        {
          "name": "stderr",
          "output_type": "stream",
          "text": [
            "100%|██████████| 20/20 [00:01<00:00, 16.38it/s]\n",
            "INFO:autora.theorist.bms.regressor:BMS fitting finished\n",
            "INFO:autora.theorist.bms.regressor:BMS fitting started\n"
          ]
        },
        {
          "name": "stdout",
          "output_type": "stream",
          "text": [
            "Sampling new experiment conditions...\n",
            "Obtaining observations...\n",
            "SIMULATION 1 / DISCOVERY CYCLE 8\n",
            "Fitting models on benchmark state...\n"
          ]
        },
        {
          "name": "stderr",
          "output_type": "stream",
          "text": [
            "100%|██████████| 20/20 [00:01<00:00, 16.09it/s]\n",
            "INFO:autora.theorist.bms.regressor:BMS fitting finished\n",
            "INFO:autora.theorist.bms.regressor:BMS fitting started\n"
          ]
        },
        {
          "name": "stdout",
          "output_type": "stream",
          "text": [
            "Fitting models on working state...\n"
          ]
        },
        {
          "name": "stderr",
          "output_type": "stream",
          "text": [
            "100%|██████████| 20/20 [00:01<00:00, 15.01it/s]\n",
            "INFO:autora.theorist.bms.regressor:BMS fitting finished\n",
            "INFO:autora.theorist.bms.regressor:BMS fitting started\n"
          ]
        },
        {
          "name": "stdout",
          "output_type": "stream",
          "text": [
            "Sampling new experiment conditions...\n",
            "Obtaining observations...\n",
            "SIMULATION 1 / DISCOVERY CYCLE 9\n",
            "Fitting models on benchmark state...\n"
          ]
        },
        {
          "name": "stderr",
          "output_type": "stream",
          "text": [
            "100%|██████████| 20/20 [00:01<00:00, 13.70it/s]\n",
            "INFO:autora.theorist.bms.regressor:BMS fitting finished\n",
            "INFO:autora.theorist.bms.regressor:BMS fitting started\n"
          ]
        },
        {
          "name": "stdout",
          "output_type": "stream",
          "text": [
            "Fitting models on working state...\n"
          ]
        },
        {
          "name": "stderr",
          "output_type": "stream",
          "text": [
            "100%|██████████| 20/20 [00:01<00:00, 13.86it/s]\n",
            "INFO:autora.theorist.bms.regressor:BMS fitting finished\n",
            "INFO:autora.theorist.bms.regressor:BMS fitting started\n"
          ]
        },
        {
          "name": "stdout",
          "output_type": "stream",
          "text": [
            "Sampling new experiment conditions...\n",
            "Obtaining observations...\n",
            "SIMULATION 1 / DISCOVERY CYCLE 10\n",
            "Fitting models on benchmark state...\n"
          ]
        },
        {
          "name": "stderr",
          "output_type": "stream",
          "text": [
            "100%|██████████| 20/20 [00:01<00:00, 15.08it/s]\n",
            "INFO:autora.theorist.bms.regressor:BMS fitting finished\n",
            "INFO:autora.theorist.bms.regressor:BMS fitting started\n"
          ]
        },
        {
          "name": "stdout",
          "output_type": "stream",
          "text": [
            "Fitting models on working state...\n"
          ]
        },
        {
          "name": "stderr",
          "output_type": "stream",
          "text": [
            "100%|██████████| 20/20 [00:01<00:00, 15.01it/s]\n",
            "INFO:autora.theorist.bms.regressor:BMS fitting finished\n",
            "INFO:autora.theorist.bms.regressor:BMS fitting started\n"
          ]
        },
        {
          "name": "stdout",
          "output_type": "stream",
          "text": [
            "Sampling new experiment conditions...\n",
            "Obtaining observations...\n",
            "SIMULATION 1 / DISCOVERY CYCLE 11\n",
            "Fitting models on benchmark state...\n"
          ]
        },
        {
          "name": "stderr",
          "output_type": "stream",
          "text": [
            "100%|██████████| 20/20 [00:01<00:00, 16.20it/s]\n",
            "INFO:autora.theorist.bms.regressor:BMS fitting finished\n",
            "INFO:autora.theorist.bms.regressor:BMS fitting started\n"
          ]
        },
        {
          "name": "stdout",
          "output_type": "stream",
          "text": [
            "Fitting models on working state...\n"
          ]
        },
        {
          "name": "stderr",
          "output_type": "stream",
          "text": [
            "100%|██████████| 20/20 [00:01<00:00, 13.98it/s]\n",
            "INFO:autora.theorist.bms.regressor:BMS fitting finished\n",
            "INFO:autora.theorist.bms.regressor:BMS fitting started\n"
          ]
        },
        {
          "name": "stdout",
          "output_type": "stream",
          "text": [
            "Sampling new experiment conditions...\n",
            "Obtaining observations...\n",
            "SIMULATION 1 / DISCOVERY CYCLE 12\n",
            "Fitting models on benchmark state...\n"
          ]
        },
        {
          "name": "stderr",
          "output_type": "stream",
          "text": [
            "100%|██████████| 20/20 [00:01<00:00, 13.89it/s]\n",
            "INFO:autora.theorist.bms.regressor:BMS fitting finished\n",
            "INFO:autora.theorist.bms.regressor:BMS fitting started\n"
          ]
        },
        {
          "name": "stdout",
          "output_type": "stream",
          "text": [
            "Fitting models on working state...\n"
          ]
        },
        {
          "name": "stderr",
          "output_type": "stream",
          "text": [
            "100%|██████████| 20/20 [00:01<00:00, 12.43it/s]\n",
            "INFO:autora.theorist.bms.regressor:BMS fitting finished\n",
            "INFO:autora.theorist.bms.regressor:BMS fitting started\n"
          ]
        },
        {
          "name": "stdout",
          "output_type": "stream",
          "text": [
            "Sampling new experiment conditions...\n",
            "Obtaining observations...\n",
            "SIMULATION 1 / DISCOVERY CYCLE 13\n",
            "Fitting models on benchmark state...\n"
          ]
        },
        {
          "name": "stderr",
          "output_type": "stream",
          "text": [
            "100%|██████████| 20/20 [00:01<00:00, 14.34it/s]\n",
            "INFO:autora.theorist.bms.regressor:BMS fitting finished\n",
            "INFO:autora.theorist.bms.regressor:BMS fitting started\n"
          ]
        },
        {
          "name": "stdout",
          "output_type": "stream",
          "text": [
            "Fitting models on working state...\n"
          ]
        },
        {
          "name": "stderr",
          "output_type": "stream",
          "text": [
            "100%|██████████| 20/20 [00:01<00:00, 14.88it/s]\n",
            "INFO:autora.theorist.bms.regressor:BMS fitting finished\n",
            "INFO:autora.theorist.bms.regressor:BMS fitting started\n"
          ]
        },
        {
          "name": "stdout",
          "output_type": "stream",
          "text": [
            "Sampling new experiment conditions...\n",
            "Obtaining observations...\n",
            "SIMULATION 1 / DISCOVERY CYCLE 14\n",
            "Fitting models on benchmark state...\n"
          ]
        },
        {
          "name": "stderr",
          "output_type": "stream",
          "text": [
            "100%|██████████| 20/20 [00:01<00:00, 14.44it/s]\n",
            "INFO:autora.theorist.bms.regressor:BMS fitting finished\n",
            "INFO:autora.theorist.bms.regressor:BMS fitting started\n"
          ]
        },
        {
          "name": "stdout",
          "output_type": "stream",
          "text": [
            "Fitting models on working state...\n"
          ]
        },
        {
          "name": "stderr",
          "output_type": "stream",
          "text": [
            "100%|██████████| 20/20 [00:01<00:00, 14.28it/s]\n",
            "INFO:autora.theorist.bms.regressor:BMS fitting finished\n",
            "INFO:autora.theorist.bms.regressor:BMS fitting started\n"
          ]
        },
        {
          "name": "stdout",
          "output_type": "stream",
          "text": [
            "Sampling new experiment conditions...\n",
            "Obtaining observations...\n",
            "SIMULATION 1 / DISCOVERY CYCLE 15\n",
            "Fitting models on benchmark state...\n"
          ]
        },
        {
          "name": "stderr",
          "output_type": "stream",
          "text": [
            "100%|██████████| 20/20 [00:01<00:00, 14.43it/s]\n",
            "INFO:autora.theorist.bms.regressor:BMS fitting finished\n",
            "INFO:autora.theorist.bms.regressor:BMS fitting started\n"
          ]
        },
        {
          "name": "stdout",
          "output_type": "stream",
          "text": [
            "Fitting models on working state...\n"
          ]
        },
        {
          "name": "stderr",
          "output_type": "stream",
          "text": [
            "100%|██████████| 20/20 [00:01<00:00, 14.78it/s]\n",
            "INFO:autora.theorist.bms.regressor:BMS fitting finished\n",
            "INFO:autora.theorist.bms.regressor:BMS fitting started\n"
          ]
        },
        {
          "name": "stdout",
          "output_type": "stream",
          "text": [
            "Sampling new experiment conditions...\n",
            "Obtaining observations...\n",
            "SIMULATION 1 / DISCOVERY CYCLE 16\n",
            "Fitting models on benchmark state...\n"
          ]
        },
        {
          "name": "stderr",
          "output_type": "stream",
          "text": [
            "100%|██████████| 20/20 [00:01<00:00, 15.46it/s]\n",
            "INFO:autora.theorist.bms.regressor:BMS fitting finished\n",
            "INFO:autora.theorist.bms.regressor:BMS fitting started\n"
          ]
        },
        {
          "name": "stdout",
          "output_type": "stream",
          "text": [
            "Fitting models on working state...\n"
          ]
        },
        {
          "name": "stderr",
          "output_type": "stream",
          "text": [
            "100%|██████████| 20/20 [00:01<00:00, 14.90it/s]\n",
            "INFO:autora.theorist.bms.regressor:BMS fitting finished\n",
            "INFO:autora.theorist.bms.regressor:BMS fitting started\n"
          ]
        },
        {
          "name": "stdout",
          "output_type": "stream",
          "text": [
            "Sampling new experiment conditions...\n",
            "Obtaining observations...\n",
            "SIMULATION 1 / DISCOVERY CYCLE 17\n",
            "Fitting models on benchmark state...\n"
          ]
        },
        {
          "name": "stderr",
          "output_type": "stream",
          "text": [
            "100%|██████████| 20/20 [00:01<00:00, 14.42it/s]\n",
            "INFO:autora.theorist.bms.regressor:BMS fitting finished\n",
            "INFO:autora.theorist.bms.regressor:BMS fitting started\n"
          ]
        },
        {
          "name": "stdout",
          "output_type": "stream",
          "text": [
            "Fitting models on working state...\n"
          ]
        },
        {
          "name": "stderr",
          "output_type": "stream",
          "text": [
            "100%|██████████| 20/20 [00:01<00:00, 14.91it/s]\n",
            "INFO:autora.theorist.bms.regressor:BMS fitting finished\n",
            "INFO:autora.theorist.bms.regressor:BMS fitting started\n"
          ]
        },
        {
          "name": "stdout",
          "output_type": "stream",
          "text": [
            "Sampling new experiment conditions...\n",
            "Obtaining observations...\n",
            "SIMULATION 1 / DISCOVERY CYCLE 18\n",
            "Fitting models on benchmark state...\n"
          ]
        },
        {
          "name": "stderr",
          "output_type": "stream",
          "text": [
            "100%|██████████| 20/20 [00:01<00:00, 16.93it/s]\n",
            "INFO:autora.theorist.bms.regressor:BMS fitting finished\n",
            "INFO:autora.theorist.bms.regressor:BMS fitting started\n"
          ]
        },
        {
          "name": "stdout",
          "output_type": "stream",
          "text": [
            "Fitting models on working state...\n"
          ]
        },
        {
          "name": "stderr",
          "output_type": "stream",
          "text": [
            "100%|██████████| 20/20 [00:01<00:00, 14.91it/s]\n",
            "INFO:autora.theorist.bms.regressor:BMS fitting finished\n",
            "INFO:autora.theorist.bms.regressor:BMS fitting started\n"
          ]
        },
        {
          "name": "stdout",
          "output_type": "stream",
          "text": [
            "Sampling new experiment conditions...\n",
            "Obtaining observations...\n",
            "SIMULATION 1 / DISCOVERY CYCLE 19\n",
            "Fitting models on benchmark state...\n"
          ]
        },
        {
          "name": "stderr",
          "output_type": "stream",
          "text": [
            "100%|██████████| 20/20 [00:01<00:00, 16.00it/s]\n",
            "INFO:autora.theorist.bms.regressor:BMS fitting finished\n",
            "INFO:autora.theorist.bms.regressor:BMS fitting started\n"
          ]
        },
        {
          "name": "stdout",
          "output_type": "stream",
          "text": [
            "Fitting models on working state...\n"
          ]
        },
        {
          "name": "stderr",
          "output_type": "stream",
          "text": [
            "100%|██████████| 20/20 [00:01<00:00, 14.57it/s]\n",
            "INFO:autora.theorist.bms.regressor:BMS fitting finished\n",
            "INFO:autora.theorist.bms.regressor:BMS fitting started\n"
          ]
        },
        {
          "name": "stdout",
          "output_type": "stream",
          "text": [
            "Sampling new experiment conditions...\n",
            "Obtaining observations...\n",
            "SIMULATION 2 / DISCOVERY CYCLE 0\n",
            "Fitting models on benchmark state...\n"
          ]
        },
        {
          "name": "stderr",
          "output_type": "stream",
          "text": [
            "100%|██████████| 20/20 [00:01<00:00, 16.94it/s]\n",
            "INFO:autora.theorist.bms.regressor:BMS fitting finished\n",
            "INFO:autora.theorist.bms.regressor:BMS fitting started\n"
          ]
        },
        {
          "name": "stdout",
          "output_type": "stream",
          "text": [
            "Fitting models on working state...\n"
          ]
        },
        {
          "name": "stderr",
          "output_type": "stream",
          "text": [
            "100%|██████████| 20/20 [00:01<00:00, 16.40it/s]\n",
            "INFO:autora.theorist.bms.regressor:BMS fitting finished\n",
            "INFO:autora.theorist.bms.regressor:BMS fitting started\n"
          ]
        },
        {
          "name": "stdout",
          "output_type": "stream",
          "text": [
            "Sampling new experiment conditions...\n",
            "Obtaining observations...\n",
            "SIMULATION 2 / DISCOVERY CYCLE 1\n",
            "Fitting models on benchmark state...\n"
          ]
        },
        {
          "name": "stderr",
          "output_type": "stream",
          "text": [
            "100%|██████████| 20/20 [00:01<00:00, 14.13it/s]\n",
            "INFO:autora.theorist.bms.regressor:BMS fitting finished\n",
            "INFO:autora.theorist.bms.regressor:BMS fitting started\n"
          ]
        },
        {
          "name": "stdout",
          "output_type": "stream",
          "text": [
            "Fitting models on working state...\n"
          ]
        },
        {
          "name": "stderr",
          "output_type": "stream",
          "text": [
            "100%|██████████| 20/20 [00:01<00:00, 15.77it/s]\n",
            "INFO:autora.theorist.bms.regressor:BMS fitting finished\n",
            "INFO:autora.theorist.bms.regressor:BMS fitting started\n"
          ]
        },
        {
          "name": "stdout",
          "output_type": "stream",
          "text": [
            "Sampling new experiment conditions...\n",
            "Obtaining observations...\n",
            "SIMULATION 2 / DISCOVERY CYCLE 2\n",
            "Fitting models on benchmark state...\n"
          ]
        },
        {
          "name": "stderr",
          "output_type": "stream",
          "text": [
            "100%|██████████| 20/20 [00:01<00:00, 15.10it/s]\n",
            "INFO:autora.theorist.bms.regressor:BMS fitting finished\n",
            "INFO:autora.theorist.bms.regressor:BMS fitting started\n"
          ]
        },
        {
          "name": "stdout",
          "output_type": "stream",
          "text": [
            "Fitting models on working state...\n"
          ]
        },
        {
          "name": "stderr",
          "output_type": "stream",
          "text": [
            "100%|██████████| 20/20 [00:01<00:00, 14.30it/s]\n",
            "INFO:autora.theorist.bms.regressor:BMS fitting finished\n",
            "INFO:autora.theorist.bms.regressor:BMS fitting started\n"
          ]
        },
        {
          "name": "stdout",
          "output_type": "stream",
          "text": [
            "Sampling new experiment conditions...\n",
            "Obtaining observations...\n",
            "SIMULATION 2 / DISCOVERY CYCLE 3\n",
            "Fitting models on benchmark state...\n"
          ]
        },
        {
          "name": "stderr",
          "output_type": "stream",
          "text": [
            "100%|██████████| 20/20 [00:01<00:00, 14.44it/s]\n",
            "INFO:autora.theorist.bms.regressor:BMS fitting finished\n",
            "INFO:autora.theorist.bms.regressor:BMS fitting started\n"
          ]
        },
        {
          "name": "stdout",
          "output_type": "stream",
          "text": [
            "Fitting models on working state...\n"
          ]
        },
        {
          "name": "stderr",
          "output_type": "stream",
          "text": [
            "100%|██████████| 20/20 [00:01<00:00, 15.00it/s]\n",
            "INFO:autora.theorist.bms.regressor:BMS fitting finished\n",
            "INFO:autora.theorist.bms.regressor:BMS fitting started\n"
          ]
        },
        {
          "name": "stdout",
          "output_type": "stream",
          "text": [
            "Sampling new experiment conditions...\n",
            "Obtaining observations...\n",
            "SIMULATION 2 / DISCOVERY CYCLE 4\n",
            "Fitting models on benchmark state...\n"
          ]
        },
        {
          "name": "stderr",
          "output_type": "stream",
          "text": [
            "100%|██████████| 20/20 [00:01<00:00, 14.09it/s]\n",
            "INFO:autora.theorist.bms.regressor:BMS fitting finished\n",
            "INFO:autora.theorist.bms.regressor:BMS fitting started\n"
          ]
        },
        {
          "name": "stdout",
          "output_type": "stream",
          "text": [
            "Fitting models on working state...\n"
          ]
        },
        {
          "name": "stderr",
          "output_type": "stream",
          "text": [
            "100%|██████████| 20/20 [00:02<00:00,  8.31it/s]\n",
            "INFO:autora.theorist.bms.regressor:BMS fitting finished\n",
            "INFO:autora.theorist.bms.regressor:BMS fitting started\n"
          ]
        },
        {
          "name": "stdout",
          "output_type": "stream",
          "text": [
            "Sampling new experiment conditions...\n",
            "Obtaining observations...\n",
            "SIMULATION 2 / DISCOVERY CYCLE 5\n",
            "Fitting models on benchmark state...\n"
          ]
        },
        {
          "name": "stderr",
          "output_type": "stream",
          "text": [
            "100%|██████████| 20/20 [00:01<00:00, 13.63it/s]\n",
            "INFO:autora.theorist.bms.regressor:BMS fitting finished\n",
            "INFO:autora.theorist.bms.regressor:BMS fitting started\n"
          ]
        },
        {
          "name": "stdout",
          "output_type": "stream",
          "text": [
            "Fitting models on working state...\n"
          ]
        },
        {
          "name": "stderr",
          "output_type": "stream",
          "text": [
            "100%|██████████| 20/20 [00:01<00:00, 11.30it/s]\n",
            "INFO:autora.theorist.bms.regressor:BMS fitting finished\n",
            "INFO:autora.theorist.bms.regressor:BMS fitting started\n"
          ]
        },
        {
          "name": "stdout",
          "output_type": "stream",
          "text": [
            "Sampling new experiment conditions...\n",
            "Obtaining observations...\n",
            "SIMULATION 2 / DISCOVERY CYCLE 6\n",
            "Fitting models on benchmark state...\n"
          ]
        },
        {
          "name": "stderr",
          "output_type": "stream",
          "text": [
            "100%|██████████| 20/20 [00:01<00:00, 12.93it/s]\n",
            "INFO:autora.theorist.bms.regressor:BMS fitting finished\n",
            "INFO:autora.theorist.bms.regressor:BMS fitting started\n"
          ]
        },
        {
          "name": "stdout",
          "output_type": "stream",
          "text": [
            "Fitting models on working state...\n"
          ]
        },
        {
          "name": "stderr",
          "output_type": "stream",
          "text": [
            "100%|██████████| 20/20 [00:01<00:00, 13.45it/s]\n",
            "INFO:autora.theorist.bms.regressor:BMS fitting finished\n",
            "INFO:autora.theorist.bms.regressor:BMS fitting started\n"
          ]
        },
        {
          "name": "stdout",
          "output_type": "stream",
          "text": [
            "Sampling new experiment conditions...\n",
            "Obtaining observations...\n",
            "SIMULATION 2 / DISCOVERY CYCLE 7\n",
            "Fitting models on benchmark state...\n"
          ]
        },
        {
          "name": "stderr",
          "output_type": "stream",
          "text": [
            "100%|██████████| 20/20 [00:01<00:00, 13.35it/s]\n",
            "INFO:autora.theorist.bms.regressor:BMS fitting finished\n",
            "INFO:autora.theorist.bms.regressor:BMS fitting started\n"
          ]
        },
        {
          "name": "stdout",
          "output_type": "stream",
          "text": [
            "Fitting models on working state...\n"
          ]
        },
        {
          "name": "stderr",
          "output_type": "stream",
          "text": [
            "100%|██████████| 20/20 [00:01<00:00, 15.07it/s]\n",
            "INFO:autora.theorist.bms.regressor:BMS fitting finished\n",
            "INFO:autora.theorist.bms.regressor:BMS fitting started\n"
          ]
        },
        {
          "name": "stdout",
          "output_type": "stream",
          "text": [
            "Sampling new experiment conditions...\n",
            "Obtaining observations...\n",
            "SIMULATION 2 / DISCOVERY CYCLE 8\n",
            "Fitting models on benchmark state...\n"
          ]
        },
        {
          "name": "stderr",
          "output_type": "stream",
          "text": [
            "100%|██████████| 20/20 [00:01<00:00, 12.94it/s]\n",
            "INFO:autora.theorist.bms.regressor:BMS fitting finished\n",
            "INFO:autora.theorist.bms.regressor:BMS fitting started\n"
          ]
        },
        {
          "name": "stdout",
          "output_type": "stream",
          "text": [
            "Fitting models on working state...\n"
          ]
        },
        {
          "name": "stderr",
          "output_type": "stream",
          "text": [
            "100%|██████████| 20/20 [00:01<00:00, 15.06it/s]\n",
            "INFO:autora.theorist.bms.regressor:BMS fitting finished\n",
            "INFO:autora.theorist.bms.regressor:BMS fitting started\n"
          ]
        },
        {
          "name": "stdout",
          "output_type": "stream",
          "text": [
            "Sampling new experiment conditions...\n",
            "Obtaining observations...\n",
            "SIMULATION 2 / DISCOVERY CYCLE 9\n",
            "Fitting models on benchmark state...\n"
          ]
        },
        {
          "name": "stderr",
          "output_type": "stream",
          "text": [
            "100%|██████████| 20/20 [00:01<00:00, 16.25it/s]\n",
            "INFO:autora.theorist.bms.regressor:BMS fitting finished\n",
            "INFO:autora.theorist.bms.regressor:BMS fitting started\n"
          ]
        },
        {
          "name": "stdout",
          "output_type": "stream",
          "text": [
            "Fitting models on working state...\n"
          ]
        },
        {
          "name": "stderr",
          "output_type": "stream",
          "text": [
            "100%|██████████| 20/20 [00:01<00:00, 13.67it/s]\n",
            "INFO:autora.theorist.bms.regressor:BMS fitting finished\n",
            "INFO:autora.theorist.bms.regressor:BMS fitting started\n"
          ]
        },
        {
          "name": "stdout",
          "output_type": "stream",
          "text": [
            "Sampling new experiment conditions...\n",
            "Obtaining observations...\n",
            "SIMULATION 2 / DISCOVERY CYCLE 10\n",
            "Fitting models on benchmark state...\n"
          ]
        },
        {
          "name": "stderr",
          "output_type": "stream",
          "text": [
            "100%|██████████| 20/20 [00:01<00:00, 13.98it/s]\n",
            "INFO:autora.theorist.bms.regressor:BMS fitting finished\n",
            "INFO:autora.theorist.bms.regressor:BMS fitting started\n"
          ]
        },
        {
          "name": "stdout",
          "output_type": "stream",
          "text": [
            "Fitting models on working state...\n"
          ]
        },
        {
          "name": "stderr",
          "output_type": "stream",
          "text": [
            "100%|██████████| 20/20 [00:01<00:00, 14.28it/s]\n",
            "INFO:autora.theorist.bms.regressor:BMS fitting finished\n",
            "INFO:autora.theorist.bms.regressor:BMS fitting started\n"
          ]
        },
        {
          "name": "stdout",
          "output_type": "stream",
          "text": [
            "Sampling new experiment conditions...\n",
            "Obtaining observations...\n",
            "SIMULATION 2 / DISCOVERY CYCLE 11\n",
            "Fitting models on benchmark state...\n"
          ]
        },
        {
          "name": "stderr",
          "output_type": "stream",
          "text": [
            "100%|██████████| 20/20 [00:01<00:00, 16.88it/s]\n",
            "INFO:autora.theorist.bms.regressor:BMS fitting finished\n",
            "INFO:autora.theorist.bms.regressor:BMS fitting started\n"
          ]
        },
        {
          "name": "stdout",
          "output_type": "stream",
          "text": [
            "Fitting models on working state...\n"
          ]
        },
        {
          "name": "stderr",
          "output_type": "stream",
          "text": [
            "100%|██████████| 20/20 [00:01<00:00, 14.20it/s]\n",
            "INFO:autora.theorist.bms.regressor:BMS fitting finished\n",
            "INFO:autora.theorist.bms.regressor:BMS fitting started\n"
          ]
        },
        {
          "name": "stdout",
          "output_type": "stream",
          "text": [
            "Sampling new experiment conditions...\n",
            "Obtaining observations...\n",
            "SIMULATION 2 / DISCOVERY CYCLE 12\n",
            "Fitting models on benchmark state...\n"
          ]
        },
        {
          "name": "stderr",
          "output_type": "stream",
          "text": [
            "100%|██████████| 20/20 [00:01<00:00, 14.64it/s]\n",
            "INFO:autora.theorist.bms.regressor:BMS fitting finished\n",
            "INFO:autora.theorist.bms.regressor:BMS fitting started\n"
          ]
        },
        {
          "name": "stdout",
          "output_type": "stream",
          "text": [
            "Fitting models on working state...\n"
          ]
        },
        {
          "name": "stderr",
          "output_type": "stream",
          "text": [
            "100%|██████████| 20/20 [00:01<00:00, 15.88it/s]\n",
            "INFO:autora.theorist.bms.regressor:BMS fitting finished\n",
            "INFO:autora.theorist.bms.regressor:BMS fitting started\n"
          ]
        },
        {
          "name": "stdout",
          "output_type": "stream",
          "text": [
            "Sampling new experiment conditions...\n",
            "Obtaining observations...\n",
            "SIMULATION 2 / DISCOVERY CYCLE 13\n",
            "Fitting models on benchmark state...\n"
          ]
        },
        {
          "name": "stderr",
          "output_type": "stream",
          "text": [
            "100%|██████████| 20/20 [00:01<00:00, 14.92it/s]\n",
            "INFO:autora.theorist.bms.regressor:BMS fitting finished\n",
            "INFO:autora.theorist.bms.regressor:BMS fitting started\n"
          ]
        },
        {
          "name": "stdout",
          "output_type": "stream",
          "text": [
            "Fitting models on working state...\n"
          ]
        },
        {
          "name": "stderr",
          "output_type": "stream",
          "text": [
            "100%|██████████| 20/20 [00:01<00:00, 12.45it/s]\n",
            "INFO:autora.theorist.bms.regressor:BMS fitting finished\n",
            "INFO:autora.theorist.bms.regressor:BMS fitting started\n"
          ]
        },
        {
          "name": "stdout",
          "output_type": "stream",
          "text": [
            "Sampling new experiment conditions...\n",
            "Obtaining observations...\n",
            "SIMULATION 2 / DISCOVERY CYCLE 14\n",
            "Fitting models on benchmark state...\n"
          ]
        },
        {
          "name": "stderr",
          "output_type": "stream",
          "text": [
            "100%|██████████| 20/20 [00:01<00:00, 16.01it/s]\n",
            "INFO:autora.theorist.bms.regressor:BMS fitting finished\n",
            "INFO:autora.theorist.bms.regressor:BMS fitting started\n"
          ]
        },
        {
          "name": "stdout",
          "output_type": "stream",
          "text": [
            "Fitting models on working state...\n"
          ]
        },
        {
          "name": "stderr",
          "output_type": "stream",
          "text": [
            "100%|██████████| 20/20 [00:01<00:00, 16.57it/s]\n",
            "INFO:autora.theorist.bms.regressor:BMS fitting finished\n",
            "INFO:autora.theorist.bms.regressor:BMS fitting started\n"
          ]
        },
        {
          "name": "stdout",
          "output_type": "stream",
          "text": [
            "Sampling new experiment conditions...\n",
            "Obtaining observations...\n",
            "SIMULATION 2 / DISCOVERY CYCLE 15\n",
            "Fitting models on benchmark state...\n"
          ]
        },
        {
          "name": "stderr",
          "output_type": "stream",
          "text": [
            "100%|██████████| 20/20 [00:01<00:00, 13.82it/s]\n",
            "INFO:autora.theorist.bms.regressor:BMS fitting finished\n",
            "INFO:autora.theorist.bms.regressor:BMS fitting started\n"
          ]
        },
        {
          "name": "stdout",
          "output_type": "stream",
          "text": [
            "Fitting models on working state...\n"
          ]
        },
        {
          "name": "stderr",
          "output_type": "stream",
          "text": [
            "100%|██████████| 20/20 [00:01<00:00, 13.12it/s]\n",
            "INFO:autora.theorist.bms.regressor:BMS fitting finished\n",
            "INFO:autora.theorist.bms.regressor:BMS fitting started\n"
          ]
        },
        {
          "name": "stdout",
          "output_type": "stream",
          "text": [
            "Sampling new experiment conditions...\n",
            "Obtaining observations...\n",
            "SIMULATION 2 / DISCOVERY CYCLE 16\n",
            "Fitting models on benchmark state...\n"
          ]
        },
        {
          "name": "stderr",
          "output_type": "stream",
          "text": [
            "100%|██████████| 20/20 [00:01<00:00, 13.69it/s]\n",
            "INFO:autora.theorist.bms.regressor:BMS fitting finished\n",
            "INFO:autora.theorist.bms.regressor:BMS fitting started\n"
          ]
        },
        {
          "name": "stdout",
          "output_type": "stream",
          "text": [
            "Fitting models on working state...\n"
          ]
        },
        {
          "name": "stderr",
          "output_type": "stream",
          "text": [
            "100%|██████████| 20/20 [00:01<00:00, 13.51it/s]\n",
            "INFO:autora.theorist.bms.regressor:BMS fitting finished\n",
            "INFO:autora.theorist.bms.regressor:BMS fitting started\n"
          ]
        },
        {
          "name": "stdout",
          "output_type": "stream",
          "text": [
            "Sampling new experiment conditions...\n",
            "Obtaining observations...\n",
            "SIMULATION 2 / DISCOVERY CYCLE 17\n",
            "Fitting models on benchmark state...\n"
          ]
        },
        {
          "name": "stderr",
          "output_type": "stream",
          "text": [
            "100%|██████████| 20/20 [00:01<00:00, 14.15it/s]\n",
            "INFO:autora.theorist.bms.regressor:BMS fitting finished\n",
            "INFO:autora.theorist.bms.regressor:BMS fitting started\n"
          ]
        },
        {
          "name": "stdout",
          "output_type": "stream",
          "text": [
            "Fitting models on working state...\n"
          ]
        },
        {
          "name": "stderr",
          "output_type": "stream",
          "text": [
            "100%|██████████| 20/20 [00:01<00:00, 14.37it/s]\n",
            "INFO:autora.theorist.bms.regressor:BMS fitting finished\n",
            "INFO:autora.theorist.bms.regressor:BMS fitting started\n"
          ]
        },
        {
          "name": "stdout",
          "output_type": "stream",
          "text": [
            "Sampling new experiment conditions...\n",
            "Obtaining observations...\n",
            "SIMULATION 2 / DISCOVERY CYCLE 18\n",
            "Fitting models on benchmark state...\n"
          ]
        },
        {
          "name": "stderr",
          "output_type": "stream",
          "text": [
            "100%|██████████| 20/20 [00:01<00:00, 13.31it/s]\n",
            "INFO:autora.theorist.bms.regressor:BMS fitting finished\n",
            "INFO:autora.theorist.bms.regressor:BMS fitting started\n"
          ]
        },
        {
          "name": "stdout",
          "output_type": "stream",
          "text": [
            "Fitting models on working state...\n"
          ]
        },
        {
          "name": "stderr",
          "output_type": "stream",
          "text": [
            "100%|██████████| 20/20 [00:01<00:00, 13.80it/s]\n",
            "INFO:autora.theorist.bms.regressor:BMS fitting finished\n",
            "INFO:autora.theorist.bms.regressor:BMS fitting started\n"
          ]
        },
        {
          "name": "stdout",
          "output_type": "stream",
          "text": [
            "Sampling new experiment conditions...\n",
            "Obtaining observations...\n",
            "SIMULATION 2 / DISCOVERY CYCLE 19\n",
            "Fitting models on benchmark state...\n"
          ]
        },
        {
          "name": "stderr",
          "output_type": "stream",
          "text": [
            "100%|██████████| 20/20 [00:01<00:00, 14.88it/s]\n",
            "INFO:autora.theorist.bms.regressor:BMS fitting finished\n",
            "INFO:autora.theorist.bms.regressor:BMS fitting started\n"
          ]
        },
        {
          "name": "stdout",
          "output_type": "stream",
          "text": [
            "Fitting models on working state...\n"
          ]
        },
        {
          "name": "stderr",
          "output_type": "stream",
          "text": [
            "100%|██████████| 20/20 [00:01<00:00, 14.66it/s]\n",
            "INFO:autora.theorist.bms.regressor:BMS fitting finished\n"
          ]
        },
        {
          "name": "stdout",
          "output_type": "stream",
          "text": [
            "Sampling new experiment conditions...\n",
            "Obtaining observations...\n"
          ]
        }
      ],
      "source": [
        "benchmark_MSE_plot_data = np.zeros([num_discovery_simulations, num_cycles])\n",
        "working_MSE_plot_data = np.zeros([num_discovery_simulations, num_cycles])\n",
        "\n",
        "for sim in range(num_discovery_simulations):\n",
        "  benchmark_MSE_log, working_MSE_log, benchmark_state, working_state = run_simulation(num_cycles, num_conditions_per_cycle, num_initial_conditions, bms_epochs, experiment_runner, sim)\n",
        "\n",
        "  benchmark_MSE_plot_data[sim, :] = benchmark_MSE_log\n",
        "  working_MSE_plot_data[sim, :] = working_MSE_log"
      ]
    },
    {
      "cell_type": "code",
      "execution_count": 41,
      "metadata": {
        "colab": {
          "base_uri": "https://localhost:8080/",
          "height": 488
        },
        "id": "5eL0nqtXhrAi",
        "outputId": "e024af5d-7078-4557-c783-4de00a5bdf69"
      },
      "outputs": [
        {
          "data": {
            "text/plain": [
              "<matplotlib.legend.Legend at 0x73ba94fa0cb0>"
            ]
          },
          "execution_count": 41,
          "metadata": {},
          "output_type": "execute_result"
        },
        {
          "data": {
            "image/png": "[encoded data removed]",
            "text/plain": [
              "<Figure size 640x480 with 1 Axes>"
            ]
          },
          "metadata": {},
          "output_type": "display_data"
        }
      ],
      "source": [
        "# plot the data with standard error\n",
        "plt.errorbar(np.arange(num_cycles), np.mean(benchmark_MSE_plot_data, axis=0), yerr=np.std(benchmark_MSE_plot_data, axis=0), label='benchmark_MSE_log')\n",
        "plt.errorbar(np.arange(num_cycles), np.mean(working_MSE_plot_data, axis=0), yerr=np.std(working_MSE_plot_data, axis=0), label='working_MSE_log')\n",
        "plt.xlabel('Sampled Data Points')\n",
        "plt.ylabel('MSE on Validation Set')\n",
        "plt.title('Averaged Discovery Simulations')\n",
        "plt.legend()"
      ]
    },
    {
      "cell_type": "markdown",
      "metadata": {
        "id": "RPPjmh_niqzO"
      },
      "source": [
        "## Ground Truth Model Descriptions"
      ]
    },
    {
      "cell_type": "markdown",
      "metadata": {
        "id": "HI7aHUNOZpbL"
      },
      "source": [
        "### Weber-Fechner-Law\n",
        "\n",
        "The Weber-Fechner law quantifies the minimum change in a stimulus required to be noticeable. Similar to Steven's power law, the greater the intensity of a stimulus, the larger the change needed to be perceivable. This relationship is hypothesized to be proportional to the logarithm of the ratio between the two stimuli:\n",
        "\n",
        "$\\text{perceived intensity} = \\log\\left(\\dfrac{S_1}{S_2}\\right)$\n",
        "\n",
        "\n",
        "where $S_1$ ($range: [0.01, 5.00]$) is the intensity of a physical stimulus (e.g., the luminosity of a lamp), $S_2$ ($range: [0.01, 5.00]$ ) is a reference stimulus (e.g., the luminosity of a background light), and $y$ is the perceived stimulus intensity (e.g. the perception of the lamp's luminosity)."
      ]
    },
    {
      "cell_type": "markdown",
      "metadata": {
        "id": "iZGn2XzoaUF0"
      },
      "source": [
        "### Expected Utility Model with Two Choice Options\n",
        "\n",
        "The expected utility model evaluates decision-making under uncertainty, quantifying the expected value of different choices based on their potential outcomes and associated probabilities. The model assumes that individuals aim to maximize their expected utility when faced with two options. Each option has a specific value and probability, influenced by a certain level of noise.\n",
        "\n",
        "For two choice options, the expected value of each option is calculated as follows:\n",
        "\n",
        "$$\n",
        "E_A = V_A \\times P_A\n",
        "$$\n",
        "\n",
        "$$\n",
        "E_B = V_B \\times P_B\n",
        "$$\n",
        "\n",
        "where:\n",
        "- $V_A$ and $V_B$ represent the values of options A and B respectively.\n",
        "- $P_A$ and $P_B$ represent the probabilities associated with these options.\n",
        "\n",
        "The probability of choosing option A $P_{\\text{choose}_A}$ is then determined using the softmax function, which considers the expected values of both options and a choice temperature parameter that influences the sensitivity to differences in expected values:\n",
        "\n",
        "$$\n",
        "P_{\\text{choose}_A} = \\frac{\\exp(E_A / \\beta)}{\\exp(E_A / \\beta) + \\exp(E_B / \\beta)}\n",
        "$$\n",
        "\n",
        "In this model:\n",
        "- $\\beta$ controls the degree of randomness in the choice, with higher values leading to more exploration and lower values leading to more deterministic choices based on the expected values.\n",
        "- The softmax function ensures that the probabilities sum to 1, providing a normalized measure of the likelihood of choosing each option.\n",
        "\n",
        "This model captures the influence of value, probability, and noise on decision-making, reflecting the complexity and variability of human choices under uncertainty.\n",
        "\n"
      ]
    },
    {
      "cell_type": "markdown",
      "metadata": {
        "id": "i0E46LLlixsD"
      },
      "source": [
        "### Shepard-Luce Choice Rule\n",
        "\n",
        "The Shepard-Luce choice rule, as adapted in Logan (2001),  posits that the likelihood of an individual assigning a target object, represented as $x$ , to a specific response category, represented as $i$, is proportional to their psychological similarity $\\eta_i(x)$. Here, we considered a version of the model that computes the probability of assigning the target object $x_1$ to one of two response categories, given a distractor object $x_2$:\n",
        "\n",
        "$y = p(``x_1 \\text{ is perceived as category 1''}) =\n",
        " \\frac{\\eta_1(x_1) \\cdot \\alpha}{\\eta_1(x_1) \\cdot \\alpha + \\eta_2(x_1) \\cdot \\alpha + \\eta_1(x_2) \\cdot (1 - \\alpha) + \\eta_2(x_2) \\cdot (1 - \\alpha)}$\n",
        "\n",
        "where $\\alpha = 0.8$ is an attentional bias toward processing the target object $x_1$, and variables $\\eta_i(x_j)$ ($range: [0.125, 10.00]$) are the psychological similarity between object $x_j$ and category $i$."
      ]
    }
  ],
  "metadata": {
    "colab": {
      "provenance": [],
      "toc_visible": true
    },
    "kernelspec": {
      "display_name": "Python 3",
      "language": "python",
      "name": "python3"
    },
    "language_info": {
      "codemirror_mode": {
        "name": "ipython",
        "version": 3
      },
      "file_extension": ".py",
      "mimetype": "text/x-python",
      "name": "python",
      "nbconvert_exporter": "python",
      "pygments_lexer": "ipython3",
      "version": "3.12.1"
    }
  },
  "nbformat": 4,
  "nbformat_minor": 0
}
