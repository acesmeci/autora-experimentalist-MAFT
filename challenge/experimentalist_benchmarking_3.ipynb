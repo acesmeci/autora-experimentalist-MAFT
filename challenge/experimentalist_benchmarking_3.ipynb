{
  "cells": [
    {
      "cell_type": "markdown",
      "metadata": {
        "id": "wmZ1RNydtCA1"
      },
      "source": [
        "# Introduction\n",
        "\n",
        "In this benchmarking challenge, you will be tasked to create an [AutoRA experimentalist](https://autoresearch.github.io/autora/experimentalist/) that efficiently samples experiments in order to advance model discovery.\n",
        "\n",
        "You can use this notebook to benchmark your experimentalist. Here, we will simulate a discovery experiment in which three different theorists are at work after each data collection cycle. You get to try out your experimentalist for two different ground truth models.\n",
        "\n",
        "## Workflow\n",
        "\n",
        "Your goal is to optimize the data collection process in the following workflow:\n",
        "\n",
        "1. Sample 10 initial data points\n",
        "2. Fit all theorists to those data points.\n",
        "\n",
        "For 20 data points:\n",
        "3. Pick a single novel data point using your experimentalist method. Your method may or may not take into account any of the theorists' models.\n",
        "4. Add the data point to the experiment data.\n",
        "5. Fit all theorists to the experiment data\n",
        "6. Repeat steps 3-6 until 20 data points were collected\n",
        "\n",
        "This workflow can be repeated two ground-truth models.\n",
        "\n",
        "\n",
        "\n",
        "\n",
        "\n",
        "\n"
      ]
    },
    {
      "cell_type": "markdown",
      "metadata": {
        "id": "Cvka_h_k3KhR"
      },
      "source": [
        "## Benchmarking Challenge Rules\n",
        "\n",
        "- All contributing teams must publish a pip package of their experimentalist (we recommend using a pre-release) or have a working git repository that can be installed via ``!pip install git+https://github.com/musslick/autora-experimentalist-example``\n",
        "- The package name must be ``autora-experimentalist-yourexperimentalist``\n",
        "- The **experimentalist must have a sample function (see [this guide](https://autoresearch.github.io/autora/contribute/modules/experimentalist/))**, and it must be **compatible with the state logic** in this notebook.\n",
        "\n",
        "- Teams will be ranked based on the final fit to a ground-truth model. Observations will be sampled across the entire domain of the ground-truth model. The rank will be accumulated across all benchmarking challenges. The team with the best accumulated rank will win a prize at the end of the workshop.\n",
        "- The teams must provide a **brief presentation** (less than 5 minutes) of their experimentalist just before the final evaluation. You may use [this template for your slides](https://docs.google.com/presentation/d/1qCKqH9uXkQmGqDmROh1Jn4UcauALkMRhqlbAHubns2Q/edit?usp=sharing).\n",
        "\n",
        "*Hint: You may take some inspiration (or come up with a combination of) the [existing experimentalists](https://autoresearch.github.io/autora/experimentalist/).*"
      ]
    },
    {
      "cell_type": "markdown",
      "metadata": {
        "id": "h--sPj7T3Nqc"
      },
      "source": [
        "## Grading\n",
        "\n",
        "- Due date: **August 30**\n",
        "- Submission: Through ``Stud.IP -> Tasks -> Experiment Sampling Challenge``\n",
        "\n",
        "The grading is independent of the outcome of the benchmarking challenge.\n",
        "\n",
        "The following points will be provided:\n",
        "- A demonstration of the theorist in the ``doc/Basic Usage.ipynb``:\n",
        "  -  2 points: Demonstrating how to use the experimentalist for sampling\n",
        "  -  8 points: Demonstrating how the expeirmentalist compares to random sampling. This should be done by simulating closed-loop discovery process with a theorist of your choice (e.g., autora-theorist-bms) on at least two ground-truth models (*Hint: You could use the benchmarking part of the notebook below as a starting point*).\n",
        "- The documentation of the experimentalist in ``doc/index.md`` must speak to the following information:\n",
        "  - 2 points: the inputs: Which inputs is your experiment sampling method considering and why?\n",
        "  - 2 points: sampling method: which sampling method are you using and why?\n",
        "- 2 points: The code contains at least two useful unit tests for the experimentalist method (either doc tests or separate tests)\n",
        "- 1 point: the contributors used issues to track bugs and work on features.\n",
        "- 1 point: the contributors used (helpful) code reviews for their PRs.\n",
        "- 1 point: Unit tests are automatically executed when a pull request is created.\n",
        "- 1 point: The documentation is hosted automatically.\n",
        "\n",
        "Finally, teams must outline the contributions of each team member in their submission on ``Stud.IP -> Tasks -> Experiment Sampling Challenge``.\n",
        "\n",
        "In total, you can obtain 20 points."
      ]
    },
    {
      "cell_type": "markdown",
      "metadata": {
        "id": "J4ICn4w03PdN"
      },
      "source": [
        "## Additional Resources\n",
        "\n",
        "- You can learn more about how to write AutoRA experimentalists in the [Contributor Guide](https://autoresearch.github.io/autora/contribute/modules/experimentalist/).\n",
        "\n",
        "- You can learn more about how to use AutoRA in the [User Tutorial](https://autoresearch.github.io/autora/tutorials/).\n",
        "\n",
        "- If you want to learn more about AutoRA states, you can check out [this tutorial on using AutoRA states](https://colab.research.google.com/drive/1yK1OBRpPZM1NgTMV9arHlE5j8xXjsGqq?usp=sharing)."
      ]
    },
    {
      "cell_type": "markdown",
      "metadata": {
        "id": "zowXxLUR3s8I"
      },
      "source": [
        "# Code for Benchmarking your Experimentalist"
      ]
    },
    {
      "cell_type": "markdown",
      "metadata": {
        "id": "an-QPQhcljHa"
      },
      "source": [
        "## Installation\n",
        "\n",
        "*Hint: You may want to add ``autora`` as a development dependency in your ``pyproject.tml``.*"
      ]
    },
    {
      "cell_type": "code",
      "execution_count": 1,
      "metadata": {
        "id": "8nzJmQwQlkh_"
      },
      "outputs": [],
      "source": [
        "%%capture\n",
        "!pip install autora\n",
        "!pip install autora[all-theorists]\n",
        "!pip install autora[all-experimentalists]"
      ]
    },
    {
      "cell_type": "markdown",
      "metadata": {
        "id": "dLi8_Zt-l_oz"
      },
      "source": [
        "## Imports"
      ]
    },
    {
      "cell_type": "code",
      "execution_count": null,
      "metadata": {
        "id": "Ty6AuO0iloHs"
      },
      "outputs": [],
      "source": [
        "# autora state\n",
        "from autora.state import State, StandardState, on_state, estimator_on_state, Delta, VariableCollection\n",
        "\n",
        "# experiment_runner\n",
        "from autora.experiment_runner.synthetic.psychology.luce_choice_ratio import luce_choice_ratio\n",
        "from autora.experiment_runner.synthetic.psychology.exp_learning import exp_learning\n",
        "from autora.experiment_runner.synthetic.economics.expected_value_theory import expected_value_theory\n",
        "from autora.experiment_runner.synthetic.psychophysics.weber_fechner_law import weber_fechner_law\n",
        "from autora.experiment_runner.synthetic.psychophysics.stevens_power_law import stevens_power_law\n",
        "\n",
        "# experimentalist\n",
        "from autora.experimentalist.grid import grid_pool\n",
        "from autora.experimentalist.random import random_pool, random_sample\n",
        "from autora.experimentalist.falsification import falsification_sample\n",
        "from autora.experimentalist.model_disagreement import model_disagreement_sample\n",
        "from autora.experimentalist.uncertainty import uncertainty_sample\n",
        "\n",
        "# theorist\n",
        "from autora.theorist.bms import BMSRegressor\n",
        "\n",
        "# sklearn\n",
        "from sklearn.base import BaseEstimator\n",
        "from sklearn.model_selection import train_test_split\n",
        "from sklearn import linear_model\n",
        "\n",
        "# general\n",
        "import numpy as np\n",
        "import pandas as pd\n",
        "import matplotlib.pyplot as plt\n",
        "from dataclasses import dataclass, field\n",
        "from typing import Optional, List\n"
      ]
    },
    {
      "cell_type": "markdown",
      "metadata": {
        "id": "VexBfX_UDjeZ"
      },
      "source": [
        "## AutoRA Components & State Wrappers\n",
        "\n",
        "First, we will need some theorists. Here, we will use three theorists simultaneously:\n",
        "- the Bayesian Machine Scientist\n",
        "- a polynomial theorist (from the Equation Discovery Challenge)\n",
        "- a linear regression theorist."
      ]
    },
    {
      "cell_type": "markdown",
      "metadata": {
        "id": "xKnfmcqMDmU5"
      },
      "source": [
        "### Polynomial Theorist\n",
        "\n",
        "Below, we will use a polynomial theorist for our discovery simulation. We saw that it did quite well in the equation discovery challenge, so why not give it a try."
      ]
    },
    {
      "cell_type": "code",
      "execution_count": 3,
      "metadata": {
        "id": "L3el1qBjD2K4"
      },
      "outputs": [],
      "source": [
        "from sklearn.preprocessing import PolynomialFeatures\n",
        "from sklearn.linear_model import LinearRegression\n",
        "\n",
        "class PolynomialRegressor:\n",
        "    \"\"\"\n",
        "    This theorist fits a polynomial function to the data.\n",
        "    \"\"\"\n",
        "\n",
        "    def __init__(self, degree: int = 3):\n",
        "      self.poly = PolynomialFeatures(degree=degree, include_bias=False)\n",
        "      self.model = LinearRegression()\n",
        "\n",
        "    def fit(self, x, y):\n",
        "      features = self.poly.fit_transform(x, y)\n",
        "      self.model.fit(features, y)\n",
        "      return self\n",
        "\n",
        "    def predict(self, x):\n",
        "      features = self.poly.fit_transform(x)\n",
        "      return self.model.predict(features)\n",
        "\n",
        "    def print_eqn(self):\n",
        "        # Extract the coefficients and intercept\n",
        "        coeffs = self.model.coef_\n",
        "        intercept = self.model.intercept_\n",
        "\n",
        "        # Handle multi-output case by iterating over each output's coefficients and intercept\n",
        "        if coeffs.ndim > 1:\n",
        "            for idx in range(coeffs.shape[0]):\n",
        "                equation = f\"y{idx+1} = {intercept[idx]:.3f}\"\n",
        "                feature_names = self.poly.get_feature_names_out()\n",
        "                for coef, feature in zip(coeffs[idx], feature_names):\n",
        "                    equation += f\" + ({coef:.3f}) * {feature}\"\n",
        "                print(equation)\n",
        "        else:\n",
        "            equation = f\"y = {intercept:.3f}\"\n",
        "            feature_names = self.poly.get_feature_names_out()\n",
        "            for coef, feature in zip(coeffs, feature_names):\n",
        "                equation += f\" + ({coef:.3f}) * {feature}\"\n",
        "            print(equation)\n",
        "\n"
      ]
    },
    {
      "cell_type": "markdown",
      "metadata": {
        "id": "s6lhZO-SI8LF"
      },
      "source": [
        "## AutoRA State\n",
        "\n",
        "Next, we define our AutoRA state which acts as modifiable \"bucket\" for all the data we are going to collect during the discovery cycle. Here, we will implement a more complicated AutoRA experiment in which we have simutlaneously fit 3 models (from 3 different theorists) and we want to keep track of all of them."
      ]
    },
    {
      "cell_type": "code",
      "execution_count": null,
      "metadata": {
        "id": "rUlJzPVbJRg_"
      },
      "outputs": [],
      "source": [
        "# SET UP STATE\n",
        "# Here, we use a non-standard State to be able to use a multiple models\n",
        "@dataclass(frozen=True)\n",
        "class CustomState(State):\n",
        "    variables: Optional[VariableCollection] = field(\n",
        "        default=None, metadata={\"delta\": \"replace\"}\n",
        "    )\n",
        "    conditions: Optional[pd.DataFrame] = field(\n",
        "        default=None, metadata={\"delta\": \"replace\", \"converter\": pd.DataFrame}\n",
        "    )\n",
        "    experiment_data: Optional[pd.DataFrame] = field(\n",
        "        default=None, metadata={\"delta\": \"extend\", \"converter\": pd.DataFrame}\n",
        "    )\n",
        "    models_bms: List[BaseEstimator] = field(\n",
        "        default_factory=list,\n",
        "        metadata={\"delta\": \"extend\"},\n",
        "    )\n",
        "    models_lr: List[BaseEstimator] = field(\n",
        "        default_factory=list,\n",
        "        metadata={\"delta\": \"extend\"},\n",
        "    )\n",
        "    models_polyr: List[BaseEstimator] = field(\n",
        "        default_factory=list,\n",
        "        metadata={\"delta\": \"extend\"},\n",
        "    )\n",
        "    reference_conditions: Optional[pd.DataFrame] = field(\n",
        "       default=None, metadata={\"delta\": \"replace\", \"converter\": pd.DataFrame} ## why are we using \"replace\" but not \"extend\"?\n",
        "    )\n"
      ]
    },
    {
      "cell_type": "markdown",
      "metadata": {
        "id": "Hl65zUC-I2vX"
      },
      "source": [
        "## AutoRA State Wrappers\n",
        "\n",
        "Next, we need to define a bunch of wrappers. These wrappers will make it easy to operate on the state. They specify which things are being pulled from the state and which things are being stored."
      ]
    },
    {
      "cell_type": "markdown",
      "metadata": {
        "id": "_ahabyf9J5RF"
      },
      "source": [
        "### Theorist Wrapper"
      ]
    },
    {
      "cell_type": "code",
      "execution_count": 5,
      "metadata": {
        "id": "07NSganHJ7Pf"
      },
      "outputs": [],
      "source": [
        "# state wrapper for all theorists\n",
        "@on_state()\n",
        "def theorists_on_state(experiment_data, variables, bms_epochs):\n",
        "\n",
        "  # extract conditions X and observations y from experiment data\n",
        "  ivs = [iv.name for iv in variables.independent_variables]\n",
        "  dvs = [dv.name for dv in variables.dependent_variables]\n",
        "  X = experiment_data[ivs]\n",
        "  y = experiment_data[dvs]\n",
        "\n",
        "  # initialize and fit theorists\n",
        "  theorist_bms = BMSRegressor(epochs=bms_epochs)\n",
        "  theorist_polyr = PolynomialRegressor()\n",
        "  theorist_lr = linear_model.LinearRegression()\n",
        "\n",
        "  return Delta(models_bms = [theorist_bms.fit(X, y)],\n",
        "               models_lr=[theorist_lr.fit(X, y)],\n",
        "               models_polyr=[theorist_polyr.fit(X, y)])"
      ]
    },
    {
      "cell_type": "markdown",
      "metadata": {
        "id": "7n4buGk3LEmB"
      },
      "source": [
        "### Experimentalist Wrappers"
      ]
    },
    {
      "cell_type": "code",
      "execution_count": null,
      "metadata": {
        "id": "Jx5eE7Y_AumK"
      },
      "outputs": [],
      "source": [
        "## Test3: Grid + novelty\n",
        "\n",
        "import numpy as np\n",
        "import pandas as pd\n",
        "from typing import Union\n",
        "\n",
        "def sample_dsdsadsa(\n",
        "        conditions: Union[pd.DataFrame, np.ndarray],  # already tested\n",
        "        reference_conditions: Union[pd.DataFrame, np.ndarray],  # full grid\n",
        "        num_samples: int = 1,\n",
        "        epsilon: float = 0.3,  # chance to pick random instead of novelty\n",
        "        random_state: int = None) -> pd.DataFrame:\n",
        "    \"\"\"\n",
        "    Grid + novelty experimentalist.\n",
        "\n",
        "    Args:\n",
        "        conditions: DataFrame of already tested conditions.\n",
        "        reference_conditions: DataFrame of full possible conditions (grid).\n",
        "        num_samples: Number of new experimental conditions to select.\n",
        "        epsilon: Probability of choosing random instead of novelty.\n",
        "        random_state: Seed for reproducibility.\n",
        "\n",
        "    Returns:\n",
        "        DataFrame of newly selected conditions.\n",
        "    \"\"\"\n",
        "    rng = np.random.default_rng(random_state) ## Ahmet: We could change this seed also, not sure!\n",
        "    # rng = np.random.default_rng(42) --> maybe like this, ChatGPT it!\n",
        "\n",
        "    # 1. Find candidates not yet tested\n",
        "    mask = ~reference_conditions.apply(tuple, axis=1).isin(conditions.apply(tuple, axis=1))\n",
        "    candidates = reference_conditions[mask]\n",
        "\n",
        "    if candidates.empty:\n",
        "        return pd.DataFrame()  # nothing left to sample\n",
        "\n",
        "    # 2. If no tested points yet, pick random\n",
        "    if conditions.empty:\n",
        "        return candidates.sample(num_samples, random_state=random_state)\n",
        "\n",
        "    # 3. Novelty score: distance to nearest tested point\n",
        "    tested_arr = conditions.to_numpy(dtype=float)\n",
        "    cand_arr = candidates.to_numpy(dtype=float)\n",
        "\n",
        "    def min_dist(cand):\n",
        "        return np.min(np.linalg.norm(tested_arr - cand, axis=1))\n",
        "\n",
        "    novelty_scores = np.apply_along_axis(min_dist, 1, cand_arr)\n",
        "\n",
        "    # 4. ε-random choice\n",
        "    if rng.random() < epsilon:\n",
        "        chosen = candidates.sample(num_samples, random_state=random_state)\n",
        "    else:\n",
        "        chosen_idx = np.argsort(-novelty_scores)[:num_samples]\n",
        "        chosen = candidates.iloc[chosen_idx]\n",
        "\n",
        "    #return chosen\n",
        "    return chosen.reset_index(drop=True)"
      ]
    },
    {
      "cell_type": "code",
      "execution_count": 31,
      "metadata": {
        "id": "a-c61ofwONK3"
      },
      "outputs": [],
      "source": [
        "## Test 4: Grid & Novelty Version 2\n",
        "\n",
        "##Ahmet: This is the current version. Both the run function working state AND the CustomState(State) Wrapper thingy are adjusted for it. :)\n",
        "## You can play around with the epsilon, I indicated where just search for your name! Its in the STATE WRAPPER...\n",
        "## We can also add an 'annealing' epsilon that changes, if we wanted to add that to please Sebastian, check sample function it seems to work well, I added your name\n",
        "### Lastly, we can try a set seed, I added your name where that's supposed to be happening in the sample function\n",
        "\n",
        "import numpy as np\n",
        "import pandas as pd\n",
        "from typing import Union\n",
        "\n",
        "def sample(\n",
        "        conditions: Union[pd.DataFrame, np.ndarray],  # already tested points\n",
        "        reference_conditions: Union[pd.DataFrame, np.ndarray],  # full grid\n",
        "        num_samples: int = 1,\n",
        "        epsilon: float = 0.3,  # chance to pick random instead of novelty\n",
        "        random_state: int = None) -> pd.DataFrame:\n",
        "    \"\"\"\n",
        "    Grid + novelty experimentalist with scaling and diversity selection.\n",
        "\n",
        "    Args:\n",
        "        conditions: DataFrame of already tested conditions.\n",
        "        reference_conditions: DataFrame of full possible conditions (grid).\n",
        "        num_samples: Number of new experimental conditions to select.\n",
        "        epsilon: Probability of choosing random instead of novelty.\n",
        "        random_state: Seed for reproducibility.\n",
        "\n",
        "    Returns:\n",
        "        DataFrame of newly selected conditions.\n",
        "    \"\"\"\n",
        "    #rng = np.random.default_rng(random_state) Check this but should be fine...\n",
        "    rng = np.random.default_rng()\n",
        "\n",
        "    # 1. Find candidates not yet tested\n",
        "\n",
        "    mask = ~reference_conditions.apply(tuple, axis=1).isin(\n",
        "        conditions.apply(tuple, axis=1)\n",
        "    )\n",
        "    candidates = reference_conditions[mask]\n",
        "\n",
        "    if candidates.empty:\n",
        "        return pd.DataFrame()  # nothing left to sample\n",
        "\n",
        "    # 2. If no tested points yet, pick random\n",
        "    if conditions.empty:\n",
        "        return candidates.sample(num_samples, random_state=random_state).reset_index(drop=True)\n",
        "\n",
        "    # --- NEW: Scale columns to [0,1] for fair distances ---\n",
        "    rc = reference_conditions.astype(float)\n",
        "    rc_min = rc.min()\n",
        "    rc_rng = (rc.max() - rc_min).replace(0, 1.0)\n",
        "\n",
        "    tested_scaled = (conditions.astype(float) - rc_min) / rc_rng\n",
        "    cands_scaled  = (candidates.astype(float) - rc_min) / rc_rng\n",
        "\n",
        "    tested_arr = tested_scaled.to_numpy()\n",
        "    cand_arr   = cands_scaled.to_numpy()\n",
        "\n",
        "    # --- helper: min distance to set ---\n",
        "    def min_dist_to_set(X, S):\n",
        "        if len(S) == 0:\n",
        "            return np.full(len(X), np.inf)\n",
        "        return np.min(\n",
        "            np.linalg.norm(X[:, None, :] - S[None, :, :], axis=2),\n",
        "            axis=1\n",
        "        )\n",
        "\n",
        "    novelty_scores = min_dist_to_set(cand_arr, tested_arr)\n",
        "\n",
        "    # 3. ε-random choice or novelty-based\n",
        "    if rng.random() < epsilon or num_samples == 1:\n",
        "        chosen = candidates.sample(num_samples, random_state=random_state)\n",
        "    else:\n",
        "        # --- NEW: Greedy max–min batch selection for diversity ---\n",
        "        chosen_idx = [int(np.argmax(novelty_scores))]\n",
        "        union = np.vstack([tested_arr, cand_arr[chosen_idx[0]][None, :]])\n",
        "        while len(chosen_idx) < min(num_samples, len(candidates)):\n",
        "            d_to_union = min_dist_to_set(cand_arr, union)\n",
        "            d_to_union[chosen_idx] = -np.inf  # prevent reselection\n",
        "            nxt = int(np.argmax(d_to_union))\n",
        "            chosen_idx.append(nxt)\n",
        "            union = np.vstack([union, cand_arr[nxt][None, :]])\n",
        "        chosen = candidates.iloc[chosen_idx]\n",
        "\n",
        "    return chosen.reset_index(drop=True)\n"
      ]
    },
    {
      "cell_type": "code",
      "execution_count": null,
      "metadata": {
        "id": "_uw7z74IJtGx"
      },
      "outputs": [],
      "source": [
        "# state wrapper for grid pooler experimentalist (generates a grid of experiment conditions)\n",
        "@on_state()\n",
        "def grid_pool_on_state(variables):\n",
        "  return Delta(conditions=grid_pool(variables))\n",
        "\n",
        "# state wrapper for random pooler experimentalist (generates a pool of experiment conditions)\n",
        "@on_state()\n",
        "def random_pool_on_state(variables, num_samples, random_state=None):\n",
        "  return Delta(conditions=random_pool(variables, num_samples, random_state))\n",
        "\n",
        "# state wrapper for random experimentalist (samples experiment conditions from a set of conditions)\n",
        "@on_state()\n",
        "def random_sample_on_state(conditions, all_conditions, num_samples, random_state=None):\n",
        "  return Delta(conditions=random_sample(all_conditions, num_samples, random_state))\n",
        "\n",
        "# **** STATE WRAPPER FOR YOUR EXPERIMENTALIST ***\n",
        "@on_state()\n",
        "def custom_sample_on_state(#experiment_data,\n",
        "                           conditions,\n",
        "                           reference_conditions,\n",
        "                           models_bms,\n",
        "                           models_lr,\n",
        "                           models_polyr,\n",
        "                           all_conditions, #not necessarily needed\n",
        "                           num_samples=1,\n",
        "                           step = 0,\n",
        "                           max_steps = 0, ##Choose this wisely\n",
        "                           random_state=None):\n",
        "\n",
        "  # fixed epsilon works well with the improved sampler (scaling + greedy max–min)\n",
        "  #epsilon = 0.2 ### Ahmet: Can play around with this too, this is fixed\n",
        "  epsilon = max(0.05, 0.3 * (1 - step / max_steps))  # (kept for reference) ## This is the annealing thing I added for now\n",
        "\n",
        "  new_conditions = sample(\n",
        "      conditions=conditions,\n",
        "      reference_conditions=reference_conditions,\n",
        "      num_samples=num_samples,\n",
        "      epsilon=epsilon,\n",
        "      random_state=random_state\n",
        "  )\n",
        "\n",
        "  return Delta(conditions=new_conditions)\n"
      ]
    },
    {
      "cell_type": "code",
      "execution_count": null,
      "metadata": {
        "colab": {
          "base_uri": "https://localhost:8080/"
        },
        "id": "pqkQ6YvZMfua",
        "outputId": "e350228f-aab2-472a-b05d-503a636d6bc8"
      },
      "outputs": [
        {
          "name": "stdout",
          "output_type": "stream",
          "text": [
            "VariableCollection(independent_variables=[IV(name='P_asymptotic', value_range=(0, 0.5), allowed_values=array([0.        , 0.00505051, 0.01010101, 0.01515152, 0.02020202,\n",
            "       0.02525253, 0.03030303, 0.03535354, 0.04040404, 0.04545455,\n",
            "       0.05050505, 0.05555556, 0.06060606, 0.06565657, 0.07070707,\n",
            "       0.07575758, 0.08080808, 0.08585859, 0.09090909, 0.0959596 ,\n",
            "       0.1010101 , 0.10606061, 0.11111111, 0.11616162, 0.12121212,\n",
            "       0.12626263, 0.13131313, 0.13636364, 0.14141414, 0.14646465,\n",
            "       0.15151515, 0.15656566, 0.16161616, 0.16666667, 0.17171717,\n",
            "       0.17676768, 0.18181818, 0.18686869, 0.19191919, 0.1969697 ,\n",
            "       0.2020202 , 0.20707071, 0.21212121, 0.21717172, 0.22222222,\n",
            "       0.22727273, 0.23232323, 0.23737374, 0.24242424, 0.24747475,\n",
            "       0.25252525, 0.25757576, 0.26262626, 0.26767677, 0.27272727,\n",
            "       0.27777778, 0.28282828, 0.28787879, 0.29292929, 0.2979798 ,\n",
            "       0.3030303 , 0.30808081, 0.31313131, 0.31818182, 0.32323232,\n",
            "       0.32828283, 0.33333333, 0.33838384, 0.34343434, 0.34848485,\n",
            "       0.35353535, 0.35858586, 0.36363636, 0.36868687, 0.37373737,\n",
            "       0.37878788, 0.38383838, 0.38888889, 0.39393939, 0.3989899 ,\n",
            "       0.4040404 , 0.40909091, 0.41414141, 0.41919192, 0.42424242,\n",
            "       0.42929293, 0.43434343, 0.43939394, 0.44444444, 0.44949495,\n",
            "       0.45454545, 0.45959596, 0.46464646, 0.46969697, 0.47474747,\n",
            "       0.47979798, 0.48484848, 0.48989899, 0.49494949, 0.5       ]), units='performance', type=<ValueType.REAL: 'real'>, variable_label='Asymptotic Performance', rescale=1, is_covariate=False), IV(name='trial', value_range=(1, 100), allowed_values=array([  1.,   2.,   3.,   4.,   5.,   6.,   7.,   8.,   9.,  10.,  11.,\n",
            "        12.,  13.,  14.,  15.,  16.,  17.,  18.,  19.,  20.,  21.,  22.,\n",
            "        23.,  24.,  25.,  26.,  27.,  28.,  29.,  30.,  31.,  32.,  33.,\n",
            "        34.,  35.,  36.,  37.,  38.,  39.,  40.,  41.,  42.,  43.,  44.,\n",
            "        45.,  46.,  47.,  48.,  49.,  50.,  51.,  52.,  53.,  54.,  55.,\n",
            "        56.,  57.,  58.,  59.,  60.,  61.,  62.,  63.,  64.,  65.,  66.,\n",
            "        67.,  68.,  69.,  70.,  71.,  72.,  73.,  74.,  75.,  76.,  77.,\n",
            "        78.,  79.,  80.,  81.,  82.,  83.,  84.,  85.,  86.,  87.,  88.,\n",
            "        89.,  90.,  91.,  92.,  93.,  94.,  95.,  96.,  97.,  98.,  99.,\n",
            "       100.]), units='trials', type=<ValueType.REAL: 'real'>, variable_label='Trials', rescale=1, is_covariate=False)], dependent_variables=[DV(name='performance', value_range=(0, 1.0), allowed_values=None, units='performance', type=<ValueType.REAL: 'real'>, variable_label='Performance', rescale=1, is_covariate=False)], covariates=[])\n"
          ]
        }
      ],
      "source": [
        "#experiment_runner = exp_learning()\n",
        "#experiment_runner = weber_fechner_law()\n",
        "#experiment_runner = luce_choice_ratio()\n",
        "#experiment_runner = expected_value_theory()\n",
        "#experiment_runner = stevens_power_law\n",
        "\n",
        "print(experiment_runner.variables)"
      ]
    },
    {
      "cell_type": "markdown",
      "metadata": {
        "id": "9DyqbEH2LB-i"
      },
      "source": [
        "### Experiment Runner Wrapper"
      ]
    },
    {
      "cell_type": "code",
      "execution_count": 8,
      "metadata": {
        "id": "fyUlh7vBJQwk"
      },
      "outputs": [],
      "source": [
        "# state wrapper for synthetic experiment runner\n",
        "@on_state()\n",
        "def run_experiment_on_state(conditions, experiment_runner):\n",
        "  data = experiment_runner.run(conditions=conditions, added_noise=0.0)\n",
        "  return Delta(experiment_data=data)"
      ]
    },
    {
      "cell_type": "markdown",
      "metadata": {
        "id": "pwlTublQiWMp"
      },
      "source": [
        "## Simulation Functions\n",
        "\n",
        "First, we will need a function that we can use to evaluate the goodness of our theorists. We will use the one below (no need to parse it)."
      ]
    },
    {
      "cell_type": "code",
      "execution_count": 9,
      "metadata": {
        "id": "uHuIbsSbN0Ng"
      },
      "outputs": [],
      "source": [
        "# the following function is used to compute the model performance\n",
        "# on the validation set in terms of mean squared error\n",
        "def get_validation_MSE(validation_experiment_data, working_state):\n",
        "    ivs = [iv.name for iv in validation_experiment_data.variables.independent_variables]\n",
        "    dvs = [dv.name for dv in validation_experiment_data.variables.dependent_variables]\n",
        "    X = validation_experiment_data.experiment_data[ivs]\n",
        "    y = validation_experiment_data.experiment_data[dvs]\n",
        "\n",
        "    y_pred_bms = working_state.models_bms[-1].predict(X)\n",
        "    y_pred_lr = working_state.models_lr[-1].predict(X)\n",
        "    y_pred_polyr = working_state.models_polyr[-1].predict(X)\n",
        "\n",
        "    MSE_bms = ((y - y_pred_bms)**2).mean()[0]\n",
        "    MSE_lr = ((y - y_pred_lr)**2).mean()[0]\n",
        "    MSE_polyr = ((y - y_pred_polyr)**2).mean()[0]\n",
        "\n",
        "    min_MSE = min(MSE_bms, MSE_lr, MSE_polyr)\n",
        "\n",
        "    return min_MSE"
      ]
    },
    {
      "cell_type": "markdown",
      "metadata": {
        "id": "k8mSIAfmN9Rr"
      },
      "source": [
        "We will use the following function for benchmarking our model for any given experiment runner. Have a closer look at the script below.\n",
        "\n",
        "It uses four different AutoRA states:\n",
        "- ``validation_conditions`` and ``validation_experiment_data``: These states contains our validation sets, sampled across the entire domain of the ground truth. It is used for tracking the validation MSE of all theorists.\n",
        "\n",
        "- ``initial_state``: This state is used to initialize the discovery process. Both the random experimentalist (operating on the ``benchmark_state``) and your custom experimentalist (operating on the ``working_state`` will use the same initial state.)\n",
        "\n",
        "- ``benchmark_state``: This state is used for a discovery process with random sampling.\n",
        "\n",
        "- ``working_state``: This state is used for a discovery process with your custom experimentalist."
      ]
    },
    {
      "cell_type": "code",
      "execution_count": 10,
      "metadata": {
        "id": "-2n53aEYLhEF"
      },
      "outputs": [],
      "source": [
        "def run_simulation(num_cycles, num_conditions_per_cycle, num_initial_conditions, bms_epochs, experiment_runner, sim=0):\n",
        "\n",
        "  # VALIDATION STATE\n",
        "  # at every step of our discovery process, we will evaluate the performance\n",
        "  # of the theorist against the ground truth. Here, we will define the ground\n",
        "  # truth as a grid of data points sampled across the domain of the experimental\n",
        "  # design space. We will store this validation set in a separate validation states\n",
        "\n",
        "  # create AutoRA state for validation purposes\n",
        "  validation_conditions = CustomState(variables=experiment_runner.variables)\n",
        "  validation_experiment_data = CustomState(variables=experiment_runner.variables)\n",
        "\n",
        "  # our validation set will be consist of a grid of experiment conditons\n",
        "  # across the entire experimental design domain\n",
        "  validation_conditions = grid_pool_on_state(validation_conditions)\n",
        "  validation_experiment_data = grid_pool_on_state(validation_experiment_data)\n",
        "  validation_experiment_data = run_experiment_on_state(validation_experiment_data, experiment_runner=experiment_runner)\n",
        "\n",
        "\n",
        "  benchmark_MSE_log = list()\n",
        "  working_MSE_log = list()\n",
        "\n",
        "  # INITIAL STATE\n",
        "  # We begin our discovery experiment with randomly sampled data set for 10\n",
        "  # conditions. We will use the same state for each experimentalist method.\n",
        "\n",
        "  # create initial AutoRA state which we will use for our discovery expeirments\n",
        "  initial_state = CustomState(variables=experiment_runner.variables)\n",
        "\n",
        "  # we will initiate our discovery process with 10 randomly sampled experiment conditions\n",
        "  initial_state = random_pool_on_state(initial_state,\n",
        "                                      num_samples=num_initial_conditions,\n",
        "                                      random_state=sim)\n",
        "\n",
        "  # we obtain the corresponding experiment data\n",
        "  initial_state = run_experiment_on_state(initial_state, experiment_runner=experiment_runner)\n",
        "\n",
        "  # initialize benchmark state for random experimentalist\n",
        "  benchmark_state = CustomState(**initial_state.__dict__)\n",
        "\n",
        "  # initialize working state for your custom experimentalist\n",
        "  working_state = CustomState(**initial_state.__dict__)\n",
        "\n",
        "  # for each discovery cycle ##### LOOOOP #######\n",
        "  for cycle in range(num_cycles):\n",
        "\n",
        "    print(\"SIMULATION \" + str(sim)  + \" / DISCOVERY CYCLE \" + str(cycle))\n",
        "\n",
        "    # first, we fit a model to the data\n",
        "    print(\"Fitting models on benchmark state...\")\n",
        "    benchmark_state = theorists_on_state(benchmark_state, bms_epochs=bms_epochs)\n",
        "    print(\"Fitting models on working state...\")\n",
        "    working_state = theorists_on_state(working_state, bms_epochs=bms_epochs)\n",
        "\n",
        "    # now we can determine how well the models do on the validation set\n",
        "    benchmark_MSE = get_validation_MSE(validation_experiment_data, benchmark_state)\n",
        "    benchmark_MSE_log.append(benchmark_MSE)\n",
        "\n",
        "    working_MSE = get_validation_MSE(validation_experiment_data, working_state)\n",
        "    working_MSE_log.append(working_MSE)\n",
        "\n",
        "    # then we determine the next experiment condition\n",
        "    print(\"Sampling new experiment conditions...\")\n",
        "    benchmark_state = random_sample_on_state(benchmark_state,\n",
        "                                              all_conditions=validation_conditions.conditions,\n",
        "                                              num_samples=num_conditions_per_cycle)\n",
        "\n",
        "    # *** Change here: pass the full grid as reference_conditions ***\n",
        "    working_state = custom_sample_on_state(working_state,\n",
        "                                           reference_conditions=validation_conditions.conditions,\n",
        "                                           all_conditions=validation_conditions.conditions,\n",
        "                                           num_samples=num_conditions_per_cycle,\n",
        "                                           step=cycle,\n",
        "                                           max_steps=num_cycles)\n",
        "\n",
        "    print(\"Obtaining observations...\")\n",
        "    # we obtain the corresponding experiment data\n",
        "    benchmark_state = run_experiment_on_state(benchmark_state, experiment_runner=experiment_runner)\n",
        "    working_state = run_experiment_on_state(working_state, experiment_runner=experiment_runner)\n",
        "\n",
        "  return benchmark_MSE_log, working_MSE_log, benchmark_state, working_state\n",
        "\n",
        "\n"
      ]
    },
    {
      "cell_type": "markdown",
      "metadata": {
        "id": "3B5mO66GMb3T"
      },
      "source": [
        "## Benchmarking Script"
      ]
    },
    {
      "cell_type": "markdown",
      "metadata": {
        "id": "mqu8m-hjfXVK"
      },
      "source": [
        "Let's first set some meta-parameters."
      ]
    },
    {
      "cell_type": "code",
      "execution_count": null,
      "metadata": {
        "id": "40rWpRCKfcGL"
      },
      "outputs": [],
      "source": [
        "# meta parameters\n",
        "\n",
        "# DO NOT CHANGE THESE PARAMETERS\n",
        "num_cycles = 20\n",
        "num_conditions_per_cycle = 1\n",
        "num_initial_conditions = 1\n",
        "\n",
        "# YOU MAY CHANGE THESE PARAMETERS\n",
        "num_discovery_simulations = 3\n",
        "bms_epochs = 50 # Note, to speed things up, you can set bms_epochs = 10 or even bms_epochs = 1 (this will lead to poor performance of the BMS regressor but the other two theorists will still fit)"
      ]
    },
    {
      "cell_type": "markdown",
      "metadata": {
        "id": "s5s2_nSTMnHv"
      },
      "source": [
        "### Single Run\n",
        "\n",
        "We recommend that you probe your experimentalist function for a single run. Once you are confident that your experimentalist works, we recommend running repeating the simulation experiment for at least iterations (``num_discovery_simulations``).\n",
        "\n",
        "How do your results look like for other ground truths, such as\n",
        "- ``luce_choice_ratio()`` or\n",
        "- ``expected_value_theory()`` ?"
      ]
    },
    {
      "cell_type": "code",
      "execution_count": 33,
      "metadata": {
        "colab": {
          "base_uri": "https://localhost:8080/"
        },
        "id": "sqsuMqTd1OaY",
        "outputId": "97d18227-6354-4b5e-ef9a-d88bf59dfede"
      },
      "outputs": [
        {
          "name": "stderr",
          "output_type": "stream",
          "text": [
            "INFO:autora.theorist.bms.regressor:BMS fitting started\n"
          ]
        },
        {
          "name": "stdout",
          "output_type": "stream",
          "text": [
            "SIMULATION 0 / DISCOVERY CYCLE 0\n",
            "Fitting models on benchmark state...\n"
          ]
        },
        {
          "name": "stderr",
          "output_type": "stream",
          "text": [
            "100%|██████████| 50/50 [00:03<00:00, 15.32it/s]\n",
            "INFO:autora.theorist.bms.regressor:BMS fitting finished\n",
            "INFO:autora.theorist.bms.regressor:BMS fitting started\n"
          ]
        },
        {
          "name": "stdout",
          "output_type": "stream",
          "text": [
            "Fitting models on working state...\n"
          ]
        },
        {
          "name": "stderr",
          "output_type": "stream",
          "text": [
            "100%|██████████| 50/50 [00:02<00:00, 18.26it/s]\n",
            "INFO:autora.theorist.bms.regressor:BMS fitting finished\n",
            "INFO:autora.theorist.bms.regressor:BMS fitting started\n"
          ]
        },
        {
          "name": "stdout",
          "output_type": "stream",
          "text": [
            "Sampling new experiment conditions...\n",
            "Obtaining observations...\n",
            "SIMULATION 0 / DISCOVERY CYCLE 1\n",
            "Fitting models on benchmark state...\n"
          ]
        },
        {
          "name": "stderr",
          "output_type": "stream",
          "text": [
            "100%|██████████| 50/50 [00:02<00:00, 17.78it/s]\n",
            "INFO:autora.theorist.bms.regressor:BMS fitting finished\n",
            "INFO:autora.theorist.bms.regressor:BMS fitting started\n"
          ]
        },
        {
          "name": "stdout",
          "output_type": "stream",
          "text": [
            "Fitting models on working state...\n"
          ]
        },
        {
          "name": "stderr",
          "output_type": "stream",
          "text": [
            "100%|██████████| 50/50 [00:03<00:00, 15.05it/s]\n",
            "INFO:autora.theorist.bms.regressor:BMS fitting finished\n",
            "INFO:autora.theorist.bms.regressor:BMS fitting started\n"
          ]
        },
        {
          "name": "stdout",
          "output_type": "stream",
          "text": [
            "Sampling new experiment conditions...\n",
            "Obtaining observations...\n",
            "SIMULATION 0 / DISCOVERY CYCLE 2\n",
            "Fitting models on benchmark state...\n"
          ]
        },
        {
          "name": "stderr",
          "output_type": "stream",
          "text": [
            "100%|██████████| 50/50 [00:02<00:00, 16.98it/s]\n",
            "INFO:autora.theorist.bms.regressor:BMS fitting finished\n",
            "INFO:autora.theorist.bms.regressor:BMS fitting started\n"
          ]
        },
        {
          "name": "stdout",
          "output_type": "stream",
          "text": [
            "Fitting models on working state...\n"
          ]
        },
        {
          "name": "stderr",
          "output_type": "stream",
          "text": [
            "100%|██████████| 50/50 [00:03<00:00, 15.86it/s]\n",
            "INFO:autora.theorist.bms.regressor:BMS fitting finished\n",
            "INFO:autora.theorist.bms.regressor:BMS fitting started\n"
          ]
        },
        {
          "name": "stdout",
          "output_type": "stream",
          "text": [
            "Sampling new experiment conditions...\n",
            "Obtaining observations...\n",
            "SIMULATION 0 / DISCOVERY CYCLE 3\n",
            "Fitting models on benchmark state...\n"
          ]
        },
        {
          "name": "stderr",
          "output_type": "stream",
          "text": [
            "100%|██████████| 50/50 [00:03<00:00, 16.49it/s]\n",
            "INFO:autora.theorist.bms.regressor:BMS fitting finished\n",
            "INFO:autora.theorist.bms.regressor:BMS fitting started\n"
          ]
        },
        {
          "name": "stdout",
          "output_type": "stream",
          "text": [
            "Fitting models on working state...\n"
          ]
        },
        {
          "name": "stderr",
          "output_type": "stream",
          "text": [
            "100%|██████████| 50/50 [00:03<00:00, 15.81it/s]\n",
            "INFO:autora.theorist.bms.regressor:BMS fitting finished\n",
            "INFO:autora.theorist.bms.regressor:BMS fitting started\n"
          ]
        },
        {
          "name": "stdout",
          "output_type": "stream",
          "text": [
            "Sampling new experiment conditions...\n",
            "Obtaining observations...\n",
            "SIMULATION 0 / DISCOVERY CYCLE 4\n",
            "Fitting models on benchmark state...\n"
          ]
        },
        {
          "name": "stderr",
          "output_type": "stream",
          "text": [
            "100%|██████████| 50/50 [00:02<00:00, 17.35it/s]\n",
            "INFO:autora.theorist.bms.regressor:BMS fitting finished\n",
            "INFO:autora.theorist.bms.regressor:BMS fitting started\n"
          ]
        },
        {
          "name": "stdout",
          "output_type": "stream",
          "text": [
            "Fitting models on working state...\n"
          ]
        },
        {
          "name": "stderr",
          "output_type": "stream",
          "text": [
            "100%|██████████| 50/50 [00:03<00:00, 14.53it/s]\n",
            "INFO:autora.theorist.bms.regressor:BMS fitting finished\n",
            "INFO:autora.theorist.bms.regressor:BMS fitting started\n"
          ]
        },
        {
          "name": "stdout",
          "output_type": "stream",
          "text": [
            "Sampling new experiment conditions...\n",
            "Obtaining observations...\n",
            "SIMULATION 0 / DISCOVERY CYCLE 5\n",
            "Fitting models on benchmark state...\n"
          ]
        },
        {
          "name": "stderr",
          "output_type": "stream",
          "text": [
            "100%|██████████| 50/50 [00:03<00:00, 15.80it/s]\n",
            "INFO:autora.theorist.bms.regressor:BMS fitting finished\n",
            "INFO:autora.theorist.bms.regressor:BMS fitting started\n"
          ]
        },
        {
          "name": "stdout",
          "output_type": "stream",
          "text": [
            "Fitting models on working state...\n"
          ]
        },
        {
          "name": "stderr",
          "output_type": "stream",
          "text": [
            "100%|██████████| 50/50 [00:03<00:00, 15.77it/s]\n",
            "INFO:autora.theorist.bms.regressor:BMS fitting finished\n",
            "INFO:autora.theorist.bms.regressor:BMS fitting started\n"
          ]
        },
        {
          "name": "stdout",
          "output_type": "stream",
          "text": [
            "Sampling new experiment conditions...\n",
            "Obtaining observations...\n",
            "SIMULATION 0 / DISCOVERY CYCLE 6\n",
            "Fitting models on benchmark state...\n"
          ]
        },
        {
          "name": "stderr",
          "output_type": "stream",
          "text": [
            "100%|██████████| 50/50 [00:02<00:00, 16.69it/s]\n",
            "INFO:autora.theorist.bms.regressor:BMS fitting finished\n",
            "INFO:autora.theorist.bms.regressor:BMS fitting started\n"
          ]
        },
        {
          "name": "stdout",
          "output_type": "stream",
          "text": [
            "Fitting models on working state...\n"
          ]
        },
        {
          "name": "stderr",
          "output_type": "stream",
          "text": [
            "100%|██████████| 50/50 [00:03<00:00, 15.62it/s]\n",
            "INFO:autora.theorist.bms.regressor:BMS fitting finished\n",
            "INFO:autora.theorist.bms.regressor:BMS fitting started\n"
          ]
        },
        {
          "name": "stdout",
          "output_type": "stream",
          "text": [
            "Sampling new experiment conditions...\n",
            "Obtaining observations...\n",
            "SIMULATION 0 / DISCOVERY CYCLE 7\n",
            "Fitting models on benchmark state...\n"
          ]
        },
        {
          "name": "stderr",
          "output_type": "stream",
          "text": [
            "100%|██████████| 50/50 [00:03<00:00, 15.51it/s]\n",
            "INFO:autora.theorist.bms.regressor:BMS fitting finished\n",
            "INFO:autora.theorist.bms.regressor:BMS fitting started\n"
          ]
        },
        {
          "name": "stdout",
          "output_type": "stream",
          "text": [
            "Fitting models on working state...\n"
          ]
        },
        {
          "name": "stderr",
          "output_type": "stream",
          "text": [
            "100%|██████████| 50/50 [00:02<00:00, 17.04it/s]\n",
            "INFO:autora.theorist.bms.regressor:BMS fitting finished\n",
            "INFO:autora.theorist.bms.regressor:BMS fitting started\n"
          ]
        },
        {
          "name": "stdout",
          "output_type": "stream",
          "text": [
            "Sampling new experiment conditions...\n",
            "Obtaining observations...\n",
            "SIMULATION 0 / DISCOVERY CYCLE 8\n",
            "Fitting models on benchmark state...\n"
          ]
        },
        {
          "name": "stderr",
          "output_type": "stream",
          "text": [
            "100%|██████████| 50/50 [00:02<00:00, 18.75it/s]\n",
            "INFO:autora.theorist.bms.regressor:BMS fitting finished\n",
            "INFO:autora.theorist.bms.regressor:BMS fitting started\n"
          ]
        },
        {
          "name": "stdout",
          "output_type": "stream",
          "text": [
            "Fitting models on working state...\n"
          ]
        },
        {
          "name": "stderr",
          "output_type": "stream",
          "text": [
            "100%|██████████| 50/50 [00:03<00:00, 13.87it/s]\n",
            "INFO:autora.theorist.bms.regressor:BMS fitting finished\n",
            "INFO:autora.theorist.bms.regressor:BMS fitting started\n"
          ]
        },
        {
          "name": "stdout",
          "output_type": "stream",
          "text": [
            "Sampling new experiment conditions...\n",
            "Obtaining observations...\n",
            "SIMULATION 0 / DISCOVERY CYCLE 9\n",
            "Fitting models on benchmark state...\n"
          ]
        },
        {
          "name": "stderr",
          "output_type": "stream",
          "text": [
            "100%|██████████| 50/50 [00:02<00:00, 17.12it/s]\n",
            "INFO:autora.theorist.bms.regressor:BMS fitting finished\n",
            "INFO:autora.theorist.bms.regressor:BMS fitting started\n"
          ]
        },
        {
          "name": "stdout",
          "output_type": "stream",
          "text": [
            "Fitting models on working state...\n"
          ]
        },
        {
          "name": "stderr",
          "output_type": "stream",
          "text": [
            "100%|██████████| 50/50 [00:03<00:00, 16.29it/s]\n",
            "INFO:autora.theorist.bms.regressor:BMS fitting finished\n",
            "INFO:autora.theorist.bms.regressor:BMS fitting started\n"
          ]
        },
        {
          "name": "stdout",
          "output_type": "stream",
          "text": [
            "Sampling new experiment conditions...\n",
            "Obtaining observations...\n",
            "SIMULATION 0 / DISCOVERY CYCLE 10\n",
            "Fitting models on benchmark state...\n"
          ]
        },
        {
          "name": "stderr",
          "output_type": "stream",
          "text": [
            "100%|██████████| 50/50 [00:03<00:00, 16.38it/s]\n",
            "INFO:autora.theorist.bms.regressor:BMS fitting finished\n",
            "INFO:autora.theorist.bms.regressor:BMS fitting started\n"
          ]
        },
        {
          "name": "stdout",
          "output_type": "stream",
          "text": [
            "Fitting models on working state...\n"
          ]
        },
        {
          "name": "stderr",
          "output_type": "stream",
          "text": [
            "100%|██████████| 50/50 [00:03<00:00, 14.64it/s]\n",
            "INFO:autora.theorist.bms.regressor:BMS fitting finished\n",
            "INFO:autora.theorist.bms.regressor:BMS fitting started\n"
          ]
        },
        {
          "name": "stdout",
          "output_type": "stream",
          "text": [
            "Sampling new experiment conditions...\n",
            "Obtaining observations...\n",
            "SIMULATION 0 / DISCOVERY CYCLE 11\n",
            "Fitting models on benchmark state...\n"
          ]
        },
        {
          "name": "stderr",
          "output_type": "stream",
          "text": [
            "100%|██████████| 50/50 [00:03<00:00, 16.21it/s]\n",
            "INFO:autora.theorist.bms.regressor:BMS fitting finished\n",
            "INFO:autora.theorist.bms.regressor:BMS fitting started\n"
          ]
        },
        {
          "name": "stdout",
          "output_type": "stream",
          "text": [
            "Fitting models on working state...\n"
          ]
        },
        {
          "name": "stderr",
          "output_type": "stream",
          "text": [
            "100%|██████████| 50/50 [00:03<00:00, 15.69it/s]\n",
            "INFO:autora.theorist.bms.regressor:BMS fitting finished\n",
            "INFO:autora.theorist.bms.regressor:BMS fitting started\n"
          ]
        },
        {
          "name": "stdout",
          "output_type": "stream",
          "text": [
            "Sampling new experiment conditions...\n",
            "Obtaining observations...\n",
            "SIMULATION 0 / DISCOVERY CYCLE 12\n",
            "Fitting models on benchmark state...\n"
          ]
        },
        {
          "name": "stderr",
          "output_type": "stream",
          "text": [
            "100%|██████████| 50/50 [00:03<00:00, 16.51it/s]\n",
            "INFO:autora.theorist.bms.regressor:BMS fitting finished\n",
            "INFO:autora.theorist.bms.regressor:BMS fitting started\n"
          ]
        },
        {
          "name": "stdout",
          "output_type": "stream",
          "text": [
            "Fitting models on working state...\n"
          ]
        },
        {
          "name": "stderr",
          "output_type": "stream",
          "text": [
            "100%|██████████| 50/50 [00:03<00:00, 15.70it/s]\n",
            "INFO:autora.theorist.bms.regressor:BMS fitting finished\n",
            "INFO:autora.theorist.bms.regressor:BMS fitting started\n"
          ]
        },
        {
          "name": "stdout",
          "output_type": "stream",
          "text": [
            "Sampling new experiment conditions...\n",
            "Obtaining observations...\n",
            "SIMULATION 0 / DISCOVERY CYCLE 13\n",
            "Fitting models on benchmark state...\n"
          ]
        },
        {
          "name": "stderr",
          "output_type": "stream",
          "text": [
            "100%|██████████| 50/50 [00:03<00:00, 15.45it/s]\n",
            "INFO:autora.theorist.bms.regressor:BMS fitting finished\n",
            "INFO:autora.theorist.bms.regressor:BMS fitting started\n"
          ]
        },
        {
          "name": "stdout",
          "output_type": "stream",
          "text": [
            "Fitting models on working state...\n"
          ]
        },
        {
          "name": "stderr",
          "output_type": "stream",
          "text": [
            "100%|██████████| 50/50 [00:03<00:00, 15.75it/s]\n",
            "INFO:autora.theorist.bms.regressor:BMS fitting finished\n",
            "INFO:autora.theorist.bms.regressor:BMS fitting started\n"
          ]
        },
        {
          "name": "stdout",
          "output_type": "stream",
          "text": [
            "Sampling new experiment conditions...\n",
            "Obtaining observations...\n",
            "SIMULATION 0 / DISCOVERY CYCLE 14\n",
            "Fitting models on benchmark state...\n"
          ]
        },
        {
          "name": "stderr",
          "output_type": "stream",
          "text": [
            "100%|██████████| 50/50 [00:03<00:00, 15.90it/s]\n",
            "INFO:autora.theorist.bms.regressor:BMS fitting finished\n",
            "INFO:autora.theorist.bms.regressor:BMS fitting started\n"
          ]
        },
        {
          "name": "stdout",
          "output_type": "stream",
          "text": [
            "Fitting models on working state...\n"
          ]
        },
        {
          "name": "stderr",
          "output_type": "stream",
          "text": [
            "100%|██████████| 50/50 [00:03<00:00, 15.35it/s]\n",
            "INFO:autora.theorist.bms.regressor:BMS fitting finished\n",
            "INFO:autora.theorist.bms.regressor:BMS fitting started\n"
          ]
        },
        {
          "name": "stdout",
          "output_type": "stream",
          "text": [
            "Sampling new experiment conditions...\n",
            "Obtaining observations...\n",
            "SIMULATION 0 / DISCOVERY CYCLE 15\n",
            "Fitting models on benchmark state...\n"
          ]
        },
        {
          "name": "stderr",
          "output_type": "stream",
          "text": [
            "100%|██████████| 50/50 [00:03<00:00, 15.74it/s]\n",
            "INFO:autora.theorist.bms.regressor:BMS fitting finished\n",
            "INFO:autora.theorist.bms.regressor:BMS fitting started\n"
          ]
        },
        {
          "name": "stdout",
          "output_type": "stream",
          "text": [
            "Fitting models on working state...\n"
          ]
        },
        {
          "name": "stderr",
          "output_type": "stream",
          "text": [
            "100%|██████████| 50/50 [00:02<00:00, 17.03it/s]\n",
            "INFO:autora.theorist.bms.regressor:BMS fitting finished\n",
            "INFO:autora.theorist.bms.regressor:BMS fitting started\n"
          ]
        },
        {
          "name": "stdout",
          "output_type": "stream",
          "text": [
            "Sampling new experiment conditions...\n",
            "Obtaining observations...\n",
            "SIMULATION 0 / DISCOVERY CYCLE 16\n",
            "Fitting models on benchmark state...\n"
          ]
        },
        {
          "name": "stderr",
          "output_type": "stream",
          "text": [
            "100%|██████████| 50/50 [00:03<00:00, 15.52it/s]\n",
            "INFO:autora.theorist.bms.regressor:BMS fitting finished\n",
            "INFO:autora.theorist.bms.regressor:BMS fitting started\n"
          ]
        },
        {
          "name": "stdout",
          "output_type": "stream",
          "text": [
            "Fitting models on working state...\n"
          ]
        },
        {
          "name": "stderr",
          "output_type": "stream",
          "text": [
            "100%|██████████| 50/50 [00:02<00:00, 17.34it/s]\n",
            "INFO:autora.theorist.bms.regressor:BMS fitting finished\n",
            "INFO:autora.theorist.bms.regressor:BMS fitting started\n"
          ]
        },
        {
          "name": "stdout",
          "output_type": "stream",
          "text": [
            "Sampling new experiment conditions...\n",
            "Obtaining observations...\n",
            "SIMULATION 0 / DISCOVERY CYCLE 17\n",
            "Fitting models on benchmark state...\n"
          ]
        },
        {
          "name": "stderr",
          "output_type": "stream",
          "text": [
            "100%|██████████| 50/50 [00:03<00:00, 15.98it/s]\n",
            "INFO:autora.theorist.bms.regressor:BMS fitting finished\n",
            "INFO:autora.theorist.bms.regressor:BMS fitting started\n"
          ]
        },
        {
          "name": "stdout",
          "output_type": "stream",
          "text": [
            "Fitting models on working state...\n"
          ]
        },
        {
          "name": "stderr",
          "output_type": "stream",
          "text": [
            "100%|██████████| 50/50 [00:03<00:00, 16.13it/s]\n",
            "INFO:autora.theorist.bms.regressor:BMS fitting finished\n",
            "INFO:autora.theorist.bms.regressor:BMS fitting started\n"
          ]
        },
        {
          "name": "stdout",
          "output_type": "stream",
          "text": [
            "Sampling new experiment conditions...\n",
            "Obtaining observations...\n",
            "SIMULATION 0 / DISCOVERY CYCLE 18\n",
            "Fitting models on benchmark state...\n"
          ]
        },
        {
          "name": "stderr",
          "output_type": "stream",
          "text": [
            "100%|██████████| 50/50 [00:03<00:00, 15.32it/s]\n",
            "INFO:autora.theorist.bms.regressor:BMS fitting finished\n",
            "INFO:autora.theorist.bms.regressor:BMS fitting started\n"
          ]
        },
        {
          "name": "stdout",
          "output_type": "stream",
          "text": [
            "Fitting models on working state...\n"
          ]
        },
        {
          "name": "stderr",
          "output_type": "stream",
          "text": [
            "100%|██████████| 50/50 [00:02<00:00, 16.76it/s]\n",
            "INFO:autora.theorist.bms.regressor:BMS fitting finished\n",
            "INFO:autora.theorist.bms.regressor:BMS fitting started\n"
          ]
        },
        {
          "name": "stdout",
          "output_type": "stream",
          "text": [
            "Sampling new experiment conditions...\n",
            "Obtaining observations...\n",
            "SIMULATION 0 / DISCOVERY CYCLE 19\n",
            "Fitting models on benchmark state...\n"
          ]
        },
        {
          "name": "stderr",
          "output_type": "stream",
          "text": [
            "100%|██████████| 50/50 [00:03<00:00, 15.65it/s]\n",
            "INFO:autora.theorist.bms.regressor:BMS fitting finished\n",
            "INFO:autora.theorist.bms.regressor:BMS fitting started\n"
          ]
        },
        {
          "name": "stdout",
          "output_type": "stream",
          "text": [
            "Fitting models on working state...\n"
          ]
        },
        {
          "name": "stderr",
          "output_type": "stream",
          "text": [
            "100%|██████████| 50/50 [00:02<00:00, 17.44it/s]\n",
            "INFO:autora.theorist.bms.regressor:BMS fitting finished\n"
          ]
        },
        {
          "name": "stdout",
          "output_type": "stream",
          "text": [
            "Sampling new experiment conditions...\n",
            "Obtaining observations...\n"
          ]
        }
      ],
      "source": [
        "# setting experiment runner and theorist\n",
        "#experiment_runner = exp_learning()\n",
        "#experiment_runner = weber_fechner_law()\n",
        "experiment_runner = luce_choice_ratio()\n",
        "#experiment_runner = expected_value_theory()\n",
        "#experiment_runner = stevens_power_law\n",
        "\n",
        "\n",
        "# run simulation\n",
        "benchmark_MSE_log, working_MSE_log, benchmark_state, working_state = run_simulation(num_cycles, num_conditions_per_cycle, num_initial_conditions, bms_epochs, experiment_runner)\n"
      ]
    },
    {
      "cell_type": "markdown",
      "metadata": {
        "id": "DxXTCLDzfjLr"
      },
      "source": [
        "We can now plot the results for a single discovery run."
      ]
    },
    {
      "cell_type": "code",
      "execution_count": 34,
      "metadata": {
        "colab": {
          "base_uri": "https://localhost:8080/",
          "height": 1000
        },
        "id": "0HfiASzDfiRA",
        "outputId": "1b642cec-ad50-46f0-ad1f-66f2a03aad93"
      },
      "outputs": [
        {
          "name": "stdout",
          "output_type": "stream",
          "text": [
            "    similarity_category_A1  similarity_category_A2  similarity_category_B1  \\\n",
            "0                 8.585714                7.171429                5.757143   \n",
            "1                10.000000               10.000000                1.514286   \n",
            "2                 8.585714                2.928571               10.000000   \n",
            "3                 5.757143                0.100000                2.928571   \n",
            "4                 5.757143                0.100000                0.100000   \n",
            "5                 8.585714               10.000000                1.514286   \n",
            "6                 4.342857               10.000000                5.757143   \n",
            "7                 0.100000                5.757143                7.171429   \n",
            "8                 0.100000               10.000000               10.000000   \n",
            "9                 1.514286                0.100000                4.342857   \n",
            "10                8.585714               10.000000                7.171429   \n",
            "11                5.757143                2.928571                5.757143   \n",
            "12                7.171429                4.342857                0.100000   \n",
            "13                4.342857                4.342857                5.757143   \n",
            "14                8.585714                5.757143                5.757143   \n",
            "15                8.585714                0.100000                0.100000   \n",
            "16                0.100000                2.928571                7.171429   \n",
            "17                4.342857                2.928571               10.000000   \n",
            "18                1.514286                8.585714                0.100000   \n",
            "19                2.928571                4.342857                4.342857   \n",
            "20                2.928571                7.171429               10.000000   \n",
            "\n",
            "    similarity_category_B2  choose_A1  \n",
            "0                 2.928571   0.478884  \n",
            "1                 0.100000   0.490110  \n",
            "2                 0.100000   0.611549  \n",
            "3                 7.171429   0.686834  \n",
            "4                 8.585714   0.717082  \n",
            "5                 0.100000   0.452135  \n",
            "6                 0.100000   0.274740  \n",
            "7                10.000000   0.009852  \n",
            "8                 1.514286   0.007705  \n",
            "9                 0.100000   0.555701  \n",
            "10                7.171429   0.387242  \n",
            "11                8.585714   0.469150  \n",
            "12                4.342857   0.568034  \n",
            "13               10.000000   0.343989  \n",
            "14                4.342857   0.508999  \n",
            "15                0.100000   0.982829  \n",
            "16                4.342857   0.016929  \n",
            "17                7.171429   0.375540  \n",
            "18                7.171429   0.127060  \n",
            "19                7.171429   0.288529  \n",
            "20                4.342857   0.213987  \n",
            "    similarity_category_A1  similarity_category_A2  similarity_category_B1  \\\n",
            "0                 8.585714                7.171429                5.757143   \n",
            "1                 7.171429                8.585714                1.514286   \n",
            "2                 1.514286                8.585714                5.757143   \n",
            "3                 5.757143                2.928571                5.757143   \n",
            "4                 8.585714                5.757143               10.000000   \n",
            "5                 8.585714                1.514286                4.342857   \n",
            "6                 5.757143                4.342857                0.100000   \n",
            "7                 1.514286                7.171429                4.342857   \n",
            "8                 2.928571               10.000000                4.342857   \n",
            "9                 7.171429                4.342857                2.928571   \n",
            "10                5.757143                1.514286               10.000000   \n",
            "11                0.100000                2.928571                8.585714   \n",
            "12                1.514286                5.757143               10.000000   \n",
            "13                1.514286                1.514286                0.100000   \n",
            "14                7.171429                2.928571                8.585714   \n",
            "15                1.514286                5.757143                4.342857   \n",
            "16                8.585714                0.100000                0.100000   \n",
            "17                0.100000                4.342857                1.514286   \n",
            "18                8.585714                2.928571                5.757143   \n",
            "19                5.757143                4.342857                0.100000   \n",
            "20                7.171429                1.514286                8.585714   \n",
            "\n",
            "    similarity_category_B2  choose_A1  \n",
            "0                 2.928571   0.478884  \n",
            "1                 7.171429   0.400000  \n",
            "2                 7.171429   0.113582  \n",
            "3                10.000000   0.456011  \n",
            "4                 5.757143   0.469623  \n",
            "5                10.000000   0.627349  \n",
            "6                 2.928571   0.530263  \n",
            "7                 4.342857   0.139474  \n",
            "8                 1.514286   0.203474  \n",
            "9                 7.171429   0.510811  \n",
            "10                8.585714   0.483069  \n",
            "11               10.000000   0.013029  \n",
            "12               10.000000   0.123399  \n",
            "13                7.171429   0.312454  \n",
            "14                4.342857   0.537905  \n",
            "15                0.100000   0.180656  \n",
            "16                0.100000   0.982829  \n",
            "17               10.000000   0.013659  \n",
            "18                8.585714   0.568590  \n",
            "19                8.585714   0.469150  \n",
            "20                2.928571   0.620136  \n"
          ]
        },
        {
          "data": {
            "image/png": "[encoded data removed]",
            "text/plain": [
              "<Figure size 640x480 with 1 Axes>"
            ]
          },
          "metadata": {},
          "output_type": "display_data"
        }
      ],
      "source": [
        "# lets plot the benchmark_MSE_log and the workign_MSE_log\n",
        "plt.plot(benchmark_MSE_log, label='benchmark_MSE_log')\n",
        "plt.plot(working_MSE_log, label='working_MSE_log')\n",
        "plt.xlabel('Sampled Data Points')\n",
        "plt.ylabel('MSE on Validation Set')\n",
        "plt.title('Single Discovery Simulation')\n",
        "plt.legend()\n",
        "\n",
        "# we can also investigate the final state more closely\n",
        "# for example, these are all the experimental data collected\n",
        "# under random sampling:\n",
        "print(benchmark_state.experiment_data)\n",
        "# and for your custom experimentalist\n",
        "print(working_state.experiment_data)"
      ]
    },
    {
      "cell_type": "markdown",
      "metadata": {
        "id": "H8Z7iU9pgBWu"
      },
      "source": [
        "### Averaging Across Multiple Runs\n",
        "\n",
        "To become more confident in your experimentalist, you may want to repeat the discovery process N times..."
      ]
    },
    {
      "cell_type": "code",
      "execution_count": 35,
      "metadata": {
        "colab": {
          "base_uri": "https://localhost:8080/"
        },
        "id": "OwL3zbg7hQNs",
        "outputId": "7c1192ae-3bbe-47e1-eac3-93a84add4a03"
      },
      "outputs": [
        {
          "name": "stderr",
          "output_type": "stream",
          "text": [
            "INFO:autora.theorist.bms.regressor:BMS fitting started\n"
          ]
        },
        {
          "name": "stdout",
          "output_type": "stream",
          "text": [
            "SIMULATION 0 / DISCOVERY CYCLE 0\n",
            "Fitting models on benchmark state...\n"
          ]
        },
        {
          "name": "stderr",
          "output_type": "stream",
          "text": [
            "100%|██████████| 50/50 [00:03<00:00, 14.81it/s]\n",
            "INFO:autora.theorist.bms.regressor:BMS fitting finished\n",
            "INFO:autora.theorist.bms.regressor:BMS fitting started\n"
          ]
        },
        {
          "name": "stdout",
          "output_type": "stream",
          "text": [
            "Fitting models on working state...\n"
          ]
        },
        {
          "name": "stderr",
          "output_type": "stream",
          "text": [
            "100%|██████████| 50/50 [00:02<00:00, 19.39it/s]\n",
            "INFO:autora.theorist.bms.regressor:BMS fitting finished\n",
            "INFO:autora.theorist.bms.regressor:BMS fitting started\n"
          ]
        },
        {
          "name": "stdout",
          "output_type": "stream",
          "text": [
            "Sampling new experiment conditions...\n",
            "Obtaining observations...\n",
            "SIMULATION 0 / DISCOVERY CYCLE 1\n",
            "Fitting models on benchmark state...\n"
          ]
        },
        {
          "name": "stderr",
          "output_type": "stream",
          "text": [
            "100%|██████████| 50/50 [00:02<00:00, 17.11it/s]\n",
            "INFO:autora.theorist.bms.regressor:BMS fitting finished\n",
            "INFO:autora.theorist.bms.regressor:BMS fitting started\n"
          ]
        },
        {
          "name": "stdout",
          "output_type": "stream",
          "text": [
            "Fitting models on working state...\n"
          ]
        },
        {
          "name": "stderr",
          "output_type": "stream",
          "text": [
            "100%|██████████| 50/50 [00:02<00:00, 17.99it/s]\n",
            "INFO:autora.theorist.bms.regressor:BMS fitting finished\n",
            "INFO:autora.theorist.bms.regressor:BMS fitting started\n"
          ]
        },
        {
          "name": "stdout",
          "output_type": "stream",
          "text": [
            "Sampling new experiment conditions...\n",
            "Obtaining observations...\n",
            "SIMULATION 0 / DISCOVERY CYCLE 2\n",
            "Fitting models on benchmark state...\n"
          ]
        },
        {
          "name": "stderr",
          "output_type": "stream",
          "text": [
            "100%|██████████| 50/50 [00:02<00:00, 19.30it/s]\n",
            "INFO:autora.theorist.bms.regressor:BMS fitting finished\n",
            "INFO:autora.theorist.bms.regressor:BMS fitting started\n"
          ]
        },
        {
          "name": "stdout",
          "output_type": "stream",
          "text": [
            "Fitting models on working state...\n"
          ]
        },
        {
          "name": "stderr",
          "output_type": "stream",
          "text": [
            "100%|██████████| 50/50 [00:03<00:00, 12.70it/s]\n",
            "INFO:autora.theorist.bms.regressor:BMS fitting finished\n",
            "INFO:autora.theorist.bms.regressor:BMS fitting started\n"
          ]
        },
        {
          "name": "stdout",
          "output_type": "stream",
          "text": [
            "Sampling new experiment conditions...\n",
            "Obtaining observations...\n",
            "SIMULATION 0 / DISCOVERY CYCLE 3\n",
            "Fitting models on benchmark state...\n"
          ]
        },
        {
          "name": "stderr",
          "output_type": "stream",
          "text": [
            "100%|██████████| 50/50 [00:02<00:00, 18.19it/s]\n",
            "INFO:autora.theorist.bms.regressor:BMS fitting finished\n",
            "INFO:autora.theorist.bms.regressor:BMS fitting started\n"
          ]
        },
        {
          "name": "stdout",
          "output_type": "stream",
          "text": [
            "Fitting models on working state...\n"
          ]
        },
        {
          "name": "stderr",
          "output_type": "stream",
          "text": [
            "100%|██████████| 50/50 [00:03<00:00, 15.61it/s]\n",
            "INFO:autora.theorist.bms.regressor:BMS fitting finished\n",
            "INFO:autora.theorist.bms.regressor:BMS fitting started\n"
          ]
        },
        {
          "name": "stdout",
          "output_type": "stream",
          "text": [
            "Sampling new experiment conditions...\n",
            "Obtaining observations...\n",
            "SIMULATION 0 / DISCOVERY CYCLE 4\n",
            "Fitting models on benchmark state...\n"
          ]
        },
        {
          "name": "stderr",
          "output_type": "stream",
          "text": [
            "100%|██████████| 50/50 [00:02<00:00, 17.47it/s]\n",
            "INFO:autora.theorist.bms.regressor:BMS fitting finished\n",
            "INFO:autora.theorist.bms.regressor:BMS fitting started\n"
          ]
        },
        {
          "name": "stdout",
          "output_type": "stream",
          "text": [
            "Fitting models on working state...\n"
          ]
        },
        {
          "name": "stderr",
          "output_type": "stream",
          "text": [
            "100%|██████████| 50/50 [00:03<00:00, 15.63it/s]\n",
            "INFO:autora.theorist.bms.regressor:BMS fitting finished\n",
            "INFO:autora.theorist.bms.regressor:BMS fitting started\n"
          ]
        },
        {
          "name": "stdout",
          "output_type": "stream",
          "text": [
            "Sampling new experiment conditions...\n",
            "Obtaining observations...\n",
            "SIMULATION 0 / DISCOVERY CYCLE 5\n",
            "Fitting models on benchmark state...\n"
          ]
        },
        {
          "name": "stderr",
          "output_type": "stream",
          "text": [
            "100%|██████████| 50/50 [00:03<00:00, 16.08it/s]\n",
            "INFO:autora.theorist.bms.regressor:BMS fitting finished\n",
            "INFO:autora.theorist.bms.regressor:BMS fitting started\n"
          ]
        },
        {
          "name": "stdout",
          "output_type": "stream",
          "text": [
            "Fitting models on working state...\n"
          ]
        },
        {
          "name": "stderr",
          "output_type": "stream",
          "text": [
            "100%|██████████| 50/50 [00:03<00:00, 15.86it/s]\n",
            "INFO:autora.theorist.bms.regressor:BMS fitting finished\n",
            "INFO:autora.theorist.bms.regressor:BMS fitting started\n"
          ]
        },
        {
          "name": "stdout",
          "output_type": "stream",
          "text": [
            "Sampling new experiment conditions...\n",
            "Obtaining observations...\n",
            "SIMULATION 0 / DISCOVERY CYCLE 6\n",
            "Fitting models on benchmark state...\n"
          ]
        },
        {
          "name": "stderr",
          "output_type": "stream",
          "text": [
            "100%|██████████| 50/50 [00:02<00:00, 16.89it/s]\n",
            "INFO:autora.theorist.bms.regressor:BMS fitting finished\n",
            "INFO:autora.theorist.bms.regressor:BMS fitting started\n"
          ]
        },
        {
          "name": "stdout",
          "output_type": "stream",
          "text": [
            "Fitting models on working state...\n"
          ]
        },
        {
          "name": "stderr",
          "output_type": "stream",
          "text": [
            "100%|██████████| 50/50 [00:04<00:00, 12.13it/s]\n",
            "INFO:autora.theorist.bms.regressor:BMS fitting finished\n",
            "INFO:autora.theorist.bms.regressor:BMS fitting started\n"
          ]
        },
        {
          "name": "stdout",
          "output_type": "stream",
          "text": [
            "Sampling new experiment conditions...\n",
            "Obtaining observations...\n",
            "SIMULATION 0 / DISCOVERY CYCLE 7\n",
            "Fitting models on benchmark state...\n"
          ]
        },
        {
          "name": "stderr",
          "output_type": "stream",
          "text": [
            "100%|██████████| 50/50 [00:03<00:00, 15.05it/s]\n",
            "INFO:autora.theorist.bms.regressor:BMS fitting finished\n",
            "INFO:autora.theorist.bms.regressor:BMS fitting started\n"
          ]
        },
        {
          "name": "stdout",
          "output_type": "stream",
          "text": [
            "Fitting models on working state...\n"
          ]
        },
        {
          "name": "stderr",
          "output_type": "stream",
          "text": [
            "100%|██████████| 50/50 [00:02<00:00, 16.76it/s]\n",
            "INFO:autora.theorist.bms.regressor:BMS fitting finished\n",
            "INFO:autora.theorist.bms.regressor:BMS fitting started\n"
          ]
        },
        {
          "name": "stdout",
          "output_type": "stream",
          "text": [
            "Sampling new experiment conditions...\n",
            "Obtaining observations...\n",
            "SIMULATION 0 / DISCOVERY CYCLE 8\n",
            "Fitting models on benchmark state...\n"
          ]
        },
        {
          "name": "stderr",
          "output_type": "stream",
          "text": [
            "100%|██████████| 50/50 [00:03<00:00, 14.69it/s]\n",
            "INFO:autora.theorist.bms.regressor:BMS fitting finished\n",
            "INFO:autora.theorist.bms.regressor:BMS fitting started\n"
          ]
        },
        {
          "name": "stdout",
          "output_type": "stream",
          "text": [
            "Fitting models on working state...\n"
          ]
        },
        {
          "name": "stderr",
          "output_type": "stream",
          "text": [
            "100%|██████████| 50/50 [00:03<00:00, 14.40it/s]\n",
            "INFO:autora.theorist.bms.regressor:BMS fitting finished\n",
            "INFO:autora.theorist.bms.regressor:BMS fitting started\n"
          ]
        },
        {
          "name": "stdout",
          "output_type": "stream",
          "text": [
            "Sampling new experiment conditions...\n",
            "Obtaining observations...\n",
            "SIMULATION 0 / DISCOVERY CYCLE 9\n",
            "Fitting models on benchmark state...\n"
          ]
        },
        {
          "name": "stderr",
          "output_type": "stream",
          "text": [
            "100%|██████████| 50/50 [00:02<00:00, 16.92it/s]\n",
            "INFO:autora.theorist.bms.regressor:BMS fitting finished\n",
            "INFO:autora.theorist.bms.regressor:BMS fitting started\n"
          ]
        },
        {
          "name": "stdout",
          "output_type": "stream",
          "text": [
            "Fitting models on working state...\n"
          ]
        },
        {
          "name": "stderr",
          "output_type": "stream",
          "text": [
            "100%|██████████| 50/50 [00:03<00:00, 15.95it/s]\n",
            "INFO:autora.theorist.bms.regressor:BMS fitting finished\n",
            "INFO:autora.theorist.bms.regressor:BMS fitting started\n"
          ]
        },
        {
          "name": "stdout",
          "output_type": "stream",
          "text": [
            "Sampling new experiment conditions...\n",
            "Obtaining observations...\n",
            "SIMULATION 0 / DISCOVERY CYCLE 10\n",
            "Fitting models on benchmark state...\n"
          ]
        },
        {
          "name": "stderr",
          "output_type": "stream",
          "text": [
            "100%|██████████| 50/50 [00:03<00:00, 15.61it/s]\n",
            "INFO:autora.theorist.bms.regressor:BMS fitting finished\n",
            "INFO:autora.theorist.bms.regressor:BMS fitting started\n"
          ]
        },
        {
          "name": "stdout",
          "output_type": "stream",
          "text": [
            "Fitting models on working state...\n"
          ]
        },
        {
          "name": "stderr",
          "output_type": "stream",
          "text": [
            "100%|██████████| 50/50 [00:03<00:00, 15.90it/s]\n",
            "INFO:autora.theorist.bms.regressor:BMS fitting finished\n",
            "INFO:autora.theorist.bms.regressor:BMS fitting started\n"
          ]
        },
        {
          "name": "stdout",
          "output_type": "stream",
          "text": [
            "Sampling new experiment conditions...\n",
            "Obtaining observations...\n",
            "SIMULATION 0 / DISCOVERY CYCLE 11\n",
            "Fitting models on benchmark state...\n"
          ]
        },
        {
          "name": "stderr",
          "output_type": "stream",
          "text": [
            "100%|██████████| 50/50 [00:04<00:00, 11.44it/s]\n",
            "INFO:autora.theorist.bms.regressor:BMS fitting finished\n",
            "INFO:autora.theorist.bms.regressor:BMS fitting started\n"
          ]
        },
        {
          "name": "stdout",
          "output_type": "stream",
          "text": [
            "Fitting models on working state...\n"
          ]
        },
        {
          "name": "stderr",
          "output_type": "stream",
          "text": [
            "100%|██████████| 50/50 [00:03<00:00, 15.11it/s]\n",
            "INFO:autora.theorist.bms.regressor:BMS fitting finished\n",
            "INFO:autora.theorist.bms.regressor:BMS fitting started\n"
          ]
        },
        {
          "name": "stdout",
          "output_type": "stream",
          "text": [
            "Sampling new experiment conditions...\n",
            "Obtaining observations...\n",
            "SIMULATION 0 / DISCOVERY CYCLE 12\n",
            "Fitting models on benchmark state...\n"
          ]
        },
        {
          "name": "stderr",
          "output_type": "stream",
          "text": [
            "100%|██████████| 50/50 [00:03<00:00, 13.83it/s]\n",
            "INFO:autora.theorist.bms.regressor:BMS fitting finished\n",
            "INFO:autora.theorist.bms.regressor:BMS fitting started\n"
          ]
        },
        {
          "name": "stdout",
          "output_type": "stream",
          "text": [
            "Fitting models on working state...\n"
          ]
        },
        {
          "name": "stderr",
          "output_type": "stream",
          "text": [
            "100%|██████████| 50/50 [00:03<00:00, 15.01it/s]\n",
            "INFO:autora.theorist.bms.regressor:BMS fitting finished\n",
            "INFO:autora.theorist.bms.regressor:BMS fitting started\n"
          ]
        },
        {
          "name": "stdout",
          "output_type": "stream",
          "text": [
            "Sampling new experiment conditions...\n",
            "Obtaining observations...\n",
            "SIMULATION 0 / DISCOVERY CYCLE 13\n",
            "Fitting models on benchmark state...\n"
          ]
        },
        {
          "name": "stderr",
          "output_type": "stream",
          "text": [
            "100%|██████████| 50/50 [00:02<00:00, 17.49it/s]\n",
            "INFO:autora.theorist.bms.regressor:BMS fitting finished\n",
            "INFO:autora.theorist.bms.regressor:BMS fitting started\n"
          ]
        },
        {
          "name": "stdout",
          "output_type": "stream",
          "text": [
            "Fitting models on working state...\n"
          ]
        },
        {
          "name": "stderr",
          "output_type": "stream",
          "text": [
            "100%|██████████| 50/50 [00:03<00:00, 14.43it/s]\n",
            "INFO:autora.theorist.bms.regressor:BMS fitting finished\n",
            "INFO:autora.theorist.bms.regressor:BMS fitting started\n"
          ]
        },
        {
          "name": "stdout",
          "output_type": "stream",
          "text": [
            "Sampling new experiment conditions...\n",
            "Obtaining observations...\n",
            "SIMULATION 0 / DISCOVERY CYCLE 14\n",
            "Fitting models on benchmark state...\n"
          ]
        },
        {
          "name": "stderr",
          "output_type": "stream",
          "text": [
            "100%|██████████| 50/50 [00:03<00:00, 15.23it/s]\n",
            "INFO:autora.theorist.bms.regressor:BMS fitting finished\n",
            "INFO:autora.theorist.bms.regressor:BMS fitting started\n"
          ]
        },
        {
          "name": "stdout",
          "output_type": "stream",
          "text": [
            "Fitting models on working state...\n"
          ]
        },
        {
          "name": "stderr",
          "output_type": "stream",
          "text": [
            "100%|██████████| 50/50 [00:03<00:00, 15.98it/s]\n",
            "INFO:autora.theorist.bms.regressor:BMS fitting finished\n",
            "INFO:autora.theorist.bms.regressor:BMS fitting started\n"
          ]
        },
        {
          "name": "stdout",
          "output_type": "stream",
          "text": [
            "Sampling new experiment conditions...\n",
            "Obtaining observations...\n",
            "SIMULATION 0 / DISCOVERY CYCLE 15\n",
            "Fitting models on benchmark state...\n"
          ]
        },
        {
          "name": "stderr",
          "output_type": "stream",
          "text": [
            "100%|██████████| 50/50 [00:03<00:00, 15.56it/s]\n",
            "INFO:autora.theorist.bms.regressor:BMS fitting finished\n",
            "INFO:autora.theorist.bms.regressor:BMS fitting started\n"
          ]
        },
        {
          "name": "stdout",
          "output_type": "stream",
          "text": [
            "Fitting models on working state...\n"
          ]
        },
        {
          "name": "stderr",
          "output_type": "stream",
          "text": [
            "100%|██████████| 50/50 [00:03<00:00, 15.98it/s]\n",
            "INFO:autora.theorist.bms.regressor:BMS fitting finished\n",
            "INFO:autora.theorist.bms.regressor:BMS fitting started\n"
          ]
        },
        {
          "name": "stdout",
          "output_type": "stream",
          "text": [
            "Sampling new experiment conditions...\n",
            "Obtaining observations...\n",
            "SIMULATION 0 / DISCOVERY CYCLE 16\n",
            "Fitting models on benchmark state...\n"
          ]
        },
        {
          "name": "stderr",
          "output_type": "stream",
          "text": [
            "100%|██████████| 50/50 [00:03<00:00, 16.53it/s]\n",
            "INFO:autora.theorist.bms.regressor:BMS fitting finished\n",
            "INFO:autora.theorist.bms.regressor:BMS fitting started\n"
          ]
        },
        {
          "name": "stdout",
          "output_type": "stream",
          "text": [
            "Fitting models on working state...\n"
          ]
        },
        {
          "name": "stderr",
          "output_type": "stream",
          "text": [
            "100%|██████████| 50/50 [00:02<00:00, 17.02it/s]\n",
            "INFO:autora.theorist.bms.regressor:BMS fitting finished\n",
            "INFO:autora.theorist.bms.regressor:BMS fitting started\n"
          ]
        },
        {
          "name": "stdout",
          "output_type": "stream",
          "text": [
            "Sampling new experiment conditions...\n",
            "Obtaining observations...\n",
            "SIMULATION 0 / DISCOVERY CYCLE 17\n",
            "Fitting models on benchmark state...\n"
          ]
        },
        {
          "name": "stderr",
          "output_type": "stream",
          "text": [
            "100%|██████████| 50/50 [00:03<00:00, 15.69it/s]\n",
            "INFO:autora.theorist.bms.regressor:BMS fitting finished\n",
            "INFO:autora.theorist.bms.regressor:BMS fitting started\n"
          ]
        },
        {
          "name": "stdout",
          "output_type": "stream",
          "text": [
            "Fitting models on working state...\n"
          ]
        },
        {
          "name": "stderr",
          "output_type": "stream",
          "text": [
            "100%|██████████| 50/50 [00:03<00:00, 13.56it/s]\n",
            "INFO:autora.theorist.bms.regressor:BMS fitting finished\n",
            "INFO:autora.theorist.bms.regressor:BMS fitting started\n"
          ]
        },
        {
          "name": "stdout",
          "output_type": "stream",
          "text": [
            "Sampling new experiment conditions...\n",
            "Obtaining observations...\n",
            "SIMULATION 0 / DISCOVERY CYCLE 18\n",
            "Fitting models on benchmark state...\n"
          ]
        },
        {
          "name": "stderr",
          "output_type": "stream",
          "text": [
            "100%|██████████| 50/50 [00:03<00:00, 15.78it/s]\n",
            "INFO:autora.theorist.bms.regressor:BMS fitting finished\n",
            "INFO:autora.theorist.bms.regressor:BMS fitting started\n"
          ]
        },
        {
          "name": "stdout",
          "output_type": "stream",
          "text": [
            "Fitting models on working state...\n"
          ]
        },
        {
          "name": "stderr",
          "output_type": "stream",
          "text": [
            "100%|██████████| 50/50 [00:03<00:00, 16.59it/s]\n",
            "INFO:autora.theorist.bms.regressor:BMS fitting finished\n",
            "INFO:autora.theorist.bms.regressor:BMS fitting started\n"
          ]
        },
        {
          "name": "stdout",
          "output_type": "stream",
          "text": [
            "Sampling new experiment conditions...\n",
            "Obtaining observations...\n",
            "SIMULATION 0 / DISCOVERY CYCLE 19\n",
            "Fitting models on benchmark state...\n"
          ]
        },
        {
          "name": "stderr",
          "output_type": "stream",
          "text": [
            "100%|██████████| 50/50 [00:03<00:00, 15.49it/s]\n",
            "INFO:autora.theorist.bms.regressor:BMS fitting finished\n",
            "INFO:autora.theorist.bms.regressor:BMS fitting started\n"
          ]
        },
        {
          "name": "stdout",
          "output_type": "stream",
          "text": [
            "Fitting models on working state...\n"
          ]
        },
        {
          "name": "stderr",
          "output_type": "stream",
          "text": [
            "100%|██████████| 50/50 [00:03<00:00, 15.84it/s]\n",
            "INFO:autora.theorist.bms.regressor:BMS fitting finished\n",
            "INFO:autora.theorist.bms.regressor:BMS fitting started\n"
          ]
        },
        {
          "name": "stdout",
          "output_type": "stream",
          "text": [
            "Sampling new experiment conditions...\n",
            "Obtaining observations...\n",
            "SIMULATION 1 / DISCOVERY CYCLE 0\n",
            "Fitting models on benchmark state...\n"
          ]
        },
        {
          "name": "stderr",
          "output_type": "stream",
          "text": [
            "100%|██████████| 50/50 [00:02<00:00, 17.43it/s]\n",
            "INFO:autora.theorist.bms.regressor:BMS fitting finished\n",
            "INFO:autora.theorist.bms.regressor:BMS fitting started\n"
          ]
        },
        {
          "name": "stdout",
          "output_type": "stream",
          "text": [
            "Fitting models on working state...\n"
          ]
        },
        {
          "name": "stderr",
          "output_type": "stream",
          "text": [
            "100%|██████████| 50/50 [00:03<00:00, 13.28it/s]\n",
            "INFO:autora.theorist.bms.regressor:BMS fitting finished\n",
            "INFO:autora.theorist.bms.regressor:BMS fitting started\n"
          ]
        },
        {
          "name": "stdout",
          "output_type": "stream",
          "text": [
            "Sampling new experiment conditions...\n",
            "Obtaining observations...\n",
            "SIMULATION 1 / DISCOVERY CYCLE 1\n",
            "Fitting models on benchmark state...\n"
          ]
        },
        {
          "name": "stderr",
          "output_type": "stream",
          "text": [
            "100%|██████████| 50/50 [00:02<00:00, 16.87it/s]\n",
            "INFO:autora.theorist.bms.regressor:BMS fitting finished\n",
            "INFO:autora.theorist.bms.regressor:BMS fitting started\n"
          ]
        },
        {
          "name": "stdout",
          "output_type": "stream",
          "text": [
            "Fitting models on working state...\n"
          ]
        },
        {
          "name": "stderr",
          "output_type": "stream",
          "text": [
            "100%|██████████| 50/50 [00:03<00:00, 16.30it/s]\n",
            "INFO:autora.theorist.bms.regressor:BMS fitting finished\n",
            "INFO:autora.theorist.bms.regressor:BMS fitting started\n"
          ]
        },
        {
          "name": "stdout",
          "output_type": "stream",
          "text": [
            "Sampling new experiment conditions...\n",
            "Obtaining observations...\n",
            "SIMULATION 1 / DISCOVERY CYCLE 2\n",
            "Fitting models on benchmark state...\n"
          ]
        },
        {
          "name": "stderr",
          "output_type": "stream",
          "text": [
            "100%|██████████| 50/50 [00:02<00:00, 16.83it/s]\n",
            "INFO:autora.theorist.bms.regressor:BMS fitting finished\n",
            "INFO:autora.theorist.bms.regressor:BMS fitting started\n"
          ]
        },
        {
          "name": "stdout",
          "output_type": "stream",
          "text": [
            "Fitting models on working state...\n"
          ]
        },
        {
          "name": "stderr",
          "output_type": "stream",
          "text": [
            "100%|██████████| 50/50 [00:02<00:00, 18.45it/s]\n",
            "INFO:autora.theorist.bms.regressor:BMS fitting finished\n",
            "INFO:autora.theorist.bms.regressor:BMS fitting started\n"
          ]
        },
        {
          "name": "stdout",
          "output_type": "stream",
          "text": [
            "Sampling new experiment conditions...\n",
            "Obtaining observations...\n",
            "SIMULATION 1 / DISCOVERY CYCLE 3\n",
            "Fitting models on benchmark state...\n"
          ]
        },
        {
          "name": "stderr",
          "output_type": "stream",
          "text": [
            "100%|██████████| 50/50 [00:03<00:00, 15.33it/s]\n",
            "INFO:autora.theorist.bms.regressor:BMS fitting finished\n",
            "INFO:autora.theorist.bms.regressor:BMS fitting started\n"
          ]
        },
        {
          "name": "stdout",
          "output_type": "stream",
          "text": [
            "Fitting models on working state...\n"
          ]
        },
        {
          "name": "stderr",
          "output_type": "stream",
          "text": [
            "100%|██████████| 50/50 [00:02<00:00, 17.00it/s]\n",
            "INFO:autora.theorist.bms.regressor:BMS fitting finished\n",
            "INFO:autora.theorist.bms.regressor:BMS fitting started\n"
          ]
        },
        {
          "name": "stdout",
          "output_type": "stream",
          "text": [
            "Sampling new experiment conditions...\n",
            "Obtaining observations...\n",
            "SIMULATION 1 / DISCOVERY CYCLE 4\n",
            "Fitting models on benchmark state...\n"
          ]
        },
        {
          "name": "stderr",
          "output_type": "stream",
          "text": [
            "100%|██████████| 50/50 [00:03<00:00, 14.80it/s]\n",
            "INFO:autora.theorist.bms.regressor:BMS fitting finished\n",
            "INFO:autora.theorist.bms.regressor:BMS fitting started\n"
          ]
        },
        {
          "name": "stdout",
          "output_type": "stream",
          "text": [
            "Fitting models on working state...\n"
          ]
        },
        {
          "name": "stderr",
          "output_type": "stream",
          "text": [
            "100%|██████████| 50/50 [00:03<00:00, 15.79it/s]\n",
            "INFO:autora.theorist.bms.regressor:BMS fitting finished\n",
            "INFO:autora.theorist.bms.regressor:BMS fitting started\n"
          ]
        },
        {
          "name": "stdout",
          "output_type": "stream",
          "text": [
            "Sampling new experiment conditions...\n",
            "Obtaining observations...\n",
            "SIMULATION 1 / DISCOVERY CYCLE 5\n",
            "Fitting models on benchmark state...\n"
          ]
        },
        {
          "name": "stderr",
          "output_type": "stream",
          "text": [
            "100%|██████████| 50/50 [00:03<00:00, 13.29it/s]\n",
            "INFO:autora.theorist.bms.regressor:BMS fitting finished\n",
            "INFO:autora.theorist.bms.regressor:BMS fitting started\n"
          ]
        },
        {
          "name": "stdout",
          "output_type": "stream",
          "text": [
            "Fitting models on working state...\n"
          ]
        },
        {
          "name": "stderr",
          "output_type": "stream",
          "text": [
            "100%|██████████| 50/50 [00:03<00:00, 12.53it/s]\n",
            "INFO:autora.theorist.bms.regressor:BMS fitting finished\n",
            "INFO:autora.theorist.bms.regressor:BMS fitting started\n"
          ]
        },
        {
          "name": "stdout",
          "output_type": "stream",
          "text": [
            "Sampling new experiment conditions...\n",
            "Obtaining observations...\n",
            "SIMULATION 1 / DISCOVERY CYCLE 6\n",
            "Fitting models on benchmark state...\n"
          ]
        },
        {
          "name": "stderr",
          "output_type": "stream",
          "text": [
            "100%|██████████| 50/50 [00:03<00:00, 16.21it/s]\n",
            "INFO:autora.theorist.bms.regressor:BMS fitting finished\n",
            "INFO:autora.theorist.bms.regressor:BMS fitting started\n"
          ]
        },
        {
          "name": "stdout",
          "output_type": "stream",
          "text": [
            "Fitting models on working state...\n"
          ]
        },
        {
          "name": "stderr",
          "output_type": "stream",
          "text": [
            "100%|██████████| 50/50 [00:03<00:00, 14.33it/s]\n",
            "INFO:autora.theorist.bms.regressor:BMS fitting finished\n",
            "INFO:autora.theorist.bms.regressor:BMS fitting started\n"
          ]
        },
        {
          "name": "stdout",
          "output_type": "stream",
          "text": [
            "Sampling new experiment conditions...\n",
            "Obtaining observations...\n",
            "SIMULATION 1 / DISCOVERY CYCLE 7\n",
            "Fitting models on benchmark state...\n"
          ]
        },
        {
          "name": "stderr",
          "output_type": "stream",
          "text": [
            "100%|██████████| 50/50 [00:03<00:00, 15.68it/s]\n",
            "INFO:autora.theorist.bms.regressor:BMS fitting finished\n",
            "INFO:autora.theorist.bms.regressor:BMS fitting started\n"
          ]
        },
        {
          "name": "stdout",
          "output_type": "stream",
          "text": [
            "Fitting models on working state...\n"
          ]
        },
        {
          "name": "stderr",
          "output_type": "stream",
          "text": [
            "100%|██████████| 50/50 [00:03<00:00, 16.48it/s]\n",
            "INFO:autora.theorist.bms.regressor:BMS fitting finished\n",
            "INFO:autora.theorist.bms.regressor:BMS fitting started\n"
          ]
        },
        {
          "name": "stdout",
          "output_type": "stream",
          "text": [
            "Sampling new experiment conditions...\n",
            "Obtaining observations...\n",
            "SIMULATION 1 / DISCOVERY CYCLE 8\n",
            "Fitting models on benchmark state...\n"
          ]
        },
        {
          "name": "stderr",
          "output_type": "stream",
          "text": [
            "100%|██████████| 50/50 [00:03<00:00, 16.08it/s]\n",
            "INFO:autora.theorist.bms.regressor:BMS fitting finished\n",
            "INFO:autora.theorist.bms.regressor:BMS fitting started\n"
          ]
        },
        {
          "name": "stdout",
          "output_type": "stream",
          "text": [
            "Fitting models on working state...\n"
          ]
        },
        {
          "name": "stderr",
          "output_type": "stream",
          "text": [
            "100%|██████████| 50/50 [00:03<00:00, 15.73it/s]\n",
            "INFO:autora.theorist.bms.regressor:BMS fitting finished\n",
            "INFO:autora.theorist.bms.regressor:BMS fitting started\n"
          ]
        },
        {
          "name": "stdout",
          "output_type": "stream",
          "text": [
            "Sampling new experiment conditions...\n",
            "Obtaining observations...\n",
            "SIMULATION 1 / DISCOVERY CYCLE 9\n",
            "Fitting models on benchmark state...\n"
          ]
        },
        {
          "name": "stderr",
          "output_type": "stream",
          "text": [
            "100%|██████████| 50/50 [00:02<00:00, 17.66it/s]\n",
            "INFO:autora.theorist.bms.regressor:BMS fitting finished\n",
            "INFO:autora.theorist.bms.regressor:BMS fitting started\n"
          ]
        },
        {
          "name": "stdout",
          "output_type": "stream",
          "text": [
            "Fitting models on working state...\n"
          ]
        },
        {
          "name": "stderr",
          "output_type": "stream",
          "text": [
            "100%|██████████| 50/50 [00:04<00:00, 10.82it/s]\n",
            "INFO:autora.theorist.bms.regressor:BMS fitting finished\n",
            "INFO:autora.theorist.bms.regressor:BMS fitting started\n"
          ]
        },
        {
          "name": "stdout",
          "output_type": "stream",
          "text": [
            "Sampling new experiment conditions...\n",
            "Obtaining observations...\n",
            "SIMULATION 1 / DISCOVERY CYCLE 10\n",
            "Fitting models on benchmark state...\n"
          ]
        },
        {
          "name": "stderr",
          "output_type": "stream",
          "text": [
            "100%|██████████| 50/50 [00:03<00:00, 14.95it/s]\n",
            "INFO:autora.theorist.bms.regressor:BMS fitting finished\n",
            "INFO:autora.theorist.bms.regressor:BMS fitting started\n"
          ]
        },
        {
          "name": "stdout",
          "output_type": "stream",
          "text": [
            "Fitting models on working state...\n"
          ]
        },
        {
          "name": "stderr",
          "output_type": "stream",
          "text": [
            "100%|██████████| 50/50 [00:02<00:00, 17.17it/s]\n",
            "INFO:autora.theorist.bms.regressor:BMS fitting finished\n",
            "INFO:autora.theorist.bms.regressor:BMS fitting started\n"
          ]
        },
        {
          "name": "stdout",
          "output_type": "stream",
          "text": [
            "Sampling new experiment conditions...\n",
            "Obtaining observations...\n",
            "SIMULATION 1 / DISCOVERY CYCLE 11\n",
            "Fitting models on benchmark state...\n"
          ]
        },
        {
          "name": "stderr",
          "output_type": "stream",
          "text": [
            "100%|██████████| 50/50 [00:02<00:00, 16.69it/s]\n",
            "INFO:autora.theorist.bms.regressor:BMS fitting finished\n",
            "INFO:autora.theorist.bms.regressor:BMS fitting started\n"
          ]
        },
        {
          "name": "stdout",
          "output_type": "stream",
          "text": [
            "Fitting models on working state...\n"
          ]
        },
        {
          "name": "stderr",
          "output_type": "stream",
          "text": [
            "100%|██████████| 50/50 [00:03<00:00, 16.28it/s]\n",
            "INFO:autora.theorist.bms.regressor:BMS fitting finished\n",
            "INFO:autora.theorist.bms.regressor:BMS fitting started\n"
          ]
        },
        {
          "name": "stdout",
          "output_type": "stream",
          "text": [
            "Sampling new experiment conditions...\n",
            "Obtaining observations...\n",
            "SIMULATION 1 / DISCOVERY CYCLE 12\n",
            "Fitting models on benchmark state...\n"
          ]
        },
        {
          "name": "stderr",
          "output_type": "stream",
          "text": [
            "100%|██████████| 50/50 [00:03<00:00, 15.55it/s]\n",
            "INFO:autora.theorist.bms.regressor:BMS fitting finished\n",
            "INFO:autora.theorist.bms.regressor:BMS fitting started\n"
          ]
        },
        {
          "name": "stdout",
          "output_type": "stream",
          "text": [
            "Fitting models on working state...\n"
          ]
        },
        {
          "name": "stderr",
          "output_type": "stream",
          "text": [
            "100%|██████████| 50/50 [00:02<00:00, 17.74it/s]\n",
            "INFO:autora.theorist.bms.regressor:BMS fitting finished\n",
            "INFO:autora.theorist.bms.regressor:BMS fitting started\n"
          ]
        },
        {
          "name": "stdout",
          "output_type": "stream",
          "text": [
            "Sampling new experiment conditions...\n",
            "Obtaining observations...\n",
            "SIMULATION 1 / DISCOVERY CYCLE 13\n",
            "Fitting models on benchmark state...\n"
          ]
        },
        {
          "name": "stderr",
          "output_type": "stream",
          "text": [
            "100%|██████████| 50/50 [00:02<00:00, 16.98it/s]\n",
            "INFO:autora.theorist.bms.regressor:BMS fitting finished\n",
            "INFO:autora.theorist.bms.regressor:BMS fitting started\n"
          ]
        },
        {
          "name": "stdout",
          "output_type": "stream",
          "text": [
            "Fitting models on working state...\n"
          ]
        },
        {
          "name": "stderr",
          "output_type": "stream",
          "text": [
            "100%|██████████| 50/50 [00:03<00:00, 16.06it/s]\n",
            "INFO:autora.theorist.bms.regressor:BMS fitting finished\n",
            "INFO:autora.theorist.bms.regressor:BMS fitting started\n"
          ]
        },
        {
          "name": "stdout",
          "output_type": "stream",
          "text": [
            "Sampling new experiment conditions...\n",
            "Obtaining observations...\n",
            "SIMULATION 1 / DISCOVERY CYCLE 14\n",
            "Fitting models on benchmark state...\n"
          ]
        },
        {
          "name": "stderr",
          "output_type": "stream",
          "text": [
            "100%|██████████| 50/50 [00:04<00:00, 12.43it/s]\n",
            "INFO:autora.theorist.bms.regressor:BMS fitting finished\n",
            "INFO:autora.theorist.bms.regressor:BMS fitting started\n"
          ]
        },
        {
          "name": "stdout",
          "output_type": "stream",
          "text": [
            "Fitting models on working state...\n"
          ]
        },
        {
          "name": "stderr",
          "output_type": "stream",
          "text": [
            "100%|██████████| 50/50 [00:02<00:00, 17.09it/s]\n",
            "INFO:autora.theorist.bms.regressor:BMS fitting finished\n",
            "INFO:autora.theorist.bms.regressor:BMS fitting started\n"
          ]
        },
        {
          "name": "stdout",
          "output_type": "stream",
          "text": [
            "Sampling new experiment conditions...\n",
            "Obtaining observations...\n",
            "SIMULATION 1 / DISCOVERY CYCLE 15\n",
            "Fitting models on benchmark state...\n"
          ]
        },
        {
          "name": "stderr",
          "output_type": "stream",
          "text": [
            "100%|██████████| 50/50 [00:03<00:00, 15.70it/s]\n",
            "INFO:autora.theorist.bms.regressor:BMS fitting finished\n",
            "INFO:autora.theorist.bms.regressor:BMS fitting started\n"
          ]
        },
        {
          "name": "stdout",
          "output_type": "stream",
          "text": [
            "Fitting models on working state...\n"
          ]
        },
        {
          "name": "stderr",
          "output_type": "stream",
          "text": [
            "100%|██████████| 50/50 [00:03<00:00, 15.91it/s]\n",
            "INFO:autora.theorist.bms.regressor:BMS fitting finished\n",
            "INFO:autora.theorist.bms.regressor:BMS fitting started\n"
          ]
        },
        {
          "name": "stdout",
          "output_type": "stream",
          "text": [
            "Sampling new experiment conditions...\n",
            "Obtaining observations...\n",
            "SIMULATION 1 / DISCOVERY CYCLE 16\n",
            "Fitting models on benchmark state...\n"
          ]
        },
        {
          "name": "stderr",
          "output_type": "stream",
          "text": [
            "100%|██████████| 50/50 [00:03<00:00, 14.15it/s]\n",
            "INFO:autora.theorist.bms.regressor:BMS fitting finished\n",
            "INFO:autora.theorist.bms.regressor:BMS fitting started\n"
          ]
        },
        {
          "name": "stdout",
          "output_type": "stream",
          "text": [
            "Fitting models on working state...\n"
          ]
        },
        {
          "name": "stderr",
          "output_type": "stream",
          "text": [
            "100%|██████████| 50/50 [00:03<00:00, 16.40it/s]\n",
            "INFO:autora.theorist.bms.regressor:BMS fitting finished\n",
            "INFO:autora.theorist.bms.regressor:BMS fitting started\n"
          ]
        },
        {
          "name": "stdout",
          "output_type": "stream",
          "text": [
            "Sampling new experiment conditions...\n",
            "Obtaining observations...\n",
            "SIMULATION 1 / DISCOVERY CYCLE 17\n",
            "Fitting models on benchmark state...\n"
          ]
        },
        {
          "name": "stderr",
          "output_type": "stream",
          "text": [
            "100%|██████████| 50/50 [00:03<00:00, 15.37it/s]\n",
            "INFO:autora.theorist.bms.regressor:BMS fitting finished\n",
            "INFO:autora.theorist.bms.regressor:BMS fitting started\n"
          ]
        },
        {
          "name": "stdout",
          "output_type": "stream",
          "text": [
            "Fitting models on working state...\n"
          ]
        },
        {
          "name": "stderr",
          "output_type": "stream",
          "text": [
            "100%|██████████| 50/50 [00:03<00:00, 15.38it/s]\n",
            "INFO:autora.theorist.bms.regressor:BMS fitting finished\n",
            "INFO:autora.theorist.bms.regressor:BMS fitting started\n"
          ]
        },
        {
          "name": "stdout",
          "output_type": "stream",
          "text": [
            "Sampling new experiment conditions...\n",
            "Obtaining observations...\n",
            "SIMULATION 1 / DISCOVERY CYCLE 18\n",
            "Fitting models on benchmark state...\n"
          ]
        },
        {
          "name": "stderr",
          "output_type": "stream",
          "text": [
            "100%|██████████| 50/50 [00:03<00:00, 14.99it/s]\n",
            "INFO:autora.theorist.bms.regressor:BMS fitting finished\n",
            "INFO:autora.theorist.bms.regressor:BMS fitting started\n"
          ]
        },
        {
          "name": "stdout",
          "output_type": "stream",
          "text": [
            "Fitting models on working state...\n"
          ]
        },
        {
          "name": "stderr",
          "output_type": "stream",
          "text": [
            "100%|██████████| 50/50 [00:02<00:00, 16.85it/s]\n",
            "INFO:autora.theorist.bms.regressor:BMS fitting finished\n",
            "INFO:autora.theorist.bms.regressor:BMS fitting started\n"
          ]
        },
        {
          "name": "stdout",
          "output_type": "stream",
          "text": [
            "Sampling new experiment conditions...\n",
            "Obtaining observations...\n",
            "SIMULATION 1 / DISCOVERY CYCLE 19\n",
            "Fitting models on benchmark state...\n"
          ]
        },
        {
          "name": "stderr",
          "output_type": "stream",
          "text": [
            "100%|██████████| 50/50 [00:03<00:00, 16.08it/s]\n",
            "INFO:autora.theorist.bms.regressor:BMS fitting finished\n",
            "INFO:autora.theorist.bms.regressor:BMS fitting started\n"
          ]
        },
        {
          "name": "stdout",
          "output_type": "stream",
          "text": [
            "Fitting models on working state...\n"
          ]
        },
        {
          "name": "stderr",
          "output_type": "stream",
          "text": [
            "100%|██████████| 50/50 [00:03<00:00, 15.20it/s]\n",
            "INFO:autora.theorist.bms.regressor:BMS fitting finished\n",
            "INFO:autora.theorist.bms.regressor:BMS fitting started\n"
          ]
        },
        {
          "name": "stdout",
          "output_type": "stream",
          "text": [
            "Sampling new experiment conditions...\n",
            "Obtaining observations...\n",
            "SIMULATION 2 / DISCOVERY CYCLE 0\n",
            "Fitting models on benchmark state...\n"
          ]
        },
        {
          "name": "stderr",
          "output_type": "stream",
          "text": [
            "100%|██████████| 50/50 [00:02<00:00, 18.88it/s]\n",
            "INFO:autora.theorist.bms.regressor:BMS fitting finished\n",
            "INFO:autora.theorist.bms.regressor:BMS fitting started\n"
          ]
        },
        {
          "name": "stdout",
          "output_type": "stream",
          "text": [
            "Fitting models on working state...\n"
          ]
        },
        {
          "name": "stderr",
          "output_type": "stream",
          "text": [
            "100%|██████████| 50/50 [00:02<00:00, 16.68it/s]\n",
            "INFO:autora.theorist.bms.regressor:BMS fitting finished\n",
            "INFO:autora.theorist.bms.regressor:BMS fitting started\n"
          ]
        },
        {
          "name": "stdout",
          "output_type": "stream",
          "text": [
            "Sampling new experiment conditions...\n",
            "Obtaining observations...\n",
            "SIMULATION 2 / DISCOVERY CYCLE 1\n",
            "Fitting models on benchmark state...\n"
          ]
        },
        {
          "name": "stderr",
          "output_type": "stream",
          "text": [
            "100%|██████████| 50/50 [00:02<00:00, 17.55it/s]\n",
            "INFO:autora.theorist.bms.regressor:BMS fitting finished\n",
            "INFO:autora.theorist.bms.regressor:BMS fitting started\n"
          ]
        },
        {
          "name": "stdout",
          "output_type": "stream",
          "text": [
            "Fitting models on working state...\n"
          ]
        },
        {
          "name": "stderr",
          "output_type": "stream",
          "text": [
            "100%|██████████| 50/50 [00:02<00:00, 17.58it/s]\n",
            "INFO:autora.theorist.bms.regressor:BMS fitting finished\n",
            "INFO:autora.theorist.bms.regressor:BMS fitting started\n"
          ]
        },
        {
          "name": "stdout",
          "output_type": "stream",
          "text": [
            "Sampling new experiment conditions...\n",
            "Obtaining observations...\n",
            "SIMULATION 2 / DISCOVERY CYCLE 2\n",
            "Fitting models on benchmark state...\n"
          ]
        },
        {
          "name": "stderr",
          "output_type": "stream",
          "text": [
            "100%|██████████| 50/50 [00:03<00:00, 16.62it/s]\n",
            "INFO:autora.theorist.bms.regressor:BMS fitting finished\n",
            "INFO:autora.theorist.bms.regressor:BMS fitting started\n"
          ]
        },
        {
          "name": "stdout",
          "output_type": "stream",
          "text": [
            "Fitting models on working state...\n"
          ]
        },
        {
          "name": "stderr",
          "output_type": "stream",
          "text": [
            "100%|██████████| 50/50 [00:03<00:00, 15.24it/s]\n",
            "INFO:autora.theorist.bms.regressor:BMS fitting finished\n",
            "INFO:autora.theorist.bms.regressor:BMS fitting started\n"
          ]
        },
        {
          "name": "stdout",
          "output_type": "stream",
          "text": [
            "Sampling new experiment conditions...\n",
            "Obtaining observations...\n",
            "SIMULATION 2 / DISCOVERY CYCLE 3\n",
            "Fitting models on benchmark state...\n"
          ]
        },
        {
          "name": "stderr",
          "output_type": "stream",
          "text": [
            "100%|██████████| 50/50 [00:02<00:00, 17.46it/s]\n",
            "INFO:autora.theorist.bms.regressor:BMS fitting finished\n",
            "INFO:autora.theorist.bms.regressor:BMS fitting started\n"
          ]
        },
        {
          "name": "stdout",
          "output_type": "stream",
          "text": [
            "Fitting models on working state...\n"
          ]
        },
        {
          "name": "stderr",
          "output_type": "stream",
          "text": [
            "100%|██████████| 50/50 [00:03<00:00, 14.82it/s]\n",
            "INFO:autora.theorist.bms.regressor:BMS fitting finished\n",
            "INFO:autora.theorist.bms.regressor:BMS fitting started\n"
          ]
        },
        {
          "name": "stdout",
          "output_type": "stream",
          "text": [
            "Sampling new experiment conditions...\n",
            "Obtaining observations...\n",
            "SIMULATION 2 / DISCOVERY CYCLE 4\n",
            "Fitting models on benchmark state...\n"
          ]
        },
        {
          "name": "stderr",
          "output_type": "stream",
          "text": [
            "100%|██████████| 50/50 [00:02<00:00, 16.83it/s]\n",
            "INFO:autora.theorist.bms.regressor:BMS fitting finished\n",
            "INFO:autora.theorist.bms.regressor:BMS fitting started\n"
          ]
        },
        {
          "name": "stdout",
          "output_type": "stream",
          "text": [
            "Fitting models on working state...\n"
          ]
        },
        {
          "name": "stderr",
          "output_type": "stream",
          "text": [
            "100%|██████████| 50/50 [00:03<00:00, 15.97it/s]\n",
            "INFO:autora.theorist.bms.regressor:BMS fitting finished\n",
            "INFO:autora.theorist.bms.regressor:BMS fitting started\n"
          ]
        },
        {
          "name": "stdout",
          "output_type": "stream",
          "text": [
            "Sampling new experiment conditions...\n",
            "Obtaining observations...\n",
            "SIMULATION 2 / DISCOVERY CYCLE 5\n",
            "Fitting models on benchmark state...\n"
          ]
        },
        {
          "name": "stderr",
          "output_type": "stream",
          "text": [
            "100%|██████████| 50/50 [00:02<00:00, 17.09it/s]\n",
            "INFO:autora.theorist.bms.regressor:BMS fitting finished\n",
            "INFO:autora.theorist.bms.regressor:BMS fitting started\n"
          ]
        },
        {
          "name": "stdout",
          "output_type": "stream",
          "text": [
            "Fitting models on working state...\n"
          ]
        },
        {
          "name": "stderr",
          "output_type": "stream",
          "text": [
            "100%|██████████| 50/50 [00:03<00:00, 16.02it/s]\n",
            "INFO:autora.theorist.bms.regressor:BMS fitting finished\n",
            "INFO:autora.theorist.bms.regressor:BMS fitting started\n"
          ]
        },
        {
          "name": "stdout",
          "output_type": "stream",
          "text": [
            "Sampling new experiment conditions...\n",
            "Obtaining observations...\n",
            "SIMULATION 2 / DISCOVERY CYCLE 6\n",
            "Fitting models on benchmark state...\n"
          ]
        },
        {
          "name": "stderr",
          "output_type": "stream",
          "text": [
            "100%|██████████| 50/50 [00:02<00:00, 17.00it/s]\n",
            "INFO:autora.theorist.bms.regressor:BMS fitting finished\n",
            "INFO:autora.theorist.bms.regressor:BMS fitting started\n"
          ]
        },
        {
          "name": "stdout",
          "output_type": "stream",
          "text": [
            "Fitting models on working state...\n"
          ]
        },
        {
          "name": "stderr",
          "output_type": "stream",
          "text": [
            "100%|██████████| 50/50 [00:03<00:00, 15.78it/s]\n",
            "INFO:autora.theorist.bms.regressor:BMS fitting finished\n",
            "INFO:autora.theorist.bms.regressor:BMS fitting started\n"
          ]
        },
        {
          "name": "stdout",
          "output_type": "stream",
          "text": [
            "Sampling new experiment conditions...\n",
            "Obtaining observations...\n",
            "SIMULATION 2 / DISCOVERY CYCLE 7\n",
            "Fitting models on benchmark state...\n"
          ]
        },
        {
          "name": "stderr",
          "output_type": "stream",
          "text": [
            "100%|██████████| 50/50 [00:03<00:00, 15.82it/s]\n",
            "INFO:autora.theorist.bms.regressor:BMS fitting finished\n",
            "INFO:autora.theorist.bms.regressor:BMS fitting started\n"
          ]
        },
        {
          "name": "stdout",
          "output_type": "stream",
          "text": [
            "Fitting models on working state...\n"
          ]
        },
        {
          "name": "stderr",
          "output_type": "stream",
          "text": [
            "100%|██████████| 50/50 [00:03<00:00, 15.94it/s]\n",
            "INFO:autora.theorist.bms.regressor:BMS fitting finished\n",
            "INFO:autora.theorist.bms.regressor:BMS fitting started\n"
          ]
        },
        {
          "name": "stdout",
          "output_type": "stream",
          "text": [
            "Sampling new experiment conditions...\n",
            "Obtaining observations...\n",
            "SIMULATION 2 / DISCOVERY CYCLE 8\n",
            "Fitting models on benchmark state...\n"
          ]
        },
        {
          "name": "stderr",
          "output_type": "stream",
          "text": [
            "100%|██████████| 50/50 [00:03<00:00, 14.81it/s]\n",
            "INFO:autora.theorist.bms.regressor:BMS fitting finished\n",
            "INFO:autora.theorist.bms.regressor:BMS fitting started\n"
          ]
        },
        {
          "name": "stdout",
          "output_type": "stream",
          "text": [
            "Fitting models on working state...\n"
          ]
        },
        {
          "name": "stderr",
          "output_type": "stream",
          "text": [
            "100%|██████████| 50/50 [00:03<00:00, 13.37it/s]\n",
            "INFO:autora.theorist.bms.regressor:BMS fitting finished\n",
            "INFO:autora.theorist.bms.regressor:BMS fitting started\n"
          ]
        },
        {
          "name": "stdout",
          "output_type": "stream",
          "text": [
            "Sampling new experiment conditions...\n",
            "Obtaining observations...\n",
            "SIMULATION 2 / DISCOVERY CYCLE 9\n",
            "Fitting models on benchmark state...\n"
          ]
        },
        {
          "name": "stderr",
          "output_type": "stream",
          "text": [
            "100%|██████████| 50/50 [00:02<00:00, 18.32it/s]\n",
            "INFO:autora.theorist.bms.regressor:BMS fitting finished\n",
            "INFO:autora.theorist.bms.regressor:BMS fitting started\n"
          ]
        },
        {
          "name": "stdout",
          "output_type": "stream",
          "text": [
            "Fitting models on working state...\n"
          ]
        },
        {
          "name": "stderr",
          "output_type": "stream",
          "text": [
            "100%|██████████| 50/50 [00:03<00:00, 15.24it/s]\n",
            "INFO:autora.theorist.bms.regressor:BMS fitting finished\n",
            "INFO:autora.theorist.bms.regressor:BMS fitting started\n"
          ]
        },
        {
          "name": "stdout",
          "output_type": "stream",
          "text": [
            "Sampling new experiment conditions...\n",
            "Obtaining observations...\n",
            "SIMULATION 2 / DISCOVERY CYCLE 10\n",
            "Fitting models on benchmark state...\n"
          ]
        },
        {
          "name": "stderr",
          "output_type": "stream",
          "text": [
            "100%|██████████| 50/50 [00:03<00:00, 14.21it/s]\n",
            "INFO:autora.theorist.bms.regressor:BMS fitting finished\n",
            "INFO:autora.theorist.bms.regressor:BMS fitting started\n"
          ]
        },
        {
          "name": "stdout",
          "output_type": "stream",
          "text": [
            "Fitting models on working state...\n"
          ]
        },
        {
          "name": "stderr",
          "output_type": "stream",
          "text": [
            "100%|██████████| 50/50 [00:04<00:00, 11.99it/s]\n",
            "INFO:autora.theorist.bms.regressor:BMS fitting finished\n",
            "INFO:autora.theorist.bms.regressor:BMS fitting started\n"
          ]
        },
        {
          "name": "stdout",
          "output_type": "stream",
          "text": [
            "Sampling new experiment conditions...\n",
            "Obtaining observations...\n",
            "SIMULATION 2 / DISCOVERY CYCLE 11\n",
            "Fitting models on benchmark state...\n"
          ]
        },
        {
          "name": "stderr",
          "output_type": "stream",
          "text": [
            "100%|██████████| 50/50 [00:03<00:00, 16.45it/s]\n",
            "INFO:autora.theorist.bms.regressor:BMS fitting finished\n",
            "INFO:autora.theorist.bms.regressor:BMS fitting started\n"
          ]
        },
        {
          "name": "stdout",
          "output_type": "stream",
          "text": [
            "Fitting models on working state...\n"
          ]
        },
        {
          "name": "stderr",
          "output_type": "stream",
          "text": [
            "100%|██████████| 50/50 [00:03<00:00, 15.80it/s]\n",
            "INFO:autora.theorist.bms.regressor:BMS fitting finished\n",
            "INFO:autora.theorist.bms.regressor:BMS fitting started\n"
          ]
        },
        {
          "name": "stdout",
          "output_type": "stream",
          "text": [
            "Sampling new experiment conditions...\n",
            "Obtaining observations...\n",
            "SIMULATION 2 / DISCOVERY CYCLE 12\n",
            "Fitting models on benchmark state...\n"
          ]
        },
        {
          "name": "stderr",
          "output_type": "stream",
          "text": [
            "100%|██████████| 50/50 [00:03<00:00, 16.02it/s]\n",
            "INFO:autora.theorist.bms.regressor:BMS fitting finished\n",
            "INFO:autora.theorist.bms.regressor:BMS fitting started\n"
          ]
        },
        {
          "name": "stdout",
          "output_type": "stream",
          "text": [
            "Fitting models on working state...\n"
          ]
        },
        {
          "name": "stderr",
          "output_type": "stream",
          "text": [
            "100%|██████████| 50/50 [00:03<00:00, 14.62it/s]\n",
            "INFO:autora.theorist.bms.regressor:BMS fitting finished\n",
            "INFO:autora.theorist.bms.regressor:BMS fitting started\n"
          ]
        },
        {
          "name": "stdout",
          "output_type": "stream",
          "text": [
            "Sampling new experiment conditions...\n",
            "Obtaining observations...\n",
            "SIMULATION 2 / DISCOVERY CYCLE 13\n",
            "Fitting models on benchmark state...\n"
          ]
        },
        {
          "name": "stderr",
          "output_type": "stream",
          "text": [
            "100%|██████████| 50/50 [00:03<00:00, 15.75it/s]\n",
            "INFO:autora.theorist.bms.regressor:BMS fitting finished\n",
            "INFO:autora.theorist.bms.regressor:BMS fitting started\n"
          ]
        },
        {
          "name": "stdout",
          "output_type": "stream",
          "text": [
            "Fitting models on working state...\n"
          ]
        },
        {
          "name": "stderr",
          "output_type": "stream",
          "text": [
            "100%|██████████| 50/50 [00:03<00:00, 15.87it/s]\n",
            "INFO:autora.theorist.bms.regressor:BMS fitting finished\n",
            "INFO:autora.theorist.bms.regressor:BMS fitting started\n"
          ]
        },
        {
          "name": "stdout",
          "output_type": "stream",
          "text": [
            "Sampling new experiment conditions...\n",
            "Obtaining observations...\n",
            "SIMULATION 2 / DISCOVERY CYCLE 14\n",
            "Fitting models on benchmark state...\n"
          ]
        },
        {
          "name": "stderr",
          "output_type": "stream",
          "text": [
            "100%|██████████| 50/50 [00:03<00:00, 15.87it/s]\n",
            "INFO:autora.theorist.bms.regressor:BMS fitting finished\n",
            "INFO:autora.theorist.bms.regressor:BMS fitting started\n"
          ]
        },
        {
          "name": "stdout",
          "output_type": "stream",
          "text": [
            "Fitting models on working state...\n"
          ]
        },
        {
          "name": "stderr",
          "output_type": "stream",
          "text": [
            "100%|██████████| 50/50 [00:03<00:00, 15.65it/s]\n",
            "INFO:autora.theorist.bms.regressor:BMS fitting finished\n",
            "INFO:autora.theorist.bms.regressor:BMS fitting started\n"
          ]
        },
        {
          "name": "stdout",
          "output_type": "stream",
          "text": [
            "Sampling new experiment conditions...\n",
            "Obtaining observations...\n",
            "SIMULATION 2 / DISCOVERY CYCLE 15\n",
            "Fitting models on benchmark state...\n"
          ]
        },
        {
          "name": "stderr",
          "output_type": "stream",
          "text": [
            "100%|██████████| 50/50 [00:03<00:00, 14.93it/s]\n",
            "INFO:autora.theorist.bms.regressor:BMS fitting finished\n",
            "INFO:autora.theorist.bms.regressor:BMS fitting started\n"
          ]
        },
        {
          "name": "stdout",
          "output_type": "stream",
          "text": [
            "Fitting models on working state...\n"
          ]
        },
        {
          "name": "stderr",
          "output_type": "stream",
          "text": [
            "100%|██████████| 50/50 [00:03<00:00, 14.74it/s]\n",
            "INFO:autora.theorist.bms.regressor:BMS fitting finished\n",
            "INFO:autora.theorist.bms.regressor:BMS fitting started\n"
          ]
        },
        {
          "name": "stdout",
          "output_type": "stream",
          "text": [
            "Sampling new experiment conditions...\n",
            "Obtaining observations...\n",
            "SIMULATION 2 / DISCOVERY CYCLE 16\n",
            "Fitting models on benchmark state...\n"
          ]
        },
        {
          "name": "stderr",
          "output_type": "stream",
          "text": [
            "100%|██████████| 50/50 [00:03<00:00, 15.35it/s]\n",
            "INFO:autora.theorist.bms.regressor:BMS fitting finished\n",
            "INFO:autora.theorist.bms.regressor:BMS fitting started\n"
          ]
        },
        {
          "name": "stdout",
          "output_type": "stream",
          "text": [
            "Fitting models on working state...\n"
          ]
        },
        {
          "name": "stderr",
          "output_type": "stream",
          "text": [
            "100%|██████████| 50/50 [00:03<00:00, 13.29it/s]\n",
            "INFO:autora.theorist.bms.regressor:BMS fitting finished\n",
            "INFO:autora.theorist.bms.regressor:BMS fitting started\n"
          ]
        },
        {
          "name": "stdout",
          "output_type": "stream",
          "text": [
            "Sampling new experiment conditions...\n",
            "Obtaining observations...\n",
            "SIMULATION 2 / DISCOVERY CYCLE 17\n",
            "Fitting models on benchmark state...\n"
          ]
        },
        {
          "name": "stderr",
          "output_type": "stream",
          "text": [
            "100%|██████████| 50/50 [00:03<00:00, 16.11it/s]\n",
            "INFO:autora.theorist.bms.regressor:BMS fitting finished\n",
            "INFO:autora.theorist.bms.regressor:BMS fitting started\n"
          ]
        },
        {
          "name": "stdout",
          "output_type": "stream",
          "text": [
            "Fitting models on working state...\n"
          ]
        },
        {
          "name": "stderr",
          "output_type": "stream",
          "text": [
            "100%|██████████| 50/50 [00:03<00:00, 15.35it/s]\n",
            "INFO:autora.theorist.bms.regressor:BMS fitting finished\n",
            "INFO:autora.theorist.bms.regressor:BMS fitting started\n"
          ]
        },
        {
          "name": "stdout",
          "output_type": "stream",
          "text": [
            "Sampling new experiment conditions...\n",
            "Obtaining observations...\n",
            "SIMULATION 2 / DISCOVERY CYCLE 18\n",
            "Fitting models on benchmark state...\n"
          ]
        },
        {
          "name": "stderr",
          "output_type": "stream",
          "text": [
            "100%|██████████| 50/50 [00:03<00:00, 14.53it/s]\n",
            "INFO:autora.theorist.bms.regressor:BMS fitting finished\n",
            "INFO:autora.theorist.bms.regressor:BMS fitting started\n"
          ]
        },
        {
          "name": "stdout",
          "output_type": "stream",
          "text": [
            "Fitting models on working state...\n"
          ]
        },
        {
          "name": "stderr",
          "output_type": "stream",
          "text": [
            "100%|██████████| 50/50 [00:03<00:00, 15.36it/s]\n",
            "INFO:autora.theorist.bms.regressor:BMS fitting finished\n",
            "INFO:autora.theorist.bms.regressor:BMS fitting started\n"
          ]
        },
        {
          "name": "stdout",
          "output_type": "stream",
          "text": [
            "Sampling new experiment conditions...\n",
            "Obtaining observations...\n",
            "SIMULATION 2 / DISCOVERY CYCLE 19\n",
            "Fitting models on benchmark state...\n"
          ]
        },
        {
          "name": "stderr",
          "output_type": "stream",
          "text": [
            "100%|██████████| 50/50 [00:03<00:00, 16.21it/s]\n",
            "INFO:autora.theorist.bms.regressor:BMS fitting finished\n",
            "INFO:autora.theorist.bms.regressor:BMS fitting started\n"
          ]
        },
        {
          "name": "stdout",
          "output_type": "stream",
          "text": [
            "Fitting models on working state...\n"
          ]
        },
        {
          "name": "stderr",
          "output_type": "stream",
          "text": [
            "100%|██████████| 50/50 [00:03<00:00, 14.94it/s]\n",
            "INFO:autora.theorist.bms.regressor:BMS fitting finished\n",
            "INFO:autora.theorist.bms.regressor:BMS fitting started\n"
          ]
        },
        {
          "name": "stdout",
          "output_type": "stream",
          "text": [
            "Sampling new experiment conditions...\n",
            "Obtaining observations...\n",
            "SIMULATION 3 / DISCOVERY CYCLE 0\n",
            "Fitting models on benchmark state...\n"
          ]
        },
        {
          "name": "stderr",
          "output_type": "stream",
          "text": [
            "100%|██████████| 50/50 [00:02<00:00, 17.72it/s]\n",
            "INFO:autora.theorist.bms.regressor:BMS fitting finished\n",
            "INFO:autora.theorist.bms.regressor:BMS fitting started\n"
          ]
        },
        {
          "name": "stdout",
          "output_type": "stream",
          "text": [
            "Fitting models on working state...\n"
          ]
        },
        {
          "name": "stderr",
          "output_type": "stream",
          "text": [
            "100%|██████████| 50/50 [00:02<00:00, 18.12it/s]\n",
            "INFO:autora.theorist.bms.regressor:BMS fitting finished\n",
            "INFO:autora.theorist.bms.regressor:BMS fitting started\n"
          ]
        },
        {
          "name": "stdout",
          "output_type": "stream",
          "text": [
            "Sampling new experiment conditions...\n",
            "Obtaining observations...\n",
            "SIMULATION 3 / DISCOVERY CYCLE 1\n",
            "Fitting models on benchmark state...\n"
          ]
        },
        {
          "name": "stderr",
          "output_type": "stream",
          "text": [
            "100%|██████████| 50/50 [00:02<00:00, 19.00it/s]\n",
            "INFO:autora.theorist.bms.regressor:BMS fitting finished\n",
            "INFO:autora.theorist.bms.regressor:BMS fitting started\n"
          ]
        },
        {
          "name": "stdout",
          "output_type": "stream",
          "text": [
            "Fitting models on working state...\n"
          ]
        },
        {
          "name": "stderr",
          "output_type": "stream",
          "text": [
            "100%|██████████| 50/50 [00:02<00:00, 17.27it/s]\n",
            "INFO:autora.theorist.bms.regressor:BMS fitting finished\n",
            "INFO:autora.theorist.bms.regressor:BMS fitting started\n"
          ]
        },
        {
          "name": "stdout",
          "output_type": "stream",
          "text": [
            "Sampling new experiment conditions...\n",
            "Obtaining observations...\n",
            "SIMULATION 3 / DISCOVERY CYCLE 2\n",
            "Fitting models on benchmark state...\n"
          ]
        },
        {
          "name": "stderr",
          "output_type": "stream",
          "text": [
            "100%|██████████| 50/50 [00:04<00:00, 10.71it/s]\n",
            "INFO:autora.theorist.bms.regressor:BMS fitting finished\n",
            "INFO:autora.theorist.bms.regressor:BMS fitting started\n"
          ]
        },
        {
          "name": "stdout",
          "output_type": "stream",
          "text": [
            "Fitting models on working state...\n"
          ]
        },
        {
          "name": "stderr",
          "output_type": "stream",
          "text": [
            "100%|██████████| 50/50 [00:03<00:00, 15.95it/s]\n",
            "INFO:autora.theorist.bms.regressor:BMS fitting finished\n",
            "INFO:autora.theorist.bms.regressor:BMS fitting started\n"
          ]
        },
        {
          "name": "stdout",
          "output_type": "stream",
          "text": [
            "Sampling new experiment conditions...\n",
            "Obtaining observations...\n",
            "SIMULATION 3 / DISCOVERY CYCLE 3\n",
            "Fitting models on benchmark state...\n"
          ]
        },
        {
          "name": "stderr",
          "output_type": "stream",
          "text": [
            "100%|██████████| 50/50 [00:03<00:00, 15.35it/s]\n",
            "INFO:autora.theorist.bms.regressor:BMS fitting finished\n",
            "INFO:autora.theorist.bms.regressor:BMS fitting started\n"
          ]
        },
        {
          "name": "stdout",
          "output_type": "stream",
          "text": [
            "Fitting models on working state...\n"
          ]
        },
        {
          "name": "stderr",
          "output_type": "stream",
          "text": [
            "100%|██████████| 50/50 [00:03<00:00, 15.42it/s]\n",
            "INFO:autora.theorist.bms.regressor:BMS fitting finished\n",
            "INFO:autora.theorist.bms.regressor:BMS fitting started\n"
          ]
        },
        {
          "name": "stdout",
          "output_type": "stream",
          "text": [
            "Sampling new experiment conditions...\n",
            "Obtaining observations...\n",
            "SIMULATION 3 / DISCOVERY CYCLE 4\n",
            "Fitting models on benchmark state...\n"
          ]
        },
        {
          "name": "stderr",
          "output_type": "stream",
          "text": [
            "100%|██████████| 50/50 [00:03<00:00, 14.52it/s]\n",
            "INFO:autora.theorist.bms.regressor:BMS fitting finished\n",
            "INFO:autora.theorist.bms.regressor:BMS fitting started\n"
          ]
        },
        {
          "name": "stdout",
          "output_type": "stream",
          "text": [
            "Fitting models on working state...\n"
          ]
        },
        {
          "name": "stderr",
          "output_type": "stream",
          "text": [
            "100%|██████████| 50/50 [00:03<00:00, 15.46it/s]\n",
            "INFO:autora.theorist.bms.regressor:BMS fitting finished\n",
            "INFO:autora.theorist.bms.regressor:BMS fitting started\n"
          ]
        },
        {
          "name": "stdout",
          "output_type": "stream",
          "text": [
            "Sampling new experiment conditions...\n",
            "Obtaining observations...\n",
            "SIMULATION 3 / DISCOVERY CYCLE 5\n",
            "Fitting models on benchmark state...\n"
          ]
        },
        {
          "name": "stderr",
          "output_type": "stream",
          "text": [
            "100%|██████████| 50/50 [00:03<00:00, 15.67it/s]\n",
            "INFO:autora.theorist.bms.regressor:BMS fitting finished\n",
            "INFO:autora.theorist.bms.regressor:BMS fitting started\n"
          ]
        },
        {
          "name": "stdout",
          "output_type": "stream",
          "text": [
            "Fitting models on working state...\n"
          ]
        },
        {
          "name": "stderr",
          "output_type": "stream",
          "text": [
            "100%|██████████| 50/50 [00:03<00:00, 15.72it/s]\n",
            "INFO:autora.theorist.bms.regressor:BMS fitting finished\n",
            "INFO:autora.theorist.bms.regressor:BMS fitting started\n"
          ]
        },
        {
          "name": "stdout",
          "output_type": "stream",
          "text": [
            "Sampling new experiment conditions...\n",
            "Obtaining observations...\n",
            "SIMULATION 3 / DISCOVERY CYCLE 6\n",
            "Fitting models on benchmark state...\n"
          ]
        },
        {
          "name": "stderr",
          "output_type": "stream",
          "text": [
            "100%|██████████| 50/50 [00:03<00:00, 15.70it/s]\n",
            "INFO:autora.theorist.bms.regressor:BMS fitting finished\n",
            "INFO:autora.theorist.bms.regressor:BMS fitting started\n"
          ]
        },
        {
          "name": "stdout",
          "output_type": "stream",
          "text": [
            "Fitting models on working state...\n"
          ]
        },
        {
          "name": "stderr",
          "output_type": "stream",
          "text": [
            "100%|██████████| 50/50 [00:03<00:00, 15.25it/s]\n",
            "INFO:autora.theorist.bms.regressor:BMS fitting finished\n",
            "INFO:autora.theorist.bms.regressor:BMS fitting started\n"
          ]
        },
        {
          "name": "stdout",
          "output_type": "stream",
          "text": [
            "Sampling new experiment conditions...\n",
            "Obtaining observations...\n",
            "SIMULATION 3 / DISCOVERY CYCLE 7\n",
            "Fitting models on benchmark state...\n"
          ]
        },
        {
          "name": "stderr",
          "output_type": "stream",
          "text": [
            "100%|██████████| 50/50 [00:03<00:00, 14.19it/s]\n",
            "INFO:autora.theorist.bms.regressor:BMS fitting finished\n",
            "INFO:autora.theorist.bms.regressor:BMS fitting started\n"
          ]
        },
        {
          "name": "stdout",
          "output_type": "stream",
          "text": [
            "Fitting models on working state...\n"
          ]
        },
        {
          "name": "stderr",
          "output_type": "stream",
          "text": [
            "100%|██████████| 50/50 [00:03<00:00, 14.84it/s]\n",
            "INFO:autora.theorist.bms.regressor:BMS fitting finished\n",
            "INFO:autora.theorist.bms.regressor:BMS fitting started\n"
          ]
        },
        {
          "name": "stdout",
          "output_type": "stream",
          "text": [
            "Sampling new experiment conditions...\n",
            "Obtaining observations...\n",
            "SIMULATION 3 / DISCOVERY CYCLE 8\n",
            "Fitting models on benchmark state...\n"
          ]
        },
        {
          "name": "stderr",
          "output_type": "stream",
          "text": [
            " 64%|██████▍   | 32/50 [00:02<00:01, 15.02it/s]"
          ]
        },
        {
          "ename": "TypeError",
          "evalue": "Cannot cast array data from dtype('complex128') to dtype('float64') according to the rule 'safe'",
          "output_type": "error",
          "traceback": [
            "\u001b[31m---------------------------------------------------------------------------\u001b[39m",
            "\u001b[31mKeyError\u001b[39m                                  Traceback (most recent call last)",
            "\u001b[36mFile \u001b[39m\u001b[32m/usr/local/python/3.12.1/lib/python3.12/site-packages/autora/theorist/bms/mcmc.py:797\u001b[39m, in \u001b[36mTree.update_representative\u001b[39m\u001b[34m(self, verbose)\u001b[39m\n\u001b[32m    796\u001b[39m \u001b[38;5;28;01mtry\u001b[39;00m:  \u001b[38;5;66;03m# We've seen this canonical before!\u001b[39;00m\n\u001b[32m--> \u001b[39m\u001b[32m797\u001b[39m     rep, rep_energy, rep_par_values = \u001b[38;5;28;43mself\u001b[39;49m\u001b[43m.\u001b[49m\u001b[43mrepresentative\u001b[49m\u001b[43m[\u001b[49m\u001b[43mcanonical\u001b[49m\u001b[43m]\u001b[49m\n\u001b[32m    798\u001b[39m \u001b[38;5;28;01mexcept\u001b[39;00m \u001b[38;5;167;01mTypeError\u001b[39;00m:\n",
            "\u001b[31mKeyError\u001b[39m: 'I*sqrt(Abs(c1))'",
            "\nDuring handling of the above exception, another exception occurred:\n",
            "\u001b[31mTypeError\u001b[39m                                 Traceback (most recent call last)",
            "\u001b[31mTypeError\u001b[39m: Cannot cast array data from dtype('complex128') to dtype('float64') according to the rule 'safe'"
          ]
        },
        {
          "name": "stderr",
          "output_type": "stream",
          "text": [
            " 66%|██████▌   | 33/50 [00:02<00:01, 12.28it/s]\n"
          ]
        },
        {
          "ename": "error",
          "evalue": "Result from function call is not a proper array of floats.",
          "output_type": "error",
          "traceback": [
            "\u001b[31m---------------------------------------------------------------------------\u001b[39m",
            "\u001b[31mKeyError\u001b[39m                                  Traceback (most recent call last)",
            "\u001b[36mFile \u001b[39m\u001b[32m/usr/local/python/3.12.1/lib/python3.12/site-packages/autora/theorist/bms/mcmc.py:797\u001b[39m, in \u001b[36mTree.update_representative\u001b[39m\u001b[34m(self, verbose)\u001b[39m\n\u001b[32m    796\u001b[39m \u001b[38;5;28;01mtry\u001b[39;00m:  \u001b[38;5;66;03m# We've seen this canonical before!\u001b[39;00m\n\u001b[32m--> \u001b[39m\u001b[32m797\u001b[39m     rep, rep_energy, rep_par_values = \u001b[38;5;28;43mself\u001b[39;49m\u001b[43m.\u001b[49m\u001b[43mrepresentative\u001b[49m\u001b[43m[\u001b[49m\u001b[43mcanonical\u001b[49m\u001b[43m]\u001b[49m\n\u001b[32m    798\u001b[39m \u001b[38;5;28;01mexcept\u001b[39;00m \u001b[38;5;167;01mTypeError\u001b[39;00m:\n",
            "\u001b[31mKeyError\u001b[39m: 'I*sqrt(Abs(c1))'",
            "\nDuring handling of the above exception, another exception occurred:\n",
            "\u001b[31merror\u001b[39m                                     Traceback (most recent call last)",
            "\u001b[36mCell\u001b[39m\u001b[36m \u001b[39m\u001b[32mIn[35]\u001b[39m\u001b[32m, line 5\u001b[39m\n\u001b[32m      2\u001b[39m working_MSE_plot_data = np.zeros([num_discovery_simulations, num_cycles])\n\u001b[32m      4\u001b[39m \u001b[38;5;28;01mfor\u001b[39;00m sim \u001b[38;5;129;01min\u001b[39;00m \u001b[38;5;28mrange\u001b[39m(num_discovery_simulations):\n\u001b[32m----> \u001b[39m\u001b[32m5\u001b[39m   benchmark_MSE_log, working_MSE_log, benchmark_state, working_state = \u001b[43mrun_simulation\u001b[49m\u001b[43m(\u001b[49m\u001b[43mnum_cycles\u001b[49m\u001b[43m,\u001b[49m\u001b[43m \u001b[49m\u001b[43mnum_conditions_per_cycle\u001b[49m\u001b[43m,\u001b[49m\u001b[43m \u001b[49m\u001b[43mnum_initial_conditions\u001b[49m\u001b[43m,\u001b[49m\u001b[43m \u001b[49m\u001b[43mbms_epochs\u001b[49m\u001b[43m,\u001b[49m\u001b[43m \u001b[49m\u001b[43mexperiment_runner\u001b[49m\u001b[43m,\u001b[49m\u001b[43m \u001b[49m\u001b[43msim\u001b[49m\u001b[43m)\u001b[49m\n\u001b[32m      7\u001b[39m   benchmark_MSE_plot_data[sim, :] = benchmark_MSE_log\n\u001b[32m      8\u001b[39m   working_MSE_plot_data[sim, :] = working_MSE_log\n",
            "\u001b[36mCell\u001b[39m\u001b[36m \u001b[39m\u001b[32mIn[10]\u001b[39m\u001b[32m, line 51\u001b[39m, in \u001b[36mrun_simulation\u001b[39m\u001b[34m(num_cycles, num_conditions_per_cycle, num_initial_conditions, bms_epochs, experiment_runner, sim)\u001b[39m\n\u001b[32m     49\u001b[39m \u001b[38;5;66;03m# first, we fit a model to the data\u001b[39;00m\n\u001b[32m     50\u001b[39m \u001b[38;5;28mprint\u001b[39m(\u001b[33m\"\u001b[39m\u001b[33mFitting models on benchmark state...\u001b[39m\u001b[33m\"\u001b[39m)\n\u001b[32m---> \u001b[39m\u001b[32m51\u001b[39m benchmark_state = \u001b[43mtheorists_on_state\u001b[49m\u001b[43m(\u001b[49m\u001b[43mbenchmark_state\u001b[49m\u001b[43m,\u001b[49m\u001b[43m \u001b[49m\u001b[43mbms_epochs\u001b[49m\u001b[43m=\u001b[49m\u001b[43mbms_epochs\u001b[49m\u001b[43m)\u001b[49m\n\u001b[32m     52\u001b[39m \u001b[38;5;28mprint\u001b[39m(\u001b[33m\"\u001b[39m\u001b[33mFitting models on working state...\u001b[39m\u001b[33m\"\u001b[39m)\n\u001b[32m     53\u001b[39m working_state = theorists_on_state(working_state, bms_epochs=bms_epochs)\n",
            "\u001b[36mFile \u001b[39m\u001b[32m/usr/local/python/3.12.1/lib/python3.12/site-packages/autora/state.py:1128\u001b[39m, in \u001b[36mdelta_to_state.<locals>._f\u001b[39m\u001b[34m(state_, **kwargs)\u001b[39m\n\u001b[32m   1126\u001b[39m \u001b[38;5;129m@wraps\u001b[39m(f)\n\u001b[32m   1127\u001b[39m \u001b[38;5;28;01mdef\u001b[39;00m\u001b[38;5;250m \u001b[39m\u001b[34m_f\u001b[39m(state_: S, **kwargs) -> S:\n\u001b[32m-> \u001b[39m\u001b[32m1128\u001b[39m     delta = \u001b[43mf\u001b[49m\u001b[43m(\u001b[49m\u001b[43mstate_\u001b[49m\u001b[43m,\u001b[49m\u001b[43m \u001b[49m\u001b[43m*\u001b[49m\u001b[43m*\u001b[49m\u001b[43mkwargs\u001b[49m\u001b[43m)\u001b[49m\n\u001b[32m   1129\u001b[39m     \u001b[38;5;28;01massert\u001b[39;00m \u001b[38;5;28misinstance\u001b[39m(delta, Mapping), (\n\u001b[32m   1130\u001b[39m         \u001b[33m\"\u001b[39m\u001b[33mOutput of \u001b[39m\u001b[38;5;132;01m%s\u001b[39;00m\u001b[33m must be a `Delta`, `UserDict`, \u001b[39m\u001b[33m\"\u001b[39m \u001b[33m\"\u001b[39m\u001b[33mor `dict`.\u001b[39m\u001b[33m\"\u001b[39m % f\n\u001b[32m   1131\u001b[39m     )\n\u001b[32m   1132\u001b[39m     new_state = state_ + delta\n",
            "\u001b[36mFile \u001b[39m\u001b[32m/usr/local/python/3.12.1/lib/python3.12/site-packages/autora/state.py:864\u001b[39m, in \u001b[36minputs_from_state.<locals>._f\u001b[39m\u001b[34m(state_, **kwargs)\u001b[39m\n\u001b[32m    862\u001b[39m     arguments_from_state[\u001b[33m\"\u001b[39m\u001b[33mstate\u001b[39m\u001b[33m\"\u001b[39m] = state_\n\u001b[32m    863\u001b[39m arguments = \u001b[38;5;28mdict\u001b[39m(arguments_from_state, **kwargs)\n\u001b[32m--> \u001b[39m\u001b[32m864\u001b[39m result = \u001b[43mf\u001b[49m\u001b[43m(\u001b[49m\u001b[43m*\u001b[49m\u001b[43m*\u001b[49m\u001b[43marguments\u001b[49m\u001b[43m)\u001b[49m\n\u001b[32m    865\u001b[39m \u001b[38;5;28;01mreturn\u001b[39;00m result\n",
            "\u001b[36mCell\u001b[39m\u001b[36m \u001b[39m\u001b[32mIn[5]\u001b[39m\u001b[32m, line 16\u001b[39m, in \u001b[36mtheorists_on_state\u001b[39m\u001b[34m(experiment_data, variables, bms_epochs)\u001b[39m\n\u001b[32m     13\u001b[39m theorist_polyr = PolynomialRegressor()\n\u001b[32m     14\u001b[39m theorist_lr = linear_model.LinearRegression()\n\u001b[32m---> \u001b[39m\u001b[32m16\u001b[39m \u001b[38;5;28;01mreturn\u001b[39;00m Delta(models_bms = [\u001b[43mtheorist_bms\u001b[49m\u001b[43m.\u001b[49m\u001b[43mfit\u001b[49m\u001b[43m(\u001b[49m\u001b[43mX\u001b[49m\u001b[43m,\u001b[49m\u001b[43m \u001b[49m\u001b[43my\u001b[49m\u001b[43m)\u001b[49m],\n\u001b[32m     17\u001b[39m              models_lr=[theorist_lr.fit(X, y)],\n\u001b[32m     18\u001b[39m              models_polyr=[theorist_polyr.fit(X, y)])\n",
            "\u001b[36mFile \u001b[39m\u001b[32m/usr/local/python/3.12.1/lib/python3.12/site-packages/autora/theorist/bms/regressor.py:135\u001b[39m, in \u001b[36mBMSRegressor.fit\u001b[39m\u001b[34m(self, X, y, num_param, root, custom_ops, seed)\u001b[39m\n\u001b[32m    122\u001b[39m     \u001b[38;5;28mself\u001b[39m.add_primitive(root)\n\u001b[32m    123\u001b[39m \u001b[38;5;28mself\u001b[39m.pms = Parallel(\n\u001b[32m    124\u001b[39m     Ts=\u001b[38;5;28mself\u001b[39m.ts,\n\u001b[32m    125\u001b[39m     variables=\u001b[38;5;28mself\u001b[39m.variables,\n\u001b[32m   (...)\u001b[39m\u001b[32m    133\u001b[39m     seed=seed,\n\u001b[32m    134\u001b[39m )\n\u001b[32m--> \u001b[39m\u001b[32m135\u001b[39m \u001b[38;5;28mself\u001b[39m.model_, \u001b[38;5;28mself\u001b[39m.loss_, \u001b[38;5;28mself\u001b[39m.cache_ = \u001b[43mutils\u001b[49m\u001b[43m.\u001b[49m\u001b[43mrun\u001b[49m\u001b[43m(\u001b[49m\u001b[38;5;28;43mself\u001b[39;49m\u001b[43m.\u001b[49m\u001b[43mpms\u001b[49m\u001b[43m,\u001b[49m\u001b[43m \u001b[49m\u001b[38;5;28;43mself\u001b[39;49m\u001b[43m.\u001b[49m\u001b[43mepochs\u001b[49m\u001b[43m)\u001b[49m\n\u001b[32m    136\u001b[39m \u001b[38;5;28mself\u001b[39m.models_ = \u001b[38;5;28mlist\u001b[39m(\u001b[38;5;28mself\u001b[39m.pms.trees.values())\n\u001b[32m    138\u001b[39m _logger.info(\u001b[33m\"\u001b[39m\u001b[33mBMS fitting finished\u001b[39m\u001b[33m\"\u001b[39m)\n",
            "\u001b[36mFile \u001b[39m\u001b[32m/usr/local/python/3.12.1/lib/python3.12/site-packages/autora/theorist/bms/utils.py:35\u001b[39m, in \u001b[36mrun\u001b[39m\u001b[34m(pms, num_steps, thinning)\u001b[39m\n\u001b[32m     33\u001b[39m desc_len, model, model_len = [], pms.t1, np.inf\n\u001b[32m     34\u001b[39m \u001b[38;5;28;01mfor\u001b[39;00m n \u001b[38;5;129;01min\u001b[39;00m tqdm(\u001b[38;5;28mrange\u001b[39m(num_steps)):\n\u001b[32m---> \u001b[39m\u001b[32m35\u001b[39m     \u001b[43mpms\u001b[49m\u001b[43m.\u001b[49m\u001b[43mmcmc_step\u001b[49m\u001b[43m(\u001b[49m\u001b[43m)\u001b[49m\n\u001b[32m     36\u001b[39m     pms.tree_swap()\n\u001b[32m     37\u001b[39m     \u001b[38;5;28;01mif\u001b[39;00m num_steps % thinning == \u001b[32m0\u001b[39m:  \u001b[38;5;66;03m# sample less often if we thin more\u001b[39;00m\n",
            "\u001b[36mFile \u001b[39m\u001b[32m/usr/local/python/3.12.1/lib/python3.12/site-packages/autora/theorist/bms/parallel.py:102\u001b[39m, in \u001b[36mParallel.mcmc_step\u001b[39m\u001b[34m(self, verbose, p_rr, p_long)\u001b[39m\n\u001b[32m     99\u001b[39m     p_rr = \u001b[32m0.0\u001b[39m\n\u001b[32m    100\u001b[39m \u001b[38;5;28;01mfor\u001b[39;00m T, tree \u001b[38;5;129;01min\u001b[39;00m \u001b[38;5;28mlist\u001b[39m(\u001b[38;5;28mself\u001b[39m.trees.items()):\n\u001b[32m    101\u001b[39m     \u001b[38;5;66;03m# MCMC step\u001b[39;00m\n\u001b[32m--> \u001b[39m\u001b[32m102\u001b[39m     \u001b[43mtree\u001b[49m\u001b[43m.\u001b[49m\u001b[43mmcmc_step\u001b[49m\u001b[43m(\u001b[49m\u001b[43mverbose\u001b[49m\u001b[43m=\u001b[49m\u001b[43mverbose\u001b[49m\u001b[43m,\u001b[49m\u001b[43m \u001b[49m\u001b[43mp_rr\u001b[49m\u001b[43m=\u001b[49m\u001b[43mp_rr\u001b[49m\u001b[43m,\u001b[49m\u001b[43m \u001b[49m\u001b[43mp_long\u001b[49m\u001b[43m=\u001b[49m\u001b[43mp_long\u001b[49m\u001b[43m)\u001b[49m\n\u001b[32m    103\u001b[39m \u001b[38;5;28mself\u001b[39m.t1 = \u001b[38;5;28mself\u001b[39m.trees[\u001b[33m\"\u001b[39m\u001b[33m1.0\u001b[39m\u001b[33m\"\u001b[39m]\n",
            "\u001b[36mFile \u001b[39m\u001b[32m/usr/local/python/3.12.1/lib/python3.12/site-packages/autora/theorist/bms/mcmc.py:1170\u001b[39m, in \u001b[36mTree.mcmc_step\u001b[39m\u001b[34m(self, verbose, p_rr, p_long)\u001b[39m\n\u001b[32m   1167\u001b[39m \u001b[38;5;28;01melse\u001b[39;00m:\n\u001b[32m   1168\u001b[39m     \u001b[38;5;66;03m# Try to replace the root\u001b[39;00m\n\u001b[32m   1169\u001b[39m     newrr = choice(\u001b[38;5;28mself\u001b[39m.rr_space)\n\u001b[32m-> \u001b[39m\u001b[32m1170\u001b[39m     dE, dEB, dEP, par_valuesNew = \u001b[38;5;28;43mself\u001b[39;49m\u001b[43m.\u001b[49m\u001b[43mdE_rr\u001b[49m\u001b[43m(\u001b[49m\u001b[43mrr\u001b[49m\u001b[43m=\u001b[49m\u001b[43mnewrr\u001b[49m\u001b[43m,\u001b[49m\u001b[43m \u001b[49m\u001b[43mverbose\u001b[49m\u001b[43m=\u001b[49m\u001b[43mverbose\u001b[49m\u001b[43m)\u001b[49m\n\u001b[32m   1171\u001b[39m     \u001b[38;5;28;01mif\u001b[39;00m \u001b[38;5;28mself\u001b[39m.num_rr > \u001b[32m0\u001b[39m \u001b[38;5;129;01mand\u001b[39;00m -dEB / \u001b[38;5;28mself\u001b[39m.BT - dEP / \u001b[38;5;28mself\u001b[39m.PT > \u001b[32m0\u001b[39m:\n\u001b[32m   1172\u001b[39m         paccept = \u001b[32m1.0\u001b[39m\n",
            "\u001b[36mFile \u001b[39m\u001b[32m/usr/local/python/3.12.1/lib/python3.12/site-packages/autora/theorist/bms/mcmc.py:1090\u001b[39m, in \u001b[36mTree.dE_rr\u001b[39m\u001b[34m(self, rr, verbose)\u001b[39m\n\u001b[32m   1088\u001b[39m     \u001b[38;5;28;01mreturn\u001b[39;00m np.inf, np.inf, np.inf, deepcopy(\u001b[38;5;28mself\u001b[39m.par_values)\n\u001b[32m   1089\u001b[39m \u001b[38;5;66;03m# check/update canonical representative\u001b[39;00m\n\u001b[32m-> \u001b[39m\u001b[32m1090\u001b[39m rep_res = \u001b[38;5;28;43mself\u001b[39;49m\u001b[43m.\u001b[49m\u001b[43mupdate_representative\u001b[49m\u001b[43m(\u001b[49m\u001b[43mverbose\u001b[49m\u001b[43m=\u001b[49m\u001b[43mverbose\u001b[49m\u001b[43m)\u001b[49m\n\u001b[32m   1091\u001b[39m \u001b[38;5;28;01mif\u001b[39;00m rep_res == -\u001b[32m1\u001b[39m:\n\u001b[32m   1092\u001b[39m     \u001b[38;5;66;03m# this formula is forbidden\u001b[39;00m\n\u001b[32m   1093\u001b[39m     \u001b[38;5;28mself\u001b[39m.prune_root(update_gof=\u001b[38;5;28;01mFalse\u001b[39;00m, verbose=verbose)\n",
            "\u001b[36mFile \u001b[39m\u001b[32m/usr/local/python/3.12.1/lib/python3.12/site-packages/autora/theorist/bms/mcmc.py:802\u001b[39m, in \u001b[36mTree.update_representative\u001b[39m\u001b[34m(self, verbose)\u001b[39m\n\u001b[32m    799\u001b[39m     \u001b[38;5;28;01mreturn\u001b[39;00m -\u001b[32m1\u001b[39m  \u001b[38;5;66;03m# Complex-valued parameters are invalid\u001b[39;00m\n\u001b[32m    800\u001b[39m \u001b[38;5;28;01mexcept\u001b[39;00m \u001b[38;5;167;01mKeyError\u001b[39;00m:  \u001b[38;5;66;03m# Never seen this canonical formula before:\u001b[39;00m\n\u001b[32m    801\u001b[39m     \u001b[38;5;66;03m# save it and return 1\u001b[39;00m\n\u001b[32m--> \u001b[39m\u001b[32m802\u001b[39m     \u001b[38;5;28;43mself\u001b[39;49m\u001b[43m.\u001b[49m\u001b[43mget_bic\u001b[49m\u001b[43m(\u001b[49m\u001b[43mreset\u001b[49m\u001b[43m=\u001b[49m\u001b[38;5;28;43;01mTrue\u001b[39;49;00m\u001b[43m,\u001b[49m\u001b[43m \u001b[49m\u001b[43mfit\u001b[49m\u001b[43m=\u001b[49m\u001b[38;5;28;43;01mTrue\u001b[39;49;00m\u001b[43m,\u001b[49m\u001b[43m \u001b[49m\u001b[43mverbose\u001b[49m\u001b[43m=\u001b[49m\u001b[43mverbose\u001b[49m\u001b[43m)\u001b[49m\n\u001b[32m    803\u001b[39m     new_energy = \u001b[38;5;28mself\u001b[39m.get_energy(bic=\u001b[38;5;28;01mFalse\u001b[39;00m, verbose=verbose)\n\u001b[32m    804\u001b[39m     \u001b[38;5;28mself\u001b[39m.representative[canonical] = (\n\u001b[32m    805\u001b[39m         \u001b[38;5;28mstr\u001b[39m(\u001b[38;5;28mself\u001b[39m),\n\u001b[32m    806\u001b[39m         new_energy,\n\u001b[32m    807\u001b[39m         deepcopy(\u001b[38;5;28mself\u001b[39m.par_values),\n\u001b[32m    808\u001b[39m     )\n",
            "\u001b[36mFile \u001b[39m\u001b[32m/usr/local/python/3.12.1/lib/python3.12/site-packages/autora/theorist/bms/mcmc.py:726\u001b[39m, in \u001b[36mTree.get_bic\u001b[39m\u001b[34m(self, reset, fit, verbose)\u001b[39m\n\u001b[32m    724\u001b[39m     \u001b[38;5;28;01mreturn\u001b[39;00m \u001b[32m0\u001b[39m\n\u001b[32m    725\u001b[39m \u001b[38;5;66;03m# Get the sum of squared errors (fitting, if required)\u001b[39;00m\n\u001b[32m--> \u001b[39m\u001b[32m726\u001b[39m sse = \u001b[38;5;28;43mself\u001b[39;49m\u001b[43m.\u001b[49m\u001b[43mget_sse\u001b[49m\u001b[43m(\u001b[49m\u001b[43mfit\u001b[49m\u001b[43m=\u001b[49m\u001b[43mfit\u001b[49m\u001b[43m,\u001b[49m\u001b[43m \u001b[49m\u001b[43mverbose\u001b[49m\u001b[43m=\u001b[49m\u001b[43mverbose\u001b[49m\u001b[43m)\u001b[49m\n\u001b[32m    727\u001b[39m \u001b[38;5;66;03m# Calculate the BIC\u001b[39;00m\n\u001b[32m    728\u001b[39m parameters = \u001b[38;5;28mset\u001b[39m([p.value \u001b[38;5;28;01mfor\u001b[39;00m p \u001b[38;5;129;01min\u001b[39;00m \u001b[38;5;28mself\u001b[39m.ets[\u001b[32m0\u001b[39m] \u001b[38;5;28;01mif\u001b[39;00m p.value \u001b[38;5;129;01min\u001b[39;00m \u001b[38;5;28mself\u001b[39m.parameters])\n",
            "\u001b[36mFile \u001b[39m\u001b[32m/usr/local/python/3.12.1/lib/python3.12/site-packages/autora/theorist/bms/mcmc.py:658\u001b[39m, in \u001b[36mTree.get_sse\u001b[39m\u001b[34m(self, fit, verbose)\u001b[39m\n\u001b[32m    654\u001b[39m     \u001b[38;5;28;01mreturn\u001b[39;00m flam(*args)\n\u001b[32m    656\u001b[39m \u001b[38;5;28;01mtry\u001b[39;00m:\n\u001b[32m    657\u001b[39m     \u001b[38;5;66;03m# Fit the parameters\u001b[39;00m\n\u001b[32m--> \u001b[39m\u001b[32m658\u001b[39m     res = \u001b[43mcurve_fit\u001b[49m\u001b[43m(\u001b[49m\n\u001b[32m    659\u001b[39m \u001b[43m        \u001b[49m\u001b[43mfeval\u001b[49m\u001b[43m,\u001b[49m\n\u001b[32m    660\u001b[39m \u001b[43m        \u001b[49m\u001b[43mxmat\u001b[49m\u001b[43m,\u001b[49m\n\u001b[32m    661\u001b[39m \u001b[43m        \u001b[49m\u001b[43mthis_y\u001b[49m\u001b[43m,\u001b[49m\n\u001b[32m    662\u001b[39m \u001b[43m        \u001b[49m\u001b[43mp0\u001b[49m\u001b[43m=\u001b[49m\u001b[43m[\u001b[49m\u001b[38;5;28;43mself\u001b[39;49m\u001b[43m.\u001b[49m\u001b[43mpar_values\u001b[49m\u001b[43m[\u001b[49m\u001b[43mds\u001b[49m\u001b[43m]\u001b[49m\u001b[43m[\u001b[49m\u001b[43mp\u001b[49m\u001b[43m.\u001b[49m\u001b[43mname\u001b[49m\u001b[43m]\u001b[49m\u001b[43m \u001b[49m\u001b[38;5;28;43;01mfor\u001b[39;49;00m\u001b[43m \u001b[49m\u001b[43mp\u001b[49m\u001b[43m \u001b[49m\u001b[38;5;129;43;01min\u001b[39;49;00m\u001b[43m \u001b[49m\u001b[43mparameters\u001b[49m\u001b[43m]\u001b[49m\u001b[43m,\u001b[49m\n\u001b[32m    663\u001b[39m \u001b[43m        \u001b[49m\u001b[43mmaxfev\u001b[49m\u001b[43m=\u001b[49m\u001b[32;43m10000\u001b[39;49m\u001b[43m,\u001b[49m\n\u001b[32m    664\u001b[39m \u001b[43m    \u001b[49m\u001b[43m)\u001b[49m\n\u001b[32m    665\u001b[39m     \u001b[38;5;66;03m# Reassign the values of the parameters\u001b[39;00m\n\u001b[32m    666\u001b[39m     \u001b[38;5;28mself\u001b[39m.par_values[ds] = \u001b[38;5;28mdict\u001b[39m(\n\u001b[32m    667\u001b[39m         [\n\u001b[32m    668\u001b[39m             (parameters[i].name, res[\u001b[32m0\u001b[39m][i])\n\u001b[32m    669\u001b[39m             \u001b[38;5;28;01mfor\u001b[39;00m i \u001b[38;5;129;01min\u001b[39;00m \u001b[38;5;28mrange\u001b[39m(\u001b[38;5;28mlen\u001b[39m(res[\u001b[32m0\u001b[39m]))\n\u001b[32m    670\u001b[39m         ]\n\u001b[32m    671\u001b[39m     )\n",
            "\u001b[36mFile \u001b[39m\u001b[32m~/.local/lib/python3.12/site-packages/scipy/optimize/_minpack_py.py:1021\u001b[39m, in \u001b[36mcurve_fit\u001b[39m\u001b[34m(f, xdata, ydata, p0, sigma, absolute_sigma, check_finite, bounds, method, jac, full_output, nan_policy, **kwargs)\u001b[39m\n\u001b[32m   1018\u001b[39m \u001b[38;5;28;01mif\u001b[39;00m ydata.size != \u001b[32m1\u001b[39m \u001b[38;5;129;01mand\u001b[39;00m n > ydata.size:\n\u001b[32m   1019\u001b[39m     \u001b[38;5;28;01mraise\u001b[39;00m \u001b[38;5;167;01mTypeError\u001b[39;00m(\u001b[33mf\u001b[39m\u001b[33m\"\u001b[39m\u001b[33mThe number of func parameters=\u001b[39m\u001b[38;5;132;01m{\u001b[39;00mn\u001b[38;5;132;01m}\u001b[39;00m\u001b[33m must not\u001b[39m\u001b[33m\"\u001b[39m\n\u001b[32m   1020\u001b[39m                     \u001b[33mf\u001b[39m\u001b[33m\"\u001b[39m\u001b[33m exceed the number of data points=\u001b[39m\u001b[38;5;132;01m{\u001b[39;00mydata.size\u001b[38;5;132;01m}\u001b[39;00m\u001b[33m\"\u001b[39m)\n\u001b[32m-> \u001b[39m\u001b[32m1021\u001b[39m res = \u001b[43mleastsq\u001b[49m\u001b[43m(\u001b[49m\u001b[43mfunc\u001b[49m\u001b[43m,\u001b[49m\u001b[43m \u001b[49m\u001b[43mp0\u001b[49m\u001b[43m,\u001b[49m\u001b[43m \u001b[49m\u001b[43mDfun\u001b[49m\u001b[43m=\u001b[49m\u001b[43mjac\u001b[49m\u001b[43m,\u001b[49m\u001b[43m \u001b[49m\u001b[43mfull_output\u001b[49m\u001b[43m=\u001b[49m\u001b[32;43m1\u001b[39;49m\u001b[43m,\u001b[49m\u001b[43m \u001b[49m\u001b[43m*\u001b[49m\u001b[43m*\u001b[49m\u001b[43mkwargs\u001b[49m\u001b[43m)\u001b[49m\n\u001b[32m   1022\u001b[39m popt, pcov, infodict, errmsg, ier = res\n\u001b[32m   1023\u001b[39m ysize = \u001b[38;5;28mlen\u001b[39m(infodict[\u001b[33m'\u001b[39m\u001b[33mfvec\u001b[39m\u001b[33m'\u001b[39m])\n",
            "\u001b[36mFile \u001b[39m\u001b[32m~/.local/lib/python3.12/site-packages/scipy/optimize/_minpack_py.py:439\u001b[39m, in \u001b[36mleastsq\u001b[39m\u001b[34m(func, x0, args, Dfun, full_output, col_deriv, ftol, xtol, gtol, maxfev, epsfcn, factor, diag)\u001b[39m\n\u001b[32m    437\u001b[39m     \u001b[38;5;28;01mif\u001b[39;00m maxfev == \u001b[32m0\u001b[39m:\n\u001b[32m    438\u001b[39m         maxfev = \u001b[32m200\u001b[39m*(n + \u001b[32m1\u001b[39m)\n\u001b[32m--> \u001b[39m\u001b[32m439\u001b[39m     retval = \u001b[43m_minpack\u001b[49m\u001b[43m.\u001b[49m\u001b[43m_lmdif\u001b[49m\u001b[43m(\u001b[49m\u001b[43mfunc\u001b[49m\u001b[43m,\u001b[49m\u001b[43m \u001b[49m\u001b[43mx0\u001b[49m\u001b[43m,\u001b[49m\u001b[43m \u001b[49m\u001b[43margs\u001b[49m\u001b[43m,\u001b[49m\u001b[43m \u001b[49m\u001b[43mfull_output\u001b[49m\u001b[43m,\u001b[49m\u001b[43m \u001b[49m\u001b[43mftol\u001b[49m\u001b[43m,\u001b[49m\u001b[43m \u001b[49m\u001b[43mxtol\u001b[49m\u001b[43m,\u001b[49m\n\u001b[32m    440\u001b[39m \u001b[43m                             \u001b[49m\u001b[43mgtol\u001b[49m\u001b[43m,\u001b[49m\u001b[43m \u001b[49m\u001b[43mmaxfev\u001b[49m\u001b[43m,\u001b[49m\u001b[43m \u001b[49m\u001b[43mepsfcn\u001b[49m\u001b[43m,\u001b[49m\u001b[43m \u001b[49m\u001b[43mfactor\u001b[49m\u001b[43m,\u001b[49m\u001b[43m \u001b[49m\u001b[43mdiag\u001b[49m\u001b[43m)\u001b[49m\n\u001b[32m    441\u001b[39m \u001b[38;5;28;01melse\u001b[39;00m:\n\u001b[32m    442\u001b[39m     \u001b[38;5;28;01mif\u001b[39;00m col_deriv:\n",
            "\u001b[31merror\u001b[39m: Result from function call is not a proper array of floats."
          ]
        }
      ],
      "source": [
        "benchmark_MSE_plot_data = np.zeros([num_discovery_simulations, num_cycles])\n",
        "working_MSE_plot_data = np.zeros([num_discovery_simulations, num_cycles])\n",
        "\n",
        "for sim in range(num_discovery_simulations):\n",
        "  benchmark_MSE_log, working_MSE_log, benchmark_state, working_state = run_simulation(num_cycles, num_conditions_per_cycle, num_initial_conditions, bms_epochs, experiment_runner, sim)\n",
        "\n",
        "  benchmark_MSE_plot_data[sim, :] = benchmark_MSE_log\n",
        "  working_MSE_plot_data[sim, :] = working_MSE_log"
      ]
    },
    {
      "cell_type": "code",
      "execution_count": 36,
      "metadata": {
        "colab": {
          "base_uri": "https://localhost:8080/",
          "height": 488
        },
        "id": "5eL0nqtXhrAi",
        "outputId": "e024af5d-7078-4557-c783-4de00a5bdf69"
      },
      "outputs": [
        {
          "data": {
            "text/plain": [
              "<matplotlib.legend.Legend at 0x7a24a214e210>"
            ]
          },
          "execution_count": 36,
          "metadata": {},
          "output_type": "execute_result"
        },
        {
          "data": {
            "image/png": "[encoded data removed]",
            "text/plain": [
              "<Figure size 640x480 with 1 Axes>"
            ]
          },
          "metadata": {},
          "output_type": "display_data"
        }
      ],
      "source": [
        "# plot the data with standard error\n",
        "plt.errorbar(np.arange(num_cycles), np.mean(benchmark_MSE_plot_data, axis=0), yerr=np.std(benchmark_MSE_plot_data, axis=0), label='benchmark_MSE_log')\n",
        "plt.errorbar(np.arange(num_cycles), np.mean(working_MSE_plot_data, axis=0), yerr=np.std(working_MSE_plot_data, axis=0), label='working_MSE_log')\n",
        "plt.xlabel('Sampled Data Points')\n",
        "plt.ylabel('MSE on Validation Set')\n",
        "plt.title('Averaged Discovery Simulations')\n",
        "plt.legend()"
      ]
    },
    {
      "cell_type": "markdown",
      "metadata": {
        "id": "RPPjmh_niqzO"
      },
      "source": [
        "## Ground Truth Model Descriptions"
      ]
    },
    {
      "cell_type": "markdown",
      "metadata": {
        "id": "HI7aHUNOZpbL"
      },
      "source": [
        "### Weber-Fechner-Law\n",
        "\n",
        "The Weber-Fechner law quantifies the minimum change in a stimulus required to be noticeable. Similar to Steven's power law, the greater the intensity of a stimulus, the larger the change needed to be perceivable. This relationship is hypothesized to be proportional to the logarithm of the ratio between the two stimuli:\n",
        "\n",
        "$\\text{perceived intensity} = \\log\\left(\\dfrac{S_1}{S_2}\\right)$\n",
        "\n",
        "\n",
        "where $S_1$ ($range: [0.01, 5.00]$) is the intensity of a physical stimulus (e.g., the luminosity of a lamp), $S_2$ ($range: [0.01, 5.00]$ ) is a reference stimulus (e.g., the luminosity of a background light), and $y$ is the perceived stimulus intensity (e.g. the perception of the lamp's luminosity)."
      ]
    },
    {
      "cell_type": "markdown",
      "metadata": {
        "id": "iZGn2XzoaUF0"
      },
      "source": [
        "### Expected Utility Model with Two Choice Options\n",
        "\n",
        "The expected utility model evaluates decision-making under uncertainty, quantifying the expected value of different choices based on their potential outcomes and associated probabilities. The model assumes that individuals aim to maximize their expected utility when faced with two options. Each option has a specific value and probability, influenced by a certain level of noise.\n",
        "\n",
        "For two choice options, the expected value of each option is calculated as follows:\n",
        "\n",
        "$$\n",
        "E_A = V_A \\times P_A\n",
        "$$\n",
        "\n",
        "$$\n",
        "E_B = V_B \\times P_B\n",
        "$$\n",
        "\n",
        "where:\n",
        "- $V_A$ and $V_B$ represent the values of options A and B respectively.\n",
        "- $P_A$ and $P_B$ represent the probabilities associated with these options.\n",
        "\n",
        "The probability of choosing option A $P_{\\text{choose}_A}$ is then determined using the softmax function, which considers the expected values of both options and a choice temperature parameter that influences the sensitivity to differences in expected values:\n",
        "\n",
        "$$\n",
        "P_{\\text{choose}_A} = \\frac{\\exp(E_A / \\beta)}{\\exp(E_A / \\beta) + \\exp(E_B / \\beta)}\n",
        "$$\n",
        "\n",
        "In this model:\n",
        "- $\\beta$ controls the degree of randomness in the choice, with higher values leading to more exploration and lower values leading to more deterministic choices based on the expected values.\n",
        "- The softmax function ensures that the probabilities sum to 1, providing a normalized measure of the likelihood of choosing each option.\n",
        "\n",
        "This model captures the influence of value, probability, and noise on decision-making, reflecting the complexity and variability of human choices under uncertainty.\n",
        "\n"
      ]
    },
    {
      "cell_type": "markdown",
      "metadata": {
        "id": "i0E46LLlixsD"
      },
      "source": [
        "### Shepard-Luce Choice Rule\n",
        "\n",
        "The Shepard-Luce choice rule, as adapted in Logan (2001),  posits that the likelihood of an individual assigning a target object, represented as $x$ , to a specific response category, represented as $i$, is proportional to their psychological similarity $\\eta_i(x)$. Here, we considered a version of the model that computes the probability of assigning the target object $x_1$ to one of two response categories, given a distractor object $x_2$:\n",
        "\n",
        "$y = p(``x_1 \\text{ is perceived as category 1''}) =\n",
        " \\frac{\\eta_1(x_1) \\cdot \\alpha}{\\eta_1(x_1) \\cdot \\alpha + \\eta_2(x_1) \\cdot \\alpha + \\eta_1(x_2) \\cdot (1 - \\alpha) + \\eta_2(x_2) \\cdot (1 - \\alpha)}$\n",
        "\n",
        "where $\\alpha = 0.8$ is an attentional bias toward processing the target object $x_1$, and variables $\\eta_i(x_j)$ ($range: [0.125, 10.00]$) are the psychological similarity between object $x_j$ and category $i$."
      ]
    }
  ],
  "metadata": {
    "colab": {
      "provenance": [],
      "toc_visible": true
    },
    "kernelspec": {
      "display_name": "Python 3",
      "language": "python",
      "name": "python3"
    },
    "language_info": {
      "codemirror_mode": {
        "name": "ipython",
        "version": 3
      },
      "file_extension": ".py",
      "mimetype": "text/x-python",
      "name": "python",
      "nbconvert_exporter": "python",
      "pygments_lexer": "ipython3",
      "version": "3.12.1"
    }
  },
  "nbformat": 4,
  "nbformat_minor": 0
}
