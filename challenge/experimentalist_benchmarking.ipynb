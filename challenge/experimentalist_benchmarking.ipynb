{
  "cells": [
    {
      "cell_type": "markdown",
      "metadata": {
        "id": "wmZ1RNydtCA1"
      },
      "source": [
        "# Introduction\n",
        "\n",
        "In this benchmarking challenge, you will be tasked to create an [AutoRA experimentalist](https://autoresearch.github.io/autora/experimentalist/) that efficiently samples experiments in order to advance model discovery.\n",
        "\n",
        "You can use this notebook to benchmark your experimentalist. Here, we will simulate a discovery experiment in which three different theorists are at work after each data collection cycle. You get to try out your experimentalist for two different ground truth models.\n",
        "\n",
        "## Workflow\n",
        "\n",
        "Your goal is to optimize the data collection process in the following workflow:\n",
        "\n",
        "1. Sample 10 initial data points\n",
        "2. Fit all theorists to those data points.\n",
        "\n",
        "For 20 data points:\n",
        "3. Pick a single novel data point using your experimentalist method. Your method may or may not take into account any of the theorists' models.\n",
        "4. Add the data point to the experiment data.\n",
        "5. Fit all theorists to the experiment data\n",
        "6. Repeat steps 3-6 until 20 data points were collected\n",
        "\n",
        "This workflow can be repeated two ground-truth models.\n",
        "\n",
        "\n",
        "\n",
        "\n",
        "\n",
        "\n"
      ]
    },
    {
      "cell_type": "markdown",
      "metadata": {
        "id": "Cvka_h_k3KhR"
      },
      "source": [
        "## Benchmarking Challenge Rules\n",
        "\n",
        "- All contributing teams must publish a pip package of their experimentalist (we recommend using a pre-release) or have a working git repository that can be installed via ``!pip install git+https://github.com/musslick/autora-experimentalist-example``\n",
        "- The package name must be ``autora-experimentalist-yourexperimentalist``\n",
        "- The **experimentalist must have a sample function (see [this guide](https://autoresearch.github.io/autora/contribute/modules/experimentalist/))**, and it must be **compatible with the state logic** in this notebook.\n",
        "\n",
        "- Teams will be ranked based on the final fit to a ground-truth model. Observations will be sampled across the entire domain of the ground-truth model. The rank will be accumulated across all benchmarking challenges. The team with the best accumulated rank will win a prize at the end of the workshop.\n",
        "- The teams must provide a **brief presentation** (less than 5 minutes) of their experimentalist just before the final evaluation. You may use [this template for your slides](https://docs.google.com/presentation/d/1qCKqH9uXkQmGqDmROh1Jn4UcauALkMRhqlbAHubns2Q/edit?usp=sharing).\n",
        "\n",
        "*Hint: You may take some inspiration (or come up with a combination of) the [existing experimentalists](https://autoresearch.github.io/autora/experimentalist/).*"
      ]
    },
    {
      "cell_type": "markdown",
      "metadata": {
        "id": "h--sPj7T3Nqc"
      },
      "source": [
        "## Grading\n",
        "\n",
        "- Due date: **August 30**\n",
        "- Submission: Through ``Stud.IP -> Tasks -> Experiment Sampling Challenge``\n",
        "\n",
        "The grading is independent of the outcome of the benchmarking challenge.\n",
        "\n",
        "The following points will be provided:\n",
        "- A demonstration of the theorist in the ``doc/Basic Usage.ipynb``:\n",
        "  -  2 points: Demonstrating how to use the experimentalist for sampling\n",
        "  -  8 points: Demonstrating how the expeirmentalist compares to random sampling. This should be done by simulating closed-loop discovery process with a theorist of your choice (e.g., autora-theorist-bms) on at least two ground-truth models (*Hint: You could use the benchmarking part of the notebook below as a starting point*).\n",
        "- The documentation of the experimentalist in ``doc/index.md`` must speak to the following information:\n",
        "  - 2 points: the inputs: Which inputs is your experiment sampling method considering and why?\n",
        "  - 2 points: sampling method: which sampling method are you using and why?\n",
        "- 2 points: The code contains at least two useful unit tests for the experimentalist method (either doc tests or separate tests)\n",
        "- 1 point: the contributors used issues to track bugs and work on features.\n",
        "- 1 point: the contributors used (helpful) code reviews for their PRs.\n",
        "- 1 point: Unit tests are automatically executed when a pull request is created.\n",
        "- 1 point: The documentation is hosted automatically.\n",
        "\n",
        "Finally, teams must outline the contributions of each team member in their submission on ``Stud.IP -> Tasks -> Experiment Sampling Challenge``.\n",
        "\n",
        "In total, you can obtain 20 points."
      ]
    },
    {
      "cell_type": "markdown",
      "metadata": {
        "id": "J4ICn4w03PdN"
      },
      "source": [
        "## Additional Resources\n",
        "\n",
        "- You can learn more about how to write AutoRA experimentalists in the [Contributor Guide](https://autoresearch.github.io/autora/contribute/modules/experimentalist/).\n",
        "\n",
        "- You can learn more about how to use AutoRA in the [User Tutorial](https://autoresearch.github.io/autora/tutorials/).\n",
        "\n",
        "- If you want to learn more about AutoRA states, you can check out [this tutorial on using AutoRA states](https://colab.research.google.com/drive/1yK1OBRpPZM1NgTMV9arHlE5j8xXjsGqq?usp=sharing)."
      ]
    },
    {
      "cell_type": "markdown",
      "metadata": {
        "id": "zowXxLUR3s8I"
      },
      "source": [
        "# Code for Benchmarking your Experimentalist"
      ]
    },
    {
      "cell_type": "markdown",
      "metadata": {
        "id": "an-QPQhcljHa"
      },
      "source": [
        "## Installation\n",
        "\n",
        "*Hint: You may want to add ``autora`` as a development dependency in your ``pyproject.tml``.*"
      ]
    },
    {
      "cell_type": "code",
      "execution_count": 1,
      "metadata": {
        "id": "8nzJmQwQlkh_"
      },
      "outputs": [],
      "source": [
        "%%capture\n",
        "!pip install autora\n",
        "!pip install autora[all-theorists]\n",
        "!pip install autora[all-experimentalists]"
      ]
    },
    {
      "cell_type": "markdown",
      "metadata": {
        "id": "dLi8_Zt-l_oz"
      },
      "source": [
        "## Imports"
      ]
    },
    {
      "cell_type": "code",
      "execution_count": 15,
      "metadata": {
        "id": "Ty6AuO0iloHs"
      },
      "outputs": [],
      "source": [
        "# autora state\n",
        "from autora.state import State, StandardState, on_state, estimator_on_state, Delta, VariableCollection\n",
        "\n",
        "# experiment_runner\n",
        "from autora.experiment_runner.synthetic.psychology.luce_choice_ratio import luce_choice_ratio\n",
        "from autora.experiment_runner.synthetic.psychology.exp_learning import exp_learning\n",
        "from autora.experiment_runner.synthetic.economics.expected_value_theory import expected_value_theory\n",
        "\n",
        "# experimentalist\n",
        "from autora.experimentalist.grid import grid_pool\n",
        "from autora.experimentalist.random import random_pool, random_sample\n",
        "from autora.experimentalist.falsification import falsification_sample\n",
        "from autora.experimentalist.model_disagreement import model_disagreement_sample\n",
        "from autora.experimentalist.uncertainty import uncertainty_sample\n",
        "\n",
        "# theorist\n",
        "from autora.theorist.bms import BMSRegressor\n",
        "\n",
        "# sklearn\n",
        "from sklearn.base import BaseEstimator\n",
        "from sklearn.model_selection import train_test_split\n",
        "from sklearn import linear_model\n",
        "\n",
        "# general\n",
        "import numpy as np\n",
        "import pandas as pd\n",
        "import matplotlib.pyplot as plt\n",
        "from dataclasses import dataclass, field\n",
        "from typing import Optional, List\n"
      ]
    },
    {
      "cell_type": "markdown",
      "metadata": {
        "id": "VexBfX_UDjeZ"
      },
      "source": [
        "## AutoRA Components & State Wrappers\n",
        "\n",
        "First, we will need some theorists. Here, we will use three theorists simultaneously:\n",
        "- the Bayesian Machine Scientist\n",
        "- a polynomial theorist (from the Equation Discovery Challenge)\n",
        "- a linear regression theorist."
      ]
    },
    {
      "cell_type": "markdown",
      "metadata": {
        "id": "xKnfmcqMDmU5"
      },
      "source": [
        "### Polynomial Theorist\n",
        "\n",
        "Below, we will use a polynomial theorist for our discovery simulation. We saw that it did quite well in the equation discovery challenge, so why not give it a try."
      ]
    },
    {
      "cell_type": "code",
      "execution_count": 3,
      "metadata": {
        "id": "L3el1qBjD2K4"
      },
      "outputs": [],
      "source": [
        "from sklearn.preprocessing import PolynomialFeatures\n",
        "from sklearn.linear_model import LinearRegression\n",
        "\n",
        "class PolynomialRegressor:\n",
        "    \"\"\"\n",
        "    This theorist fits a polynomial function to the data.\n",
        "    \"\"\"\n",
        "\n",
        "    def __init__(self, degree: int = 3):\n",
        "      self.poly = PolynomialFeatures(degree=degree, include_bias=False)\n",
        "      self.model = LinearRegression()\n",
        "\n",
        "    def fit(self, x, y):\n",
        "      features = self.poly.fit_transform(x, y)\n",
        "      self.model.fit(features, y)\n",
        "      return self\n",
        "\n",
        "    def predict(self, x):\n",
        "      features = self.poly.fit_transform(x)\n",
        "      return self.model.predict(features)\n",
        "\n",
        "    def print_eqn(self):\n",
        "        # Extract the coefficients and intercept\n",
        "        coeffs = self.model.coef_\n",
        "        intercept = self.model.intercept_\n",
        "\n",
        "        # Handle multi-output case by iterating over each output's coefficients and intercept\n",
        "        if coeffs.ndim > 1:\n",
        "            for idx in range(coeffs.shape[0]):\n",
        "                equation = f\"y{idx+1} = {intercept[idx]:.3f}\"\n",
        "                feature_names = self.poly.get_feature_names_out()\n",
        "                for coef, feature in zip(coeffs[idx], feature_names):\n",
        "                    equation += f\" + ({coef:.3f}) * {feature}\"\n",
        "                print(equation)\n",
        "        else:\n",
        "            equation = f\"y = {intercept:.3f}\"\n",
        "            feature_names = self.poly.get_feature_names_out()\n",
        "            for coef, feature in zip(coeffs, feature_names):\n",
        "                equation += f\" + ({coef:.3f}) * {feature}\"\n",
        "            print(equation)\n",
        "\n"
      ]
    },
    {
      "cell_type": "markdown",
      "metadata": {
        "id": "s6lhZO-SI8LF"
      },
      "source": [
        "## AutoRA State\n",
        "\n",
        "Next, we define our AutoRA state which acts as modifiable \"bucket\" for all the data we are going to collect during the discovery cycle. Here, we will implement a more complicated AutoRA experiment in which we have simutlaneously fit 3 models (from 3 different theorists) and we want to keep track of all of them."
      ]
    },
    {
      "cell_type": "code",
      "execution_count": 4,
      "metadata": {
        "id": "rUlJzPVbJRg_"
      },
      "outputs": [],
      "source": [
        "# SET UP STATE\n",
        "# Here, we use a non-standard State to be able to use a multiple models\n",
        "@dataclass(frozen=True)\n",
        "class CustomState(State):\n",
        "    variables: Optional[VariableCollection] = field(\n",
        "        default=None, metadata={\"delta\": \"replace\"}\n",
        "    )\n",
        "    conditions: Optional[pd.DataFrame] = field(\n",
        "        default=None, metadata={\"delta\": \"replace\", \"converter\": pd.DataFrame}\n",
        "    )\n",
        "    experiment_data: Optional[pd.DataFrame] = field(\n",
        "        default=None, metadata={\"delta\": \"extend\", \"converter\": pd.DataFrame}\n",
        "    )\n",
        "    models_bms: List[BaseEstimator] = field(\n",
        "        default_factory=list,\n",
        "        metadata={\"delta\": \"extend\"},\n",
        "    )\n",
        "    models_lr: List[BaseEstimator] = field(\n",
        "        default_factory=list,\n",
        "        metadata={\"delta\": \"extend\"},\n",
        "    )\n",
        "    models_polyr: List[BaseEstimator] = field(\n",
        "        default_factory=list,\n",
        "        metadata={\"delta\": \"extend\"},\n",
        "    )"
      ]
    },
    {
      "cell_type": "markdown",
      "metadata": {
        "id": "Hl65zUC-I2vX"
      },
      "source": [
        "## AutoRA State Wrappers\n",
        "\n",
        "Next, we need to define a bunch of wrappers. These wrappers will make it easy to operate on the state. They specify which things are being pulled from the state and which things are being stored."
      ]
    },
    {
      "cell_type": "markdown",
      "metadata": {
        "id": "_ahabyf9J5RF"
      },
      "source": [
        "### Theorist Wrapper"
      ]
    },
    {
      "cell_type": "code",
      "execution_count": 18,
      "metadata": {
        "id": "07NSganHJ7Pf"
      },
      "outputs": [],
      "source": [
        "# state wrapper for all theorists\n",
        "@on_state()\n",
        "def theorists_on_state(experiment_data, variables, bms_epochs):\n",
        "\n",
        "  # extract conditions X and observations y from experiment data\n",
        "  ivs = [iv.name for iv in variables.independent_variables]\n",
        "  dvs = [dv.name for dv in variables.dependent_variables]\n",
        "  X = experiment_data[ivs]\n",
        "  y = experiment_data[dvs]\n",
        "\n",
        "  # initialize and fit theorists\n",
        "  theorist_bms = BMSRegressor(epochs=bms_epochs)\n",
        "  theorist_polyr = PolynomialRegressor()\n",
        "  theorist_lr = linear_model.LinearRegression()\n",
        "\n",
        "  return Delta(models_bms = [theorist_bms.fit(X, y)],\n",
        "               models_lr=[theorist_lr.fit(X, y)],\n",
        "               models_polyr=[theorist_polyr.fit(X, y)])"
      ]
    },
    {
      "cell_type": "markdown",
      "metadata": {
        "id": "7n4buGk3LEmB"
      },
      "source": [
        "### Experimentalist Wrappers"
      ]
    },
    {
      "cell_type": "code",
      "execution_count": 6,
      "metadata": {
        "id": "_uw7z74IJtGx"
      },
      "outputs": [],
      "source": [
        "# state wrapper for grid pooler experimentalist (generates a grid of experiment conditions)\n",
        "@on_state()\n",
        "def grid_pool_on_state(variables):\n",
        "  return Delta(conditions=grid_pool(variables))\n",
        "\n",
        "# state wrapper for random pooler experimentalist (generates a pool of experiment conditions)\n",
        "@on_state()\n",
        "def random_pool_on_state(variables, num_samples, random_state=None):\n",
        "  return Delta(conditions=random_pool(variables, num_samples, random_state))\n",
        "\n",
        "# state wrapper for random experimentalist (samples experiment conditions from a set of conditions)\n",
        "@on_state()\n",
        "def random_sample_on_state(conditions, all_conditions, num_samples, random_state=None):\n",
        "  return Delta(conditions=random_sample(all_conditions, num_samples, random_state))\n",
        "\n",
        "# **** STATE WRAPPER FOR YOUR EXPERIMENTALIST ***\n",
        "@on_state()\n",
        "def custom_sample_on_state(experiment_data,\n",
        "                           models_bms,\n",
        "                           models_lr,\n",
        "                           models_polyr,\n",
        "                           all_conditions,\n",
        "                           num_samples=1,\n",
        "                           random_state=None):\n",
        "\n",
        "  # this is just an example where we integrate the model diagreement sampler\n",
        "  # into the wrapper\n",
        "  conditions = model_disagreement_sample(\n",
        "          all_conditions,\n",
        "          models = [models_bms[-1], models_lr[-1]],\n",
        "          num_samples = num_samples\n",
        "      )\n",
        "\n",
        "  return Delta(conditions=conditions)"
      ]
    },
    {
      "cell_type": "code",
      "execution_count": null,
      "metadata": {},
      "outputs": [],
      "source": [
        "from autora.variable import DV, IV, ValueType, VariableCollection\n",
        "\n",
        "X = np.linspace(0, 2 * np.pi, 100)\n",
        "Y = np.sin(X)\n",
        "\n",
        "# Specify independent variable\n",
        "iv = IV(\n",
        "    name=\"x\",\n",
        "    value_range=(0, 2 * np.pi),\n",
        ")\n",
        "\n",
        "# specify dependent variable\n",
        "dv = DV(\n",
        "    name=\"y\",\n",
        "    type=ValueType.REAL,\n",
        ")\n",
        "\n",
        "# Variable collection with ivs and dvs\n",
        "metadata = VariableCollection(\n",
        "    independent_variables=[iv],\n",
        "    dependent_variables=[dv],\n",
        ")\n"
      ]
    },
    {
      "cell_type": "code",
      "execution_count": 23,
      "metadata": {},
      "outputs": [
        {
          "name": "stderr",
          "output_type": "stream",
          "text": [
            "INFO:autora.theorist.bms.regressor:BMS fitting started\n",
            "  0%|          | 0/1500 [00:00<?, ?it/s]"
          ]
        },
        {
          "name": "stderr",
          "output_type": "stream",
          "text": [
            "100%|██████████| 1500/1500 [01:32<00:00, 16.27it/s]\n",
            "INFO:autora.theorist.bms.regressor:BMS fitting finished\n"
          ]
        },
        {
          "data": {
            "text/html": [
              "<style>#sk-container-id-2 {\n",
              "  /* Definition of color scheme common for light and dark mode */\n",
              "  --sklearn-color-text: #000;\n",
              "  --sklearn-color-text-muted: #666;\n",
              "  --sklearn-color-line: gray;\n",
              "  /* Definition of color scheme for unfitted estimators */\n",
              "  --sklearn-color-unfitted-level-0: #fff5e6;\n",
              "  --sklearn-color-unfitted-level-1: #f6e4d2;\n",
              "  --sklearn-color-unfitted-level-2: #ffe0b3;\n",
              "  --sklearn-color-unfitted-level-3: chocolate;\n",
              "  /* Definition of color scheme for fitted estimators */\n",
              "  --sklearn-color-fitted-level-0: #f0f8ff;\n",
              "  --sklearn-color-fitted-level-1: #d4ebff;\n",
              "  --sklearn-color-fitted-level-2: #b3dbfd;\n",
              "  --sklearn-color-fitted-level-3: cornflowerblue;\n",
              "\n",
              "  /* Specific color for light theme */\n",
              "  --sklearn-color-text-on-default-background: var(--sg-text-color, var(--theme-code-foreground, var(--jp-content-font-color1, black)));\n",
              "  --sklearn-color-background: var(--sg-background-color, var(--theme-background, var(--jp-layout-color0, white)));\n",
              "  --sklearn-color-border-box: var(--sg-text-color, var(--theme-code-foreground, var(--jp-content-font-color1, black)));\n",
              "  --sklearn-color-icon: #696969;\n",
              "\n",
              "  @media (prefers-color-scheme: dark) {\n",
              "    /* Redefinition of color scheme for dark theme */\n",
              "    --sklearn-color-text-on-default-background: var(--sg-text-color, var(--theme-code-foreground, var(--jp-content-font-color1, white)));\n",
              "    --sklearn-color-background: var(--sg-background-color, var(--theme-background, var(--jp-layout-color0, #111)));\n",
              "    --sklearn-color-border-box: var(--sg-text-color, var(--theme-code-foreground, var(--jp-content-font-color1, white)));\n",
              "    --sklearn-color-icon: #878787;\n",
              "  }\n",
              "}\n",
              "\n",
              "#sk-container-id-2 {\n",
              "  color: var(--sklearn-color-text);\n",
              "}\n",
              "\n",
              "#sk-container-id-2 pre {\n",
              "  padding: 0;\n",
              "}\n",
              "\n",
              "#sk-container-id-2 input.sk-hidden--visually {\n",
              "  border: 0;\n",
              "  clip: rect(1px 1px 1px 1px);\n",
              "  clip: rect(1px, 1px, 1px, 1px);\n",
              "  height: 1px;\n",
              "  margin: -1px;\n",
              "  overflow: hidden;\n",
              "  padding: 0;\n",
              "  position: absolute;\n",
              "  width: 1px;\n",
              "}\n",
              "\n",
              "#sk-container-id-2 div.sk-dashed-wrapped {\n",
              "  border: 1px dashed var(--sklearn-color-line);\n",
              "  margin: 0 0.4em 0.5em 0.4em;\n",
              "  box-sizing: border-box;\n",
              "  padding-bottom: 0.4em;\n",
              "  background-color: var(--sklearn-color-background);\n",
              "}\n",
              "\n",
              "#sk-container-id-2 div.sk-container {\n",
              "  /* jupyter's `normalize.less` sets `[hidden] { display: none; }`\n",
              "     but bootstrap.min.css set `[hidden] { display: none !important; }`\n",
              "     so we also need the `!important` here to be able to override the\n",
              "     default hidden behavior on the sphinx rendered scikit-learn.org.\n",
              "     See: https://github.com/scikit-learn/scikit-learn/issues/21755 */\n",
              "  display: inline-block !important;\n",
              "  position: relative;\n",
              "}\n",
              "\n",
              "#sk-container-id-2 div.sk-text-repr-fallback {\n",
              "  display: none;\n",
              "}\n",
              "\n",
              "div.sk-parallel-item,\n",
              "div.sk-serial,\n",
              "div.sk-item {\n",
              "  /* draw centered vertical line to link estimators */\n",
              "  background-image: linear-gradient(var(--sklearn-color-text-on-default-background), var(--sklearn-color-text-on-default-background));\n",
              "  background-size: 2px 100%;\n",
              "  background-repeat: no-repeat;\n",
              "  background-position: center center;\n",
              "}\n",
              "\n",
              "/* Parallel-specific style estimator block */\n",
              "\n",
              "#sk-container-id-2 div.sk-parallel-item::after {\n",
              "  content: \"\";\n",
              "  width: 100%;\n",
              "  border-bottom: 2px solid var(--sklearn-color-text-on-default-background);\n",
              "  flex-grow: 1;\n",
              "}\n",
              "\n",
              "#sk-container-id-2 div.sk-parallel {\n",
              "  display: flex;\n",
              "  align-items: stretch;\n",
              "  justify-content: center;\n",
              "  background-color: var(--sklearn-color-background);\n",
              "  position: relative;\n",
              "}\n",
              "\n",
              "#sk-container-id-2 div.sk-parallel-item {\n",
              "  display: flex;\n",
              "  flex-direction: column;\n",
              "}\n",
              "\n",
              "#sk-container-id-2 div.sk-parallel-item:first-child::after {\n",
              "  align-self: flex-end;\n",
              "  width: 50%;\n",
              "}\n",
              "\n",
              "#sk-container-id-2 div.sk-parallel-item:last-child::after {\n",
              "  align-self: flex-start;\n",
              "  width: 50%;\n",
              "}\n",
              "\n",
              "#sk-container-id-2 div.sk-parallel-item:only-child::after {\n",
              "  width: 0;\n",
              "}\n",
              "\n",
              "/* Serial-specific style estimator block */\n",
              "\n",
              "#sk-container-id-2 div.sk-serial {\n",
              "  display: flex;\n",
              "  flex-direction: column;\n",
              "  align-items: center;\n",
              "  background-color: var(--sklearn-color-background);\n",
              "  padding-right: 1em;\n",
              "  padding-left: 1em;\n",
              "}\n",
              "\n",
              "\n",
              "/* Toggleable style: style used for estimator/Pipeline/ColumnTransformer box that is\n",
              "clickable and can be expanded/collapsed.\n",
              "- Pipeline and ColumnTransformer use this feature and define the default style\n",
              "- Estimators will overwrite some part of the style using the `sk-estimator` class\n",
              "*/\n",
              "\n",
              "/* Pipeline and ColumnTransformer style (default) */\n",
              "\n",
              "#sk-container-id-2 div.sk-toggleable {\n",
              "  /* Default theme specific background. It is overwritten whether we have a\n",
              "  specific estimator or a Pipeline/ColumnTransformer */\n",
              "  background-color: var(--sklearn-color-background);\n",
              "}\n",
              "\n",
              "/* Toggleable label */\n",
              "#sk-container-id-2 label.sk-toggleable__label {\n",
              "  cursor: pointer;\n",
              "  display: flex;\n",
              "  width: 100%;\n",
              "  margin-bottom: 0;\n",
              "  padding: 0.5em;\n",
              "  box-sizing: border-box;\n",
              "  text-align: center;\n",
              "  align-items: start;\n",
              "  justify-content: space-between;\n",
              "  gap: 0.5em;\n",
              "}\n",
              "\n",
              "#sk-container-id-2 label.sk-toggleable__label .caption {\n",
              "  font-size: 0.6rem;\n",
              "  font-weight: lighter;\n",
              "  color: var(--sklearn-color-text-muted);\n",
              "}\n",
              "\n",
              "#sk-container-id-2 label.sk-toggleable__label-arrow:before {\n",
              "  /* Arrow on the left of the label */\n",
              "  content: \"▸\";\n",
              "  float: left;\n",
              "  margin-right: 0.25em;\n",
              "  color: var(--sklearn-color-icon);\n",
              "}\n",
              "\n",
              "#sk-container-id-2 label.sk-toggleable__label-arrow:hover:before {\n",
              "  color: var(--sklearn-color-text);\n",
              "}\n",
              "\n",
              "/* Toggleable content - dropdown */\n",
              "\n",
              "#sk-container-id-2 div.sk-toggleable__content {\n",
              "  display: none;\n",
              "  text-align: left;\n",
              "  /* unfitted */\n",
              "  background-color: var(--sklearn-color-unfitted-level-0);\n",
              "}\n",
              "\n",
              "#sk-container-id-2 div.sk-toggleable__content.fitted {\n",
              "  /* fitted */\n",
              "  background-color: var(--sklearn-color-fitted-level-0);\n",
              "}\n",
              "\n",
              "#sk-container-id-2 div.sk-toggleable__content pre {\n",
              "  margin: 0.2em;\n",
              "  border-radius: 0.25em;\n",
              "  color: var(--sklearn-color-text);\n",
              "  /* unfitted */\n",
              "  background-color: var(--sklearn-color-unfitted-level-0);\n",
              "}\n",
              "\n",
              "#sk-container-id-2 div.sk-toggleable__content.fitted pre {\n",
              "  /* unfitted */\n",
              "  background-color: var(--sklearn-color-fitted-level-0);\n",
              "}\n",
              "\n",
              "#sk-container-id-2 input.sk-toggleable__control:checked~div.sk-toggleable__content {\n",
              "  /* Expand drop-down */\n",
              "  display: block;\n",
              "  width: 100%;\n",
              "  overflow: visible;\n",
              "}\n",
              "\n",
              "#sk-container-id-2 input.sk-toggleable__control:checked~label.sk-toggleable__label-arrow:before {\n",
              "  content: \"▾\";\n",
              "}\n",
              "\n",
              "/* Pipeline/ColumnTransformer-specific style */\n",
              "\n",
              "#sk-container-id-2 div.sk-label input.sk-toggleable__control:checked~label.sk-toggleable__label {\n",
              "  color: var(--sklearn-color-text);\n",
              "  background-color: var(--sklearn-color-unfitted-level-2);\n",
              "}\n",
              "\n",
              "#sk-container-id-2 div.sk-label.fitted input.sk-toggleable__control:checked~label.sk-toggleable__label {\n",
              "  background-color: var(--sklearn-color-fitted-level-2);\n",
              "}\n",
              "\n",
              "/* Estimator-specific style */\n",
              "\n",
              "/* Colorize estimator box */\n",
              "#sk-container-id-2 div.sk-estimator input.sk-toggleable__control:checked~label.sk-toggleable__label {\n",
              "  /* unfitted */\n",
              "  background-color: var(--sklearn-color-unfitted-level-2);\n",
              "}\n",
              "\n",
              "#sk-container-id-2 div.sk-estimator.fitted input.sk-toggleable__control:checked~label.sk-toggleable__label {\n",
              "  /* fitted */\n",
              "  background-color: var(--sklearn-color-fitted-level-2);\n",
              "}\n",
              "\n",
              "#sk-container-id-2 div.sk-label label.sk-toggleable__label,\n",
              "#sk-container-id-2 div.sk-label label {\n",
              "  /* The background is the default theme color */\n",
              "  color: var(--sklearn-color-text-on-default-background);\n",
              "}\n",
              "\n",
              "/* On hover, darken the color of the background */\n",
              "#sk-container-id-2 div.sk-label:hover label.sk-toggleable__label {\n",
              "  color: var(--sklearn-color-text);\n",
              "  background-color: var(--sklearn-color-unfitted-level-2);\n",
              "}\n",
              "\n",
              "/* Label box, darken color on hover, fitted */\n",
              "#sk-container-id-2 div.sk-label.fitted:hover label.sk-toggleable__label.fitted {\n",
              "  color: var(--sklearn-color-text);\n",
              "  background-color: var(--sklearn-color-fitted-level-2);\n",
              "}\n",
              "\n",
              "/* Estimator label */\n",
              "\n",
              "#sk-container-id-2 div.sk-label label {\n",
              "  font-family: monospace;\n",
              "  font-weight: bold;\n",
              "  display: inline-block;\n",
              "  line-height: 1.2em;\n",
              "}\n",
              "\n",
              "#sk-container-id-2 div.sk-label-container {\n",
              "  text-align: center;\n",
              "}\n",
              "\n",
              "/* Estimator-specific */\n",
              "#sk-container-id-2 div.sk-estimator {\n",
              "  font-family: monospace;\n",
              "  border: 1px dotted var(--sklearn-color-border-box);\n",
              "  border-radius: 0.25em;\n",
              "  box-sizing: border-box;\n",
              "  margin-bottom: 0.5em;\n",
              "  /* unfitted */\n",
              "  background-color: var(--sklearn-color-unfitted-level-0);\n",
              "}\n",
              "\n",
              "#sk-container-id-2 div.sk-estimator.fitted {\n",
              "  /* fitted */\n",
              "  background-color: var(--sklearn-color-fitted-level-0);\n",
              "}\n",
              "\n",
              "/* on hover */\n",
              "#sk-container-id-2 div.sk-estimator:hover {\n",
              "  /* unfitted */\n",
              "  background-color: var(--sklearn-color-unfitted-level-2);\n",
              "}\n",
              "\n",
              "#sk-container-id-2 div.sk-estimator.fitted:hover {\n",
              "  /* fitted */\n",
              "  background-color: var(--sklearn-color-fitted-level-2);\n",
              "}\n",
              "\n",
              "/* Specification for estimator info (e.g. \"i\" and \"?\") */\n",
              "\n",
              "/* Common style for \"i\" and \"?\" */\n",
              "\n",
              ".sk-estimator-doc-link,\n",
              "a:link.sk-estimator-doc-link,\n",
              "a:visited.sk-estimator-doc-link {\n",
              "  float: right;\n",
              "  font-size: smaller;\n",
              "  line-height: 1em;\n",
              "  font-family: monospace;\n",
              "  background-color: var(--sklearn-color-background);\n",
              "  border-radius: 1em;\n",
              "  height: 1em;\n",
              "  width: 1em;\n",
              "  text-decoration: none !important;\n",
              "  margin-left: 0.5em;\n",
              "  text-align: center;\n",
              "  /* unfitted */\n",
              "  border: var(--sklearn-color-unfitted-level-1) 1pt solid;\n",
              "  color: var(--sklearn-color-unfitted-level-1);\n",
              "}\n",
              "\n",
              ".sk-estimator-doc-link.fitted,\n",
              "a:link.sk-estimator-doc-link.fitted,\n",
              "a:visited.sk-estimator-doc-link.fitted {\n",
              "  /* fitted */\n",
              "  border: var(--sklearn-color-fitted-level-1) 1pt solid;\n",
              "  color: var(--sklearn-color-fitted-level-1);\n",
              "}\n",
              "\n",
              "/* On hover */\n",
              "div.sk-estimator:hover .sk-estimator-doc-link:hover,\n",
              ".sk-estimator-doc-link:hover,\n",
              "div.sk-label-container:hover .sk-estimator-doc-link:hover,\n",
              ".sk-estimator-doc-link:hover {\n",
              "  /* unfitted */\n",
              "  background-color: var(--sklearn-color-unfitted-level-3);\n",
              "  color: var(--sklearn-color-background);\n",
              "  text-decoration: none;\n",
              "}\n",
              "\n",
              "div.sk-estimator.fitted:hover .sk-estimator-doc-link.fitted:hover,\n",
              ".sk-estimator-doc-link.fitted:hover,\n",
              "div.sk-label-container:hover .sk-estimator-doc-link.fitted:hover,\n",
              ".sk-estimator-doc-link.fitted:hover {\n",
              "  /* fitted */\n",
              "  background-color: var(--sklearn-color-fitted-level-3);\n",
              "  color: var(--sklearn-color-background);\n",
              "  text-decoration: none;\n",
              "}\n",
              "\n",
              "/* Span, style for the box shown on hovering the info icon */\n",
              ".sk-estimator-doc-link span {\n",
              "  display: none;\n",
              "  z-index: 9999;\n",
              "  position: relative;\n",
              "  font-weight: normal;\n",
              "  right: .2ex;\n",
              "  padding: .5ex;\n",
              "  margin: .5ex;\n",
              "  width: min-content;\n",
              "  min-width: 20ex;\n",
              "  max-width: 50ex;\n",
              "  color: var(--sklearn-color-text);\n",
              "  box-shadow: 2pt 2pt 4pt #999;\n",
              "  /* unfitted */\n",
              "  background: var(--sklearn-color-unfitted-level-0);\n",
              "  border: .5pt solid var(--sklearn-color-unfitted-level-3);\n",
              "}\n",
              "\n",
              ".sk-estimator-doc-link.fitted span {\n",
              "  /* fitted */\n",
              "  background: var(--sklearn-color-fitted-level-0);\n",
              "  border: var(--sklearn-color-fitted-level-3);\n",
              "}\n",
              "\n",
              ".sk-estimator-doc-link:hover span {\n",
              "  display: block;\n",
              "}\n",
              "\n",
              "/* \"?\"-specific style due to the `<a>` HTML tag */\n",
              "\n",
              "#sk-container-id-2 a.estimator_doc_link {\n",
              "  float: right;\n",
              "  font-size: 1rem;\n",
              "  line-height: 1em;\n",
              "  font-family: monospace;\n",
              "  background-color: var(--sklearn-color-background);\n",
              "  border-radius: 1rem;\n",
              "  height: 1rem;\n",
              "  width: 1rem;\n",
              "  text-decoration: none;\n",
              "  /* unfitted */\n",
              "  color: var(--sklearn-color-unfitted-level-1);\n",
              "  border: var(--sklearn-color-unfitted-level-1) 1pt solid;\n",
              "}\n",
              "\n",
              "#sk-container-id-2 a.estimator_doc_link.fitted {\n",
              "  /* fitted */\n",
              "  border: var(--sklearn-color-fitted-level-1) 1pt solid;\n",
              "  color: var(--sklearn-color-fitted-level-1);\n",
              "}\n",
              "\n",
              "/* On hover */\n",
              "#sk-container-id-2 a.estimator_doc_link:hover {\n",
              "  /* unfitted */\n",
              "  background-color: var(--sklearn-color-unfitted-level-3);\n",
              "  color: var(--sklearn-color-background);\n",
              "  text-decoration: none;\n",
              "}\n",
              "\n",
              "#sk-container-id-2 a.estimator_doc_link.fitted:hover {\n",
              "  /* fitted */\n",
              "  background-color: var(--sklearn-color-fitted-level-3);\n",
              "}\n",
              "\n",
              ".estimator-table summary {\n",
              "    padding: .5rem;\n",
              "    font-family: monospace;\n",
              "    cursor: pointer;\n",
              "}\n",
              "\n",
              ".estimator-table details[open] {\n",
              "    padding-left: 0.1rem;\n",
              "    padding-right: 0.1rem;\n",
              "    padding-bottom: 0.3rem;\n",
              "}\n",
              "\n",
              ".estimator-table .parameters-table {\n",
              "    margin-left: auto !important;\n",
              "    margin-right: auto !important;\n",
              "}\n",
              "\n",
              ".estimator-table .parameters-table tr:nth-child(odd) {\n",
              "    background-color: #fff;\n",
              "}\n",
              "\n",
              ".estimator-table .parameters-table tr:nth-child(even) {\n",
              "    background-color: #f6f6f6;\n",
              "}\n",
              "\n",
              ".estimator-table .parameters-table tr:hover {\n",
              "    background-color: #e0e0e0;\n",
              "}\n",
              "\n",
              ".estimator-table table td {\n",
              "    border: 1px solid rgba(106, 105, 104, 0.232);\n",
              "}\n",
              "\n",
              ".user-set td {\n",
              "    color:rgb(255, 94, 0);\n",
              "    text-align: left;\n",
              "}\n",
              "\n",
              ".user-set td.value pre {\n",
              "    color:rgb(255, 94, 0) !important;\n",
              "    background-color: transparent !important;\n",
              "}\n",
              "\n",
              ".default td {\n",
              "    color: black;\n",
              "    text-align: left;\n",
              "}\n",
              "\n",
              ".user-set td i,\n",
              ".default td i {\n",
              "    color: black;\n",
              "}\n",
              "\n",
              ".copy-paste-icon {\n",
              "    background-image: url(data:image/svg+xml;base64,PHN2ZyB4bWxucz0iaHR0cDovL3d3dy53My5vcmcvMjAwMC9zdmciIHZpZXdCb3g9IjAgMCA0NDggNTEyIj48IS0tIUZvbnQgQXdlc29tZSBGcmVlIDYuNy4yIGJ5IEBmb250YXdlc29tZSAtIGh0dHBzOi8vZm9udGF3ZXNvbWUuY29tIExpY2Vuc2UgLSBodHRwczovL2ZvbnRhd2Vzb21lLmNvbS9saWNlbnNlL2ZyZWUgQ29weXJpZ2h0IDIwMjUgRm9udGljb25zLCBJbmMuLS0+PHBhdGggZD0iTTIwOCAwTDMzMi4xIDBjMTIuNyAwIDI0LjkgNS4xIDMzLjkgMTQuMWw2Ny45IDY3LjljOSA5IDE0LjEgMjEuMiAxNC4xIDMzLjlMNDQ4IDMzNmMwIDI2LjUtMjEuNSA0OC00OCA0OGwtMTkyIDBjLTI2LjUgMC00OC0yMS41LTQ4LTQ4bDAtMjg4YzAtMjYuNSAyMS41LTQ4IDQ4LTQ4ek00OCAxMjhsODAgMCAwIDY0LTY0IDAgMCAyNTYgMTkyIDAgMC0zMiA2NCAwIDAgNDhjMCAyNi41LTIxLjUgNDgtNDggNDhMNDggNTEyYy0yNi41IDAtNDgtMjEuNS00OC00OEwwIDE3NmMwLTI2LjUgMjEuNS00OCA0OC00OHoiLz48L3N2Zz4=);\n",
              "    background-repeat: no-repeat;\n",
              "    background-size: 14px 14px;\n",
              "    background-position: 0;\n",
              "    display: inline-block;\n",
              "    width: 14px;\n",
              "    height: 14px;\n",
              "    cursor: pointer;\n",
              "}\n",
              "</style><body><div id=\"sk-container-id-2\" class=\"sk-top-container\"><div class=\"sk-text-repr-fallback\"><pre>sin(X0)</pre><b>In a Jupyter environment, please rerun this cell to show the HTML representation or trust the notebook. <br />On GitHub, the HTML representation is unable to render, please try loading this page with nbviewer.org.</b></div><div class=\"sk-container\" hidden><div class=\"sk-item\"><div class=\"sk-estimator fitted sk-toggleable\"><input class=\"sk-toggleable__control sk-hidden--visually\" id=\"sk-estimator-id-2\" type=\"checkbox\" checked><label for=\"sk-estimator-id-2\" class=\"sk-toggleable__label fitted sk-toggleable__label-arrow\"><div><div>BMSRegressor</div></div><div><span class=\"sk-estimator-doc-link fitted\">i<span>Fitted</span></span></div></label><div class=\"sk-toggleable__content fitted\" data-param-prefix=\"\">\n",
              "        <div class=\"estimator-table\">\n",
              "            <details>\n",
              "                <summary>Parameters</summary>\n",
              "                <table class=\"parameters-table\">\n",
              "                  <tbody>\n",
              "                    \n",
              "        <tr class=\"default\">\n",
              "            <td><i class=\"copy-paste-icon\"\n",
              "                 onclick=\"copyToClipboard('prior_par',\n",
              "                          this.parentElement.nextElementSibling)\"\n",
              "            ></i></td>\n",
              "            <td class=\"param\">prior_par&nbsp;</td>\n",
              "            <td class=\"value\">{&#x27;Nopi_*&#x27;: 5.002213595420244, &#x27;Nopi_**&#x27;: 6.4734429542245495, &#x27;Nopi_+&#x27;: 5.808163661224514, &#x27;Nopi_-&#x27;: 3.350846072163632, ...}</td>\n",
              "        </tr>\n",
              "    \n",
              "\n",
              "        <tr class=\"default\">\n",
              "            <td><i class=\"copy-paste-icon\"\n",
              "                 onclick=\"copyToClipboard('ts',\n",
              "                          this.parentElement.nextElementSibling)\"\n",
              "            ></i></td>\n",
              "            <td class=\"param\">ts&nbsp;</td>\n",
              "            <td class=\"value\">[1.0, 1.04, ...]</td>\n",
              "        </tr>\n",
              "    \n",
              "\n",
              "        <tr class=\"default\">\n",
              "            <td><i class=\"copy-paste-icon\"\n",
              "                 onclick=\"copyToClipboard('epochs',\n",
              "                          this.parentElement.nextElementSibling)\"\n",
              "            ></i></td>\n",
              "            <td class=\"param\">epochs&nbsp;</td>\n",
              "            <td class=\"value\">1500</td>\n",
              "        </tr>\n",
              "    \n",
              "                  </tbody>\n",
              "                </table>\n",
              "            </details>\n",
              "        </div>\n",
              "    </div></div></div></div></div><script>function copyToClipboard(text, element) {\n",
              "    // Get the parameter prefix from the closest toggleable content\n",
              "    const toggleableContent = element.closest('.sk-toggleable__content');\n",
              "    const paramPrefix = toggleableContent ? toggleableContent.dataset.paramPrefix : '';\n",
              "    const fullParamName = paramPrefix ? `${paramPrefix}${text}` : text;\n",
              "\n",
              "    const originalStyle = element.style;\n",
              "    const computedStyle = window.getComputedStyle(element);\n",
              "    const originalWidth = computedStyle.width;\n",
              "    const originalHTML = element.innerHTML.replace('Copied!', '');\n",
              "\n",
              "    navigator.clipboard.writeText(fullParamName)\n",
              "        .then(() => {\n",
              "            element.style.width = originalWidth;\n",
              "            element.style.color = 'green';\n",
              "            element.innerHTML = \"Copied!\";\n",
              "\n",
              "            setTimeout(() => {\n",
              "                element.innerHTML = originalHTML;\n",
              "                element.style = originalStyle;\n",
              "            }, 2000);\n",
              "        })\n",
              "        .catch(err => {\n",
              "            console.error('Failed to copy:', err);\n",
              "            element.style.color = 'red';\n",
              "            element.innerHTML = \"Failed!\";\n",
              "            setTimeout(() => {\n",
              "                element.innerHTML = originalHTML;\n",
              "                element.style = originalStyle;\n",
              "            }, 2000);\n",
              "        });\n",
              "    return false;\n",
              "}\n",
              "\n",
              "document.querySelectorAll('.fa-regular.fa-copy').forEach(function(element) {\n",
              "    const toggleableContent = element.closest('.sk-toggleable__content');\n",
              "    const paramPrefix = toggleableContent ? toggleableContent.dataset.paramPrefix : '';\n",
              "    const paramName = element.parentElement.nextElementSibling.textContent.trim();\n",
              "    const fullParamName = paramPrefix ? `${paramPrefix}${paramName}` : paramName;\n",
              "\n",
              "    element.setAttribute('title', fullParamName);\n",
              "});\n",
              "</script></body>"
            ],
            "text/plain": [
              "sin(X0)"
            ]
          },
          "execution_count": 23,
          "metadata": {},
          "output_type": "execute_result"
        }
      ],
      "source": [
        "# CHange this to BMS regressor later for trying it out.\n",
        "\n",
        "model = BMSRegressor()\n",
        "model.fit(X.reshape(-1, 1), Y)"
      ]
    },
    {
      "cell_type": "code",
      "execution_count": 24,
      "metadata": {},
      "outputs": [
        {
          "data": {
            "image/png": "[encoded data removed]",
            "text/plain": [
              "<Figure size 640x480 with 1 Axes>"
            ]
          },
          "metadata": {},
          "output_type": "display_data"
        },
        {
          "data": {
            "image/png": "[encoded data removed]",
            "text/plain": [
              "<Figure size 640x480 with 1 Axes>"
            ]
          },
          "metadata": {},
          "output_type": "display_data"
        },
        {
          "data": {
            "image/png": "[encoded data removed]",
            "text/plain": [
              "<Figure size 640x480 with 1 Axes>"
            ]
          },
          "metadata": {},
          "output_type": "display_data"
        }
      ],
      "source": [
        "X_prime = np.linspace(0, 5.5, 12)\n",
        "new_conditions = falsification_sample(\n",
        "    conditions = X_prime,\n",
        "    model = model,\n",
        "    reference_conditions=X,\n",
        "    reference_observations=Y,\n",
        "    metadata = metadata,\n",
        "    num_samples = 6,\n",
        "    plot = True,\n",
        ")"
      ]
    },
    {
      "cell_type": "code",
      "execution_count": 22,
      "metadata": {},
      "outputs": [
        {
          "data": {
            "text/html": [
              "<div>\n",
              "<style scoped>\n",
              "    .dataframe tbody tr th:only-of-type {\n",
              "        vertical-align: middle;\n",
              "    }\n",
              "\n",
              "    .dataframe tbody tr th {\n",
              "        vertical-align: top;\n",
              "    }\n",
              "\n",
              "    .dataframe thead th {\n",
              "        text-align: right;\n",
              "    }\n",
              "</style>\n",
              "<table border=\"1\" class=\"dataframe\">\n",
              "  <thead>\n",
              "    <tr style=\"text-align: right;\">\n",
              "      <th></th>\n",
              "      <th>0</th>\n",
              "    </tr>\n",
              "  </thead>\n",
              "  <tbody>\n",
              "    <tr>\n",
              "      <th>0</th>\n",
              "      <td>0.0</td>\n",
              "    </tr>\n",
              "    <tr>\n",
              "      <th>1</th>\n",
              "      <td>4.5</td>\n",
              "    </tr>\n",
              "    <tr>\n",
              "      <th>2</th>\n",
              "      <td>2.0</td>\n",
              "    </tr>\n",
              "    <tr>\n",
              "      <th>3</th>\n",
              "      <td>1.5</td>\n",
              "    </tr>\n",
              "    <tr>\n",
              "      <th>4</th>\n",
              "      <td>4.0</td>\n",
              "    </tr>\n",
              "    <tr>\n",
              "      <th>5</th>\n",
              "      <td>2.5</td>\n",
              "    </tr>\n",
              "  </tbody>\n",
              "</table>\n",
              "</div>"
            ],
            "text/plain": [
              "     0\n",
              "0  0.0\n",
              "1  4.5\n",
              "2  2.0\n",
              "3  1.5\n",
              "4  4.0\n",
              "5  2.5"
            ]
          },
          "execution_count": 22,
          "metadata": {},
          "output_type": "execute_result"
        }
      ],
      "source": [
        "new_conditions"
      ]
    },
    {
      "cell_type": "code",
      "execution_count": null,
      "metadata": {},
      "outputs": [],
      "source": [
        "def sample(\n",
        "        conditions: Union[pd.DataFrame, np.ndarray],\n",
        "        models: List,\n",
        "        reference_conditions: Union[pd.DataFrame, np.ndarray],\n",
        "        num_samples: int = 1) -> pd.DataFrame:\n",
        "    \"\"\"\n",
        "    Add a description of the sampler here.\n",
        "\n",
        "    Args:\n",
        "        conditions: The pool to sample from.\n",
        "            Attention: `conditions` is a field of the standard state\n",
        "        models: The sampler might use output from the theorist.\n",
        "            Attention: `models` is a field of the standard state\n",
        "        reference_conditions: The sampler might use reference conditons\n",
        "        num_samples: number of experimental conditions to select\n",
        "\n",
        "    Returns:\n",
        "        Sampled pool of experimental conditions\n",
        "\n",
        "    *Optional*\n",
        "    Examples:\n",
        "        These examples add documentation and also work as tests\n",
        "        >>> example_sampler([1, 2, 3, 4])\n",
        "        1\n",
        "        >>> example_sampler(range(3, 10))\n",
        "        3\n",
        "\n",
        "    \"\"\"\n",
        "    if num_samples is None:\n",
        "        num_samples = conditions.shape[0]\n",
        "\n",
        "    new_conditions = conditions\n",
        "\n",
        "    return new_conditions[:num_samples]\n"
      ]
    },
    {
      "cell_type": "markdown",
      "metadata": {
        "id": "9DyqbEH2LB-i"
      },
      "source": [
        "### Experiment Runner Wrapper"
      ]
    },
    {
      "cell_type": "code",
      "execution_count": 7,
      "metadata": {
        "id": "fyUlh7vBJQwk"
      },
      "outputs": [],
      "source": [
        "# state wrapper for synthetic experiment runner\n",
        "@on_state()\n",
        "def run_experiment_on_state(conditions, experiment_runner):\n",
        "  data = experiment_runner.run(conditions=conditions, added_noise=0.0)\n",
        "  return Delta(experiment_data=data)"
      ]
    },
    {
      "cell_type": "markdown",
      "metadata": {
        "id": "pwlTublQiWMp"
      },
      "source": [
        "## Simulation Functions\n",
        "\n",
        "First, we will need a function that we can use to evaluate the goodness of our theorists. We will use the one below (no need to parse it)."
      ]
    },
    {
      "cell_type": "code",
      "execution_count": 8,
      "metadata": {
        "id": "uHuIbsSbN0Ng"
      },
      "outputs": [],
      "source": [
        "# the following function is used to compute the model performance\n",
        "# on the validation set in terms of mean squared error\n",
        "def get_validation_MSE(validation_experiment_data, working_state):\n",
        "    ivs = [iv.name for iv in validation_experiment_data.variables.independent_variables]\n",
        "    dvs = [dv.name for dv in validation_experiment_data.variables.dependent_variables]\n",
        "    X = validation_experiment_data.experiment_data[ivs]\n",
        "    y = validation_experiment_data.experiment_data[dvs]\n",
        "\n",
        "    y_pred_bms = working_state.models_bms[-1].predict(X)\n",
        "    y_pred_lr = working_state.models_lr[-1].predict(X)\n",
        "    y_pred_polyr = working_state.models_polyr[-1].predict(X)\n",
        "\n",
        "    MSE_bms = ((y - y_pred_bms)**2).mean()[0]\n",
        "    MSE_lr = ((y - y_pred_lr)**2).mean()[0]\n",
        "    MSE_polyr = ((y - y_pred_polyr)**2).mean()[0]\n",
        "\n",
        "    min_MSE = min(MSE_bms, MSE_lr, MSE_polyr)\n",
        "\n",
        "    return min_MSE"
      ]
    },
    {
      "cell_type": "markdown",
      "metadata": {
        "id": "k8mSIAfmN9Rr"
      },
      "source": [
        "We will use the following function for benchmarking our model for any given experiment runner. Have a closer look at the script below.\n",
        "\n",
        "It uses four different AutoRA states:\n",
        "- ``validation_conditions`` and ``validation_experiment_data``: These states contains our validation sets, sampled across the entire domain of the ground truth. It is used for tracking the validation MSE of all theorists.\n",
        "\n",
        "- ``initial_state``: This state is used to initialize the discovery process. Both the random experimentalist (operating on the ``benchmark_state``) and your custom experimentalist (operating on the ``working_state`` will use the same initial state.)\n",
        "\n",
        "- ``benchmark_state``: This state is used for a discovery process with random sampling.\n",
        "\n",
        "- ``working_state``: This state is used for a discovery process with your custom experimentalist."
      ]
    },
    {
      "cell_type": "code",
      "execution_count": 9,
      "metadata": {
        "id": "-2n53aEYLhEF"
      },
      "outputs": [],
      "source": [
        "def run_simulation(num_cycles, num_conditions_per_cycle, num_initial_conditions, bms_epochs, experiment_runner, sim=0):\n",
        "\n",
        "  # VALIDATION STATE\n",
        "  # at every step of our discovery process, we will evaluate the performance\n",
        "  # of the theorist against the ground truth. Here, we will define the ground\n",
        "  # truth as a grid of data points sampled across the domain of the experimental\n",
        "  # design space. We will store this validation set in a separate validation states\n",
        "\n",
        "  # create AutoRA state for validation purposes\n",
        "  validation_conditions = CustomState(variables=experiment_runner.variables)\n",
        "  validation_experiment_data = CustomState(variables=experiment_runner.variables)\n",
        "\n",
        "  # our validation set will be consist of a grid of experiment conditons\n",
        "  # across the entire experimental design domain\n",
        "  validation_conditions = grid_pool_on_state(validation_conditions)\n",
        "  validation_experiment_data = grid_pool_on_state(validation_experiment_data)\n",
        "  validation_experiment_data = run_experiment_on_state(validation_experiment_data, experiment_runner=experiment_runner)\n",
        "\n",
        "\n",
        "  benchmark_MSE_log = list()\n",
        "  working_MSE_log = list()\n",
        "\n",
        "  # INITIAL STATE\n",
        "  # We begin our discovery experiment with randomly sampled data set for 10\n",
        "  # conditions. We will use the same state for each experimentalist method.\n",
        "\n",
        "  # create initial AutoRA state which we will use for our discovery expeirments\n",
        "  initial_state = CustomState(variables=experiment_runner.variables)\n",
        "\n",
        "  # we will initiate our discovery process with 10 randomly sampled experiment conditions\n",
        "  initial_state = random_pool_on_state(initial_state,\n",
        "                                      num_samples=num_initial_conditions,\n",
        "                                      random_state = sim)\n",
        "\n",
        "  # we obtain the corresponding experiment data\n",
        "  initial_state = run_experiment_on_state(initial_state, experiment_runner=experiment_runner)\n",
        "\n",
        "  # initialize benchmark state for random experimentalist\n",
        "  benchmark_state = CustomState(**initial_state.__dict__)\n",
        "\n",
        "  # initialize working state for your custom experimentalist\n",
        "  working_state = CustomState(**initial_state.__dict__)\n",
        "\n",
        "  # for each discovery cycle\n",
        "  for cycle in range(num_cycles):\n",
        "\n",
        "    print(\"SIMULATION \" + str(sim)  + \" / DISCOVERY CYCLE \" + str(cycle))\n",
        "\n",
        "    # first, we fit a model to the data\n",
        "    print(\"Fitting models on benchmark state...\")\n",
        "    benchmark_state = theorists_on_state(benchmark_state, bms_epochs=bms_epochs)\n",
        "    print(\"Fitting models on working state...\")\n",
        "    working_state = theorists_on_state(working_state, bms_epochs=bms_epochs)\n",
        "\n",
        "    # now we can determine how well the models do on the validation set\n",
        "    benchmark_MSE = get_validation_MSE(validation_experiment_data, benchmark_state)\n",
        "    benchmark_MSE_log.append(benchmark_MSE)\n",
        "\n",
        "    working_MSE = get_validation_MSE(validation_experiment_data, working_state)\n",
        "    working_MSE_log.append(working_MSE)\n",
        "\n",
        "    # then we determine the next experiment condition\n",
        "    print(\"Sampling new experiment conditions...\")\n",
        "    benchmark_state = random_sample_on_state(benchmark_state,\n",
        "                                              all_conditions=validation_conditions.conditions,\n",
        "                                              num_samples=num_conditions_per_cycle)\n",
        "    working_state = custom_sample_on_state(working_state,\n",
        "                                            all_conditions=validation_conditions.conditions,\n",
        "                                          num_samples=num_conditions_per_cycle)\n",
        "\n",
        "    print(\"Obtaining observations...\")\n",
        "    # we obtain the corresponding experiment data\n",
        "    benchmark_state = run_experiment_on_state(benchmark_state, experiment_runner=experiment_runner)\n",
        "    working_state = run_experiment_on_state(working_state, experiment_runner=experiment_runner)\n",
        "\n",
        "  return benchmark_MSE_log, working_MSE_log, benchmark_state, working_state"
      ]
    },
    {
      "cell_type": "markdown",
      "metadata": {
        "id": "3B5mO66GMb3T"
      },
      "source": [
        "## Benchmarking Script"
      ]
    },
    {
      "cell_type": "markdown",
      "metadata": {
        "id": "mqu8m-hjfXVK"
      },
      "source": [
        "Let's first set some meta-parameters."
      ]
    },
    {
      "cell_type": "code",
      "execution_count": 10,
      "metadata": {
        "id": "40rWpRCKfcGL"
      },
      "outputs": [],
      "source": [
        "# meta parameters\n",
        "\n",
        "# DO NOT CHANGE THESE PARAMETERS\n",
        "num_cycles = 20\n",
        "num_conditions_per_cycle = 1\n",
        "num_initial_conditions = 1\n",
        "\n",
        "# YOU MAY CHANGE THESE PARAMETERS\n",
        "num_discovery_simulations = 3\n",
        "bms_epochs = 10 # Note, to speed things up, you can set bms_epochs = 10 or even bms_epochs = 1 (this will lead to poor performance of the BMS regressor but the other two theorists will still fit)"
      ]
    },
    {
      "cell_type": "markdown",
      "metadata": {
        "id": "s5s2_nSTMnHv"
      },
      "source": [
        "### Single Run\n",
        "\n",
        "We recommend that you probe your experimentalist function for a single run. Once you are confident that your experimentalist works, we recommend running repeating the simulation experiment for at least iterations (``num_discovery_simulations``).\n",
        "\n",
        "How do your results look like for other ground truths, such as\n",
        "- ``luce_choice_ratio()`` or\n",
        "- ``expected_value_theory()`` ?"
      ]
    },
    {
      "cell_type": "code",
      "execution_count": 11,
      "metadata": {
        "colab": {
          "base_uri": "https://localhost:8080/"
        },
        "id": "sqsuMqTd1OaY",
        "outputId": "17d47202-bd1f-4f53-c2d4-0684f718e99d"
      },
      "outputs": [
        {
          "name": "stderr",
          "output_type": "stream",
          "text": [
            "INFO:autora.theorist.bms.regressor:BMS fitting started\n"
          ]
        },
        {
          "name": "stdout",
          "output_type": "stream",
          "text": [
            "SIMULATION 0 / DISCOVERY CYCLE 0\n",
            "Fitting models on benchmark state...\n"
          ]
        },
        {
          "name": "stderr",
          "output_type": "stream",
          "text": [
            "100%|██████████| 10/10 [00:00<00:00, 15.11it/s]\n",
            "INFO:autora.theorist.bms.regressor:BMS fitting finished\n",
            "INFO:autora.theorist.bms.regressor:BMS fitting started\n"
          ]
        },
        {
          "name": "stdout",
          "output_type": "stream",
          "text": [
            "Fitting models on working state...\n"
          ]
        },
        {
          "name": "stderr",
          "output_type": "stream",
          "text": [
            "100%|██████████| 10/10 [00:00<00:00, 18.44it/s]\n",
            "INFO:autora.theorist.bms.regressor:BMS fitting finished\n",
            "INFO:autora.theorist.bms.regressor:BMS fitting started\n"
          ]
        },
        {
          "name": "stdout",
          "output_type": "stream",
          "text": [
            "Sampling new experiment conditions...\n",
            "Obtaining observations...\n",
            "SIMULATION 0 / DISCOVERY CYCLE 1\n",
            "Fitting models on benchmark state...\n"
          ]
        },
        {
          "name": "stderr",
          "output_type": "stream",
          "text": [
            "100%|██████████| 10/10 [00:00<00:00, 16.10it/s]\n",
            "INFO:autora.theorist.bms.regressor:BMS fitting finished\n",
            "INFO:autora.theorist.bms.regressor:BMS fitting started\n"
          ]
        },
        {
          "name": "stdout",
          "output_type": "stream",
          "text": [
            "Fitting models on working state...\n"
          ]
        },
        {
          "name": "stderr",
          "output_type": "stream",
          "text": [
            "100%|██████████| 10/10 [00:00<00:00, 16.41it/s]\n",
            "INFO:autora.theorist.bms.regressor:BMS fitting finished\n",
            "INFO:autora.theorist.bms.regressor:BMS fitting started\n"
          ]
        },
        {
          "name": "stdout",
          "output_type": "stream",
          "text": [
            "Sampling new experiment conditions...\n",
            "Obtaining observations...\n",
            "SIMULATION 0 / DISCOVERY CYCLE 2\n",
            "Fitting models on benchmark state...\n"
          ]
        },
        {
          "name": "stderr",
          "output_type": "stream",
          "text": [
            "100%|██████████| 10/10 [00:00<00:00, 16.14it/s]\n",
            "INFO:autora.theorist.bms.regressor:BMS fitting finished\n",
            "INFO:autora.theorist.bms.regressor:BMS fitting started\n"
          ]
        },
        {
          "name": "stdout",
          "output_type": "stream",
          "text": [
            "Fitting models on working state...\n"
          ]
        },
        {
          "name": "stderr",
          "output_type": "stream",
          "text": [
            "100%|██████████| 10/10 [00:00<00:00, 16.00it/s]\n",
            "INFO:autora.theorist.bms.regressor:BMS fitting finished\n",
            "INFO:autora.theorist.bms.regressor:BMS fitting started\n"
          ]
        },
        {
          "name": "stdout",
          "output_type": "stream",
          "text": [
            "Sampling new experiment conditions...\n",
            "Obtaining observations...\n",
            "SIMULATION 0 / DISCOVERY CYCLE 3\n",
            "Fitting models on benchmark state...\n"
          ]
        },
        {
          "name": "stderr",
          "output_type": "stream",
          "text": [
            "100%|██████████| 10/10 [00:00<00:00, 17.90it/s]\n",
            "INFO:autora.theorist.bms.regressor:BMS fitting finished\n",
            "INFO:autora.theorist.bms.regressor:BMS fitting started\n"
          ]
        },
        {
          "name": "stdout",
          "output_type": "stream",
          "text": [
            "Fitting models on working state...\n"
          ]
        },
        {
          "name": "stderr",
          "output_type": "stream",
          "text": [
            "100%|██████████| 10/10 [00:00<00:00, 17.69it/s]\n",
            "INFO:autora.theorist.bms.regressor:BMS fitting finished\n",
            "INFO:autora.theorist.bms.regressor:BMS fitting started\n"
          ]
        },
        {
          "name": "stdout",
          "output_type": "stream",
          "text": [
            "Sampling new experiment conditions...\n",
            "Obtaining observations...\n",
            "SIMULATION 0 / DISCOVERY CYCLE 4\n",
            "Fitting models on benchmark state...\n"
          ]
        },
        {
          "name": "stderr",
          "output_type": "stream",
          "text": [
            "100%|██████████| 10/10 [00:00<00:00, 17.20it/s]\n",
            "INFO:autora.theorist.bms.regressor:BMS fitting finished\n",
            "INFO:autora.theorist.bms.regressor:BMS fitting started\n"
          ]
        },
        {
          "name": "stdout",
          "output_type": "stream",
          "text": [
            "Fitting models on working state...\n"
          ]
        },
        {
          "name": "stderr",
          "output_type": "stream",
          "text": [
            "100%|██████████| 10/10 [00:00<00:00, 16.36it/s]\n",
            "INFO:autora.theorist.bms.regressor:BMS fitting finished\n",
            "INFO:autora.theorist.bms.regressor:BMS fitting started\n"
          ]
        },
        {
          "name": "stdout",
          "output_type": "stream",
          "text": [
            "Sampling new experiment conditions...\n",
            "Obtaining observations...\n",
            "SIMULATION 0 / DISCOVERY CYCLE 5\n",
            "Fitting models on benchmark state...\n"
          ]
        },
        {
          "name": "stderr",
          "output_type": "stream",
          "text": [
            "100%|██████████| 10/10 [00:00<00:00, 15.14it/s]\n",
            "INFO:autora.theorist.bms.regressor:BMS fitting finished\n",
            "INFO:autora.theorist.bms.regressor:BMS fitting started\n"
          ]
        },
        {
          "name": "stdout",
          "output_type": "stream",
          "text": [
            "Fitting models on working state...\n"
          ]
        },
        {
          "name": "stderr",
          "output_type": "stream",
          "text": [
            "100%|██████████| 10/10 [00:00<00:00, 15.40it/s]\n",
            "INFO:autora.theorist.bms.regressor:BMS fitting finished\n",
            "INFO:autora.theorist.bms.regressor:BMS fitting started\n"
          ]
        },
        {
          "name": "stdout",
          "output_type": "stream",
          "text": [
            "Sampling new experiment conditions...\n",
            "Obtaining observations...\n",
            "SIMULATION 0 / DISCOVERY CYCLE 6\n",
            "Fitting models on benchmark state...\n"
          ]
        },
        {
          "name": "stderr",
          "output_type": "stream",
          "text": [
            "100%|██████████| 10/10 [00:00<00:00, 13.75it/s]\n",
            "INFO:autora.theorist.bms.regressor:BMS fitting finished\n",
            "INFO:autora.theorist.bms.regressor:BMS fitting started\n"
          ]
        },
        {
          "name": "stdout",
          "output_type": "stream",
          "text": [
            "Fitting models on working state...\n"
          ]
        },
        {
          "name": "stderr",
          "output_type": "stream",
          "text": [
            "100%|██████████| 10/10 [00:00<00:00, 16.80it/s]\n",
            "INFO:autora.theorist.bms.regressor:BMS fitting finished\n",
            "INFO:autora.theorist.bms.regressor:BMS fitting started\n"
          ]
        },
        {
          "name": "stdout",
          "output_type": "stream",
          "text": [
            "Sampling new experiment conditions...\n",
            "Obtaining observations...\n",
            "SIMULATION 0 / DISCOVERY CYCLE 7\n",
            "Fitting models on benchmark state...\n"
          ]
        },
        {
          "name": "stderr",
          "output_type": "stream",
          "text": [
            "100%|██████████| 10/10 [00:00<00:00, 16.98it/s]\n",
            "INFO:autora.theorist.bms.regressor:BMS fitting finished\n",
            "INFO:autora.theorist.bms.regressor:BMS fitting started\n"
          ]
        },
        {
          "name": "stdout",
          "output_type": "stream",
          "text": [
            "Fitting models on working state...\n"
          ]
        },
        {
          "name": "stderr",
          "output_type": "stream",
          "text": [
            "100%|██████████| 10/10 [00:00<00:00, 17.73it/s]\n",
            "INFO:autora.theorist.bms.regressor:BMS fitting finished\n",
            "INFO:autora.theorist.bms.regressor:BMS fitting started\n"
          ]
        },
        {
          "name": "stdout",
          "output_type": "stream",
          "text": [
            "Sampling new experiment conditions...\n",
            "Obtaining observations...\n",
            "SIMULATION 0 / DISCOVERY CYCLE 8\n",
            "Fitting models on benchmark state...\n"
          ]
        },
        {
          "name": "stderr",
          "output_type": "stream",
          "text": [
            "100%|██████████| 10/10 [00:00<00:00, 13.71it/s]\n",
            "INFO:autora.theorist.bms.regressor:BMS fitting finished\n",
            "INFO:autora.theorist.bms.regressor:BMS fitting started\n"
          ]
        },
        {
          "name": "stdout",
          "output_type": "stream",
          "text": [
            "Fitting models on working state...\n"
          ]
        },
        {
          "name": "stderr",
          "output_type": "stream",
          "text": [
            "100%|██████████| 10/10 [00:00<00:00, 15.68it/s]\n",
            "INFO:autora.theorist.bms.regressor:BMS fitting finished\n",
            "INFO:autora.theorist.bms.regressor:BMS fitting started\n"
          ]
        },
        {
          "name": "stdout",
          "output_type": "stream",
          "text": [
            "Sampling new experiment conditions...\n",
            "Obtaining observations...\n",
            "SIMULATION 0 / DISCOVERY CYCLE 9\n",
            "Fitting models on benchmark state...\n"
          ]
        },
        {
          "name": "stderr",
          "output_type": "stream",
          "text": [
            "100%|██████████| 10/10 [00:00<00:00, 14.55it/s]\n",
            "INFO:autora.theorist.bms.regressor:BMS fitting finished\n",
            "INFO:autora.theorist.bms.regressor:BMS fitting started\n"
          ]
        },
        {
          "name": "stdout",
          "output_type": "stream",
          "text": [
            "Fitting models on working state...\n"
          ]
        },
        {
          "name": "stderr",
          "output_type": "stream",
          "text": [
            "100%|██████████| 10/10 [00:00<00:00, 15.64it/s]\n",
            "INFO:autora.theorist.bms.regressor:BMS fitting finished\n",
            "INFO:autora.theorist.bms.regressor:BMS fitting started\n"
          ]
        },
        {
          "name": "stdout",
          "output_type": "stream",
          "text": [
            "Sampling new experiment conditions...\n",
            "Obtaining observations...\n",
            "SIMULATION 0 / DISCOVERY CYCLE 10\n",
            "Fitting models on benchmark state...\n"
          ]
        },
        {
          "name": "stderr",
          "output_type": "stream",
          "text": [
            "100%|██████████| 10/10 [00:00<00:00, 16.80it/s]\n",
            "INFO:autora.theorist.bms.regressor:BMS fitting finished\n",
            "INFO:autora.theorist.bms.regressor:BMS fitting started\n"
          ]
        },
        {
          "name": "stdout",
          "output_type": "stream",
          "text": [
            "Fitting models on working state...\n"
          ]
        },
        {
          "name": "stderr",
          "output_type": "stream",
          "text": [
            "100%|██████████| 10/10 [00:00<00:00, 15.37it/s]\n",
            "INFO:autora.theorist.bms.regressor:BMS fitting finished\n",
            "INFO:autora.theorist.bms.regressor:BMS fitting started\n"
          ]
        },
        {
          "name": "stdout",
          "output_type": "stream",
          "text": [
            "Sampling new experiment conditions...\n",
            "Obtaining observations...\n",
            "SIMULATION 0 / DISCOVERY CYCLE 11\n",
            "Fitting models on benchmark state...\n"
          ]
        },
        {
          "name": "stderr",
          "output_type": "stream",
          "text": [
            "100%|██████████| 10/10 [00:00<00:00, 16.67it/s]\n",
            "INFO:autora.theorist.bms.regressor:BMS fitting finished\n",
            "INFO:autora.theorist.bms.regressor:BMS fitting started\n"
          ]
        },
        {
          "name": "stdout",
          "output_type": "stream",
          "text": [
            "Fitting models on working state...\n"
          ]
        },
        {
          "name": "stderr",
          "output_type": "stream",
          "text": [
            "100%|██████████| 10/10 [00:00<00:00, 15.54it/s]\n",
            "INFO:autora.theorist.bms.regressor:BMS fitting finished\n",
            "INFO:autora.theorist.bms.regressor:BMS fitting started\n"
          ]
        },
        {
          "name": "stdout",
          "output_type": "stream",
          "text": [
            "Sampling new experiment conditions...\n",
            "Obtaining observations...\n",
            "SIMULATION 0 / DISCOVERY CYCLE 12\n",
            "Fitting models on benchmark state...\n"
          ]
        },
        {
          "name": "stderr",
          "output_type": "stream",
          "text": [
            "100%|██████████| 10/10 [00:00<00:00, 14.62it/s]\n",
            "INFO:autora.theorist.bms.regressor:BMS fitting finished\n",
            "INFO:autora.theorist.bms.regressor:BMS fitting started\n"
          ]
        },
        {
          "name": "stdout",
          "output_type": "stream",
          "text": [
            "Fitting models on working state...\n"
          ]
        },
        {
          "name": "stderr",
          "output_type": "stream",
          "text": [
            "100%|██████████| 10/10 [00:00<00:00, 13.75it/s]\n",
            "INFO:autora.theorist.bms.regressor:BMS fitting finished\n",
            "INFO:autora.theorist.bms.regressor:BMS fitting started\n"
          ]
        },
        {
          "name": "stdout",
          "output_type": "stream",
          "text": [
            "Sampling new experiment conditions...\n",
            "Obtaining observations...\n",
            "SIMULATION 0 / DISCOVERY CYCLE 13\n",
            "Fitting models on benchmark state...\n"
          ]
        },
        {
          "name": "stderr",
          "output_type": "stream",
          "text": [
            "100%|██████████| 10/10 [00:00<00:00, 15.02it/s]\n",
            "INFO:autora.theorist.bms.regressor:BMS fitting finished\n",
            "INFO:autora.theorist.bms.regressor:BMS fitting started\n"
          ]
        },
        {
          "name": "stdout",
          "output_type": "stream",
          "text": [
            "Fitting models on working state...\n"
          ]
        },
        {
          "name": "stderr",
          "output_type": "stream",
          "text": [
            "100%|██████████| 10/10 [00:00<00:00, 17.88it/s]\n",
            "INFO:autora.theorist.bms.regressor:BMS fitting finished\n",
            "INFO:autora.theorist.bms.regressor:BMS fitting started\n"
          ]
        },
        {
          "name": "stdout",
          "output_type": "stream",
          "text": [
            "Sampling new experiment conditions...\n",
            "Obtaining observations...\n",
            "SIMULATION 0 / DISCOVERY CYCLE 14\n",
            "Fitting models on benchmark state...\n"
          ]
        },
        {
          "name": "stderr",
          "output_type": "stream",
          "text": [
            "100%|██████████| 10/10 [00:00<00:00, 16.21it/s]\n",
            "INFO:autora.theorist.bms.regressor:BMS fitting finished\n",
            "INFO:autora.theorist.bms.regressor:BMS fitting started\n"
          ]
        },
        {
          "name": "stdout",
          "output_type": "stream",
          "text": [
            "Fitting models on working state...\n"
          ]
        },
        {
          "name": "stderr",
          "output_type": "stream",
          "text": [
            "100%|██████████| 10/10 [00:00<00:00, 14.74it/s]\n",
            "INFO:autora.theorist.bms.regressor:BMS fitting finished\n",
            "INFO:autora.theorist.bms.regressor:BMS fitting started\n"
          ]
        },
        {
          "name": "stdout",
          "output_type": "stream",
          "text": [
            "Sampling new experiment conditions...\n",
            "Obtaining observations...\n",
            "SIMULATION 0 / DISCOVERY CYCLE 15\n",
            "Fitting models on benchmark state...\n"
          ]
        },
        {
          "name": "stderr",
          "output_type": "stream",
          "text": [
            "100%|██████████| 10/10 [00:00<00:00, 12.67it/s]\n",
            "INFO:autora.theorist.bms.regressor:BMS fitting finished\n",
            "INFO:autora.theorist.bms.regressor:BMS fitting started\n"
          ]
        },
        {
          "name": "stdout",
          "output_type": "stream",
          "text": [
            "Fitting models on working state...\n"
          ]
        },
        {
          "name": "stderr",
          "output_type": "stream",
          "text": [
            "100%|██████████| 10/10 [00:00<00:00, 15.15it/s]\n",
            "INFO:autora.theorist.bms.regressor:BMS fitting finished\n",
            "INFO:autora.theorist.bms.regressor:BMS fitting started\n"
          ]
        },
        {
          "name": "stdout",
          "output_type": "stream",
          "text": [
            "Sampling new experiment conditions...\n",
            "Obtaining observations...\n",
            "SIMULATION 0 / DISCOVERY CYCLE 16\n",
            "Fitting models on benchmark state...\n"
          ]
        },
        {
          "name": "stderr",
          "output_type": "stream",
          "text": [
            "100%|██████████| 10/10 [00:00<00:00, 14.38it/s]\n",
            "INFO:autora.theorist.bms.regressor:BMS fitting finished\n",
            "INFO:autora.theorist.bms.regressor:BMS fitting started\n"
          ]
        },
        {
          "name": "stdout",
          "output_type": "stream",
          "text": [
            "Fitting models on working state...\n"
          ]
        },
        {
          "name": "stderr",
          "output_type": "stream",
          "text": [
            "100%|██████████| 10/10 [00:00<00:00, 17.05it/s]\n",
            "INFO:autora.theorist.bms.regressor:BMS fitting finished\n",
            "INFO:autora.theorist.bms.regressor:BMS fitting started\n"
          ]
        },
        {
          "name": "stdout",
          "output_type": "stream",
          "text": [
            "Sampling new experiment conditions...\n",
            "Obtaining observations...\n",
            "SIMULATION 0 / DISCOVERY CYCLE 17\n",
            "Fitting models on benchmark state...\n"
          ]
        },
        {
          "name": "stderr",
          "output_type": "stream",
          "text": [
            "100%|██████████| 10/10 [00:00<00:00, 16.65it/s]\n",
            "INFO:autora.theorist.bms.regressor:BMS fitting finished\n",
            "INFO:autora.theorist.bms.regressor:BMS fitting started\n"
          ]
        },
        {
          "name": "stdout",
          "output_type": "stream",
          "text": [
            "Fitting models on working state...\n"
          ]
        },
        {
          "name": "stderr",
          "output_type": "stream",
          "text": [
            "100%|██████████| 10/10 [00:00<00:00, 17.21it/s]\n",
            "INFO:autora.theorist.bms.regressor:BMS fitting finished\n",
            "INFO:autora.theorist.bms.regressor:BMS fitting started\n"
          ]
        },
        {
          "name": "stdout",
          "output_type": "stream",
          "text": [
            "Sampling new experiment conditions...\n",
            "Obtaining observations...\n",
            "SIMULATION 0 / DISCOVERY CYCLE 18\n",
            "Fitting models on benchmark state...\n"
          ]
        },
        {
          "name": "stderr",
          "output_type": "stream",
          "text": [
            "100%|██████████| 10/10 [00:00<00:00, 17.04it/s]\n",
            "INFO:autora.theorist.bms.regressor:BMS fitting finished\n",
            "INFO:autora.theorist.bms.regressor:BMS fitting started\n"
          ]
        },
        {
          "name": "stdout",
          "output_type": "stream",
          "text": [
            "Fitting models on working state...\n"
          ]
        },
        {
          "name": "stderr",
          "output_type": "stream",
          "text": [
            "100%|██████████| 10/10 [00:00<00:00, 13.27it/s]\n",
            "INFO:autora.theorist.bms.regressor:BMS fitting finished\n",
            "INFO:autora.theorist.bms.regressor:BMS fitting started\n"
          ]
        },
        {
          "name": "stdout",
          "output_type": "stream",
          "text": [
            "Sampling new experiment conditions...\n",
            "Obtaining observations...\n",
            "SIMULATION 0 / DISCOVERY CYCLE 19\n",
            "Fitting models on benchmark state...\n"
          ]
        },
        {
          "name": "stderr",
          "output_type": "stream",
          "text": [
            "100%|██████████| 10/10 [00:00<00:00, 13.71it/s]\n",
            "INFO:autora.theorist.bms.regressor:BMS fitting finished\n",
            "INFO:autora.theorist.bms.regressor:BMS fitting started\n"
          ]
        },
        {
          "name": "stdout",
          "output_type": "stream",
          "text": [
            "Fitting models on working state...\n"
          ]
        },
        {
          "name": "stderr",
          "output_type": "stream",
          "text": [
            "100%|██████████| 10/10 [00:00<00:00, 15.99it/s]\n",
            "INFO:autora.theorist.bms.regressor:BMS fitting finished\n"
          ]
        },
        {
          "name": "stdout",
          "output_type": "stream",
          "text": [
            "Sampling new experiment conditions...\n",
            "Obtaining observations...\n"
          ]
        }
      ],
      "source": [
        "# setting experiment runner and theorist\n",
        "experiment_runner = exp_learning()\n",
        "\n",
        "# run simulation\n",
        "benchmark_MSE_log, working_MSE_log, benchmark_state, working_state = run_simulation(num_cycles, num_conditions_per_cycle, num_initial_conditions, bms_epochs, experiment_runner)\n"
      ]
    },
    {
      "cell_type": "markdown",
      "metadata": {
        "id": "DxXTCLDzfjLr"
      },
      "source": [
        "We can now plot the results for a single discovery run."
      ]
    },
    {
      "cell_type": "code",
      "execution_count": 12,
      "metadata": {
        "colab": {
          "base_uri": "https://localhost:8080/",
          "height": 1000
        },
        "id": "0HfiASzDfiRA",
        "outputId": "5f99db4b-fb0c-4641-bf80-6c4403c83aa0"
      },
      "outputs": [
        {
          "name": "stdout",
          "output_type": "stream",
          "text": [
            "    P_asymptotic  trial  performance\n",
            "0       0.429293   64.0     0.916330\n",
            "1       0.459596   91.0     0.964755\n",
            "2       0.383838  100.0     0.969323\n",
            "3       0.474747   78.0     0.949404\n",
            "4       0.257576   46.0     0.813222\n",
            "5       0.333333   76.0     0.931811\n",
            "6       0.171717   40.0     0.750526\n",
            "7       0.429293   24.0     0.722207\n",
            "8       0.222222   28.0     0.664225\n",
            "9       0.101010   14.0     0.409322\n",
            "10      0.212121   80.0     0.928525\n",
            "11      0.075758   78.0     0.910970\n",
            "12      0.313131   43.0     0.810925\n",
            "13      0.141414   63.0     0.870292\n",
            "14      0.419192   69.0     0.926710\n",
            "15      0.333333   23.0     0.665616\n",
            "16      0.045455   68.0     0.875882\n",
            "17      0.328283   64.0     0.901522\n",
            "18      0.146465   70.0     0.895479\n",
            "19      0.489899   55.0     0.902035\n",
            "20      0.161616   61.0     0.865512\n",
            "    P_asymptotic  trial  performance\n",
            "0       0.429293   64.0     0.916330\n",
            "1       0.500000  100.0     0.975106\n",
            "2       0.000000    1.0     0.029554\n",
            "3       0.500000    1.0     0.514777\n",
            "4       0.000000  100.0     0.950213\n",
            "5       0.000000    1.0     0.029554\n",
            "6       0.000000  100.0     0.950213\n",
            "7       0.500000  100.0     0.975106\n",
            "8       0.000000    1.0     0.029554\n",
            "9       0.500000  100.0     0.975106\n",
            "10      0.000000    1.0     0.029554\n",
            "11      0.500000  100.0     0.975106\n",
            "12      0.500000    1.0     0.514777\n",
            "13      0.000000    1.0     0.029554\n",
            "14      0.000000  100.0     0.950213\n",
            "15      0.500000  100.0     0.975106\n",
            "16      0.000000    1.0     0.029554\n",
            "17      0.500000  100.0     0.975106\n",
            "18      0.000000  100.0     0.950213\n",
            "19      0.500000    1.0     0.514777\n",
            "20      0.500000    1.0     0.514777\n"
          ]
        },
        {
          "data": {
            "image/png": "[encoded data removed]",
            "text/plain": [
              "<Figure size 640x480 with 1 Axes>"
            ]
          },
          "metadata": {},
          "output_type": "display_data"
        }
      ],
      "source": [
        "# lets plot the benchmark_MSE_log and the workign_MSE_log\n",
        "plt.plot(benchmark_MSE_log, label='benchmark_MSE_log')\n",
        "plt.plot(working_MSE_log, label='working_MSE_log')\n",
        "plt.xlabel('Sampled Data Points')\n",
        "plt.ylabel('MSE on Validation Set')\n",
        "plt.title('Single Discovery Simulation')\n",
        "plt.legend()\n",
        "\n",
        "# we can also investigate the final state more closely\n",
        "# for example, these are all the experimental data collected\n",
        "# under random sampling:\n",
        "print(benchmark_state.experiment_data)\n",
        "# and for your custom experimentalist\n",
        "print(working_state.experiment_data)"
      ]
    },
    {
      "cell_type": "markdown",
      "metadata": {
        "id": "H8Z7iU9pgBWu"
      },
      "source": [
        "### Averaging Across Multiple Runs\n",
        "\n",
        "To become more confident in your experimentalist, you may want to repeat the discovery process N times..."
      ]
    },
    {
      "cell_type": "code",
      "execution_count": 13,
      "metadata": {
        "colab": {
          "base_uri": "https://localhost:8080/"
        },
        "id": "OwL3zbg7hQNs",
        "outputId": "a318d3c8-0dbc-4a81-b3c6-a4e7c3d8e6c6"
      },
      "outputs": [
        {
          "name": "stderr",
          "output_type": "stream",
          "text": [
            "INFO:autora.theorist.bms.regressor:BMS fitting started\n"
          ]
        },
        {
          "name": "stdout",
          "output_type": "stream",
          "text": [
            "SIMULATION 0 / DISCOVERY CYCLE 0\n",
            "Fitting models on benchmark state...\n"
          ]
        },
        {
          "name": "stderr",
          "output_type": "stream",
          "text": [
            "  0%|          | 0/10 [00:00<?, ?it/s]"
          ]
        },
        {
          "name": "stderr",
          "output_type": "stream",
          "text": [
            "100%|██████████| 10/10 [00:00<00:00, 18.39it/s]\n",
            "INFO:autora.theorist.bms.regressor:BMS fitting finished\n",
            "INFO:autora.theorist.bms.regressor:BMS fitting started\n"
          ]
        },
        {
          "name": "stdout",
          "output_type": "stream",
          "text": [
            "Fitting models on working state...\n"
          ]
        },
        {
          "name": "stderr",
          "output_type": "stream",
          "text": [
            "100%|██████████| 10/10 [00:00<00:00, 17.18it/s]\n",
            "INFO:autora.theorist.bms.regressor:BMS fitting finished\n",
            "INFO:autora.theorist.bms.regressor:BMS fitting started\n"
          ]
        },
        {
          "name": "stdout",
          "output_type": "stream",
          "text": [
            "Sampling new experiment conditions...\n",
            "Obtaining observations...\n",
            "SIMULATION 0 / DISCOVERY CYCLE 1\n",
            "Fitting models on benchmark state...\n"
          ]
        },
        {
          "name": "stderr",
          "output_type": "stream",
          "text": [
            "100%|██████████| 10/10 [00:00<00:00, 17.90it/s]\n",
            "INFO:autora.theorist.bms.regressor:BMS fitting finished\n",
            "INFO:autora.theorist.bms.regressor:BMS fitting started\n"
          ]
        },
        {
          "name": "stdout",
          "output_type": "stream",
          "text": [
            "Fitting models on working state...\n"
          ]
        },
        {
          "name": "stderr",
          "output_type": "stream",
          "text": [
            "100%|██████████| 10/10 [00:00<00:00, 15.79it/s]\n",
            "INFO:autora.theorist.bms.regressor:BMS fitting finished\n",
            "INFO:autora.theorist.bms.regressor:BMS fitting started\n"
          ]
        },
        {
          "name": "stdout",
          "output_type": "stream",
          "text": [
            "Sampling new experiment conditions...\n",
            "Obtaining observations...\n",
            "SIMULATION 0 / DISCOVERY CYCLE 2\n",
            "Fitting models on benchmark state...\n"
          ]
        },
        {
          "name": "stderr",
          "output_type": "stream",
          "text": [
            "100%|██████████| 10/10 [00:00<00:00, 16.65it/s]\n",
            "INFO:autora.theorist.bms.regressor:BMS fitting finished\n",
            "INFO:autora.theorist.bms.regressor:BMS fitting started\n"
          ]
        },
        {
          "name": "stdout",
          "output_type": "stream",
          "text": [
            "Fitting models on working state...\n"
          ]
        },
        {
          "name": "stderr",
          "output_type": "stream",
          "text": [
            "100%|██████████| 10/10 [00:00<00:00, 16.88it/s]\n",
            "INFO:autora.theorist.bms.regressor:BMS fitting finished\n",
            "INFO:autora.theorist.bms.regressor:BMS fitting started\n"
          ]
        },
        {
          "name": "stdout",
          "output_type": "stream",
          "text": [
            "Sampling new experiment conditions...\n",
            "Obtaining observations...\n",
            "SIMULATION 0 / DISCOVERY CYCLE 3\n",
            "Fitting models on benchmark state...\n"
          ]
        },
        {
          "name": "stderr",
          "output_type": "stream",
          "text": [
            "100%|██████████| 10/10 [00:00<00:00, 16.56it/s]\n",
            "INFO:autora.theorist.bms.regressor:BMS fitting finished\n",
            "INFO:autora.theorist.bms.regressor:BMS fitting started\n"
          ]
        },
        {
          "name": "stdout",
          "output_type": "stream",
          "text": [
            "Fitting models on working state...\n"
          ]
        },
        {
          "name": "stderr",
          "output_type": "stream",
          "text": [
            "100%|██████████| 10/10 [00:00<00:00, 16.07it/s]\n",
            "INFO:autora.theorist.bms.regressor:BMS fitting finished\n",
            "INFO:autora.theorist.bms.regressor:BMS fitting started\n"
          ]
        },
        {
          "name": "stdout",
          "output_type": "stream",
          "text": [
            "Sampling new experiment conditions...\n",
            "Obtaining observations...\n",
            "SIMULATION 0 / DISCOVERY CYCLE 4\n",
            "Fitting models on benchmark state...\n"
          ]
        },
        {
          "name": "stderr",
          "output_type": "stream",
          "text": [
            "100%|██████████| 10/10 [00:00<00:00, 17.17it/s]\n",
            "INFO:autora.theorist.bms.regressor:BMS fitting finished\n",
            "INFO:autora.theorist.bms.regressor:BMS fitting started\n"
          ]
        },
        {
          "name": "stdout",
          "output_type": "stream",
          "text": [
            "Fitting models on working state...\n"
          ]
        },
        {
          "name": "stderr",
          "output_type": "stream",
          "text": [
            "100%|██████████| 10/10 [00:00<00:00, 15.21it/s]\n",
            "INFO:autora.theorist.bms.regressor:BMS fitting finished\n",
            "INFO:autora.theorist.bms.regressor:BMS fitting started\n"
          ]
        },
        {
          "name": "stdout",
          "output_type": "stream",
          "text": [
            "Sampling new experiment conditions...\n",
            "Obtaining observations...\n",
            "SIMULATION 0 / DISCOVERY CYCLE 5\n",
            "Fitting models on benchmark state...\n"
          ]
        },
        {
          "name": "stderr",
          "output_type": "stream",
          "text": [
            "100%|██████████| 10/10 [00:00<00:00, 14.94it/s]\n",
            "INFO:autora.theorist.bms.regressor:BMS fitting finished\n",
            "INFO:autora.theorist.bms.regressor:BMS fitting started\n"
          ]
        },
        {
          "name": "stdout",
          "output_type": "stream",
          "text": [
            "Fitting models on working state...\n"
          ]
        },
        {
          "name": "stderr",
          "output_type": "stream",
          "text": [
            "100%|██████████| 10/10 [00:00<00:00, 13.83it/s]\n",
            "INFO:autora.theorist.bms.regressor:BMS fitting finished\n",
            "INFO:autora.theorist.bms.regressor:BMS fitting started\n"
          ]
        },
        {
          "name": "stdout",
          "output_type": "stream",
          "text": [
            "Sampling new experiment conditions...\n",
            "Obtaining observations...\n",
            "SIMULATION 0 / DISCOVERY CYCLE 6\n",
            "Fitting models on benchmark state...\n"
          ]
        },
        {
          "name": "stderr",
          "output_type": "stream",
          "text": [
            "100%|██████████| 10/10 [00:00<00:00, 16.70it/s]\n",
            "INFO:autora.theorist.bms.regressor:BMS fitting finished\n",
            "INFO:autora.theorist.bms.regressor:BMS fitting started\n"
          ]
        },
        {
          "name": "stdout",
          "output_type": "stream",
          "text": [
            "Fitting models on working state...\n"
          ]
        },
        {
          "name": "stderr",
          "output_type": "stream",
          "text": [
            "100%|██████████| 10/10 [00:00<00:00, 18.31it/s]\n",
            "INFO:autora.theorist.bms.regressor:BMS fitting finished\n",
            "INFO:autora.theorist.bms.regressor:BMS fitting started\n"
          ]
        },
        {
          "name": "stdout",
          "output_type": "stream",
          "text": [
            "Sampling new experiment conditions...\n",
            "Obtaining observations...\n",
            "SIMULATION 0 / DISCOVERY CYCLE 7\n",
            "Fitting models on benchmark state...\n"
          ]
        },
        {
          "name": "stderr",
          "output_type": "stream",
          "text": [
            "100%|██████████| 10/10 [00:00<00:00, 16.86it/s]\n",
            "INFO:autora.theorist.bms.regressor:BMS fitting finished\n",
            "INFO:autora.theorist.bms.regressor:BMS fitting started\n"
          ]
        },
        {
          "name": "stdout",
          "output_type": "stream",
          "text": [
            "Fitting models on working state...\n"
          ]
        },
        {
          "name": "stderr",
          "output_type": "stream",
          "text": [
            "100%|██████████| 10/10 [00:00<00:00, 15.76it/s]\n",
            "INFO:autora.theorist.bms.regressor:BMS fitting finished\n",
            "INFO:autora.theorist.bms.regressor:BMS fitting started\n"
          ]
        },
        {
          "name": "stdout",
          "output_type": "stream",
          "text": [
            "Sampling new experiment conditions...\n",
            "Obtaining observations...\n",
            "SIMULATION 0 / DISCOVERY CYCLE 8\n",
            "Fitting models on benchmark state...\n"
          ]
        },
        {
          "name": "stderr",
          "output_type": "stream",
          "text": [
            "100%|██████████| 10/10 [00:00<00:00, 14.46it/s]\n",
            "INFO:autora.theorist.bms.regressor:BMS fitting finished\n",
            "INFO:autora.theorist.bms.regressor:BMS fitting started\n"
          ]
        },
        {
          "name": "stdout",
          "output_type": "stream",
          "text": [
            "Fitting models on working state...\n"
          ]
        },
        {
          "name": "stderr",
          "output_type": "stream",
          "text": [
            "100%|██████████| 10/10 [00:00<00:00, 16.47it/s]\n",
            "INFO:autora.theorist.bms.regressor:BMS fitting finished\n",
            "INFO:autora.theorist.bms.regressor:BMS fitting started\n"
          ]
        },
        {
          "name": "stdout",
          "output_type": "stream",
          "text": [
            "Sampling new experiment conditions...\n",
            "Obtaining observations...\n",
            "SIMULATION 0 / DISCOVERY CYCLE 9\n",
            "Fitting models on benchmark state...\n"
          ]
        },
        {
          "name": "stderr",
          "output_type": "stream",
          "text": [
            "100%|██████████| 10/10 [00:00<00:00, 16.45it/s]\n",
            "INFO:autora.theorist.bms.regressor:BMS fitting finished\n",
            "INFO:autora.theorist.bms.regressor:BMS fitting started\n"
          ]
        },
        {
          "name": "stdout",
          "output_type": "stream",
          "text": [
            "Fitting models on working state...\n"
          ]
        },
        {
          "name": "stderr",
          "output_type": "stream",
          "text": [
            "100%|██████████| 10/10 [00:00<00:00, 15.07it/s]\n",
            "INFO:autora.theorist.bms.regressor:BMS fitting finished\n",
            "INFO:autora.theorist.bms.regressor:BMS fitting started\n"
          ]
        },
        {
          "name": "stdout",
          "output_type": "stream",
          "text": [
            "Sampling new experiment conditions...\n",
            "Obtaining observations...\n",
            "SIMULATION 0 / DISCOVERY CYCLE 10\n",
            "Fitting models on benchmark state...\n"
          ]
        },
        {
          "name": "stderr",
          "output_type": "stream",
          "text": [
            "100%|██████████| 10/10 [00:00<00:00, 17.93it/s]\n",
            "INFO:autora.theorist.bms.regressor:BMS fitting finished\n",
            "INFO:autora.theorist.bms.regressor:BMS fitting started\n"
          ]
        },
        {
          "name": "stdout",
          "output_type": "stream",
          "text": [
            "Fitting models on working state...\n"
          ]
        },
        {
          "name": "stderr",
          "output_type": "stream",
          "text": [
            "100%|██████████| 10/10 [00:00<00:00, 16.87it/s]\n",
            "INFO:autora.theorist.bms.regressor:BMS fitting finished\n",
            "INFO:autora.theorist.bms.regressor:BMS fitting started\n"
          ]
        },
        {
          "name": "stdout",
          "output_type": "stream",
          "text": [
            "Sampling new experiment conditions...\n",
            "Obtaining observations...\n",
            "SIMULATION 0 / DISCOVERY CYCLE 11\n",
            "Fitting models on benchmark state...\n"
          ]
        },
        {
          "name": "stderr",
          "output_type": "stream",
          "text": [
            "100%|██████████| 10/10 [00:00<00:00, 16.86it/s]\n",
            "INFO:autora.theorist.bms.regressor:BMS fitting finished\n",
            "INFO:autora.theorist.bms.regressor:BMS fitting started\n"
          ]
        },
        {
          "name": "stdout",
          "output_type": "stream",
          "text": [
            "Fitting models on working state...\n"
          ]
        },
        {
          "name": "stderr",
          "output_type": "stream",
          "text": [
            "100%|██████████| 10/10 [00:00<00:00, 16.76it/s]\n",
            "INFO:autora.theorist.bms.regressor:BMS fitting finished\n",
            "INFO:autora.theorist.bms.regressor:BMS fitting started\n"
          ]
        },
        {
          "name": "stdout",
          "output_type": "stream",
          "text": [
            "Sampling new experiment conditions...\n",
            "Obtaining observations...\n",
            "SIMULATION 0 / DISCOVERY CYCLE 12\n",
            "Fitting models on benchmark state...\n"
          ]
        },
        {
          "name": "stderr",
          "output_type": "stream",
          "text": [
            "100%|██████████| 10/10 [00:00<00:00, 15.00it/s]\n",
            "INFO:autora.theorist.bms.regressor:BMS fitting finished\n",
            "INFO:autora.theorist.bms.regressor:BMS fitting started\n"
          ]
        },
        {
          "name": "stdout",
          "output_type": "stream",
          "text": [
            "Fitting models on working state...\n"
          ]
        },
        {
          "name": "stderr",
          "output_type": "stream",
          "text": [
            "100%|██████████| 10/10 [00:00<00:00, 13.68it/s]\n",
            "INFO:autora.theorist.bms.regressor:BMS fitting finished\n",
            "INFO:autora.theorist.bms.regressor:BMS fitting started\n"
          ]
        },
        {
          "name": "stdout",
          "output_type": "stream",
          "text": [
            "Sampling new experiment conditions...\n",
            "Obtaining observations...\n",
            "SIMULATION 0 / DISCOVERY CYCLE 13\n",
            "Fitting models on benchmark state...\n"
          ]
        },
        {
          "name": "stderr",
          "output_type": "stream",
          "text": [
            "100%|██████████| 10/10 [00:00<00:00, 17.11it/s]\n",
            "INFO:autora.theorist.bms.regressor:BMS fitting finished\n",
            "INFO:autora.theorist.bms.regressor:BMS fitting started\n"
          ]
        },
        {
          "name": "stdout",
          "output_type": "stream",
          "text": [
            "Fitting models on working state...\n"
          ]
        },
        {
          "name": "stderr",
          "output_type": "stream",
          "text": [
            "100%|██████████| 10/10 [00:00<00:00, 15.61it/s]\n",
            "INFO:autora.theorist.bms.regressor:BMS fitting finished\n",
            "INFO:autora.theorist.bms.regressor:BMS fitting started\n"
          ]
        },
        {
          "name": "stdout",
          "output_type": "stream",
          "text": [
            "Sampling new experiment conditions...\n",
            "Obtaining observations...\n",
            "SIMULATION 0 / DISCOVERY CYCLE 14\n",
            "Fitting models on benchmark state...\n"
          ]
        },
        {
          "name": "stderr",
          "output_type": "stream",
          "text": [
            "100%|██████████| 10/10 [00:00<00:00, 15.42it/s]\n",
            "INFO:autora.theorist.bms.regressor:BMS fitting finished\n",
            "INFO:autora.theorist.bms.regressor:BMS fitting started\n"
          ]
        },
        {
          "name": "stdout",
          "output_type": "stream",
          "text": [
            "Fitting models on working state...\n"
          ]
        },
        {
          "name": "stderr",
          "output_type": "stream",
          "text": [
            "100%|██████████| 10/10 [00:00<00:00, 14.71it/s]\n",
            "INFO:autora.theorist.bms.regressor:BMS fitting finished\n",
            "INFO:autora.theorist.bms.regressor:BMS fitting started\n"
          ]
        },
        {
          "name": "stdout",
          "output_type": "stream",
          "text": [
            "Sampling new experiment conditions...\n",
            "Obtaining observations...\n",
            "SIMULATION 0 / DISCOVERY CYCLE 15\n",
            "Fitting models on benchmark state...\n"
          ]
        },
        {
          "name": "stderr",
          "output_type": "stream",
          "text": [
            "100%|██████████| 10/10 [00:00<00:00, 16.66it/s]\n",
            "INFO:autora.theorist.bms.regressor:BMS fitting finished\n",
            "INFO:autora.theorist.bms.regressor:BMS fitting started\n"
          ]
        },
        {
          "name": "stdout",
          "output_type": "stream",
          "text": [
            "Fitting models on working state...\n"
          ]
        },
        {
          "name": "stderr",
          "output_type": "stream",
          "text": [
            "100%|██████████| 10/10 [00:00<00:00, 17.81it/s]\n",
            "INFO:autora.theorist.bms.regressor:BMS fitting finished\n",
            "INFO:autora.theorist.bms.regressor:BMS fitting started\n"
          ]
        },
        {
          "name": "stdout",
          "output_type": "stream",
          "text": [
            "Sampling new experiment conditions...\n",
            "Obtaining observations...\n",
            "SIMULATION 0 / DISCOVERY CYCLE 16\n",
            "Fitting models on benchmark state...\n"
          ]
        },
        {
          "name": "stderr",
          "output_type": "stream",
          "text": [
            "100%|██████████| 10/10 [00:00<00:00, 14.60it/s]\n",
            "INFO:autora.theorist.bms.regressor:BMS fitting finished\n",
            "INFO:autora.theorist.bms.regressor:BMS fitting started\n"
          ]
        },
        {
          "name": "stdout",
          "output_type": "stream",
          "text": [
            "Fitting models on working state...\n"
          ]
        },
        {
          "name": "stderr",
          "output_type": "stream",
          "text": [
            "100%|██████████| 10/10 [00:00<00:00, 11.64it/s]\n",
            "INFO:autora.theorist.bms.regressor:BMS fitting finished\n",
            "INFO:autora.theorist.bms.regressor:BMS fitting started\n"
          ]
        },
        {
          "name": "stdout",
          "output_type": "stream",
          "text": [
            "Sampling new experiment conditions...\n",
            "Obtaining observations...\n",
            "SIMULATION 0 / DISCOVERY CYCLE 17\n",
            "Fitting models on benchmark state...\n"
          ]
        },
        {
          "name": "stderr",
          "output_type": "stream",
          "text": [
            "100%|██████████| 10/10 [00:00<00:00, 16.07it/s]\n",
            "INFO:autora.theorist.bms.regressor:BMS fitting finished\n",
            "INFO:autora.theorist.bms.regressor:BMS fitting started\n"
          ]
        },
        {
          "name": "stdout",
          "output_type": "stream",
          "text": [
            "Fitting models on working state...\n"
          ]
        },
        {
          "name": "stderr",
          "output_type": "stream",
          "text": [
            "100%|██████████| 10/10 [00:00<00:00, 17.19it/s]\n",
            "INFO:autora.theorist.bms.regressor:BMS fitting finished\n",
            "INFO:autora.theorist.bms.regressor:BMS fitting started\n"
          ]
        },
        {
          "name": "stdout",
          "output_type": "stream",
          "text": [
            "Sampling new experiment conditions...\n",
            "Obtaining observations...\n",
            "SIMULATION 0 / DISCOVERY CYCLE 18\n",
            "Fitting models on benchmark state...\n"
          ]
        },
        {
          "name": "stderr",
          "output_type": "stream",
          "text": [
            "100%|██████████| 10/10 [00:00<00:00, 13.00it/s]\n",
            "INFO:autora.theorist.bms.regressor:BMS fitting finished\n",
            "INFO:autora.theorist.bms.regressor:BMS fitting started\n"
          ]
        },
        {
          "name": "stdout",
          "output_type": "stream",
          "text": [
            "Fitting models on working state...\n"
          ]
        },
        {
          "name": "stderr",
          "output_type": "stream",
          "text": [
            "100%|██████████| 10/10 [00:00<00:00, 13.80it/s]\n",
            "INFO:autora.theorist.bms.regressor:BMS fitting finished\n",
            "INFO:autora.theorist.bms.regressor:BMS fitting started\n"
          ]
        },
        {
          "name": "stdout",
          "output_type": "stream",
          "text": [
            "Sampling new experiment conditions...\n",
            "Obtaining observations...\n",
            "SIMULATION 0 / DISCOVERY CYCLE 19\n",
            "Fitting models on benchmark state...\n"
          ]
        },
        {
          "name": "stderr",
          "output_type": "stream",
          "text": [
            "100%|██████████| 10/10 [00:00<00:00, 15.46it/s]\n",
            "INFO:autora.theorist.bms.regressor:BMS fitting finished\n",
            "INFO:autora.theorist.bms.regressor:BMS fitting started\n"
          ]
        },
        {
          "name": "stdout",
          "output_type": "stream",
          "text": [
            "Fitting models on working state...\n"
          ]
        },
        {
          "name": "stderr",
          "output_type": "stream",
          "text": [
            "100%|██████████| 10/10 [00:00<00:00, 15.51it/s]\n",
            "INFO:autora.theorist.bms.regressor:BMS fitting finished\n",
            "INFO:autora.theorist.bms.regressor:BMS fitting started\n"
          ]
        },
        {
          "name": "stdout",
          "output_type": "stream",
          "text": [
            "Sampling new experiment conditions...\n",
            "Obtaining observations...\n",
            "SIMULATION 1 / DISCOVERY CYCLE 0\n",
            "Fitting models on benchmark state...\n"
          ]
        },
        {
          "name": "stderr",
          "output_type": "stream",
          "text": [
            "100%|██████████| 10/10 [00:00<00:00, 17.84it/s]\n",
            "INFO:autora.theorist.bms.regressor:BMS fitting finished\n",
            "INFO:autora.theorist.bms.regressor:BMS fitting started\n"
          ]
        },
        {
          "name": "stdout",
          "output_type": "stream",
          "text": [
            "Fitting models on working state...\n"
          ]
        },
        {
          "name": "stderr",
          "output_type": "stream",
          "text": [
            "100%|██████████| 10/10 [00:00<00:00, 18.63it/s]\n",
            "INFO:autora.theorist.bms.regressor:BMS fitting finished\n",
            "INFO:autora.theorist.bms.regressor:BMS fitting started\n"
          ]
        },
        {
          "name": "stdout",
          "output_type": "stream",
          "text": [
            "Sampling new experiment conditions...\n",
            "Obtaining observations...\n",
            "SIMULATION 1 / DISCOVERY CYCLE 1\n",
            "Fitting models on benchmark state...\n"
          ]
        },
        {
          "name": "stderr",
          "output_type": "stream",
          "text": [
            "100%|██████████| 10/10 [00:00<00:00, 15.90it/s]\n",
            "INFO:autora.theorist.bms.regressor:BMS fitting finished\n",
            "INFO:autora.theorist.bms.regressor:BMS fitting started\n"
          ]
        },
        {
          "name": "stdout",
          "output_type": "stream",
          "text": [
            "Fitting models on working state...\n"
          ]
        },
        {
          "name": "stderr",
          "output_type": "stream",
          "text": [
            "100%|██████████| 10/10 [00:00<00:00, 16.27it/s]\n",
            "INFO:autora.theorist.bms.regressor:BMS fitting finished\n",
            "INFO:autora.theorist.bms.regressor:BMS fitting started\n"
          ]
        },
        {
          "name": "stdout",
          "output_type": "stream",
          "text": [
            "Sampling new experiment conditions...\n",
            "Obtaining observations...\n",
            "SIMULATION 1 / DISCOVERY CYCLE 2\n",
            "Fitting models on benchmark state...\n"
          ]
        },
        {
          "name": "stderr",
          "output_type": "stream",
          "text": [
            "100%|██████████| 10/10 [00:00<00:00, 17.17it/s]\n",
            "INFO:autora.theorist.bms.regressor:BMS fitting finished\n",
            "INFO:autora.theorist.bms.regressor:BMS fitting started\n"
          ]
        },
        {
          "name": "stdout",
          "output_type": "stream",
          "text": [
            "Fitting models on working state...\n"
          ]
        },
        {
          "name": "stderr",
          "output_type": "stream",
          "text": [
            "100%|██████████| 10/10 [00:00<00:00, 17.48it/s]\n",
            "INFO:autora.theorist.bms.regressor:BMS fitting finished\n",
            "INFO:autora.theorist.bms.regressor:BMS fitting started\n"
          ]
        },
        {
          "name": "stdout",
          "output_type": "stream",
          "text": [
            "Sampling new experiment conditions...\n",
            "Obtaining observations...\n",
            "SIMULATION 1 / DISCOVERY CYCLE 3\n",
            "Fitting models on benchmark state...\n"
          ]
        },
        {
          "name": "stderr",
          "output_type": "stream",
          "text": [
            "100%|██████████| 10/10 [00:00<00:00, 15.45it/s]\n",
            "INFO:autora.theorist.bms.regressor:BMS fitting finished\n",
            "INFO:autora.theorist.bms.regressor:BMS fitting started\n"
          ]
        },
        {
          "name": "stdout",
          "output_type": "stream",
          "text": [
            "Fitting models on working state...\n"
          ]
        },
        {
          "name": "stderr",
          "output_type": "stream",
          "text": [
            "100%|██████████| 10/10 [00:00<00:00, 15.64it/s]\n",
            "INFO:autora.theorist.bms.regressor:BMS fitting finished\n",
            "INFO:autora.theorist.bms.regressor:BMS fitting started\n"
          ]
        },
        {
          "name": "stdout",
          "output_type": "stream",
          "text": [
            "Sampling new experiment conditions...\n",
            "Obtaining observations...\n",
            "SIMULATION 1 / DISCOVERY CYCLE 4\n",
            "Fitting models on benchmark state...\n"
          ]
        },
        {
          "name": "stderr",
          "output_type": "stream",
          "text": [
            "100%|██████████| 10/10 [00:00<00:00, 16.13it/s]\n",
            "INFO:autora.theorist.bms.regressor:BMS fitting finished\n",
            "INFO:autora.theorist.bms.regressor:BMS fitting started\n"
          ]
        },
        {
          "name": "stdout",
          "output_type": "stream",
          "text": [
            "Fitting models on working state...\n"
          ]
        },
        {
          "name": "stderr",
          "output_type": "stream",
          "text": [
            "100%|██████████| 10/10 [00:00<00:00, 15.69it/s]\n",
            "INFO:autora.theorist.bms.regressor:BMS fitting finished\n",
            "INFO:autora.theorist.bms.regressor:BMS fitting started\n"
          ]
        },
        {
          "name": "stdout",
          "output_type": "stream",
          "text": [
            "Sampling new experiment conditions...\n",
            "Obtaining observations...\n",
            "SIMULATION 1 / DISCOVERY CYCLE 5\n",
            "Fitting models on benchmark state...\n"
          ]
        },
        {
          "name": "stderr",
          "output_type": "stream",
          "text": [
            "100%|██████████| 10/10 [00:00<00:00, 18.31it/s]\n",
            "INFO:autora.theorist.bms.regressor:BMS fitting finished\n",
            "INFO:autora.theorist.bms.regressor:BMS fitting started\n"
          ]
        },
        {
          "name": "stdout",
          "output_type": "stream",
          "text": [
            "Fitting models on working state...\n"
          ]
        },
        {
          "name": "stderr",
          "output_type": "stream",
          "text": [
            "100%|██████████| 10/10 [00:00<00:00, 13.98it/s]\n",
            "INFO:autora.theorist.bms.regressor:BMS fitting finished\n",
            "INFO:autora.theorist.bms.regressor:BMS fitting started\n"
          ]
        },
        {
          "name": "stdout",
          "output_type": "stream",
          "text": [
            "Sampling new experiment conditions...\n",
            "Obtaining observations...\n",
            "SIMULATION 1 / DISCOVERY CYCLE 6\n",
            "Fitting models on benchmark state...\n"
          ]
        },
        {
          "name": "stderr",
          "output_type": "stream",
          "text": [
            "100%|██████████| 10/10 [00:00<00:00, 16.49it/s]\n",
            "INFO:autora.theorist.bms.regressor:BMS fitting finished\n",
            "INFO:autora.theorist.bms.regressor:BMS fitting started\n"
          ]
        },
        {
          "name": "stdout",
          "output_type": "stream",
          "text": [
            "Fitting models on working state...\n"
          ]
        },
        {
          "name": "stderr",
          "output_type": "stream",
          "text": [
            "100%|██████████| 10/10 [00:00<00:00, 16.62it/s]\n",
            "INFO:autora.theorist.bms.regressor:BMS fitting finished\n",
            "INFO:autora.theorist.bms.regressor:BMS fitting started\n"
          ]
        },
        {
          "name": "stdout",
          "output_type": "stream",
          "text": [
            "Sampling new experiment conditions...\n",
            "Obtaining observations...\n",
            "SIMULATION 1 / DISCOVERY CYCLE 7\n",
            "Fitting models on benchmark state...\n"
          ]
        },
        {
          "name": "stderr",
          "output_type": "stream",
          "text": [
            "100%|██████████| 10/10 [00:00<00:00, 16.16it/s]\n",
            "INFO:autora.theorist.bms.regressor:BMS fitting finished\n",
            "INFO:autora.theorist.bms.regressor:BMS fitting started\n"
          ]
        },
        {
          "name": "stdout",
          "output_type": "stream",
          "text": [
            "Fitting models on working state...\n"
          ]
        },
        {
          "name": "stderr",
          "output_type": "stream",
          "text": [
            "100%|██████████| 10/10 [00:00<00:00, 17.11it/s]\n",
            "INFO:autora.theorist.bms.regressor:BMS fitting finished\n",
            "INFO:autora.theorist.bms.regressor:BMS fitting started\n"
          ]
        },
        {
          "name": "stdout",
          "output_type": "stream",
          "text": [
            "Sampling new experiment conditions...\n",
            "Obtaining observations...\n",
            "SIMULATION 1 / DISCOVERY CYCLE 8\n",
            "Fitting models on benchmark state...\n"
          ]
        },
        {
          "name": "stderr",
          "output_type": "stream",
          "text": [
            "100%|██████████| 10/10 [00:00<00:00, 16.18it/s]\n",
            "INFO:autora.theorist.bms.regressor:BMS fitting finished\n",
            "INFO:autora.theorist.bms.regressor:BMS fitting started\n"
          ]
        },
        {
          "name": "stdout",
          "output_type": "stream",
          "text": [
            "Fitting models on working state...\n"
          ]
        },
        {
          "name": "stderr",
          "output_type": "stream",
          "text": [
            "100%|██████████| 10/10 [00:00<00:00, 16.46it/s]\n",
            "INFO:autora.theorist.bms.regressor:BMS fitting finished\n",
            "INFO:autora.theorist.bms.regressor:BMS fitting started\n"
          ]
        },
        {
          "name": "stdout",
          "output_type": "stream",
          "text": [
            "Sampling new experiment conditions...\n",
            "Obtaining observations...\n",
            "SIMULATION 1 / DISCOVERY CYCLE 9\n",
            "Fitting models on benchmark state...\n"
          ]
        },
        {
          "name": "stderr",
          "output_type": "stream",
          "text": [
            "100%|██████████| 10/10 [00:00<00:00, 10.63it/s]\n",
            "INFO:autora.theorist.bms.regressor:BMS fitting finished\n",
            "INFO:autora.theorist.bms.regressor:BMS fitting started\n"
          ]
        },
        {
          "name": "stdout",
          "output_type": "stream",
          "text": [
            "Fitting models on working state...\n"
          ]
        },
        {
          "name": "stderr",
          "output_type": "stream",
          "text": [
            "100%|██████████| 10/10 [00:00<00:00, 15.65it/s]\n",
            "INFO:autora.theorist.bms.regressor:BMS fitting finished\n",
            "INFO:autora.theorist.bms.regressor:BMS fitting started\n"
          ]
        },
        {
          "name": "stdout",
          "output_type": "stream",
          "text": [
            "Sampling new experiment conditions...\n",
            "Obtaining observations...\n",
            "SIMULATION 1 / DISCOVERY CYCLE 10\n",
            "Fitting models on benchmark state...\n"
          ]
        },
        {
          "name": "stderr",
          "output_type": "stream",
          "text": [
            "100%|██████████| 10/10 [00:00<00:00, 15.68it/s]\n",
            "INFO:autora.theorist.bms.regressor:BMS fitting finished\n",
            "INFO:autora.theorist.bms.regressor:BMS fitting started\n"
          ]
        },
        {
          "name": "stdout",
          "output_type": "stream",
          "text": [
            "Fitting models on working state...\n"
          ]
        },
        {
          "name": "stderr",
          "output_type": "stream",
          "text": [
            "100%|██████████| 10/10 [00:00<00:00, 14.81it/s]\n",
            "INFO:autora.theorist.bms.regressor:BMS fitting finished\n",
            "INFO:autora.theorist.bms.regressor:BMS fitting started\n"
          ]
        },
        {
          "name": "stdout",
          "output_type": "stream",
          "text": [
            "Sampling new experiment conditions...\n",
            "Obtaining observations...\n",
            "SIMULATION 1 / DISCOVERY CYCLE 11\n",
            "Fitting models on benchmark state...\n"
          ]
        },
        {
          "name": "stderr",
          "output_type": "stream",
          "text": [
            "100%|██████████| 10/10 [00:00<00:00, 14.72it/s]\n",
            "INFO:autora.theorist.bms.regressor:BMS fitting finished\n",
            "INFO:autora.theorist.bms.regressor:BMS fitting started\n"
          ]
        },
        {
          "name": "stdout",
          "output_type": "stream",
          "text": [
            "Fitting models on working state...\n"
          ]
        },
        {
          "name": "stderr",
          "output_type": "stream",
          "text": [
            "100%|██████████| 10/10 [00:00<00:00, 15.55it/s]\n",
            "INFO:autora.theorist.bms.regressor:BMS fitting finished\n",
            "INFO:autora.theorist.bms.regressor:BMS fitting started\n"
          ]
        },
        {
          "name": "stdout",
          "output_type": "stream",
          "text": [
            "Sampling new experiment conditions...\n",
            "Obtaining observations...\n",
            "SIMULATION 1 / DISCOVERY CYCLE 12\n",
            "Fitting models on benchmark state...\n"
          ]
        },
        {
          "name": "stderr",
          "output_type": "stream",
          "text": [
            "100%|██████████| 10/10 [00:00<00:00, 14.49it/s]\n",
            "INFO:autora.theorist.bms.regressor:BMS fitting finished\n",
            "INFO:autora.theorist.bms.regressor:BMS fitting started\n"
          ]
        },
        {
          "name": "stdout",
          "output_type": "stream",
          "text": [
            "Fitting models on working state...\n"
          ]
        },
        {
          "name": "stderr",
          "output_type": "stream",
          "text": [
            "100%|██████████| 10/10 [00:00<00:00, 14.64it/s]\n",
            "INFO:autora.theorist.bms.regressor:BMS fitting finished\n",
            "INFO:autora.theorist.bms.regressor:BMS fitting started\n"
          ]
        },
        {
          "name": "stdout",
          "output_type": "stream",
          "text": [
            "Sampling new experiment conditions...\n",
            "Obtaining observations...\n",
            "SIMULATION 1 / DISCOVERY CYCLE 13\n",
            "Fitting models on benchmark state...\n"
          ]
        },
        {
          "name": "stderr",
          "output_type": "stream",
          "text": [
            "100%|██████████| 10/10 [00:00<00:00, 14.96it/s]\n",
            "INFO:autora.theorist.bms.regressor:BMS fitting finished\n",
            "INFO:autora.theorist.bms.regressor:BMS fitting started\n"
          ]
        },
        {
          "name": "stdout",
          "output_type": "stream",
          "text": [
            "Fitting models on working state...\n"
          ]
        },
        {
          "name": "stderr",
          "output_type": "stream",
          "text": [
            "100%|██████████| 10/10 [00:00<00:00, 14.37it/s]\n",
            "INFO:autora.theorist.bms.regressor:BMS fitting finished\n",
            "INFO:autora.theorist.bms.regressor:BMS fitting started\n"
          ]
        },
        {
          "name": "stdout",
          "output_type": "stream",
          "text": [
            "Sampling new experiment conditions...\n",
            "Obtaining observations...\n",
            "SIMULATION 1 / DISCOVERY CYCLE 14\n",
            "Fitting models on benchmark state...\n"
          ]
        },
        {
          "name": "stderr",
          "output_type": "stream",
          "text": [
            "100%|██████████| 10/10 [00:00<00:00, 13.22it/s]\n",
            "INFO:autora.theorist.bms.regressor:BMS fitting finished\n",
            "INFO:autora.theorist.bms.regressor:BMS fitting started\n"
          ]
        },
        {
          "name": "stdout",
          "output_type": "stream",
          "text": [
            "Fitting models on working state...\n"
          ]
        },
        {
          "name": "stderr",
          "output_type": "stream",
          "text": [
            "100%|██████████| 10/10 [00:00<00:00, 15.45it/s]\n",
            "INFO:autora.theorist.bms.regressor:BMS fitting finished\n",
            "INFO:autora.theorist.bms.regressor:BMS fitting started\n"
          ]
        },
        {
          "name": "stdout",
          "output_type": "stream",
          "text": [
            "Sampling new experiment conditions...\n",
            "Obtaining observations...\n",
            "SIMULATION 1 / DISCOVERY CYCLE 15\n",
            "Fitting models on benchmark state...\n"
          ]
        },
        {
          "name": "stderr",
          "output_type": "stream",
          "text": [
            "100%|██████████| 10/10 [00:00<00:00, 13.55it/s]\n",
            "INFO:autora.theorist.bms.regressor:BMS fitting finished\n",
            "INFO:autora.theorist.bms.regressor:BMS fitting started\n"
          ]
        },
        {
          "name": "stdout",
          "output_type": "stream",
          "text": [
            "Fitting models on working state...\n"
          ]
        },
        {
          "name": "stderr",
          "output_type": "stream",
          "text": [
            "100%|██████████| 10/10 [00:00<00:00, 13.69it/s]\n",
            "INFO:autora.theorist.bms.regressor:BMS fitting finished\n",
            "INFO:autora.theorist.bms.regressor:BMS fitting started\n"
          ]
        },
        {
          "name": "stdout",
          "output_type": "stream",
          "text": [
            "Sampling new experiment conditions...\n",
            "Obtaining observations...\n",
            "SIMULATION 1 / DISCOVERY CYCLE 16\n",
            "Fitting models on benchmark state...\n"
          ]
        },
        {
          "name": "stderr",
          "output_type": "stream",
          "text": [
            "100%|██████████| 10/10 [00:00<00:00, 15.09it/s]\n",
            "INFO:autora.theorist.bms.regressor:BMS fitting finished\n",
            "INFO:autora.theorist.bms.regressor:BMS fitting started\n"
          ]
        },
        {
          "name": "stdout",
          "output_type": "stream",
          "text": [
            "Fitting models on working state...\n"
          ]
        },
        {
          "name": "stderr",
          "output_type": "stream",
          "text": [
            "100%|██████████| 10/10 [00:00<00:00, 14.51it/s]\n",
            "INFO:autora.theorist.bms.regressor:BMS fitting finished\n",
            "INFO:autora.theorist.bms.regressor:BMS fitting started\n"
          ]
        },
        {
          "name": "stdout",
          "output_type": "stream",
          "text": [
            "Sampling new experiment conditions...\n",
            "Obtaining observations...\n",
            "SIMULATION 1 / DISCOVERY CYCLE 17\n",
            "Fitting models on benchmark state...\n"
          ]
        },
        {
          "name": "stderr",
          "output_type": "stream",
          "text": [
            "100%|██████████| 10/10 [00:00<00:00, 13.36it/s]\n",
            "INFO:autora.theorist.bms.regressor:BMS fitting finished\n",
            "INFO:autora.theorist.bms.regressor:BMS fitting started\n"
          ]
        },
        {
          "name": "stdout",
          "output_type": "stream",
          "text": [
            "Fitting models on working state...\n"
          ]
        },
        {
          "name": "stderr",
          "output_type": "stream",
          "text": [
            "100%|██████████| 10/10 [00:00<00:00, 17.63it/s]\n",
            "INFO:autora.theorist.bms.regressor:BMS fitting finished\n",
            "INFO:autora.theorist.bms.regressor:BMS fitting started\n"
          ]
        },
        {
          "name": "stdout",
          "output_type": "stream",
          "text": [
            "Sampling new experiment conditions...\n",
            "Obtaining observations...\n",
            "SIMULATION 1 / DISCOVERY CYCLE 18\n",
            "Fitting models on benchmark state...\n"
          ]
        },
        {
          "name": "stderr",
          "output_type": "stream",
          "text": [
            "100%|██████████| 10/10 [00:00<00:00, 14.45it/s]\n",
            "INFO:autora.theorist.bms.regressor:BMS fitting finished\n",
            "INFO:autora.theorist.bms.regressor:BMS fitting started\n"
          ]
        },
        {
          "name": "stdout",
          "output_type": "stream",
          "text": [
            "Fitting models on working state...\n"
          ]
        },
        {
          "name": "stderr",
          "output_type": "stream",
          "text": [
            "100%|██████████| 10/10 [00:00<00:00, 15.82it/s]\n",
            "INFO:autora.theorist.bms.regressor:BMS fitting finished\n",
            "INFO:autora.theorist.bms.regressor:BMS fitting started\n"
          ]
        },
        {
          "name": "stdout",
          "output_type": "stream",
          "text": [
            "Sampling new experiment conditions...\n",
            "Obtaining observations...\n",
            "SIMULATION 1 / DISCOVERY CYCLE 19\n",
            "Fitting models on benchmark state...\n"
          ]
        },
        {
          "name": "stderr",
          "output_type": "stream",
          "text": [
            "100%|██████████| 10/10 [00:00<00:00, 14.32it/s]\n",
            "INFO:autora.theorist.bms.regressor:BMS fitting finished\n",
            "INFO:autora.theorist.bms.regressor:BMS fitting started\n"
          ]
        },
        {
          "name": "stdout",
          "output_type": "stream",
          "text": [
            "Fitting models on working state...\n"
          ]
        },
        {
          "name": "stderr",
          "output_type": "stream",
          "text": [
            "100%|██████████| 10/10 [00:01<00:00,  9.77it/s]\n",
            "INFO:autora.theorist.bms.regressor:BMS fitting finished\n",
            "INFO:autora.theorist.bms.regressor:BMS fitting started\n"
          ]
        },
        {
          "name": "stdout",
          "output_type": "stream",
          "text": [
            "Sampling new experiment conditions...\n",
            "Obtaining observations...\n",
            "SIMULATION 2 / DISCOVERY CYCLE 0\n",
            "Fitting models on benchmark state...\n"
          ]
        },
        {
          "name": "stderr",
          "output_type": "stream",
          "text": [
            "100%|██████████| 10/10 [00:00<00:00, 14.56it/s]\n",
            "INFO:autora.theorist.bms.regressor:BMS fitting finished\n",
            "INFO:autora.theorist.bms.regressor:BMS fitting started\n"
          ]
        },
        {
          "name": "stdout",
          "output_type": "stream",
          "text": [
            "Fitting models on working state...\n"
          ]
        },
        {
          "name": "stderr",
          "output_type": "stream",
          "text": [
            "100%|██████████| 10/10 [00:00<00:00, 19.56it/s]\n",
            "INFO:autora.theorist.bms.regressor:BMS fitting finished\n",
            "INFO:autora.theorist.bms.regressor:BMS fitting started\n"
          ]
        },
        {
          "name": "stdout",
          "output_type": "stream",
          "text": [
            "Sampling new experiment conditions...\n",
            "Obtaining observations...\n",
            "SIMULATION 2 / DISCOVERY CYCLE 1\n",
            "Fitting models on benchmark state...\n"
          ]
        },
        {
          "name": "stderr",
          "output_type": "stream",
          "text": [
            "100%|██████████| 10/10 [00:00<00:00, 18.61it/s]\n",
            "INFO:autora.theorist.bms.regressor:BMS fitting finished\n",
            "INFO:autora.theorist.bms.regressor:BMS fitting started\n"
          ]
        },
        {
          "name": "stdout",
          "output_type": "stream",
          "text": [
            "Fitting models on working state...\n"
          ]
        },
        {
          "name": "stderr",
          "output_type": "stream",
          "text": [
            "100%|██████████| 10/10 [00:00<00:00, 17.54it/s]\n",
            "INFO:autora.theorist.bms.regressor:BMS fitting finished\n",
            "INFO:autora.theorist.bms.regressor:BMS fitting started\n"
          ]
        },
        {
          "name": "stdout",
          "output_type": "stream",
          "text": [
            "Sampling new experiment conditions...\n",
            "Obtaining observations...\n",
            "SIMULATION 2 / DISCOVERY CYCLE 2\n",
            "Fitting models on benchmark state...\n"
          ]
        },
        {
          "name": "stderr",
          "output_type": "stream",
          "text": [
            "100%|██████████| 10/10 [00:00<00:00, 17.24it/s]\n",
            "INFO:autora.theorist.bms.regressor:BMS fitting finished\n",
            "INFO:autora.theorist.bms.regressor:BMS fitting started\n"
          ]
        },
        {
          "name": "stdout",
          "output_type": "stream",
          "text": [
            "Fitting models on working state...\n"
          ]
        },
        {
          "name": "stderr",
          "output_type": "stream",
          "text": [
            "100%|██████████| 10/10 [00:00<00:00, 19.13it/s]\n",
            "INFO:autora.theorist.bms.regressor:BMS fitting finished\n",
            "INFO:autora.theorist.bms.regressor:BMS fitting started\n"
          ]
        },
        {
          "name": "stdout",
          "output_type": "stream",
          "text": [
            "Sampling new experiment conditions...\n",
            "Obtaining observations...\n",
            "SIMULATION 2 / DISCOVERY CYCLE 3\n",
            "Fitting models on benchmark state...\n"
          ]
        },
        {
          "name": "stderr",
          "output_type": "stream",
          "text": [
            "100%|██████████| 10/10 [00:00<00:00, 16.85it/s]\n",
            "INFO:autora.theorist.bms.regressor:BMS fitting finished\n",
            "INFO:autora.theorist.bms.regressor:BMS fitting started\n"
          ]
        },
        {
          "name": "stdout",
          "output_type": "stream",
          "text": [
            "Fitting models on working state...\n"
          ]
        },
        {
          "name": "stderr",
          "output_type": "stream",
          "text": [
            "100%|██████████| 10/10 [00:00<00:00, 14.65it/s]\n",
            "INFO:autora.theorist.bms.regressor:BMS fitting finished\n",
            "INFO:autora.theorist.bms.regressor:BMS fitting started\n"
          ]
        },
        {
          "name": "stdout",
          "output_type": "stream",
          "text": [
            "Sampling new experiment conditions...\n",
            "Obtaining observations...\n",
            "SIMULATION 2 / DISCOVERY CYCLE 4\n",
            "Fitting models on benchmark state...\n"
          ]
        },
        {
          "name": "stderr",
          "output_type": "stream",
          "text": [
            "100%|██████████| 10/10 [00:00<00:00, 15.47it/s]\n",
            "INFO:autora.theorist.bms.regressor:BMS fitting finished\n",
            "INFO:autora.theorist.bms.regressor:BMS fitting started\n"
          ]
        },
        {
          "name": "stdout",
          "output_type": "stream",
          "text": [
            "Fitting models on working state...\n"
          ]
        },
        {
          "name": "stderr",
          "output_type": "stream",
          "text": [
            "100%|██████████| 10/10 [00:00<00:00, 15.13it/s]\n",
            "INFO:autora.theorist.bms.regressor:BMS fitting finished\n",
            "INFO:autora.theorist.bms.regressor:BMS fitting started\n"
          ]
        },
        {
          "name": "stdout",
          "output_type": "stream",
          "text": [
            "Sampling new experiment conditions...\n",
            "Obtaining observations...\n",
            "SIMULATION 2 / DISCOVERY CYCLE 5\n",
            "Fitting models on benchmark state...\n"
          ]
        },
        {
          "name": "stderr",
          "output_type": "stream",
          "text": [
            "100%|██████████| 10/10 [00:00<00:00, 15.29it/s]\n",
            "INFO:autora.theorist.bms.regressor:BMS fitting finished\n",
            "INFO:autora.theorist.bms.regressor:BMS fitting started\n"
          ]
        },
        {
          "name": "stdout",
          "output_type": "stream",
          "text": [
            "Fitting models on working state...\n"
          ]
        },
        {
          "name": "stderr",
          "output_type": "stream",
          "text": [
            "100%|██████████| 10/10 [00:00<00:00, 15.34it/s]\n",
            "INFO:autora.theorist.bms.regressor:BMS fitting finished\n",
            "INFO:autora.theorist.bms.regressor:BMS fitting started\n"
          ]
        },
        {
          "name": "stdout",
          "output_type": "stream",
          "text": [
            "Sampling new experiment conditions...\n",
            "Obtaining observations...\n",
            "SIMULATION 2 / DISCOVERY CYCLE 6\n",
            "Fitting models on benchmark state...\n"
          ]
        },
        {
          "name": "stderr",
          "output_type": "stream",
          "text": [
            "100%|██████████| 10/10 [00:00<00:00, 16.24it/s]\n",
            "INFO:autora.theorist.bms.regressor:BMS fitting finished\n",
            "INFO:autora.theorist.bms.regressor:BMS fitting started\n"
          ]
        },
        {
          "name": "stdout",
          "output_type": "stream",
          "text": [
            "Fitting models on working state...\n"
          ]
        },
        {
          "name": "stderr",
          "output_type": "stream",
          "text": [
            "100%|██████████| 10/10 [00:00<00:00, 16.74it/s]\n",
            "INFO:autora.theorist.bms.regressor:BMS fitting finished\n",
            "INFO:autora.theorist.bms.regressor:BMS fitting started\n"
          ]
        },
        {
          "name": "stdout",
          "output_type": "stream",
          "text": [
            "Sampling new experiment conditions...\n",
            "Obtaining observations...\n",
            "SIMULATION 2 / DISCOVERY CYCLE 7\n",
            "Fitting models on benchmark state...\n"
          ]
        },
        {
          "name": "stderr",
          "output_type": "stream",
          "text": [
            "100%|██████████| 10/10 [00:00<00:00, 15.50it/s]\n",
            "INFO:autora.theorist.bms.regressor:BMS fitting finished\n",
            "INFO:autora.theorist.bms.regressor:BMS fitting started\n"
          ]
        },
        {
          "name": "stdout",
          "output_type": "stream",
          "text": [
            "Fitting models on working state...\n"
          ]
        },
        {
          "name": "stderr",
          "output_type": "stream",
          "text": [
            "100%|██████████| 10/10 [00:00<00:00, 15.78it/s]\n",
            "INFO:autora.theorist.bms.regressor:BMS fitting finished\n",
            "INFO:autora.theorist.bms.regressor:BMS fitting started\n"
          ]
        },
        {
          "name": "stdout",
          "output_type": "stream",
          "text": [
            "Sampling new experiment conditions...\n",
            "Obtaining observations...\n",
            "SIMULATION 2 / DISCOVERY CYCLE 8\n",
            "Fitting models on benchmark state...\n"
          ]
        },
        {
          "name": "stderr",
          "output_type": "stream",
          "text": [
            "100%|██████████| 10/10 [00:00<00:00, 16.06it/s]\n",
            "INFO:autora.theorist.bms.regressor:BMS fitting finished\n",
            "INFO:autora.theorist.bms.regressor:BMS fitting started\n"
          ]
        },
        {
          "name": "stdout",
          "output_type": "stream",
          "text": [
            "Fitting models on working state...\n"
          ]
        },
        {
          "name": "stderr",
          "output_type": "stream",
          "text": [
            "100%|██████████| 10/10 [00:00<00:00, 11.65it/s]\n",
            "INFO:autora.theorist.bms.regressor:BMS fitting finished\n",
            "INFO:autora.theorist.bms.regressor:BMS fitting started\n"
          ]
        },
        {
          "name": "stdout",
          "output_type": "stream",
          "text": [
            "Sampling new experiment conditions...\n",
            "Obtaining observations...\n",
            "SIMULATION 2 / DISCOVERY CYCLE 9\n",
            "Fitting models on benchmark state...\n"
          ]
        },
        {
          "name": "stderr",
          "output_type": "stream",
          "text": [
            "100%|██████████| 10/10 [00:00<00:00, 15.22it/s]\n",
            "INFO:autora.theorist.bms.regressor:BMS fitting finished\n",
            "INFO:autora.theorist.bms.regressor:BMS fitting started\n"
          ]
        },
        {
          "name": "stdout",
          "output_type": "stream",
          "text": [
            "Fitting models on working state...\n"
          ]
        },
        {
          "name": "stderr",
          "output_type": "stream",
          "text": [
            "100%|██████████| 10/10 [00:00<00:00, 13.16it/s]\n",
            "INFO:autora.theorist.bms.regressor:BMS fitting finished\n",
            "INFO:autora.theorist.bms.regressor:BMS fitting started\n"
          ]
        },
        {
          "name": "stdout",
          "output_type": "stream",
          "text": [
            "Sampling new experiment conditions...\n",
            "Obtaining observations...\n",
            "SIMULATION 2 / DISCOVERY CYCLE 10\n",
            "Fitting models on benchmark state...\n"
          ]
        },
        {
          "name": "stderr",
          "output_type": "stream",
          "text": [
            "100%|██████████| 10/10 [00:00<00:00, 16.25it/s]\n",
            "INFO:autora.theorist.bms.regressor:BMS fitting finished\n",
            "INFO:autora.theorist.bms.regressor:BMS fitting started\n"
          ]
        },
        {
          "name": "stdout",
          "output_type": "stream",
          "text": [
            "Fitting models on working state...\n"
          ]
        },
        {
          "name": "stderr",
          "output_type": "stream",
          "text": [
            "100%|██████████| 10/10 [00:00<00:00, 16.08it/s]\n",
            "INFO:autora.theorist.bms.regressor:BMS fitting finished\n",
            "INFO:autora.theorist.bms.regressor:BMS fitting started\n"
          ]
        },
        {
          "name": "stdout",
          "output_type": "stream",
          "text": [
            "Sampling new experiment conditions...\n",
            "Obtaining observations...\n",
            "SIMULATION 2 / DISCOVERY CYCLE 11\n",
            "Fitting models on benchmark state...\n"
          ]
        },
        {
          "name": "stderr",
          "output_type": "stream",
          "text": [
            "100%|██████████| 10/10 [00:00<00:00, 12.80it/s]\n",
            "INFO:autora.theorist.bms.regressor:BMS fitting finished\n",
            "INFO:autora.theorist.bms.regressor:BMS fitting started\n"
          ]
        },
        {
          "name": "stdout",
          "output_type": "stream",
          "text": [
            "Fitting models on working state...\n"
          ]
        },
        {
          "name": "stderr",
          "output_type": "stream",
          "text": [
            "100%|██████████| 10/10 [00:00<00:00, 16.09it/s]\n",
            "INFO:autora.theorist.bms.regressor:BMS fitting finished\n",
            "INFO:autora.theorist.bms.regressor:BMS fitting started\n"
          ]
        },
        {
          "name": "stdout",
          "output_type": "stream",
          "text": [
            "Sampling new experiment conditions...\n",
            "Obtaining observations...\n",
            "SIMULATION 2 / DISCOVERY CYCLE 12\n",
            "Fitting models on benchmark state...\n"
          ]
        },
        {
          "name": "stderr",
          "output_type": "stream",
          "text": [
            "100%|██████████| 10/10 [00:00<00:00, 16.49it/s]\n",
            "INFO:autora.theorist.bms.regressor:BMS fitting finished\n",
            "INFO:autora.theorist.bms.regressor:BMS fitting started\n"
          ]
        },
        {
          "name": "stdout",
          "output_type": "stream",
          "text": [
            "Fitting models on working state...\n"
          ]
        },
        {
          "name": "stderr",
          "output_type": "stream",
          "text": [
            "100%|██████████| 10/10 [00:00<00:00, 14.79it/s]\n",
            "INFO:autora.theorist.bms.regressor:BMS fitting finished\n",
            "INFO:autora.theorist.bms.regressor:BMS fitting started\n"
          ]
        },
        {
          "name": "stdout",
          "output_type": "stream",
          "text": [
            "Sampling new experiment conditions...\n",
            "Obtaining observations...\n",
            "SIMULATION 2 / DISCOVERY CYCLE 13\n",
            "Fitting models on benchmark state...\n"
          ]
        },
        {
          "name": "stderr",
          "output_type": "stream",
          "text": [
            "100%|██████████| 10/10 [00:00<00:00, 15.85it/s]\n",
            "INFO:autora.theorist.bms.regressor:BMS fitting finished\n",
            "INFO:autora.theorist.bms.regressor:BMS fitting started\n"
          ]
        },
        {
          "name": "stdout",
          "output_type": "stream",
          "text": [
            "Fitting models on working state...\n"
          ]
        },
        {
          "name": "stderr",
          "output_type": "stream",
          "text": [
            "100%|██████████| 10/10 [00:00<00:00, 16.59it/s]\n",
            "INFO:autora.theorist.bms.regressor:BMS fitting finished\n",
            "INFO:autora.theorist.bms.regressor:BMS fitting started\n"
          ]
        },
        {
          "name": "stdout",
          "output_type": "stream",
          "text": [
            "Sampling new experiment conditions...\n",
            "Obtaining observations...\n",
            "SIMULATION 2 / DISCOVERY CYCLE 14\n",
            "Fitting models on benchmark state...\n"
          ]
        },
        {
          "name": "stderr",
          "output_type": "stream",
          "text": [
            "100%|██████████| 10/10 [00:00<00:00, 15.75it/s]\n",
            "INFO:autora.theorist.bms.regressor:BMS fitting finished\n",
            "INFO:autora.theorist.bms.regressor:BMS fitting started\n"
          ]
        },
        {
          "name": "stdout",
          "output_type": "stream",
          "text": [
            "Fitting models on working state...\n"
          ]
        },
        {
          "name": "stderr",
          "output_type": "stream",
          "text": [
            "100%|██████████| 10/10 [00:00<00:00, 16.13it/s]\n",
            "INFO:autora.theorist.bms.regressor:BMS fitting finished\n",
            "INFO:autora.theorist.bms.regressor:BMS fitting started\n"
          ]
        },
        {
          "name": "stdout",
          "output_type": "stream",
          "text": [
            "Sampling new experiment conditions...\n",
            "Obtaining observations...\n",
            "SIMULATION 2 / DISCOVERY CYCLE 15\n",
            "Fitting models on benchmark state...\n"
          ]
        },
        {
          "name": "stderr",
          "output_type": "stream",
          "text": [
            "100%|██████████| 10/10 [00:00<00:00, 16.69it/s]\n",
            "INFO:autora.theorist.bms.regressor:BMS fitting finished\n",
            "INFO:autora.theorist.bms.regressor:BMS fitting started\n"
          ]
        },
        {
          "name": "stdout",
          "output_type": "stream",
          "text": [
            "Fitting models on working state...\n"
          ]
        },
        {
          "name": "stderr",
          "output_type": "stream",
          "text": [
            "100%|██████████| 10/10 [00:00<00:00, 14.85it/s]\n",
            "INFO:autora.theorist.bms.regressor:BMS fitting finished\n",
            "INFO:autora.theorist.bms.regressor:BMS fitting started\n"
          ]
        },
        {
          "name": "stdout",
          "output_type": "stream",
          "text": [
            "Sampling new experiment conditions...\n",
            "Obtaining observations...\n",
            "SIMULATION 2 / DISCOVERY CYCLE 16\n",
            "Fitting models on benchmark state...\n"
          ]
        },
        {
          "name": "stderr",
          "output_type": "stream",
          "text": [
            "100%|██████████| 10/10 [00:00<00:00, 15.55it/s]\n",
            "INFO:autora.theorist.bms.regressor:BMS fitting finished\n",
            "INFO:autora.theorist.bms.regressor:BMS fitting started\n"
          ]
        },
        {
          "name": "stdout",
          "output_type": "stream",
          "text": [
            "Fitting models on working state...\n"
          ]
        },
        {
          "name": "stderr",
          "output_type": "stream",
          "text": [
            "100%|██████████| 10/10 [00:00<00:00, 14.27it/s]\n",
            "INFO:autora.theorist.bms.regressor:BMS fitting finished\n",
            "INFO:autora.theorist.bms.regressor:BMS fitting started\n"
          ]
        },
        {
          "name": "stdout",
          "output_type": "stream",
          "text": [
            "Sampling new experiment conditions...\n",
            "Obtaining observations...\n",
            "SIMULATION 2 / DISCOVERY CYCLE 17\n",
            "Fitting models on benchmark state...\n"
          ]
        },
        {
          "name": "stderr",
          "output_type": "stream",
          "text": [
            "100%|██████████| 10/10 [00:00<00:00, 16.64it/s]\n",
            "INFO:autora.theorist.bms.regressor:BMS fitting finished\n",
            "INFO:autora.theorist.bms.regressor:BMS fitting started\n"
          ]
        },
        {
          "name": "stdout",
          "output_type": "stream",
          "text": [
            "Fitting models on working state...\n"
          ]
        },
        {
          "name": "stderr",
          "output_type": "stream",
          "text": [
            "100%|██████████| 10/10 [00:00<00:00, 14.13it/s]\n",
            "INFO:autora.theorist.bms.regressor:BMS fitting finished\n",
            "INFO:autora.theorist.bms.regressor:BMS fitting started\n"
          ]
        },
        {
          "name": "stdout",
          "output_type": "stream",
          "text": [
            "Sampling new experiment conditions...\n",
            "Obtaining observations...\n",
            "SIMULATION 2 / DISCOVERY CYCLE 18\n",
            "Fitting models on benchmark state...\n"
          ]
        },
        {
          "name": "stderr",
          "output_type": "stream",
          "text": [
            "100%|██████████| 10/10 [00:00<00:00, 13.84it/s]\n",
            "INFO:autora.theorist.bms.regressor:BMS fitting finished\n",
            "INFO:autora.theorist.bms.regressor:BMS fitting started\n"
          ]
        },
        {
          "name": "stdout",
          "output_type": "stream",
          "text": [
            "Fitting models on working state...\n"
          ]
        },
        {
          "name": "stderr",
          "output_type": "stream",
          "text": [
            "100%|██████████| 10/10 [00:00<00:00, 16.36it/s]\n",
            "INFO:autora.theorist.bms.regressor:BMS fitting finished\n",
            "INFO:autora.theorist.bms.regressor:BMS fitting started\n"
          ]
        },
        {
          "name": "stdout",
          "output_type": "stream",
          "text": [
            "Sampling new experiment conditions...\n",
            "Obtaining observations...\n",
            "SIMULATION 2 / DISCOVERY CYCLE 19\n",
            "Fitting models on benchmark state...\n"
          ]
        },
        {
          "name": "stderr",
          "output_type": "stream",
          "text": [
            "100%|██████████| 10/10 [00:00<00:00, 16.19it/s]\n",
            "INFO:autora.theorist.bms.regressor:BMS fitting finished\n",
            "INFO:autora.theorist.bms.regressor:BMS fitting started\n"
          ]
        },
        {
          "name": "stdout",
          "output_type": "stream",
          "text": [
            "Fitting models on working state...\n"
          ]
        },
        {
          "name": "stderr",
          "output_type": "stream",
          "text": [
            "100%|██████████| 10/10 [00:00<00:00, 15.35it/s]\n",
            "INFO:autora.theorist.bms.regressor:BMS fitting finished\n"
          ]
        },
        {
          "name": "stdout",
          "output_type": "stream",
          "text": [
            "Sampling new experiment conditions...\n",
            "Obtaining observations...\n"
          ]
        }
      ],
      "source": [
        "benchmark_MSE_plot_data = np.zeros([num_discovery_simulations, num_cycles])\n",
        "working_MSE_plot_data = np.zeros([num_discovery_simulations, num_cycles])\n",
        "\n",
        "for sim in range(num_discovery_simulations):\n",
        "  benchmark_MSE_log, working_MSE_log, benchmark_state, working_state = run_simulation(num_cycles, num_conditions_per_cycle, num_initial_conditions, bms_epochs, experiment_runner, sim)\n",
        "\n",
        "  benchmark_MSE_plot_data[sim, :] = benchmark_MSE_log\n",
        "  working_MSE_plot_data[sim, :] = working_MSE_log"
      ]
    },
    {
      "cell_type": "code",
      "execution_count": 14,
      "metadata": {
        "id": "5eL0nqtXhrAi"
      },
      "outputs": [
        {
          "data": {
            "text/plain": [
              "<matplotlib.legend.Legend at 0x77386040caa0>"
            ]
          },
          "execution_count": 14,
          "metadata": {},
          "output_type": "execute_result"
        },
        {
          "data": {
            "image/png": "[encoded data removed]",
            "text/plain": [
              "<Figure size 640x480 with 1 Axes>"
            ]
          },
          "metadata": {},
          "output_type": "display_data"
        }
      ],
      "source": [
        "# plot the data with standard error\n",
        "plt.errorbar(np.arange(num_cycles), np.mean(benchmark_MSE_plot_data, axis=0), yerr=np.std(benchmark_MSE_plot_data, axis=0), label='benchmark_MSE_log')\n",
        "plt.errorbar(np.arange(num_cycles), np.mean(working_MSE_plot_data, axis=0), yerr=np.std(working_MSE_plot_data, axis=0), label='working_MSE_log')\n",
        "plt.xlabel('Sampled Data Points')\n",
        "plt.ylabel('MSE on Validation Set')\n",
        "plt.title('Averaged Discovery Simulations')\n",
        "plt.legend()"
      ]
    },
    {
      "cell_type": "markdown",
      "metadata": {
        "id": "RPPjmh_niqzO"
      },
      "source": [
        "## Ground Truth Model Descriptions"
      ]
    },
    {
      "cell_type": "markdown",
      "metadata": {
        "id": "HI7aHUNOZpbL"
      },
      "source": [
        "### Weber-Fechner-Law\n",
        "\n",
        "The Weber-Fechner law quantifies the minimum change in a stimulus required to be noticeable. Similar to Steven's power law, the greater the intensity of a stimulus, the larger the change needed to be perceivable. This relationship is hypothesized to be proportional to the logarithm of the ratio between the two stimuli:\n",
        "\n",
        "$\\text{perceived intensity} = \\log\\left(\\dfrac{S_1}{S_2}\\right)$\n",
        "\n",
        "\n",
        "where $S_1$ ($range: [0.01, 5.00]$) is the intensity of a physical stimulus (e.g., the luminosity of a lamp), $S_2$ ($range: [0.01, 5.00]$ ) is a reference stimulus (e.g., the luminosity of a background light), and $y$ is the perceived stimulus intensity (e.g. the perception of the lamp's luminosity)."
      ]
    },
    {
      "cell_type": "markdown",
      "metadata": {
        "id": "iZGn2XzoaUF0"
      },
      "source": [
        "### Expected Utility Model with Two Choice Options\n",
        "\n",
        "The expected utility model evaluates decision-making under uncertainty, quantifying the expected value of different choices based on their potential outcomes and associated probabilities. The model assumes that individuals aim to maximize their expected utility when faced with two options. Each option has a specific value and probability, influenced by a certain level of noise.\n",
        "\n",
        "For two choice options, the expected value of each option is calculated as follows:\n",
        "\n",
        "$$\n",
        "E_A = V_A \\times P_A\n",
        "$$\n",
        "\n",
        "$$\n",
        "E_B = V_B \\times P_B\n",
        "$$\n",
        "\n",
        "where:\n",
        "- $V_A$ and $V_B$ represent the values of options A and B respectively.\n",
        "- $P_A$ and $P_B$ represent the probabilities associated with these options.\n",
        "\n",
        "The probability of choosing option A $P_{\\text{choose}_A}$ is then determined using the softmax function, which considers the expected values of both options and a choice temperature parameter that influences the sensitivity to differences in expected values:\n",
        "\n",
        "$$\n",
        "P_{\\text{choose}_A} = \\frac{\\exp(E_A / \\beta)}{\\exp(E_A / \\beta) + \\exp(E_B / \\beta)}\n",
        "$$\n",
        "\n",
        "In this model:\n",
        "- $\\beta$ controls the degree of randomness in the choice, with higher values leading to more exploration and lower values leading to more deterministic choices based on the expected values.\n",
        "- The softmax function ensures that the probabilities sum to 1, providing a normalized measure of the likelihood of choosing each option.\n",
        "\n",
        "This model captures the influence of value, probability, and noise on decision-making, reflecting the complexity and variability of human choices under uncertainty.\n",
        "\n"
      ]
    },
    {
      "cell_type": "markdown",
      "metadata": {
        "id": "i0E46LLlixsD"
      },
      "source": [
        "### Shepard-Luce Choice Rule\n",
        "\n",
        "The Shepard-Luce choice rule, as adapted in Logan (2001),  posits that the likelihood of an individual assigning a target object, represented as $x$ , to a specific response category, represented as $i$, is proportional to their psychological similarity $\\eta_i(x)$. Here, we considered a version of the model that computes the probability of assigning the target object $x_1$ to one of two response categories, given a distractor object $x_2$:\n",
        "\n",
        "$y = p(``x_1 \\text{ is perceived as category 1''}) =\n",
        " \\frac{\\eta_1(x_1) \\cdot \\alpha}{\\eta_1(x_1) \\cdot \\alpha + \\eta_2(x_1) \\cdot \\alpha + \\eta_1(x_2) \\cdot (1 - \\alpha) + \\eta_2(x_2) \\cdot (1 - \\alpha)}$\n",
        "\n",
        "where $\\alpha = 0.8$ is an attentional bias toward processing the target object $x_1$, and variables $\\eta_i(x_j)$ ($range: [0.125, 10.00]$) are the psychological similarity between object $x_j$ and category $i$."
      ]
    }
  ],
  "metadata": {
    "colab": {
      "provenance": [],
      "toc_visible": true
    },
    "kernelspec": {
      "display_name": "Python 3",
      "name": "python3"
    },
    "language_info": {
      "codemirror_mode": {
        "name": "ipython",
        "version": 3
      },
      "file_extension": ".py",
      "mimetype": "text/x-python",
      "name": "python",
      "nbconvert_exporter": "python",
      "pygments_lexer": "ipython3",
      "version": "3.12.1"
    }
  },
  "nbformat": 4,
  "nbformat_minor": 0
}
